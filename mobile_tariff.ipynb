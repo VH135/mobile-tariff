{
 "cells": [
  {
   "cell_type": "markdown",
   "metadata": {
    "toc": true
   },
   "source": [
    "<h1>Оглавление<span class=\"tocSkip\"></span></h1>\n",
    "<div class=\"toc\"><ul class=\"toc-item\"><li><ul class=\"toc-item\"><li><ul class=\"toc-item\"><li><span><a href=\"#Описание-тарифов\" data-toc-modified-id=\"Описание-тарифов-0.0.1\"><span class=\"toc-item-num\">0.0.1&nbsp;&nbsp;</span>Описание тарифов</a></span></li><li><span><a href=\"#Тариф-«Ультра»\" data-toc-modified-id=\"Тариф-«Ультра»-0.0.2\"><span class=\"toc-item-num\">0.0.2&nbsp;&nbsp;</span>Тариф «Ультра»</a></span></li><li><span><a href=\"#Примечание\" data-toc-modified-id=\"Примечание-0.0.3\"><span class=\"toc-item-num\">0.0.3&nbsp;&nbsp;</span>Примечание</a></span></li><li><span><a href=\"#Описание-данных\" data-toc-modified-id=\"Описание-данных-0.0.4\"><span class=\"toc-item-num\">0.0.4&nbsp;&nbsp;</span>Описание данных</a></span></li><li><span><a href=\"#План-по-выполнению-проекта\" data-toc-modified-id=\"План-по-выполнению-проекта-0.0.5\"><span class=\"toc-item-num\">0.0.5&nbsp;&nbsp;</span>План по выполнению проекта</a></span></li></ul></li></ul></li><li><span><a href=\"#Открываем-файл-с-данными-и-изучаем-общую-информацию\" data-toc-modified-id=\"Открываем-файл-с-данными-и-изучаем-общую-информацию-1\"><span class=\"toc-item-num\">1&nbsp;&nbsp;</span>Открываем файл с данными и изучаем общую информацию</a></span></li><li><span><a href=\"#Подготовка-данных\" data-toc-modified-id=\"Подготовка-данных-2\"><span class=\"toc-item-num\">2&nbsp;&nbsp;</span>Подготовка данных</a></span><ul class=\"toc-item\"><li><span><a href=\"#Приводим-данные-к-нужным-типам\" data-toc-modified-id=\"Приводим-данные-к-нужным-типам-2.1\"><span class=\"toc-item-num\">2.1&nbsp;&nbsp;</span>Приводим данные к нужным типам</a></span><ul class=\"toc-item\"><li><span><a href=\"#Столбец-users\" data-toc-modified-id=\"Столбец-users-2.1.1\"><span class=\"toc-item-num\">2.1.1&nbsp;&nbsp;</span>Столбец <code>users</code></a></span></li><li><span><a href=\"#Столбец-calls\" data-toc-modified-id=\"Столбец-calls-2.1.2\"><span class=\"toc-item-num\">2.1.2&nbsp;&nbsp;</span>Столбец <code>calls</code></a></span></li><li><span><a href=\"#Столбец-messages\" data-toc-modified-id=\"Столбец-messages-2.1.3\"><span class=\"toc-item-num\">2.1.3&nbsp;&nbsp;</span>Столбец <code>messages</code></a></span></li><li><span><a href=\"#Столбец-internet\" data-toc-modified-id=\"Столбец-internet-2.1.4\"><span class=\"toc-item-num\">2.1.4&nbsp;&nbsp;</span>Столбец <code>internet</code></a></span></li></ul></li><li><span><a href=\"#Находим-и-исправляем-ошибки-в-данных\" data-toc-modified-id=\"Находим-и-исправляем-ошибки-в-данных-2.2\"><span class=\"toc-item-num\">2.2&nbsp;&nbsp;</span>Находим и исправляем ошибки в данных</a></span></li><li><span><a href=\"#Считаем-для-каждого-пользователя:\" data-toc-modified-id=\"Считаем-для-каждого-пользователя:-2.3\"><span class=\"toc-item-num\">2.3&nbsp;&nbsp;</span>Считаем для каждого пользователя:</a></span><ul class=\"toc-item\"><li><span><a href=\"#Количество-сделанных-звонков-и-израсходованных-минут-разговора-по-месяцам\" data-toc-modified-id=\"Количество-сделанных-звонков-и-израсходованных-минут-разговора-по-месяцам-2.3.1\"><span class=\"toc-item-num\">2.3.1&nbsp;&nbsp;</span>Количество сделанных звонков и израсходованных минут разговора по месяцам</a></span></li><li><span><a href=\"#Количество-отправленных-сообщений-по-месяцам\" data-toc-modified-id=\"Количество-отправленных-сообщений-по-месяцам-2.3.2\"><span class=\"toc-item-num\">2.3.2&nbsp;&nbsp;</span>Количество отправленных сообщений по месяцам</a></span></li><li><span><a href=\"#Объём-израсходованного-интернет-трафика-по-месяцам\" data-toc-modified-id=\"Объём-израсходованного-интернет-трафика-по-месяцам-2.3.3\"><span class=\"toc-item-num\">2.3.3&nbsp;&nbsp;</span>Объём израсходованного интернет-трафика по месяцам</a></span></li><li><span><a href=\"#Помесячная-выручка-с-каждого-пользователя\" data-toc-modified-id=\"Помесячная-выручка-с-каждого-пользователя-2.3.4\"><span class=\"toc-item-num\">2.3.4&nbsp;&nbsp;</span>Помесячная выручка с каждого пользователя</a></span></li></ul></li></ul></li><li><span><a href=\"#Анализируем-данные\" data-toc-modified-id=\"Анализируем-данные-3\"><span class=\"toc-item-num\">3&nbsp;&nbsp;</span>Анализируем данные</a></span><ul class=\"toc-item\"><li><span><a href=\"#Изучаем,-сколько-минут-разговора,-сколько-сообщений-и-какой-объём-интернет-трафика-требуется-пользователям-каждого-тарифа-в-месяц.\" data-toc-modified-id=\"Изучаем,-сколько-минут-разговора,-сколько-сообщений-и-какой-объём-интернет-трафика-требуется-пользователям-каждого-тарифа-в-месяц.-3.1\"><span class=\"toc-item-num\">3.1&nbsp;&nbsp;</span>Изучаем, сколько минут разговора, сколько сообщений и какой объём интернет-трафика требуется пользователям каждого тарифа в месяц.</a></span></li><li><span><a href=\"#Посчитаем-среднее-количество\" data-toc-modified-id=\"Посчитаем-среднее-количество-3.2\"><span class=\"toc-item-num\">3.2&nbsp;&nbsp;</span>Посчитаем среднее количество</a></span></li><li><span><a href=\"#Посчитаем-дисперсию-и-стандартное-отклонение\" data-toc-modified-id=\"Посчитаем-дисперсию-и-стандартное-отклонение-3.3\"><span class=\"toc-item-num\">3.3&nbsp;&nbsp;</span>Посчитаем дисперсию и стандартное отклонение</a></span></li></ul></li><li><span><a href=\"#Проверьте-гипотезы\" data-toc-modified-id=\"Проверьте-гипотезы-4\"><span class=\"toc-item-num\">4&nbsp;&nbsp;</span>Проверьте гипотезы</a></span><ul class=\"toc-item\"><li><span><a href=\"#Первая:-Cредняя-выручка-пользователей-тарифов-«Ультра»-и-«Смарт»-различается\" data-toc-modified-id=\"Первая:-Cредняя-выручка-пользователей-тарифов-«Ультра»-и-«Смарт»-различается-4.1\"><span class=\"toc-item-num\">4.1&nbsp;&nbsp;</span>Первая: Cредняя выручка пользователей тарифов «Ультра» и «Смарт» различается</a></span></li><li><span><a href=\"#Вторая:-Средняя-выручка-пользователей-из-Москвы-отличается-от-выручки-пользователей-из-других-регионов\" data-toc-modified-id=\"Вторая:-Средняя-выручка-пользователей-из-Москвы-отличается-от-выручки-пользователей-из-других-регионов-4.2\"><span class=\"toc-item-num\">4.2&nbsp;&nbsp;</span>Вторая: Средняя выручка пользователей из Москвы отличается от выручки пользователей из других регионов</a></span></li></ul></li><li><span><a href=\"#Общий-вывод\" data-toc-modified-id=\"Общий-вывод-5\"><span class=\"toc-item-num\">5&nbsp;&nbsp;</span>Общий вывод</a></span></li></ul></div>"
   ]
  },
  {
   "cell_type": "markdown",
   "metadata": {},
   "source": [
    "# Определение перспективного тарифа для телеком-компании"
   ]
  },
  {
   "cell_type": "markdown",
   "metadata": {},
   "source": [
    "# Описание проекта"
   ]
  },
  {
   "cell_type": "markdown",
   "metadata": {},
   "source": [
    "Вы аналитик компании «Мегалайн» — федерального оператора сотовой связи. Клиентам предлагают два тарифных плана: «Смарт» и «Ультра». Чтобы скорректировать рекламный бюджет, коммерческий департамент хочет понять, какой тариф приносит больше денег.  \n",
    "\n",
    "Вам предстоит сделать предварительный анализ тарифов на небольшой выборке клиентов. В вашем распоряжении данные 500 пользователей «Мегалайна»: кто они, откуда, каким тарифом пользуются, сколько звонков и сообщений каждый отправил за 2018 год. Нужно проанализировать поведение клиентов и сделать вывод — какой тариф лучше."
   ]
  },
  {
   "cell_type": "markdown",
   "metadata": {},
   "source": [
    "#### Описание тарифов\n",
    "**Тариф «Смарт»**\n",
    "1. Ежемесячная плата: 550 рублей\n",
    "2. Включено 500 минут разговора, 50 сообщений и 15 Гб интернет-трафика\n",
    "3. Стоимость услуг сверх тарифного пакета:\n",
    " - минута разговора: 3 рубля\n",
    " - сообщение: 3 рубля\n",
    " - 1 Гб интернет-трафика: 200 рублей\n",
    "\n",
    "\n",
    "#### Тариф «Ультра»\n",
    "1. Ежемесячная плата: 1950 рублей\n",
    "2. Включено 3000 минут разговора, 1000 сообщений и 30 Гб интернет-трафика\n",
    "3. Стоимость услуг сверх тарифного пакета:\n",
    " - минута разговора: 1 рубль\n",
    " - сообщение: 1 рубль\n",
    " - 1 Гб интернет-трафика: 150 рублей"
   ]
  },
  {
   "cell_type": "markdown",
   "metadata": {},
   "source": [
    "#### Примечание\n",
    "«Мегалайн» всегда округляет секунды до минут, а мегабайты — до гигабайт. Каждый звонок округляется отдельно: даже если он длился всего 1 секунду, будет засчитан как 1 минута.  \n",
    "Для веб-трафика отдельные сессии не считаются. Вместо этого общая сумма за месяц округляется в бо́льшую сторону. Если абонент использует 1025 мегабайт в этом месяце, с него возьмут плату за 2 гигабайта."
   ]
  },
  {
   "cell_type": "markdown",
   "metadata": {},
   "source": [
    "#### Описание данных"
   ]
  },
  {
   "cell_type": "markdown",
   "metadata": {},
   "source": [
    "Таблица `users` (информация о пользователях):\n",
    "- user_id — уникальный идентификатор пользователя\n",
    "- first_name — имя пользователя\n",
    "- last_name — фамилия пользователя\n",
    "- age — возраст пользователя (годы)\n",
    "- reg_date — дата подключения тарифа (день, месяц, год)\n",
    "- churn_date — дата прекращения пользования тарифом (если значение пропущено, то тариф ещё действовал на момент выгрузки данных)\n",
    "- city — город проживания пользователя\n",
    "- tariff — название тарифного плана  \n",
    "\n",
    "Таблица `calls` (информация о звонках):\n",
    "- id — уникальный номер звонка\n",
    "- call_date — дата звонка\n",
    "- duration — длительность звонка в минутах\n",
    "- user_id — идентификатор пользователя, сделавшего звонок  \n",
    "\n",
    "Таблица `messages` (информация о сообщениях):\n",
    "- id — уникальный номер сообщения\n",
    "- message_date — дата сообщения\n",
    "- user_id — идентификатор пользователя, отправившего сообщение  \n",
    "\n",
    "Таблица `internet` (информация об интернет-сессиях):\n",
    "- id — уникальный номер сессии\n",
    "- mb_used — объём потраченного за сессию интернет-трафика (в мегабайтах)\n",
    "- session_date — дата интернет-сессии\n",
    "- user_id — идентификатор пользователя  \n",
    "\n",
    "Таблица `tariffs` (информация о тарифах):\n",
    "- tariff_name — название тарифа\n",
    "- rub_monthly_fee — ежемесячная абонентская плата в рублях\n",
    "- minutes_included — количество минут разговора в месяц, включённых в абонентскую плату\n",
    "- messages_included — количество сообщений в месяц, включённых в абонентскую плату\n",
    "- mb_per_month_included — объём интернет-трафика, включённого в абонентскую плату (в мегабайтах)\n",
    "- rub_per_minute — стоимость минуты разговора сверх тарифного пакета (например, если в тарифе 100 минут разговора в месяц, то со 101 минуты будет взиматься плата)\n",
    "- rub_per_message — стоимость отправки сообщения сверх тарифного пакета\n",
    "- rub_per_gb — стоимость дополнительного гигабайта интернет-трафика сверх тарифного пакета (1 гигабайт = 1024 мегабайта)"
   ]
  },
  {
   "cell_type": "markdown",
   "metadata": {},
   "source": [
    "#### План по выполнению проекта  \n",
    "**Шаг 1. Откройте файл с данными и изучите общую информацию**  \n",
    "Путь к файлам:\n",
    "\n",
    "- /datasets/calls.csv.\n",
    "- /datasets/internet.csv.\n",
    "- /datasets/messages.csv.\n",
    "- /datasets/tariffs.csv.\n",
    "- /datasets/users.csv.\n",
    "\n",
    "**Шаг 2. Подготовьте данные**\n",
    "\n",
    "- Приведите данные к нужным типам;\n",
    "- Найдите и исправьте ошибки в данных, если они есть.\n",
    "\n",
    "Поясните, какие ошибки вы нашли и как их исправили. В данных вы найдёте звонки с нулевой продолжительностью. Это не ошибка: нулями обозначены пропущенные звонки, поэтому их не нужно удалять.\n",
    "Посчитайте для каждого пользователя:\n",
    "\n",
    "- количество сделанных звонков и израсходованных минут разговора по месяцам;\n",
    "- количество отправленных сообщений по месяцам;\n",
    "- объем израсходованного интернет-трафика по месяцам;\n",
    "- помесячную выручку с каждого пользователя (вычтите бесплатный лимит из суммарного количества звонков, сообщений и интернет-трафика; остаток умножьте на значение из тарифного плана; прибавьте абонентскую плату, соответствующую тарифному плану).\n",
    "\n",
    "**Шаг 3. Проанализируйте данные**  \n",
    "Опишите поведение клиентов оператора, исходя из выборки. Сколько минут разговора, сколько сообщений и какой объём интернет-трафика требуется пользователям каждого тарифа в месяц? Посчитайте среднее количество, дисперсию и стандартное отклонение. Постройте гистограммы. Опишите распределения.  \n",
    "\n",
    "**Шаг 4. Проверьте гипотезы**\n",
    "\n",
    "- средняя выручка пользователей тарифов «Ультра» и «Смарт» различаются;\n",
    "- средняя выручка пользователей из Москвы отличается от выручки пользователей из других регионов.\n",
    "\n",
    "Пороговое значение alpha задайте самостоятельно.\n",
    "Поясните:\n",
    "\n",
    "- как вы формулировали нулевую и альтернативную гипотезы;\n",
    "- какой критерий использовали для проверки гипотез и почему.\n",
    "\n",
    "**Шаг 5. Напишите общий вывод**"
   ]
  },
  {
   "cell_type": "markdown",
   "metadata": {},
   "source": [
    "## Открываем файл с данными и изучаем общую информацию"
   ]
  },
  {
   "cell_type": "code",
   "execution_count": 163,
   "metadata": {},
   "outputs": [],
   "source": [
    "# импортируем нужные библиотеки\n",
    "\n",
    "import pandas as pd\n",
    "import matplotlib.pyplot as plt\n",
    "import numpy as np\n",
    "from scipy import stats as st"
   ]
  },
  {
   "cell_type": "code",
   "execution_count": 164,
   "metadata": {},
   "outputs": [],
   "source": [
    "# читаем файлы\n",
    "\n",
    "users = pd.read_csv('/Users/Vadim/Documents/!Data/My projects/Telecom files/users.csv')\n",
    "calls = pd.read_csv('/Users/Vadim/Documents/!Data/My projects/Telecom files/calls.csv')\n",
    "messages = pd.read_csv('/Users/Vadim/Documents/!Data/My projects/Telecom files/messages.csv')\n",
    "internet = pd.read_csv('/Users/Vadim/Documents/!Data/My projects/Telecom files/internet.csv')\n",
    "tariffs = pd.read_csv('/Users/Vadim/Documents/!Data/My projects/Telecom files/tariffs.csv')"
   ]
  },
  {
   "cell_type": "code",
   "execution_count": 165,
   "metadata": {
    "scrolled": true
   },
   "outputs": [
    {
     "name": "stdout",
     "output_type": "stream",
     "text": [
      "USERS\n",
      "<class 'pandas.core.frame.DataFrame'>\n",
      "RangeIndex: 500 entries, 0 to 499\n",
      "Data columns (total 8 columns):\n",
      " #   Column      Non-Null Count  Dtype \n",
      "---  ------      --------------  ----- \n",
      " 0   user_id     500 non-null    int64 \n",
      " 1   age         500 non-null    int64 \n",
      " 2   churn_date  38 non-null     object\n",
      " 3   city        500 non-null    object\n",
      " 4   first_name  500 non-null    object\n",
      " 5   last_name   500 non-null    object\n",
      " 6   reg_date    500 non-null    object\n",
      " 7   tariff      500 non-null    object\n",
      "dtypes: int64(2), object(6)\n",
      "memory usage: 31.4+ KB\n"
     ]
    },
    {
     "data": {
      "text/html": [
       "<div>\n",
       "<style scoped>\n",
       "    .dataframe tbody tr th:only-of-type {\n",
       "        vertical-align: middle;\n",
       "    }\n",
       "\n",
       "    .dataframe tbody tr th {\n",
       "        vertical-align: top;\n",
       "    }\n",
       "\n",
       "    .dataframe thead th {\n",
       "        text-align: right;\n",
       "    }\n",
       "</style>\n",
       "<table border=\"1\" class=\"dataframe\">\n",
       "  <thead>\n",
       "    <tr style=\"text-align: right;\">\n",
       "      <th></th>\n",
       "      <th>user_id</th>\n",
       "      <th>age</th>\n",
       "      <th>churn_date</th>\n",
       "      <th>city</th>\n",
       "      <th>first_name</th>\n",
       "      <th>last_name</th>\n",
       "      <th>reg_date</th>\n",
       "      <th>tariff</th>\n",
       "    </tr>\n",
       "  </thead>\n",
       "  <tbody>\n",
       "    <tr>\n",
       "      <th>0</th>\n",
       "      <td>1000</td>\n",
       "      <td>52</td>\n",
       "      <td>NaN</td>\n",
       "      <td>Краснодар</td>\n",
       "      <td>Рафаил</td>\n",
       "      <td>Верещагин</td>\n",
       "      <td>2018-05-25</td>\n",
       "      <td>ultra</td>\n",
       "    </tr>\n",
       "    <tr>\n",
       "      <th>1</th>\n",
       "      <td>1001</td>\n",
       "      <td>41</td>\n",
       "      <td>NaN</td>\n",
       "      <td>Москва</td>\n",
       "      <td>Иван</td>\n",
       "      <td>Ежов</td>\n",
       "      <td>2018-11-01</td>\n",
       "      <td>smart</td>\n",
       "    </tr>\n",
       "    <tr>\n",
       "      <th>2</th>\n",
       "      <td>1002</td>\n",
       "      <td>59</td>\n",
       "      <td>NaN</td>\n",
       "      <td>Стерлитамак</td>\n",
       "      <td>Евгений</td>\n",
       "      <td>Абрамович</td>\n",
       "      <td>2018-06-17</td>\n",
       "      <td>smart</td>\n",
       "    </tr>\n",
       "    <tr>\n",
       "      <th>3</th>\n",
       "      <td>1003</td>\n",
       "      <td>23</td>\n",
       "      <td>NaN</td>\n",
       "      <td>Москва</td>\n",
       "      <td>Белла</td>\n",
       "      <td>Белякова</td>\n",
       "      <td>2018-08-17</td>\n",
       "      <td>ultra</td>\n",
       "    </tr>\n",
       "    <tr>\n",
       "      <th>4</th>\n",
       "      <td>1004</td>\n",
       "      <td>68</td>\n",
       "      <td>NaN</td>\n",
       "      <td>Новокузнецк</td>\n",
       "      <td>Татьяна</td>\n",
       "      <td>Авдеенко</td>\n",
       "      <td>2018-05-14</td>\n",
       "      <td>ultra</td>\n",
       "    </tr>\n",
       "  </tbody>\n",
       "</table>\n",
       "</div>"
      ],
      "text/plain": [
       "   user_id  age churn_date         city first_name  last_name    reg_date  \\\n",
       "0     1000   52        NaN    Краснодар     Рафаил  Верещагин  2018-05-25   \n",
       "1     1001   41        NaN       Москва       Иван       Ежов  2018-11-01   \n",
       "2     1002   59        NaN  Стерлитамак    Евгений  Абрамович  2018-06-17   \n",
       "3     1003   23        NaN       Москва      Белла   Белякова  2018-08-17   \n",
       "4     1004   68        NaN  Новокузнецк    Татьяна   Авдеенко  2018-05-14   \n",
       "\n",
       "  tariff  \n",
       "0  ultra  \n",
       "1  smart  \n",
       "2  smart  \n",
       "3  ultra  \n",
       "4  ultra  "
      ]
     },
     "metadata": {},
     "output_type": "display_data"
    }
   ],
   "source": [
    "# знакомимся с датафреймом users\n",
    "\n",
    "print('USERS')\n",
    "users.info()\n",
    "display(users.head())"
   ]
  },
  {
   "cell_type": "markdown",
   "metadata": {},
   "source": [
    "**Вывод:** датфрейм на 500 пользователей, пропусков нет, если не считать столбец `churn_date`, но в данном случае это нормально. Некоторые типы данных требуют измененя (reg_date, churn_date)."
   ]
  },
  {
   "cell_type": "code",
   "execution_count": 166,
   "metadata": {
    "scrolled": true
   },
   "outputs": [
    {
     "name": "stdout",
     "output_type": "stream",
     "text": [
      "CALLS\n",
      "<class 'pandas.core.frame.DataFrame'>\n",
      "RangeIndex: 202607 entries, 0 to 202606\n",
      "Data columns (total 4 columns):\n",
      " #   Column     Non-Null Count   Dtype  \n",
      "---  ------     --------------   -----  \n",
      " 0   id         202607 non-null  object \n",
      " 1   call_date  202607 non-null  object \n",
      " 2   duration   202607 non-null  float64\n",
      " 3   user_id    202607 non-null  int64  \n",
      "dtypes: float64(1), int64(1), object(2)\n",
      "memory usage: 6.2+ MB\n"
     ]
    },
    {
     "data": {
      "text/html": [
       "<div>\n",
       "<style scoped>\n",
       "    .dataframe tbody tr th:only-of-type {\n",
       "        vertical-align: middle;\n",
       "    }\n",
       "\n",
       "    .dataframe tbody tr th {\n",
       "        vertical-align: top;\n",
       "    }\n",
       "\n",
       "    .dataframe thead th {\n",
       "        text-align: right;\n",
       "    }\n",
       "</style>\n",
       "<table border=\"1\" class=\"dataframe\">\n",
       "  <thead>\n",
       "    <tr style=\"text-align: right;\">\n",
       "      <th></th>\n",
       "      <th>id</th>\n",
       "      <th>call_date</th>\n",
       "      <th>duration</th>\n",
       "      <th>user_id</th>\n",
       "    </tr>\n",
       "  </thead>\n",
       "  <tbody>\n",
       "    <tr>\n",
       "      <th>0</th>\n",
       "      <td>1000_0</td>\n",
       "      <td>2018-07-25</td>\n",
       "      <td>0.00</td>\n",
       "      <td>1000</td>\n",
       "    </tr>\n",
       "    <tr>\n",
       "      <th>1</th>\n",
       "      <td>1000_1</td>\n",
       "      <td>2018-08-17</td>\n",
       "      <td>0.00</td>\n",
       "      <td>1000</td>\n",
       "    </tr>\n",
       "    <tr>\n",
       "      <th>2</th>\n",
       "      <td>1000_2</td>\n",
       "      <td>2018-06-11</td>\n",
       "      <td>2.85</td>\n",
       "      <td>1000</td>\n",
       "    </tr>\n",
       "    <tr>\n",
       "      <th>3</th>\n",
       "      <td>1000_3</td>\n",
       "      <td>2018-09-21</td>\n",
       "      <td>13.80</td>\n",
       "      <td>1000</td>\n",
       "    </tr>\n",
       "    <tr>\n",
       "      <th>4</th>\n",
       "      <td>1000_4</td>\n",
       "      <td>2018-12-15</td>\n",
       "      <td>5.18</td>\n",
       "      <td>1000</td>\n",
       "    </tr>\n",
       "  </tbody>\n",
       "</table>\n",
       "</div>"
      ],
      "text/plain": [
       "       id   call_date  duration  user_id\n",
       "0  1000_0  2018-07-25      0.00     1000\n",
       "1  1000_1  2018-08-17      0.00     1000\n",
       "2  1000_2  2018-06-11      2.85     1000\n",
       "3  1000_3  2018-09-21     13.80     1000\n",
       "4  1000_4  2018-12-15      5.18     1000"
      ]
     },
     "metadata": {},
     "output_type": "display_data"
    }
   ],
   "source": [
    "# знакомимся с датафреймом calls\n",
    "\n",
    "print('CALLS')\n",
    "calls.info()\n",
    "display(calls.head())"
   ]
  },
  {
   "cell_type": "markdown",
   "metadata": {},
   "source": [
    "**Вывод:** Самый большой датафрем, 202606 записей, пропусков нет, нужно изменить тип данных (call_date)."
   ]
  },
  {
   "cell_type": "code",
   "execution_count": 167,
   "metadata": {
    "scrolled": true
   },
   "outputs": [
    {
     "name": "stdout",
     "output_type": "stream",
     "text": [
      "MESSAGES\n",
      "<class 'pandas.core.frame.DataFrame'>\n",
      "RangeIndex: 123036 entries, 0 to 123035\n",
      "Data columns (total 3 columns):\n",
      " #   Column        Non-Null Count   Dtype \n",
      "---  ------        --------------   ----- \n",
      " 0   id            123036 non-null  object\n",
      " 1   message_date  123036 non-null  object\n",
      " 2   user_id       123036 non-null  int64 \n",
      "dtypes: int64(1), object(2)\n",
      "memory usage: 2.8+ MB\n"
     ]
    },
    {
     "data": {
      "text/html": [
       "<div>\n",
       "<style scoped>\n",
       "    .dataframe tbody tr th:only-of-type {\n",
       "        vertical-align: middle;\n",
       "    }\n",
       "\n",
       "    .dataframe tbody tr th {\n",
       "        vertical-align: top;\n",
       "    }\n",
       "\n",
       "    .dataframe thead th {\n",
       "        text-align: right;\n",
       "    }\n",
       "</style>\n",
       "<table border=\"1\" class=\"dataframe\">\n",
       "  <thead>\n",
       "    <tr style=\"text-align: right;\">\n",
       "      <th></th>\n",
       "      <th>id</th>\n",
       "      <th>message_date</th>\n",
       "      <th>user_id</th>\n",
       "    </tr>\n",
       "  </thead>\n",
       "  <tbody>\n",
       "    <tr>\n",
       "      <th>0</th>\n",
       "      <td>1000_0</td>\n",
       "      <td>2018-06-27</td>\n",
       "      <td>1000</td>\n",
       "    </tr>\n",
       "    <tr>\n",
       "      <th>1</th>\n",
       "      <td>1000_1</td>\n",
       "      <td>2018-10-08</td>\n",
       "      <td>1000</td>\n",
       "    </tr>\n",
       "    <tr>\n",
       "      <th>2</th>\n",
       "      <td>1000_2</td>\n",
       "      <td>2018-08-04</td>\n",
       "      <td>1000</td>\n",
       "    </tr>\n",
       "    <tr>\n",
       "      <th>3</th>\n",
       "      <td>1000_3</td>\n",
       "      <td>2018-06-16</td>\n",
       "      <td>1000</td>\n",
       "    </tr>\n",
       "    <tr>\n",
       "      <th>4</th>\n",
       "      <td>1000_4</td>\n",
       "      <td>2018-12-05</td>\n",
       "      <td>1000</td>\n",
       "    </tr>\n",
       "  </tbody>\n",
       "</table>\n",
       "</div>"
      ],
      "text/plain": [
       "       id message_date  user_id\n",
       "0  1000_0   2018-06-27     1000\n",
       "1  1000_1   2018-10-08     1000\n",
       "2  1000_2   2018-08-04     1000\n",
       "3  1000_3   2018-06-16     1000\n",
       "4  1000_4   2018-12-05     1000"
      ]
     },
     "metadata": {},
     "output_type": "display_data"
    }
   ],
   "source": [
    "# знакомимся с датафреймом messages\n",
    "\n",
    "print('MESSAGES')\n",
    "messages.info()\n",
    "display(messages.head())"
   ]
  },
  {
   "cell_type": "markdown",
   "metadata": {},
   "source": [
    "**Вывод:** Датафрем поменьше, 123036 записей, пропусков нет, нужно изменить тип данных (id, message_date)."
   ]
  },
  {
   "cell_type": "code",
   "execution_count": 168,
   "metadata": {
    "scrolled": true
   },
   "outputs": [
    {
     "name": "stdout",
     "output_type": "stream",
     "text": [
      "INTERNET\n",
      "<class 'pandas.core.frame.DataFrame'>\n",
      "RangeIndex: 149396 entries, 0 to 149395\n",
      "Data columns (total 5 columns):\n",
      " #   Column        Non-Null Count   Dtype  \n",
      "---  ------        --------------   -----  \n",
      " 0   Unnamed: 0    149396 non-null  int64  \n",
      " 1   id            149396 non-null  object \n",
      " 2   mb_used       149396 non-null  float64\n",
      " 3   session_date  149396 non-null  object \n",
      " 4   user_id       149396 non-null  int64  \n",
      "dtypes: float64(1), int64(2), object(2)\n",
      "memory usage: 5.7+ MB\n"
     ]
    },
    {
     "data": {
      "text/html": [
       "<div>\n",
       "<style scoped>\n",
       "    .dataframe tbody tr th:only-of-type {\n",
       "        vertical-align: middle;\n",
       "    }\n",
       "\n",
       "    .dataframe tbody tr th {\n",
       "        vertical-align: top;\n",
       "    }\n",
       "\n",
       "    .dataframe thead th {\n",
       "        text-align: right;\n",
       "    }\n",
       "</style>\n",
       "<table border=\"1\" class=\"dataframe\">\n",
       "  <thead>\n",
       "    <tr style=\"text-align: right;\">\n",
       "      <th></th>\n",
       "      <th>Unnamed: 0</th>\n",
       "      <th>id</th>\n",
       "      <th>mb_used</th>\n",
       "      <th>session_date</th>\n",
       "      <th>user_id</th>\n",
       "    </tr>\n",
       "  </thead>\n",
       "  <tbody>\n",
       "    <tr>\n",
       "      <th>0</th>\n",
       "      <td>0</td>\n",
       "      <td>1000_0</td>\n",
       "      <td>112.95</td>\n",
       "      <td>2018-11-25</td>\n",
       "      <td>1000</td>\n",
       "    </tr>\n",
       "    <tr>\n",
       "      <th>1</th>\n",
       "      <td>1</td>\n",
       "      <td>1000_1</td>\n",
       "      <td>1052.81</td>\n",
       "      <td>2018-09-07</td>\n",
       "      <td>1000</td>\n",
       "    </tr>\n",
       "    <tr>\n",
       "      <th>2</th>\n",
       "      <td>2</td>\n",
       "      <td>1000_2</td>\n",
       "      <td>1197.26</td>\n",
       "      <td>2018-06-25</td>\n",
       "      <td>1000</td>\n",
       "    </tr>\n",
       "    <tr>\n",
       "      <th>3</th>\n",
       "      <td>3</td>\n",
       "      <td>1000_3</td>\n",
       "      <td>550.27</td>\n",
       "      <td>2018-08-22</td>\n",
       "      <td>1000</td>\n",
       "    </tr>\n",
       "    <tr>\n",
       "      <th>4</th>\n",
       "      <td>4</td>\n",
       "      <td>1000_4</td>\n",
       "      <td>302.56</td>\n",
       "      <td>2018-09-24</td>\n",
       "      <td>1000</td>\n",
       "    </tr>\n",
       "  </tbody>\n",
       "</table>\n",
       "</div>"
      ],
      "text/plain": [
       "   Unnamed: 0      id  mb_used session_date  user_id\n",
       "0           0  1000_0   112.95   2018-11-25     1000\n",
       "1           1  1000_1  1052.81   2018-09-07     1000\n",
       "2           2  1000_2  1197.26   2018-06-25     1000\n",
       "3           3  1000_3   550.27   2018-08-22     1000\n",
       "4           4  1000_4   302.56   2018-09-24     1000"
      ]
     },
     "metadata": {},
     "output_type": "display_data"
    }
   ],
   "source": [
    "# знакомимся с датафреймом internet\n",
    "\n",
    "print('INTERNET')\n",
    "internet.info()\n",
    "display(internet.head())"
   ]
  },
  {
   "cell_type": "markdown",
   "metadata": {},
   "source": [
    "**Вывод:** Большой датафрем, 149396 записей, пропусков нет, нужно изменить тип данных (session_date). Столбец `Unnamed: 0` очевидно, лишний, видимо, выгрузили по ошибке, удалим."
   ]
  },
  {
   "cell_type": "code",
   "execution_count": 169,
   "metadata": {},
   "outputs": [
    {
     "name": "stdout",
     "output_type": "stream",
     "text": [
      "TARIFFS\n",
      "<class 'pandas.core.frame.DataFrame'>\n",
      "RangeIndex: 2 entries, 0 to 1\n",
      "Data columns (total 8 columns):\n",
      " #   Column                 Non-Null Count  Dtype \n",
      "---  ------                 --------------  ----- \n",
      " 0   messages_included      2 non-null      int64 \n",
      " 1   mb_per_month_included  2 non-null      int64 \n",
      " 2   minutes_included       2 non-null      int64 \n",
      " 3   rub_monthly_fee        2 non-null      int64 \n",
      " 4   rub_per_gb             2 non-null      int64 \n",
      " 5   rub_per_message        2 non-null      int64 \n",
      " 6   rub_per_minute         2 non-null      int64 \n",
      " 7   tariff_name            2 non-null      object\n",
      "dtypes: int64(7), object(1)\n",
      "memory usage: 256.0+ bytes\n"
     ]
    },
    {
     "data": {
      "text/html": [
       "<div>\n",
       "<style scoped>\n",
       "    .dataframe tbody tr th:only-of-type {\n",
       "        vertical-align: middle;\n",
       "    }\n",
       "\n",
       "    .dataframe tbody tr th {\n",
       "        vertical-align: top;\n",
       "    }\n",
       "\n",
       "    .dataframe thead th {\n",
       "        text-align: right;\n",
       "    }\n",
       "</style>\n",
       "<table border=\"1\" class=\"dataframe\">\n",
       "  <thead>\n",
       "    <tr style=\"text-align: right;\">\n",
       "      <th></th>\n",
       "      <th>messages_included</th>\n",
       "      <th>mb_per_month_included</th>\n",
       "      <th>minutes_included</th>\n",
       "      <th>rub_monthly_fee</th>\n",
       "      <th>rub_per_gb</th>\n",
       "      <th>rub_per_message</th>\n",
       "      <th>rub_per_minute</th>\n",
       "      <th>tariff_name</th>\n",
       "    </tr>\n",
       "  </thead>\n",
       "  <tbody>\n",
       "    <tr>\n",
       "      <th>0</th>\n",
       "      <td>50</td>\n",
       "      <td>15360</td>\n",
       "      <td>500</td>\n",
       "      <td>550</td>\n",
       "      <td>200</td>\n",
       "      <td>3</td>\n",
       "      <td>3</td>\n",
       "      <td>smart</td>\n",
       "    </tr>\n",
       "    <tr>\n",
       "      <th>1</th>\n",
       "      <td>1000</td>\n",
       "      <td>30720</td>\n",
       "      <td>3000</td>\n",
       "      <td>1950</td>\n",
       "      <td>150</td>\n",
       "      <td>1</td>\n",
       "      <td>1</td>\n",
       "      <td>ultra</td>\n",
       "    </tr>\n",
       "  </tbody>\n",
       "</table>\n",
       "</div>"
      ],
      "text/plain": [
       "   messages_included  mb_per_month_included  minutes_included  \\\n",
       "0                 50                  15360               500   \n",
       "1               1000                  30720              3000   \n",
       "\n",
       "   rub_monthly_fee  rub_per_gb  rub_per_message  rub_per_minute tariff_name  \n",
       "0              550         200                3               3       smart  \n",
       "1             1950         150                1               1       ultra  "
      ]
     },
     "metadata": {},
     "output_type": "display_data"
    }
   ],
   "source": [
    "# знакомимся с датафреймом tariffs\n",
    "\n",
    "print('TARIFFS')\n",
    "tariffs.info()\n",
    "display(tariffs.head())"
   ]
  },
  {
   "cell_type": "markdown",
   "metadata": {},
   "source": [
    "**Вывод**: Информация о тарифах, всё в порядке."
   ]
  },
  {
   "cell_type": "markdown",
   "metadata": {},
   "source": [
    "## Подготовка данных"
   ]
  },
  {
   "cell_type": "markdown",
   "metadata": {},
   "source": [
    "### Приводим данные к нужным типам"
   ]
  },
  {
   "cell_type": "markdown",
   "metadata": {},
   "source": [
    "#### Столбец `users`"
   ]
  },
  {
   "cell_type": "code",
   "execution_count": 170,
   "metadata": {},
   "outputs": [
    {
     "data": {
      "text/plain": [
       "user_id        int64\n",
       "age            int64\n",
       "churn_date    object\n",
       "city          object\n",
       "first_name    object\n",
       "last_name     object\n",
       "reg_date      object\n",
       "tariff        object\n",
       "dtype: object"
      ]
     },
     "execution_count": 170,
     "metadata": {},
     "output_type": "execute_result"
    }
   ],
   "source": [
    "# первый фрейм\n",
    "\n",
    "users.dtypes"
   ]
  },
  {
   "cell_type": "code",
   "execution_count": 171,
   "metadata": {},
   "outputs": [],
   "source": [
    "# приводим к формату даты\n",
    "\n",
    "users['churn_date'] = pd.to_datetime(users['churn_date'], format='%Y-%m-%d')\n",
    "users['reg_date'] = pd.to_datetime(users['reg_date'], format='%Y-%m-%d')"
   ]
  },
  {
   "cell_type": "code",
   "execution_count": 172,
   "metadata": {},
   "outputs": [
    {
     "data": {
      "text/plain": [
       "user_id                int64\n",
       "age                    int64\n",
       "churn_date    datetime64[ns]\n",
       "city                  object\n",
       "first_name            object\n",
       "last_name             object\n",
       "reg_date      datetime64[ns]\n",
       "tariff                object\n",
       "dtype: object"
      ]
     },
     "execution_count": 172,
     "metadata": {},
     "output_type": "execute_result"
    }
   ],
   "source": [
    "# проверка\n",
    "\n",
    "users.dtypes"
   ]
  },
  {
   "cell_type": "markdown",
   "metadata": {},
   "source": [
    "#### Столбец `calls`"
   ]
  },
  {
   "cell_type": "code",
   "execution_count": 173,
   "metadata": {},
   "outputs": [
    {
     "data": {
      "text/plain": [
       "id            object\n",
       "call_date     object\n",
       "duration     float64\n",
       "user_id        int64\n",
       "dtype: object"
      ]
     },
     "execution_count": 173,
     "metadata": {},
     "output_type": "execute_result"
    }
   ],
   "source": [
    "# второй фрейм\n",
    "\n",
    "calls.dtypes"
   ]
  },
  {
   "cell_type": "code",
   "execution_count": 174,
   "metadata": {},
   "outputs": [],
   "source": [
    "calls['call_date'] = pd.to_datetime(calls['call_date'], format='%Y-%m-%d')"
   ]
  },
  {
   "cell_type": "code",
   "execution_count": 175,
   "metadata": {
    "scrolled": true
   },
   "outputs": [
    {
     "data": {
      "text/plain": [
       "id                   object\n",
       "call_date    datetime64[ns]\n",
       "duration            float64\n",
       "user_id               int64\n",
       "dtype: object"
      ]
     },
     "execution_count": 175,
     "metadata": {},
     "output_type": "execute_result"
    }
   ],
   "source": [
    "# проверка\n",
    "\n",
    "calls.dtypes"
   ]
  },
  {
   "cell_type": "markdown",
   "metadata": {},
   "source": [
    "#### Столбец `messages`"
   ]
  },
  {
   "cell_type": "code",
   "execution_count": 176,
   "metadata": {},
   "outputs": [
    {
     "data": {
      "text/plain": [
       "id              object\n",
       "message_date    object\n",
       "user_id          int64\n",
       "dtype: object"
      ]
     },
     "execution_count": 176,
     "metadata": {},
     "output_type": "execute_result"
    }
   ],
   "source": [
    "# третий фрейм\n",
    "\n",
    "messages.dtypes"
   ]
  },
  {
   "cell_type": "code",
   "execution_count": 177,
   "metadata": {},
   "outputs": [],
   "source": [
    "messages['message_date'] = pd.to_datetime(messages['message_date'], format='%Y-%m-%d')"
   ]
  },
  {
   "cell_type": "code",
   "execution_count": 178,
   "metadata": {},
   "outputs": [
    {
     "data": {
      "text/plain": [
       "id                      object\n",
       "message_date    datetime64[ns]\n",
       "user_id                  int64\n",
       "dtype: object"
      ]
     },
     "execution_count": 178,
     "metadata": {},
     "output_type": "execute_result"
    }
   ],
   "source": [
    "# проверка\n",
    "\n",
    "messages.dtypes"
   ]
  },
  {
   "cell_type": "markdown",
   "metadata": {},
   "source": [
    "#### Столбец `internet`"
   ]
  },
  {
   "cell_type": "code",
   "execution_count": 179,
   "metadata": {
    "scrolled": true
   },
   "outputs": [
    {
     "data": {
      "text/plain": [
       "Unnamed: 0        int64\n",
       "id               object\n",
       "mb_used         float64\n",
       "session_date     object\n",
       "user_id           int64\n",
       "dtype: object"
      ]
     },
     "execution_count": 179,
     "metadata": {},
     "output_type": "execute_result"
    }
   ],
   "source": [
    "# последний фрейм\n",
    "\n",
    "internet.dtypes"
   ]
  },
  {
   "cell_type": "code",
   "execution_count": 180,
   "metadata": {},
   "outputs": [],
   "source": [
    "internet['session_date'] = pd.to_datetime(internet['session_date'], format='%Y-%m-%d')"
   ]
  },
  {
   "cell_type": "code",
   "execution_count": 181,
   "metadata": {
    "scrolled": true
   },
   "outputs": [
    {
     "data": {
      "text/plain": [
       "Unnamed: 0               int64\n",
       "id                      object\n",
       "mb_used                float64\n",
       "session_date    datetime64[ns]\n",
       "user_id                  int64\n",
       "dtype: object"
      ]
     },
     "execution_count": 181,
     "metadata": {},
     "output_type": "execute_result"
    }
   ],
   "source": [
    "# традиционно, проверка\n",
    "\n",
    "internet.dtypes"
   ]
  },
  {
   "cell_type": "markdown",
   "metadata": {},
   "source": [
    "**Вывод:** Понадобилась совершенно минимальная предобработка данных, всегда бы так."
   ]
  },
  {
   "cell_type": "markdown",
   "metadata": {},
   "source": [
    "### Находим и исправляем ошибки в данных"
   ]
  },
  {
   "cell_type": "code",
   "execution_count": 182,
   "metadata": {},
   "outputs": [
    {
     "data": {
      "text/plain": [
       "0              0\n",
       "1              1\n",
       "2              2\n",
       "3              3\n",
       "4              4\n",
       "           ...  \n",
       "149391    149391\n",
       "149392    149392\n",
       "149393    149393\n",
       "149394    149394\n",
       "149395    149395\n",
       "Name: Unnamed: 0, Length: 149396, dtype: int64"
      ]
     },
     "execution_count": 182,
     "metadata": {},
     "output_type": "execute_result"
    }
   ],
   "source": [
    "# в датафрейме internet есть странный столбец\n",
    "\n",
    "internet['Unnamed: 0']"
   ]
  },
  {
   "cell_type": "code",
   "execution_count": 183,
   "metadata": {},
   "outputs": [
    {
     "data": {
      "text/html": [
       "<div>\n",
       "<style scoped>\n",
       "    .dataframe tbody tr th:only-of-type {\n",
       "        vertical-align: middle;\n",
       "    }\n",
       "\n",
       "    .dataframe tbody tr th {\n",
       "        vertical-align: top;\n",
       "    }\n",
       "\n",
       "    .dataframe thead th {\n",
       "        text-align: right;\n",
       "    }\n",
       "</style>\n",
       "<table border=\"1\" class=\"dataframe\">\n",
       "  <thead>\n",
       "    <tr style=\"text-align: right;\">\n",
       "      <th></th>\n",
       "      <th>Unnamed: 0</th>\n",
       "      <th>id</th>\n",
       "      <th>mb_used</th>\n",
       "      <th>session_date</th>\n",
       "      <th>user_id</th>\n",
       "    </tr>\n",
       "  </thead>\n",
       "  <tbody>\n",
       "    <tr>\n",
       "      <th>59262</th>\n",
       "      <td>59262</td>\n",
       "      <td>1200_92</td>\n",
       "      <td>968.10</td>\n",
       "      <td>2018-12-27</td>\n",
       "      <td>1200</td>\n",
       "    </tr>\n",
       "    <tr>\n",
       "      <th>105523</th>\n",
       "      <td>105523</td>\n",
       "      <td>1356_522</td>\n",
       "      <td>0.21</td>\n",
       "      <td>2018-04-29</td>\n",
       "      <td>1356</td>\n",
       "    </tr>\n",
       "    <tr>\n",
       "      <th>118856</th>\n",
       "      <td>118856</td>\n",
       "      <td>1401_277</td>\n",
       "      <td>0.00</td>\n",
       "      <td>2018-11-18</td>\n",
       "      <td>1401</td>\n",
       "    </tr>\n",
       "    <tr>\n",
       "      <th>106161</th>\n",
       "      <td>106161</td>\n",
       "      <td>1359_20</td>\n",
       "      <td>409.28</td>\n",
       "      <td>2018-09-15</td>\n",
       "      <td>1359</td>\n",
       "    </tr>\n",
       "    <tr>\n",
       "      <th>140217</th>\n",
       "      <td>140217</td>\n",
       "      <td>1471_100</td>\n",
       "      <td>283.08</td>\n",
       "      <td>2018-12-23</td>\n",
       "      <td>1471</td>\n",
       "    </tr>\n",
       "    <tr>\n",
       "      <th>133858</th>\n",
       "      <td>133858</td>\n",
       "      <td>1449_13</td>\n",
       "      <td>601.04</td>\n",
       "      <td>2018-12-07</td>\n",
       "      <td>1449</td>\n",
       "    </tr>\n",
       "    <tr>\n",
       "      <th>85011</th>\n",
       "      <td>85011</td>\n",
       "      <td>1290_41</td>\n",
       "      <td>361.01</td>\n",
       "      <td>2018-07-24</td>\n",
       "      <td>1290</td>\n",
       "    </tr>\n",
       "    <tr>\n",
       "      <th>18766</th>\n",
       "      <td>18766</td>\n",
       "      <td>1064_485</td>\n",
       "      <td>207.33</td>\n",
       "      <td>2018-03-28</td>\n",
       "      <td>1064</td>\n",
       "    </tr>\n",
       "    <tr>\n",
       "      <th>101321</th>\n",
       "      <td>101321</td>\n",
       "      <td>1340_32</td>\n",
       "      <td>276.24</td>\n",
       "      <td>2018-02-25</td>\n",
       "      <td>1340</td>\n",
       "    </tr>\n",
       "    <tr>\n",
       "      <th>56895</th>\n",
       "      <td>56895</td>\n",
       "      <td>1189_334</td>\n",
       "      <td>776.67</td>\n",
       "      <td>2018-04-18</td>\n",
       "      <td>1189</td>\n",
       "    </tr>\n",
       "  </tbody>\n",
       "</table>\n",
       "</div>"
      ],
      "text/plain": [
       "        Unnamed: 0        id  mb_used session_date  user_id\n",
       "59262        59262   1200_92   968.10   2018-12-27     1200\n",
       "105523      105523  1356_522     0.21   2018-04-29     1356\n",
       "118856      118856  1401_277     0.00   2018-11-18     1401\n",
       "106161      106161   1359_20   409.28   2018-09-15     1359\n",
       "140217      140217  1471_100   283.08   2018-12-23     1471\n",
       "133858      133858   1449_13   601.04   2018-12-07     1449\n",
       "85011        85011   1290_41   361.01   2018-07-24     1290\n",
       "18766        18766  1064_485   207.33   2018-03-28     1064\n",
       "101321      101321   1340_32   276.24   2018-02-25     1340\n",
       "56895        56895  1189_334   776.67   2018-04-18     1189"
      ]
     },
     "execution_count": 183,
     "metadata": {},
     "output_type": "execute_result"
    }
   ],
   "source": [
    "# посмотрим на случайную выборку\n",
    "\n",
    "internet.sample(10)"
   ]
  },
  {
   "cell_type": "code",
   "execution_count": 184,
   "metadata": {},
   "outputs": [],
   "source": [
    "# похоже на дубликаты индексов, удалим\n",
    "\n",
    "internet.drop('Unnamed: 0', axis=1, inplace=True)"
   ]
  },
  {
   "cell_type": "code",
   "execution_count": 185,
   "metadata": {
    "scrolled": false
   },
   "outputs": [
    {
     "name": "stdout",
     "output_type": "stream",
     "text": [
      "<class 'pandas.core.frame.DataFrame'>\n",
      "RangeIndex: 149396 entries, 0 to 149395\n",
      "Data columns (total 4 columns):\n",
      " #   Column        Non-Null Count   Dtype         \n",
      "---  ------        --------------   -----         \n",
      " 0   id            149396 non-null  object        \n",
      " 1   mb_used       149396 non-null  float64       \n",
      " 2   session_date  149396 non-null  datetime64[ns]\n",
      " 3   user_id       149396 non-null  int64         \n",
      "dtypes: datetime64[ns](1), float64(1), int64(1), object(1)\n",
      "memory usage: 4.6+ MB\n"
     ]
    }
   ],
   "source": [
    "# проверка\n",
    "\n",
    "internet.info()"
   ]
  },
  {
   "cell_type": "markdown",
   "metadata": {},
   "source": [
    "**Вывод.** Данные чистые, потребовалась минимальная обработка:  \n",
    "- исправили типы данных,\n",
    "- добавили новый столбец, округлили значения,\n",
    "- удалили один некорректный столбец,\n",
    "- есть нулевые значения (длительность звонков), но в данном случае это корректная информация, оставляем как есть."
   ]
  },
  {
   "cell_type": "code",
   "execution_count": 188,
   "metadata": {
    "scrolled": false
   },
   "outputs": [
    {
     "data": {
      "text/html": [
       "<div>\n",
       "<style scoped>\n",
       "    .dataframe tbody tr th:only-of-type {\n",
       "        vertical-align: middle;\n",
       "    }\n",
       "\n",
       "    .dataframe tbody tr th {\n",
       "        vertical-align: top;\n",
       "    }\n",
       "\n",
       "    .dataframe thead th {\n",
       "        text-align: right;\n",
       "    }\n",
       "</style>\n",
       "<table border=\"1\" class=\"dataframe\">\n",
       "  <thead>\n",
       "    <tr style=\"text-align: right;\">\n",
       "      <th></th>\n",
       "      <th>id</th>\n",
       "      <th>mb_used</th>\n",
       "      <th>session_date</th>\n",
       "      <th>user_id</th>\n",
       "    </tr>\n",
       "  </thead>\n",
       "  <tbody>\n",
       "    <tr>\n",
       "      <th>0</th>\n",
       "      <td>1000_0</td>\n",
       "      <td>112.95</td>\n",
       "      <td>2018-11-25</td>\n",
       "      <td>1000</td>\n",
       "    </tr>\n",
       "    <tr>\n",
       "      <th>1</th>\n",
       "      <td>1000_1</td>\n",
       "      <td>1052.81</td>\n",
       "      <td>2018-09-07</td>\n",
       "      <td>1000</td>\n",
       "    </tr>\n",
       "    <tr>\n",
       "      <th>2</th>\n",
       "      <td>1000_2</td>\n",
       "      <td>1197.26</td>\n",
       "      <td>2018-06-25</td>\n",
       "      <td>1000</td>\n",
       "    </tr>\n",
       "    <tr>\n",
       "      <th>3</th>\n",
       "      <td>1000_3</td>\n",
       "      <td>550.27</td>\n",
       "      <td>2018-08-22</td>\n",
       "      <td>1000</td>\n",
       "    </tr>\n",
       "    <tr>\n",
       "      <th>4</th>\n",
       "      <td>1000_4</td>\n",
       "      <td>302.56</td>\n",
       "      <td>2018-09-24</td>\n",
       "      <td>1000</td>\n",
       "    </tr>\n",
       "  </tbody>\n",
       "</table>\n",
       "</div>"
      ],
      "text/plain": [
       "       id  mb_used session_date  user_id\n",
       "0  1000_0   112.95   2018-11-25     1000\n",
       "1  1000_1  1052.81   2018-09-07     1000\n",
       "2  1000_2  1197.26   2018-06-25     1000\n",
       "3  1000_3   550.27   2018-08-22     1000\n",
       "4  1000_4   302.56   2018-09-24     1000"
      ]
     },
     "execution_count": 188,
     "metadata": {},
     "output_type": "execute_result"
    }
   ],
   "source": [
    "internet.head()"
   ]
  },
  {
   "cell_type": "code",
   "execution_count": 189,
   "metadata": {},
   "outputs": [],
   "source": [
    "# добавляем столбец с месяцем\n",
    "\n",
    "internet['month'] = internet['session_date'].astype('datetime64[M]')"
   ]
  },
  {
   "cell_type": "code",
   "execution_count": 190,
   "metadata": {
    "scrolled": true
   },
   "outputs": [
    {
     "data": {
      "text/html": [
       "<div>\n",
       "<style scoped>\n",
       "    .dataframe tbody tr th:only-of-type {\n",
       "        vertical-align: middle;\n",
       "    }\n",
       "\n",
       "    .dataframe tbody tr th {\n",
       "        vertical-align: top;\n",
       "    }\n",
       "\n",
       "    .dataframe thead th {\n",
       "        text-align: right;\n",
       "    }\n",
       "</style>\n",
       "<table border=\"1\" class=\"dataframe\">\n",
       "  <thead>\n",
       "    <tr style=\"text-align: right;\">\n",
       "      <th></th>\n",
       "      <th>id</th>\n",
       "      <th>mb_used</th>\n",
       "      <th>session_date</th>\n",
       "      <th>user_id</th>\n",
       "      <th>month</th>\n",
       "    </tr>\n",
       "  </thead>\n",
       "  <tbody>\n",
       "    <tr>\n",
       "      <th>0</th>\n",
       "      <td>1000_0</td>\n",
       "      <td>112.95</td>\n",
       "      <td>2018-11-25</td>\n",
       "      <td>1000</td>\n",
       "      <td>2018-11-01</td>\n",
       "    </tr>\n",
       "    <tr>\n",
       "      <th>1</th>\n",
       "      <td>1000_1</td>\n",
       "      <td>1052.81</td>\n",
       "      <td>2018-09-07</td>\n",
       "      <td>1000</td>\n",
       "      <td>2018-09-01</td>\n",
       "    </tr>\n",
       "    <tr>\n",
       "      <th>2</th>\n",
       "      <td>1000_2</td>\n",
       "      <td>1197.26</td>\n",
       "      <td>2018-06-25</td>\n",
       "      <td>1000</td>\n",
       "      <td>2018-06-01</td>\n",
       "    </tr>\n",
       "    <tr>\n",
       "      <th>3</th>\n",
       "      <td>1000_3</td>\n",
       "      <td>550.27</td>\n",
       "      <td>2018-08-22</td>\n",
       "      <td>1000</td>\n",
       "      <td>2018-08-01</td>\n",
       "    </tr>\n",
       "    <tr>\n",
       "      <th>4</th>\n",
       "      <td>1000_4</td>\n",
       "      <td>302.56</td>\n",
       "      <td>2018-09-24</td>\n",
       "      <td>1000</td>\n",
       "      <td>2018-09-01</td>\n",
       "    </tr>\n",
       "  </tbody>\n",
       "</table>\n",
       "</div>"
      ],
      "text/plain": [
       "       id  mb_used session_date  user_id      month\n",
       "0  1000_0   112.95   2018-11-25     1000 2018-11-01\n",
       "1  1000_1  1052.81   2018-09-07     1000 2018-09-01\n",
       "2  1000_2  1197.26   2018-06-25     1000 2018-06-01\n",
       "3  1000_3   550.27   2018-08-22     1000 2018-08-01\n",
       "4  1000_4   302.56   2018-09-24     1000 2018-09-01"
      ]
     },
     "execution_count": 190,
     "metadata": {},
     "output_type": "execute_result"
    }
   ],
   "source": [
    "# проверка\n",
    "\n",
    "internet.head()"
   ]
  },
  {
   "cell_type": "code",
   "execution_count": 191,
   "metadata": {},
   "outputs": [],
   "source": [
    "# создаём таблицу, где отображается месячный трафик каждого юзера\n",
    "\n",
    "user_internet_by_month = internet.groupby(['user_id', 'month'])['mb_used'].agg(['sum']).reset_index()\n",
    "\n",
    "user_internet_by_month.columns = ['user_id', 'month', 'mb_used']"
   ]
  },
  {
   "cell_type": "code",
   "execution_count": 192,
   "metadata": {},
   "outputs": [
    {
     "data": {
      "text/html": [
       "<div>\n",
       "<style scoped>\n",
       "    .dataframe tbody tr th:only-of-type {\n",
       "        vertical-align: middle;\n",
       "    }\n",
       "\n",
       "    .dataframe tbody tr th {\n",
       "        vertical-align: top;\n",
       "    }\n",
       "\n",
       "    .dataframe thead th {\n",
       "        text-align: right;\n",
       "    }\n",
       "</style>\n",
       "<table border=\"1\" class=\"dataframe\">\n",
       "  <thead>\n",
       "    <tr style=\"text-align: right;\">\n",
       "      <th></th>\n",
       "      <th>user_id</th>\n",
       "      <th>month</th>\n",
       "      <th>mb_used</th>\n",
       "    </tr>\n",
       "  </thead>\n",
       "  <tbody>\n",
       "    <tr>\n",
       "      <th>0</th>\n",
       "      <td>1000</td>\n",
       "      <td>2018-05-01</td>\n",
       "      <td>2253.49</td>\n",
       "    </tr>\n",
       "    <tr>\n",
       "      <th>1</th>\n",
       "      <td>1000</td>\n",
       "      <td>2018-06-01</td>\n",
       "      <td>23233.77</td>\n",
       "    </tr>\n",
       "    <tr>\n",
       "      <th>2</th>\n",
       "      <td>1000</td>\n",
       "      <td>2018-07-01</td>\n",
       "      <td>14003.64</td>\n",
       "    </tr>\n",
       "    <tr>\n",
       "      <th>3</th>\n",
       "      <td>1000</td>\n",
       "      <td>2018-08-01</td>\n",
       "      <td>14055.93</td>\n",
       "    </tr>\n",
       "    <tr>\n",
       "      <th>4</th>\n",
       "      <td>1000</td>\n",
       "      <td>2018-09-01</td>\n",
       "      <td>14568.91</td>\n",
       "    </tr>\n",
       "    <tr>\n",
       "      <th>5</th>\n",
       "      <td>1000</td>\n",
       "      <td>2018-10-01</td>\n",
       "      <td>14702.49</td>\n",
       "    </tr>\n",
       "    <tr>\n",
       "      <th>6</th>\n",
       "      <td>1000</td>\n",
       "      <td>2018-11-01</td>\n",
       "      <td>14756.47</td>\n",
       "    </tr>\n",
       "    <tr>\n",
       "      <th>7</th>\n",
       "      <td>1000</td>\n",
       "      <td>2018-12-01</td>\n",
       "      <td>9817.61</td>\n",
       "    </tr>\n",
       "    <tr>\n",
       "      <th>8</th>\n",
       "      <td>1001</td>\n",
       "      <td>2018-11-01</td>\n",
       "      <td>18429.34</td>\n",
       "    </tr>\n",
       "    <tr>\n",
       "      <th>9</th>\n",
       "      <td>1001</td>\n",
       "      <td>2018-12-01</td>\n",
       "      <td>14036.66</td>\n",
       "    </tr>\n",
       "  </tbody>\n",
       "</table>\n",
       "</div>"
      ],
      "text/plain": [
       "   user_id      month   mb_used\n",
       "0     1000 2018-05-01   2253.49\n",
       "1     1000 2018-06-01  23233.77\n",
       "2     1000 2018-07-01  14003.64\n",
       "3     1000 2018-08-01  14055.93\n",
       "4     1000 2018-09-01  14568.91\n",
       "5     1000 2018-10-01  14702.49\n",
       "6     1000 2018-11-01  14756.47\n",
       "7     1000 2018-12-01   9817.61\n",
       "8     1001 2018-11-01  18429.34\n",
       "9     1001 2018-12-01  14036.66"
      ]
     },
     "execution_count": 192,
     "metadata": {},
     "output_type": "execute_result"
    }
   ],
   "source": [
    "user_internet_by_month.head(10)"
   ]
  },
  {
   "cell_type": "code",
   "execution_count": 193,
   "metadata": {},
   "outputs": [],
   "source": [
    "# переведём MB в GB\n",
    "\n",
    "user_internet_by_month['gb_used'] = user_internet_by_month['mb_used'] / 1024"
   ]
  },
  {
   "cell_type": "code",
   "execution_count": 194,
   "metadata": {},
   "outputs": [
    {
     "data": {
      "text/html": [
       "<div>\n",
       "<style scoped>\n",
       "    .dataframe tbody tr th:only-of-type {\n",
       "        vertical-align: middle;\n",
       "    }\n",
       "\n",
       "    .dataframe tbody tr th {\n",
       "        vertical-align: top;\n",
       "    }\n",
       "\n",
       "    .dataframe thead th {\n",
       "        text-align: right;\n",
       "    }\n",
       "</style>\n",
       "<table border=\"1\" class=\"dataframe\">\n",
       "  <thead>\n",
       "    <tr style=\"text-align: right;\">\n",
       "      <th></th>\n",
       "      <th>user_id</th>\n",
       "      <th>month</th>\n",
       "      <th>mb_used</th>\n",
       "      <th>gb_used</th>\n",
       "    </tr>\n",
       "  </thead>\n",
       "  <tbody>\n",
       "    <tr>\n",
       "      <th>0</th>\n",
       "      <td>1000</td>\n",
       "      <td>2018-05-01</td>\n",
       "      <td>2253.49</td>\n",
       "      <td>2.200674</td>\n",
       "    </tr>\n",
       "    <tr>\n",
       "      <th>1</th>\n",
       "      <td>1000</td>\n",
       "      <td>2018-06-01</td>\n",
       "      <td>23233.77</td>\n",
       "      <td>22.689229</td>\n",
       "    </tr>\n",
       "    <tr>\n",
       "      <th>2</th>\n",
       "      <td>1000</td>\n",
       "      <td>2018-07-01</td>\n",
       "      <td>14003.64</td>\n",
       "      <td>13.675430</td>\n",
       "    </tr>\n",
       "    <tr>\n",
       "      <th>3</th>\n",
       "      <td>1000</td>\n",
       "      <td>2018-08-01</td>\n",
       "      <td>14055.93</td>\n",
       "      <td>13.726494</td>\n",
       "    </tr>\n",
       "    <tr>\n",
       "      <th>4</th>\n",
       "      <td>1000</td>\n",
       "      <td>2018-09-01</td>\n",
       "      <td>14568.91</td>\n",
       "      <td>14.227451</td>\n",
       "    </tr>\n",
       "  </tbody>\n",
       "</table>\n",
       "</div>"
      ],
      "text/plain": [
       "   user_id      month   mb_used    gb_used\n",
       "0     1000 2018-05-01   2253.49   2.200674\n",
       "1     1000 2018-06-01  23233.77  22.689229\n",
       "2     1000 2018-07-01  14003.64  13.675430\n",
       "3     1000 2018-08-01  14055.93  13.726494\n",
       "4     1000 2018-09-01  14568.91  14.227451"
      ]
     },
     "execution_count": 194,
     "metadata": {},
     "output_type": "execute_result"
    }
   ],
   "source": [
    "# проверка\n",
    "\n",
    "user_internet_by_month.head()"
   ]
  },
  {
   "cell_type": "code",
   "execution_count": 195,
   "metadata": {},
   "outputs": [],
   "source": [
    "# и вот теперь по условиям тарифа округлим и изменим тип\n",
    "\n",
    "user_internet_by_month['gb_used'] = np.ceil(user_internet_by_month['gb_used']).astype('int')"
   ]
  },
  {
   "cell_type": "code",
   "execution_count": 196,
   "metadata": {
    "scrolled": false
   },
   "outputs": [
    {
     "data": {
      "text/html": [
       "<div>\n",
       "<style scoped>\n",
       "    .dataframe tbody tr th:only-of-type {\n",
       "        vertical-align: middle;\n",
       "    }\n",
       "\n",
       "    .dataframe tbody tr th {\n",
       "        vertical-align: top;\n",
       "    }\n",
       "\n",
       "    .dataframe thead th {\n",
       "        text-align: right;\n",
       "    }\n",
       "</style>\n",
       "<table border=\"1\" class=\"dataframe\">\n",
       "  <thead>\n",
       "    <tr style=\"text-align: right;\">\n",
       "      <th></th>\n",
       "      <th>user_id</th>\n",
       "      <th>month</th>\n",
       "      <th>mb_used</th>\n",
       "      <th>gb_used</th>\n",
       "    </tr>\n",
       "  </thead>\n",
       "  <tbody>\n",
       "    <tr>\n",
       "      <th>0</th>\n",
       "      <td>1000</td>\n",
       "      <td>2018-05-01</td>\n",
       "      <td>2253.49</td>\n",
       "      <td>3</td>\n",
       "    </tr>\n",
       "    <tr>\n",
       "      <th>1</th>\n",
       "      <td>1000</td>\n",
       "      <td>2018-06-01</td>\n",
       "      <td>23233.77</td>\n",
       "      <td>23</td>\n",
       "    </tr>\n",
       "    <tr>\n",
       "      <th>2</th>\n",
       "      <td>1000</td>\n",
       "      <td>2018-07-01</td>\n",
       "      <td>14003.64</td>\n",
       "      <td>14</td>\n",
       "    </tr>\n",
       "    <tr>\n",
       "      <th>3</th>\n",
       "      <td>1000</td>\n",
       "      <td>2018-08-01</td>\n",
       "      <td>14055.93</td>\n",
       "      <td>14</td>\n",
       "    </tr>\n",
       "    <tr>\n",
       "      <th>4</th>\n",
       "      <td>1000</td>\n",
       "      <td>2018-09-01</td>\n",
       "      <td>14568.91</td>\n",
       "      <td>15</td>\n",
       "    </tr>\n",
       "  </tbody>\n",
       "</table>\n",
       "</div>"
      ],
      "text/plain": [
       "   user_id      month   mb_used  gb_used\n",
       "0     1000 2018-05-01   2253.49        3\n",
       "1     1000 2018-06-01  23233.77       23\n",
       "2     1000 2018-07-01  14003.64       14\n",
       "3     1000 2018-08-01  14055.93       14\n",
       "4     1000 2018-09-01  14568.91       15"
      ]
     },
     "execution_count": 196,
     "metadata": {},
     "output_type": "execute_result"
    }
   ],
   "source": [
    "# проверка\n",
    "\n",
    "user_internet_by_month.head()"
   ]
  },
  {
   "cell_type": "code",
   "execution_count": 197,
   "metadata": {},
   "outputs": [
    {
     "data": {
      "text/plain": [
       "user_id             int64\n",
       "month      datetime64[ns]\n",
       "mb_used           float64\n",
       "gb_used             int32\n",
       "dtype: object"
      ]
     },
     "execution_count": 197,
     "metadata": {},
     "output_type": "execute_result"
    }
   ],
   "source": [
    "# проверка типов\n",
    "\n",
    "user_internet_by_month.dtypes"
   ]
  },
  {
   "cell_type": "code",
   "execution_count": 198,
   "metadata": {
    "scrolled": true
   },
   "outputs": [
    {
     "data": {
      "text/html": [
       "<div>\n",
       "<style scoped>\n",
       "    .dataframe tbody tr th:only-of-type {\n",
       "        vertical-align: middle;\n",
       "    }\n",
       "\n",
       "    .dataframe tbody tr th {\n",
       "        vertical-align: top;\n",
       "    }\n",
       "\n",
       "    .dataframe thead th {\n",
       "        text-align: right;\n",
       "    }\n",
       "</style>\n",
       "<table border=\"1\" class=\"dataframe\">\n",
       "  <thead>\n",
       "    <tr style=\"text-align: right;\">\n",
       "      <th></th>\n",
       "      <th>id</th>\n",
       "      <th>call_date</th>\n",
       "      <th>duration</th>\n",
       "      <th>user_id</th>\n",
       "    </tr>\n",
       "  </thead>\n",
       "  <tbody>\n",
       "    <tr>\n",
       "      <th>0</th>\n",
       "      <td>1000_0</td>\n",
       "      <td>2018-07-25</td>\n",
       "      <td>0.00</td>\n",
       "      <td>1000</td>\n",
       "    </tr>\n",
       "    <tr>\n",
       "      <th>1</th>\n",
       "      <td>1000_1</td>\n",
       "      <td>2018-08-17</td>\n",
       "      <td>0.00</td>\n",
       "      <td>1000</td>\n",
       "    </tr>\n",
       "    <tr>\n",
       "      <th>2</th>\n",
       "      <td>1000_2</td>\n",
       "      <td>2018-06-11</td>\n",
       "      <td>2.85</td>\n",
       "      <td>1000</td>\n",
       "    </tr>\n",
       "    <tr>\n",
       "      <th>3</th>\n",
       "      <td>1000_3</td>\n",
       "      <td>2018-09-21</td>\n",
       "      <td>13.80</td>\n",
       "      <td>1000</td>\n",
       "    </tr>\n",
       "    <tr>\n",
       "      <th>4</th>\n",
       "      <td>1000_4</td>\n",
       "      <td>2018-12-15</td>\n",
       "      <td>5.18</td>\n",
       "      <td>1000</td>\n",
       "    </tr>\n",
       "  </tbody>\n",
       "</table>\n",
       "</div>"
      ],
      "text/plain": [
       "       id  call_date  duration  user_id\n",
       "0  1000_0 2018-07-25      0.00     1000\n",
       "1  1000_1 2018-08-17      0.00     1000\n",
       "2  1000_2 2018-06-11      2.85     1000\n",
       "3  1000_3 2018-09-21     13.80     1000\n",
       "4  1000_4 2018-12-15      5.18     1000"
      ]
     },
     "execution_count": 198,
     "metadata": {},
     "output_type": "execute_result"
    }
   ],
   "source": [
    "calls.head()"
   ]
  },
  {
   "cell_type": "code",
   "execution_count": 199,
   "metadata": {},
   "outputs": [],
   "source": [
    "# округляем и изменяем тип\n",
    "\n",
    "calls['dur_plus'] = np.ceil(calls['duration']).astype('int')"
   ]
  },
  {
   "cell_type": "code",
   "execution_count": 200,
   "metadata": {
    "scrolled": true
   },
   "outputs": [
    {
     "data": {
      "text/html": [
       "<div>\n",
       "<style scoped>\n",
       "    .dataframe tbody tr th:only-of-type {\n",
       "        vertical-align: middle;\n",
       "    }\n",
       "\n",
       "    .dataframe tbody tr th {\n",
       "        vertical-align: top;\n",
       "    }\n",
       "\n",
       "    .dataframe thead th {\n",
       "        text-align: right;\n",
       "    }\n",
       "</style>\n",
       "<table border=\"1\" class=\"dataframe\">\n",
       "  <thead>\n",
       "    <tr style=\"text-align: right;\">\n",
       "      <th></th>\n",
       "      <th>id</th>\n",
       "      <th>call_date</th>\n",
       "      <th>duration</th>\n",
       "      <th>user_id</th>\n",
       "      <th>dur_plus</th>\n",
       "    </tr>\n",
       "  </thead>\n",
       "  <tbody>\n",
       "    <tr>\n",
       "      <th>0</th>\n",
       "      <td>1000_0</td>\n",
       "      <td>2018-07-25</td>\n",
       "      <td>0.00</td>\n",
       "      <td>1000</td>\n",
       "      <td>0</td>\n",
       "    </tr>\n",
       "    <tr>\n",
       "      <th>1</th>\n",
       "      <td>1000_1</td>\n",
       "      <td>2018-08-17</td>\n",
       "      <td>0.00</td>\n",
       "      <td>1000</td>\n",
       "      <td>0</td>\n",
       "    </tr>\n",
       "    <tr>\n",
       "      <th>2</th>\n",
       "      <td>1000_2</td>\n",
       "      <td>2018-06-11</td>\n",
       "      <td>2.85</td>\n",
       "      <td>1000</td>\n",
       "      <td>3</td>\n",
       "    </tr>\n",
       "    <tr>\n",
       "      <th>3</th>\n",
       "      <td>1000_3</td>\n",
       "      <td>2018-09-21</td>\n",
       "      <td>13.80</td>\n",
       "      <td>1000</td>\n",
       "      <td>14</td>\n",
       "    </tr>\n",
       "    <tr>\n",
       "      <th>4</th>\n",
       "      <td>1000_4</td>\n",
       "      <td>2018-12-15</td>\n",
       "      <td>5.18</td>\n",
       "      <td>1000</td>\n",
       "      <td>6</td>\n",
       "    </tr>\n",
       "  </tbody>\n",
       "</table>\n",
       "</div>"
      ],
      "text/plain": [
       "       id  call_date  duration  user_id  dur_plus\n",
       "0  1000_0 2018-07-25      0.00     1000         0\n",
       "1  1000_1 2018-08-17      0.00     1000         0\n",
       "2  1000_2 2018-06-11      2.85     1000         3\n",
       "3  1000_3 2018-09-21     13.80     1000        14\n",
       "4  1000_4 2018-12-15      5.18     1000         6"
      ]
     },
     "execution_count": 200,
     "metadata": {},
     "output_type": "execute_result"
    }
   ],
   "source": [
    "# проверка\n",
    "\n",
    "calls.head()"
   ]
  },
  {
   "cell_type": "code",
   "execution_count": 201,
   "metadata": {
    "scrolled": true
   },
   "outputs": [
    {
     "data": {
      "text/plain": [
       "id                   object\n",
       "call_date    datetime64[ns]\n",
       "duration            float64\n",
       "user_id               int64\n",
       "dur_plus              int32\n",
       "dtype: object"
      ]
     },
     "execution_count": 201,
     "metadata": {},
     "output_type": "execute_result"
    }
   ],
   "source": [
    "calls.dtypes"
   ]
  },
  {
   "cell_type": "markdown",
   "metadata": {},
   "source": [
    "### Считаем для каждого пользователя:"
   ]
  },
  {
   "cell_type": "markdown",
   "metadata": {},
   "source": [
    "- Количество сделанных звонков и израсходованных минут разговора по месяцам;\n",
    "- количество отправленных сообщений по месяцам;\n",
    "- объём израсходованного интернет-трафика по месяцам;\n",
    "- помесячную выручку с каждого пользователя (вычтем бесплатный лимит из суммарного количества звонков, сообщений и интернет-трафика;  \n",
    "остаток умножим на значение из тарифного плана;  \n",
    "прибавим абонентскую плату, соответствующую тарифному плану)."
   ]
  },
  {
   "cell_type": "markdown",
   "metadata": {},
   "source": [
    "#### Количество сделанных звонков и израсходованных минут разговора по месяцам"
   ]
  },
  {
   "cell_type": "code",
   "execution_count": 202,
   "metadata": {},
   "outputs": [],
   "source": [
    "# добавляем столбец месяца\n",
    "\n",
    "calls['month'] = pd.DatetimeIndex(calls['call_date']).month\n",
    "\n",
    "messages['month'] = pd.DatetimeIndex(messages['message_date']).month\n",
    "\n",
    "internet['month'] = pd.DatetimeIndex(internet['session_date']).month"
   ]
  },
  {
   "cell_type": "code",
   "execution_count": 203,
   "metadata": {},
   "outputs": [],
   "source": [
    "# пример месяца\n",
    "\n",
    "internet['month_datetime'] = internet['session_date'].astype('datetime64[M]')"
   ]
  },
  {
   "cell_type": "code",
   "execution_count": 204,
   "metadata": {},
   "outputs": [],
   "source": [
    "# пример дня\n",
    "\n",
    "internet['day_datetime'] = internet['session_date'].astype('datetime64[D]')"
   ]
  },
  {
   "cell_type": "code",
   "execution_count": 205,
   "metadata": {},
   "outputs": [],
   "source": [
    "# пример года\n",
    "\n",
    "internet['year_datetime'] = internet['session_date'].astype('datetime64[Y]')"
   ]
  },
  {
   "cell_type": "code",
   "execution_count": 206,
   "metadata": {},
   "outputs": [
    {
     "data": {
      "text/html": [
       "<div>\n",
       "<style scoped>\n",
       "    .dataframe tbody tr th:only-of-type {\n",
       "        vertical-align: middle;\n",
       "    }\n",
       "\n",
       "    .dataframe tbody tr th {\n",
       "        vertical-align: top;\n",
       "    }\n",
       "\n",
       "    .dataframe thead th {\n",
       "        text-align: right;\n",
       "    }\n",
       "</style>\n",
       "<table border=\"1\" class=\"dataframe\">\n",
       "  <thead>\n",
       "    <tr style=\"text-align: right;\">\n",
       "      <th></th>\n",
       "      <th>id</th>\n",
       "      <th>mb_used</th>\n",
       "      <th>session_date</th>\n",
       "      <th>user_id</th>\n",
       "      <th>month</th>\n",
       "      <th>month_datetime</th>\n",
       "      <th>day_datetime</th>\n",
       "      <th>year_datetime</th>\n",
       "    </tr>\n",
       "  </thead>\n",
       "  <tbody>\n",
       "    <tr>\n",
       "      <th>84026</th>\n",
       "      <td>1284_380</td>\n",
       "      <td>502.05</td>\n",
       "      <td>2018-09-17</td>\n",
       "      <td>1284</td>\n",
       "      <td>9</td>\n",
       "      <td>2018-09-01</td>\n",
       "      <td>2018-09-17</td>\n",
       "      <td>2018-01-01</td>\n",
       "    </tr>\n",
       "    <tr>\n",
       "      <th>59977</th>\n",
       "      <td>1204_62</td>\n",
       "      <td>193.55</td>\n",
       "      <td>2018-02-18</td>\n",
       "      <td>1204</td>\n",
       "      <td>2</td>\n",
       "      <td>2018-02-01</td>\n",
       "      <td>2018-02-18</td>\n",
       "      <td>2018-01-01</td>\n",
       "    </tr>\n",
       "    <tr>\n",
       "      <th>121590</th>\n",
       "      <td>1410_64</td>\n",
       "      <td>141.08</td>\n",
       "      <td>2018-12-24</td>\n",
       "      <td>1410</td>\n",
       "      <td>12</td>\n",
       "      <td>2018-12-01</td>\n",
       "      <td>2018-12-24</td>\n",
       "      <td>2018-01-01</td>\n",
       "    </tr>\n",
       "    <tr>\n",
       "      <th>106946</th>\n",
       "      <td>1362_176</td>\n",
       "      <td>332.34</td>\n",
       "      <td>2018-08-09</td>\n",
       "      <td>1362</td>\n",
       "      <td>8</td>\n",
       "      <td>2018-08-01</td>\n",
       "      <td>2018-08-09</td>\n",
       "      <td>2018-01-01</td>\n",
       "    </tr>\n",
       "    <tr>\n",
       "      <th>132251</th>\n",
       "      <td>1439_368</td>\n",
       "      <td>728.13</td>\n",
       "      <td>2018-07-06</td>\n",
       "      <td>1439</td>\n",
       "      <td>7</td>\n",
       "      <td>2018-07-01</td>\n",
       "      <td>2018-07-06</td>\n",
       "      <td>2018-01-01</td>\n",
       "    </tr>\n",
       "    <tr>\n",
       "      <th>132798</th>\n",
       "      <td>1442_24</td>\n",
       "      <td>384.40</td>\n",
       "      <td>2018-11-14</td>\n",
       "      <td>1442</td>\n",
       "      <td>11</td>\n",
       "      <td>2018-11-01</td>\n",
       "      <td>2018-11-14</td>\n",
       "      <td>2018-01-01</td>\n",
       "    </tr>\n",
       "    <tr>\n",
       "      <th>104573</th>\n",
       "      <td>1354_88</td>\n",
       "      <td>0.00</td>\n",
       "      <td>2018-12-02</td>\n",
       "      <td>1354</td>\n",
       "      <td>12</td>\n",
       "      <td>2018-12-01</td>\n",
       "      <td>2018-12-02</td>\n",
       "      <td>2018-01-01</td>\n",
       "    </tr>\n",
       "    <tr>\n",
       "      <th>26481</th>\n",
       "      <td>1092_147</td>\n",
       "      <td>619.97</td>\n",
       "      <td>2018-09-21</td>\n",
       "      <td>1092</td>\n",
       "      <td>9</td>\n",
       "      <td>2018-09-01</td>\n",
       "      <td>2018-09-21</td>\n",
       "      <td>2018-01-01</td>\n",
       "    </tr>\n",
       "    <tr>\n",
       "      <th>23332</th>\n",
       "      <td>1078_249</td>\n",
       "      <td>234.75</td>\n",
       "      <td>2018-11-28</td>\n",
       "      <td>1078</td>\n",
       "      <td>11</td>\n",
       "      <td>2018-11-01</td>\n",
       "      <td>2018-11-28</td>\n",
       "      <td>2018-01-01</td>\n",
       "    </tr>\n",
       "    <tr>\n",
       "      <th>146809</th>\n",
       "      <td>1491_81</td>\n",
       "      <td>1033.51</td>\n",
       "      <td>2018-10-11</td>\n",
       "      <td>1491</td>\n",
       "      <td>10</td>\n",
       "      <td>2018-10-01</td>\n",
       "      <td>2018-10-11</td>\n",
       "      <td>2018-01-01</td>\n",
       "    </tr>\n",
       "  </tbody>\n",
       "</table>\n",
       "</div>"
      ],
      "text/plain": [
       "              id  mb_used session_date  user_id  month month_datetime  \\\n",
       "84026   1284_380   502.05   2018-09-17     1284      9     2018-09-01   \n",
       "59977    1204_62   193.55   2018-02-18     1204      2     2018-02-01   \n",
       "121590   1410_64   141.08   2018-12-24     1410     12     2018-12-01   \n",
       "106946  1362_176   332.34   2018-08-09     1362      8     2018-08-01   \n",
       "132251  1439_368   728.13   2018-07-06     1439      7     2018-07-01   \n",
       "132798   1442_24   384.40   2018-11-14     1442     11     2018-11-01   \n",
       "104573   1354_88     0.00   2018-12-02     1354     12     2018-12-01   \n",
       "26481   1092_147   619.97   2018-09-21     1092      9     2018-09-01   \n",
       "23332   1078_249   234.75   2018-11-28     1078     11     2018-11-01   \n",
       "146809   1491_81  1033.51   2018-10-11     1491     10     2018-10-01   \n",
       "\n",
       "       day_datetime year_datetime  \n",
       "84026    2018-09-17    2018-01-01  \n",
       "59977    2018-02-18    2018-01-01  \n",
       "121590   2018-12-24    2018-01-01  \n",
       "106946   2018-08-09    2018-01-01  \n",
       "132251   2018-07-06    2018-01-01  \n",
       "132798   2018-11-14    2018-01-01  \n",
       "104573   2018-12-02    2018-01-01  \n",
       "26481    2018-09-21    2018-01-01  \n",
       "23332    2018-11-28    2018-01-01  \n",
       "146809   2018-10-11    2018-01-01  "
      ]
     },
     "execution_count": 206,
     "metadata": {},
     "output_type": "execute_result"
    }
   ],
   "source": [
    "internet.sample(10)"
   ]
  },
  {
   "cell_type": "code",
   "execution_count": 207,
   "metadata": {},
   "outputs": [
    {
     "data": {
      "text/html": [
       "<div>\n",
       "<style scoped>\n",
       "    .dataframe tbody tr th:only-of-type {\n",
       "        vertical-align: middle;\n",
       "    }\n",
       "\n",
       "    .dataframe tbody tr th {\n",
       "        vertical-align: top;\n",
       "    }\n",
       "\n",
       "    .dataframe thead th {\n",
       "        text-align: right;\n",
       "    }\n",
       "</style>\n",
       "<table border=\"1\" class=\"dataframe\">\n",
       "  <thead>\n",
       "    <tr style=\"text-align: right;\">\n",
       "      <th></th>\n",
       "      <th>id</th>\n",
       "      <th>call_date</th>\n",
       "      <th>duration</th>\n",
       "      <th>user_id</th>\n",
       "      <th>dur_plus</th>\n",
       "      <th>month</th>\n",
       "    </tr>\n",
       "  </thead>\n",
       "  <tbody>\n",
       "    <tr>\n",
       "      <th>0</th>\n",
       "      <td>1000_0</td>\n",
       "      <td>2018-07-25</td>\n",
       "      <td>0.00</td>\n",
       "      <td>1000</td>\n",
       "      <td>0</td>\n",
       "      <td>7</td>\n",
       "    </tr>\n",
       "    <tr>\n",
       "      <th>1</th>\n",
       "      <td>1000_1</td>\n",
       "      <td>2018-08-17</td>\n",
       "      <td>0.00</td>\n",
       "      <td>1000</td>\n",
       "      <td>0</td>\n",
       "      <td>8</td>\n",
       "    </tr>\n",
       "    <tr>\n",
       "      <th>2</th>\n",
       "      <td>1000_2</td>\n",
       "      <td>2018-06-11</td>\n",
       "      <td>2.85</td>\n",
       "      <td>1000</td>\n",
       "      <td>3</td>\n",
       "      <td>6</td>\n",
       "    </tr>\n",
       "    <tr>\n",
       "      <th>3</th>\n",
       "      <td>1000_3</td>\n",
       "      <td>2018-09-21</td>\n",
       "      <td>13.80</td>\n",
       "      <td>1000</td>\n",
       "      <td>14</td>\n",
       "      <td>9</td>\n",
       "    </tr>\n",
       "    <tr>\n",
       "      <th>4</th>\n",
       "      <td>1000_4</td>\n",
       "      <td>2018-12-15</td>\n",
       "      <td>5.18</td>\n",
       "      <td>1000</td>\n",
       "      <td>6</td>\n",
       "      <td>12</td>\n",
       "    </tr>\n",
       "  </tbody>\n",
       "</table>\n",
       "</div>"
      ],
      "text/plain": [
       "       id  call_date  duration  user_id  dur_plus  month\n",
       "0  1000_0 2018-07-25      0.00     1000         0      7\n",
       "1  1000_1 2018-08-17      0.00     1000         0      8\n",
       "2  1000_2 2018-06-11      2.85     1000         3      6\n",
       "3  1000_3 2018-09-21     13.80     1000        14      9\n",
       "4  1000_4 2018-12-15      5.18     1000         6     12"
      ]
     },
     "metadata": {},
     "output_type": "display_data"
    },
    {
     "data": {
      "text/html": [
       "<div>\n",
       "<style scoped>\n",
       "    .dataframe tbody tr th:only-of-type {\n",
       "        vertical-align: middle;\n",
       "    }\n",
       "\n",
       "    .dataframe tbody tr th {\n",
       "        vertical-align: top;\n",
       "    }\n",
       "\n",
       "    .dataframe thead th {\n",
       "        text-align: right;\n",
       "    }\n",
       "</style>\n",
       "<table border=\"1\" class=\"dataframe\">\n",
       "  <thead>\n",
       "    <tr style=\"text-align: right;\">\n",
       "      <th></th>\n",
       "      <th>id</th>\n",
       "      <th>message_date</th>\n",
       "      <th>user_id</th>\n",
       "      <th>month</th>\n",
       "    </tr>\n",
       "  </thead>\n",
       "  <tbody>\n",
       "    <tr>\n",
       "      <th>0</th>\n",
       "      <td>1000_0</td>\n",
       "      <td>2018-06-27</td>\n",
       "      <td>1000</td>\n",
       "      <td>6</td>\n",
       "    </tr>\n",
       "    <tr>\n",
       "      <th>1</th>\n",
       "      <td>1000_1</td>\n",
       "      <td>2018-10-08</td>\n",
       "      <td>1000</td>\n",
       "      <td>10</td>\n",
       "    </tr>\n",
       "    <tr>\n",
       "      <th>2</th>\n",
       "      <td>1000_2</td>\n",
       "      <td>2018-08-04</td>\n",
       "      <td>1000</td>\n",
       "      <td>8</td>\n",
       "    </tr>\n",
       "    <tr>\n",
       "      <th>3</th>\n",
       "      <td>1000_3</td>\n",
       "      <td>2018-06-16</td>\n",
       "      <td>1000</td>\n",
       "      <td>6</td>\n",
       "    </tr>\n",
       "    <tr>\n",
       "      <th>4</th>\n",
       "      <td>1000_4</td>\n",
       "      <td>2018-12-05</td>\n",
       "      <td>1000</td>\n",
       "      <td>12</td>\n",
       "    </tr>\n",
       "  </tbody>\n",
       "</table>\n",
       "</div>"
      ],
      "text/plain": [
       "       id message_date  user_id  month\n",
       "0  1000_0   2018-06-27     1000      6\n",
       "1  1000_1   2018-10-08     1000     10\n",
       "2  1000_2   2018-08-04     1000      8\n",
       "3  1000_3   2018-06-16     1000      6\n",
       "4  1000_4   2018-12-05     1000     12"
      ]
     },
     "metadata": {},
     "output_type": "display_data"
    },
    {
     "data": {
      "text/html": [
       "<div>\n",
       "<style scoped>\n",
       "    .dataframe tbody tr th:only-of-type {\n",
       "        vertical-align: middle;\n",
       "    }\n",
       "\n",
       "    .dataframe tbody tr th {\n",
       "        vertical-align: top;\n",
       "    }\n",
       "\n",
       "    .dataframe thead th {\n",
       "        text-align: right;\n",
       "    }\n",
       "</style>\n",
       "<table border=\"1\" class=\"dataframe\">\n",
       "  <thead>\n",
       "    <tr style=\"text-align: right;\">\n",
       "      <th></th>\n",
       "      <th>id</th>\n",
       "      <th>mb_used</th>\n",
       "      <th>session_date</th>\n",
       "      <th>user_id</th>\n",
       "      <th>month</th>\n",
       "      <th>month_datetime</th>\n",
       "      <th>day_datetime</th>\n",
       "      <th>year_datetime</th>\n",
       "    </tr>\n",
       "  </thead>\n",
       "  <tbody>\n",
       "    <tr>\n",
       "      <th>0</th>\n",
       "      <td>1000_0</td>\n",
       "      <td>112.95</td>\n",
       "      <td>2018-11-25</td>\n",
       "      <td>1000</td>\n",
       "      <td>11</td>\n",
       "      <td>2018-11-01</td>\n",
       "      <td>2018-11-25</td>\n",
       "      <td>2018-01-01</td>\n",
       "    </tr>\n",
       "    <tr>\n",
       "      <th>1</th>\n",
       "      <td>1000_1</td>\n",
       "      <td>1052.81</td>\n",
       "      <td>2018-09-07</td>\n",
       "      <td>1000</td>\n",
       "      <td>9</td>\n",
       "      <td>2018-09-01</td>\n",
       "      <td>2018-09-07</td>\n",
       "      <td>2018-01-01</td>\n",
       "    </tr>\n",
       "    <tr>\n",
       "      <th>2</th>\n",
       "      <td>1000_2</td>\n",
       "      <td>1197.26</td>\n",
       "      <td>2018-06-25</td>\n",
       "      <td>1000</td>\n",
       "      <td>6</td>\n",
       "      <td>2018-06-01</td>\n",
       "      <td>2018-06-25</td>\n",
       "      <td>2018-01-01</td>\n",
       "    </tr>\n",
       "    <tr>\n",
       "      <th>3</th>\n",
       "      <td>1000_3</td>\n",
       "      <td>550.27</td>\n",
       "      <td>2018-08-22</td>\n",
       "      <td>1000</td>\n",
       "      <td>8</td>\n",
       "      <td>2018-08-01</td>\n",
       "      <td>2018-08-22</td>\n",
       "      <td>2018-01-01</td>\n",
       "    </tr>\n",
       "    <tr>\n",
       "      <th>4</th>\n",
       "      <td>1000_4</td>\n",
       "      <td>302.56</td>\n",
       "      <td>2018-09-24</td>\n",
       "      <td>1000</td>\n",
       "      <td>9</td>\n",
       "      <td>2018-09-01</td>\n",
       "      <td>2018-09-24</td>\n",
       "      <td>2018-01-01</td>\n",
       "    </tr>\n",
       "  </tbody>\n",
       "</table>\n",
       "</div>"
      ],
      "text/plain": [
       "       id  mb_used session_date  user_id  month month_datetime day_datetime  \\\n",
       "0  1000_0   112.95   2018-11-25     1000     11     2018-11-01   2018-11-25   \n",
       "1  1000_1  1052.81   2018-09-07     1000      9     2018-09-01   2018-09-07   \n",
       "2  1000_2  1197.26   2018-06-25     1000      6     2018-06-01   2018-06-25   \n",
       "3  1000_3   550.27   2018-08-22     1000      8     2018-08-01   2018-08-22   \n",
       "4  1000_4   302.56   2018-09-24     1000      9     2018-09-01   2018-09-24   \n",
       "\n",
       "  year_datetime  \n",
       "0    2018-01-01  \n",
       "1    2018-01-01  \n",
       "2    2018-01-01  \n",
       "3    2018-01-01  \n",
       "4    2018-01-01  "
      ]
     },
     "metadata": {},
     "output_type": "display_data"
    }
   ],
   "source": [
    "display(calls.head(),\n",
    "        messages.head(),\n",
    "        internet.head())"
   ]
  },
  {
   "cell_type": "code",
   "execution_count": 208,
   "metadata": {},
   "outputs": [],
   "source": [
    "# создаём таблицу с количеством и длительностью звонков\n",
    "\n",
    "user_calls = calls.groupby(['user_id', 'month'])['dur_plus'].agg(['count', 'sum']).reset_index()\n",
    "\n",
    "user_calls.columns = ['user_id', 'month', 'calls_total', 'mins_total']"
   ]
  },
  {
   "cell_type": "code",
   "execution_count": 209,
   "metadata": {
    "scrolled": true
   },
   "outputs": [
    {
     "data": {
      "text/html": [
       "<div>\n",
       "<style scoped>\n",
       "    .dataframe tbody tr th:only-of-type {\n",
       "        vertical-align: middle;\n",
       "    }\n",
       "\n",
       "    .dataframe tbody tr th {\n",
       "        vertical-align: top;\n",
       "    }\n",
       "\n",
       "    .dataframe thead th {\n",
       "        text-align: right;\n",
       "    }\n",
       "</style>\n",
       "<table border=\"1\" class=\"dataframe\">\n",
       "  <thead>\n",
       "    <tr style=\"text-align: right;\">\n",
       "      <th></th>\n",
       "      <th>user_id</th>\n",
       "      <th>month</th>\n",
       "      <th>calls_total</th>\n",
       "      <th>mins_total</th>\n",
       "    </tr>\n",
       "  </thead>\n",
       "  <tbody>\n",
       "    <tr>\n",
       "      <th>0</th>\n",
       "      <td>1000</td>\n",
       "      <td>5</td>\n",
       "      <td>22</td>\n",
       "      <td>159</td>\n",
       "    </tr>\n",
       "    <tr>\n",
       "      <th>1</th>\n",
       "      <td>1000</td>\n",
       "      <td>6</td>\n",
       "      <td>43</td>\n",
       "      <td>172</td>\n",
       "    </tr>\n",
       "    <tr>\n",
       "      <th>2</th>\n",
       "      <td>1000</td>\n",
       "      <td>7</td>\n",
       "      <td>47</td>\n",
       "      <td>340</td>\n",
       "    </tr>\n",
       "    <tr>\n",
       "      <th>3</th>\n",
       "      <td>1000</td>\n",
       "      <td>8</td>\n",
       "      <td>52</td>\n",
       "      <td>408</td>\n",
       "    </tr>\n",
       "    <tr>\n",
       "      <th>4</th>\n",
       "      <td>1000</td>\n",
       "      <td>9</td>\n",
       "      <td>58</td>\n",
       "      <td>466</td>\n",
       "    </tr>\n",
       "    <tr>\n",
       "      <th>5</th>\n",
       "      <td>1000</td>\n",
       "      <td>10</td>\n",
       "      <td>57</td>\n",
       "      <td>350</td>\n",
       "    </tr>\n",
       "    <tr>\n",
       "      <th>6</th>\n",
       "      <td>1000</td>\n",
       "      <td>11</td>\n",
       "      <td>43</td>\n",
       "      <td>338</td>\n",
       "    </tr>\n",
       "    <tr>\n",
       "      <th>7</th>\n",
       "      <td>1000</td>\n",
       "      <td>12</td>\n",
       "      <td>46</td>\n",
       "      <td>333</td>\n",
       "    </tr>\n",
       "    <tr>\n",
       "      <th>8</th>\n",
       "      <td>1001</td>\n",
       "      <td>11</td>\n",
       "      <td>59</td>\n",
       "      <td>430</td>\n",
       "    </tr>\n",
       "    <tr>\n",
       "      <th>9</th>\n",
       "      <td>1001</td>\n",
       "      <td>12</td>\n",
       "      <td>63</td>\n",
       "      <td>414</td>\n",
       "    </tr>\n",
       "  </tbody>\n",
       "</table>\n",
       "</div>"
      ],
      "text/plain": [
       "   user_id  month  calls_total  mins_total\n",
       "0     1000      5           22         159\n",
       "1     1000      6           43         172\n",
       "2     1000      7           47         340\n",
       "3     1000      8           52         408\n",
       "4     1000      9           58         466\n",
       "5     1000     10           57         350\n",
       "6     1000     11           43         338\n",
       "7     1000     12           46         333\n",
       "8     1001     11           59         430\n",
       "9     1001     12           63         414"
      ]
     },
     "execution_count": 209,
     "metadata": {},
     "output_type": "execute_result"
    }
   ],
   "source": [
    "user_calls.head(10)"
   ]
  },
  {
   "cell_type": "markdown",
   "metadata": {},
   "source": [
    "#### Количество отправленных сообщений по месяцам"
   ]
  },
  {
   "cell_type": "code",
   "execution_count": 210,
   "metadata": {},
   "outputs": [],
   "source": [
    "# создаём таблицу с количеством отправленных смс\n",
    "\n",
    "user_messages = messages.groupby(['user_id', 'month'])['id'].agg(['count']).reset_index()\n",
    "\n",
    "user_messages.columns = ['user_id', 'month', 'sms_total']"
   ]
  },
  {
   "cell_type": "code",
   "execution_count": 211,
   "metadata": {
    "scrolled": true
   },
   "outputs": [
    {
     "data": {
      "text/html": [
       "<div>\n",
       "<style scoped>\n",
       "    .dataframe tbody tr th:only-of-type {\n",
       "        vertical-align: middle;\n",
       "    }\n",
       "\n",
       "    .dataframe tbody tr th {\n",
       "        vertical-align: top;\n",
       "    }\n",
       "\n",
       "    .dataframe thead th {\n",
       "        text-align: right;\n",
       "    }\n",
       "</style>\n",
       "<table border=\"1\" class=\"dataframe\">\n",
       "  <thead>\n",
       "    <tr style=\"text-align: right;\">\n",
       "      <th></th>\n",
       "      <th>user_id</th>\n",
       "      <th>month</th>\n",
       "      <th>sms_total</th>\n",
       "    </tr>\n",
       "  </thead>\n",
       "  <tbody>\n",
       "    <tr>\n",
       "      <th>0</th>\n",
       "      <td>1000</td>\n",
       "      <td>5</td>\n",
       "      <td>22</td>\n",
       "    </tr>\n",
       "    <tr>\n",
       "      <th>1</th>\n",
       "      <td>1000</td>\n",
       "      <td>6</td>\n",
       "      <td>60</td>\n",
       "    </tr>\n",
       "    <tr>\n",
       "      <th>2</th>\n",
       "      <td>1000</td>\n",
       "      <td>7</td>\n",
       "      <td>75</td>\n",
       "    </tr>\n",
       "    <tr>\n",
       "      <th>3</th>\n",
       "      <td>1000</td>\n",
       "      <td>8</td>\n",
       "      <td>81</td>\n",
       "    </tr>\n",
       "    <tr>\n",
       "      <th>4</th>\n",
       "      <td>1000</td>\n",
       "      <td>9</td>\n",
       "      <td>57</td>\n",
       "    </tr>\n",
       "  </tbody>\n",
       "</table>\n",
       "</div>"
      ],
      "text/plain": [
       "   user_id  month  sms_total\n",
       "0     1000      5         22\n",
       "1     1000      6         60\n",
       "2     1000      7         75\n",
       "3     1000      8         81\n",
       "4     1000      9         57"
      ]
     },
     "execution_count": 211,
     "metadata": {},
     "output_type": "execute_result"
    }
   ],
   "source": [
    "user_messages.head()"
   ]
  },
  {
   "cell_type": "markdown",
   "metadata": {},
   "source": [
    "#### Объём израсходованного интернет-трафика по месяцам"
   ]
  },
  {
   "cell_type": "code",
   "execution_count": 212,
   "metadata": {},
   "outputs": [],
   "source": [
    "# создаём таблицу с объёмом использованного трафика\n",
    "\n",
    "user_internet = internet.groupby(['user_id', 'month'])['mb_used'].agg(['sum']).reset_index()\n",
    "\n",
    "user_internet.columns = ['user_id', 'month', 'mb_total']"
   ]
  },
  {
   "cell_type": "code",
   "execution_count": 213,
   "metadata": {
    "scrolled": true
   },
   "outputs": [
    {
     "data": {
      "text/html": [
       "<div>\n",
       "<style scoped>\n",
       "    .dataframe tbody tr th:only-of-type {\n",
       "        vertical-align: middle;\n",
       "    }\n",
       "\n",
       "    .dataframe tbody tr th {\n",
       "        vertical-align: top;\n",
       "    }\n",
       "\n",
       "    .dataframe thead th {\n",
       "        text-align: right;\n",
       "    }\n",
       "</style>\n",
       "<table border=\"1\" class=\"dataframe\">\n",
       "  <thead>\n",
       "    <tr style=\"text-align: right;\">\n",
       "      <th></th>\n",
       "      <th>user_id</th>\n",
       "      <th>month</th>\n",
       "      <th>mb_total</th>\n",
       "    </tr>\n",
       "  </thead>\n",
       "  <tbody>\n",
       "    <tr>\n",
       "      <th>0</th>\n",
       "      <td>1000</td>\n",
       "      <td>5</td>\n",
       "      <td>2253.49</td>\n",
       "    </tr>\n",
       "    <tr>\n",
       "      <th>1</th>\n",
       "      <td>1000</td>\n",
       "      <td>6</td>\n",
       "      <td>23233.77</td>\n",
       "    </tr>\n",
       "    <tr>\n",
       "      <th>2</th>\n",
       "      <td>1000</td>\n",
       "      <td>7</td>\n",
       "      <td>14003.64</td>\n",
       "    </tr>\n",
       "    <tr>\n",
       "      <th>3</th>\n",
       "      <td>1000</td>\n",
       "      <td>8</td>\n",
       "      <td>14055.93</td>\n",
       "    </tr>\n",
       "    <tr>\n",
       "      <th>4</th>\n",
       "      <td>1000</td>\n",
       "      <td>9</td>\n",
       "      <td>14568.91</td>\n",
       "    </tr>\n",
       "    <tr>\n",
       "      <th>5</th>\n",
       "      <td>1000</td>\n",
       "      <td>10</td>\n",
       "      <td>14702.49</td>\n",
       "    </tr>\n",
       "    <tr>\n",
       "      <th>6</th>\n",
       "      <td>1000</td>\n",
       "      <td>11</td>\n",
       "      <td>14756.47</td>\n",
       "    </tr>\n",
       "    <tr>\n",
       "      <th>7</th>\n",
       "      <td>1000</td>\n",
       "      <td>12</td>\n",
       "      <td>9817.61</td>\n",
       "    </tr>\n",
       "    <tr>\n",
       "      <th>8</th>\n",
       "      <td>1001</td>\n",
       "      <td>11</td>\n",
       "      <td>18429.34</td>\n",
       "    </tr>\n",
       "    <tr>\n",
       "      <th>9</th>\n",
       "      <td>1001</td>\n",
       "      <td>12</td>\n",
       "      <td>14036.66</td>\n",
       "    </tr>\n",
       "  </tbody>\n",
       "</table>\n",
       "</div>"
      ],
      "text/plain": [
       "   user_id  month  mb_total\n",
       "0     1000      5   2253.49\n",
       "1     1000      6  23233.77\n",
       "2     1000      7  14003.64\n",
       "3     1000      8  14055.93\n",
       "4     1000      9  14568.91\n",
       "5     1000     10  14702.49\n",
       "6     1000     11  14756.47\n",
       "7     1000     12   9817.61\n",
       "8     1001     11  18429.34\n",
       "9     1001     12  14036.66"
      ]
     },
     "execution_count": 213,
     "metadata": {},
     "output_type": "execute_result"
    }
   ],
   "source": [
    "user_internet.head(10)"
   ]
  },
  {
   "cell_type": "markdown",
   "metadata": {},
   "source": [
    "#### Помесячная выручка с каждого пользователя"
   ]
  },
  {
   "cell_type": "markdown",
   "metadata": {},
   "source": [
    "**Как считаем:** вычитаем бесплатный лимит из суммарного количества звонков, сообщений и интернет-трафика;  \n",
    "остаток умножаем на значение из тарифного плана;  \n",
    "прибавляем абонентскую плату, соответствующую тарифному плану.  \n",
    "\n",
    "**Не забыть:** «Мегалайн» всегда округляет секунды до минут, а мегабайты — до гигабайт. Каждый звонок округляется отдельно: даже если он длился всего 1 секунду, будет засчитан как 1 минута.\n",
    "Для веб-трафика отдельные сессии не считаются. Вместо этого общая сумма за месяц округляется в бо́льшую сторону. Если абонент использует 1025 мегабайт в этом месяце, с него возьмут плату за 2 гигабайта."
   ]
  },
  {
   "cell_type": "code",
   "execution_count": 214,
   "metadata": {},
   "outputs": [],
   "source": [
    "# соберём три новые таблицы в одну, добавляем к звонкам интернет\n",
    "\n",
    "users_details = user_calls.merge(user_internet, on=['user_id','month'], how='outer')"
   ]
  },
  {
   "cell_type": "code",
   "execution_count": 215,
   "metadata": {},
   "outputs": [
    {
     "data": {
      "text/html": [
       "<div>\n",
       "<style scoped>\n",
       "    .dataframe tbody tr th:only-of-type {\n",
       "        vertical-align: middle;\n",
       "    }\n",
       "\n",
       "    .dataframe tbody tr th {\n",
       "        vertical-align: top;\n",
       "    }\n",
       "\n",
       "    .dataframe thead th {\n",
       "        text-align: right;\n",
       "    }\n",
       "</style>\n",
       "<table border=\"1\" class=\"dataframe\">\n",
       "  <thead>\n",
       "    <tr style=\"text-align: right;\">\n",
       "      <th></th>\n",
       "      <th>user_id</th>\n",
       "      <th>month</th>\n",
       "      <th>calls_total</th>\n",
       "      <th>mins_total</th>\n",
       "      <th>mb_total</th>\n",
       "    </tr>\n",
       "  </thead>\n",
       "  <tbody>\n",
       "    <tr>\n",
       "      <th>0</th>\n",
       "      <td>1000</td>\n",
       "      <td>5</td>\n",
       "      <td>22.0</td>\n",
       "      <td>159.0</td>\n",
       "      <td>2253.49</td>\n",
       "    </tr>\n",
       "    <tr>\n",
       "      <th>1</th>\n",
       "      <td>1000</td>\n",
       "      <td>6</td>\n",
       "      <td>43.0</td>\n",
       "      <td>172.0</td>\n",
       "      <td>23233.77</td>\n",
       "    </tr>\n",
       "    <tr>\n",
       "      <th>2</th>\n",
       "      <td>1000</td>\n",
       "      <td>7</td>\n",
       "      <td>47.0</td>\n",
       "      <td>340.0</td>\n",
       "      <td>14003.64</td>\n",
       "    </tr>\n",
       "    <tr>\n",
       "      <th>3</th>\n",
       "      <td>1000</td>\n",
       "      <td>8</td>\n",
       "      <td>52.0</td>\n",
       "      <td>408.0</td>\n",
       "      <td>14055.93</td>\n",
       "    </tr>\n",
       "    <tr>\n",
       "      <th>4</th>\n",
       "      <td>1000</td>\n",
       "      <td>9</td>\n",
       "      <td>58.0</td>\n",
       "      <td>466.0</td>\n",
       "      <td>14568.91</td>\n",
       "    </tr>\n",
       "  </tbody>\n",
       "</table>\n",
       "</div>"
      ],
      "text/plain": [
       "   user_id  month  calls_total  mins_total  mb_total\n",
       "0     1000      5         22.0       159.0   2253.49\n",
       "1     1000      6         43.0       172.0  23233.77\n",
       "2     1000      7         47.0       340.0  14003.64\n",
       "3     1000      8         52.0       408.0  14055.93\n",
       "4     1000      9         58.0       466.0  14568.91"
      ]
     },
     "execution_count": 215,
     "metadata": {},
     "output_type": "execute_result"
    }
   ],
   "source": [
    "users_details.head()"
   ]
  },
  {
   "cell_type": "code",
   "execution_count": 216,
   "metadata": {},
   "outputs": [],
   "source": [
    "# добавляем сообщения\n",
    "\n",
    "users_details = users_details.merge(user_messages, on=['user_id','month'], how='outer')"
   ]
  },
  {
   "cell_type": "code",
   "execution_count": 217,
   "metadata": {
    "scrolled": true
   },
   "outputs": [
    {
     "data": {
      "text/html": [
       "<div>\n",
       "<style scoped>\n",
       "    .dataframe tbody tr th:only-of-type {\n",
       "        vertical-align: middle;\n",
       "    }\n",
       "\n",
       "    .dataframe tbody tr th {\n",
       "        vertical-align: top;\n",
       "    }\n",
       "\n",
       "    .dataframe thead th {\n",
       "        text-align: right;\n",
       "    }\n",
       "</style>\n",
       "<table border=\"1\" class=\"dataframe\">\n",
       "  <thead>\n",
       "    <tr style=\"text-align: right;\">\n",
       "      <th></th>\n",
       "      <th>user_id</th>\n",
       "      <th>month</th>\n",
       "      <th>calls_total</th>\n",
       "      <th>mins_total</th>\n",
       "      <th>mb_total</th>\n",
       "      <th>sms_total</th>\n",
       "    </tr>\n",
       "  </thead>\n",
       "  <tbody>\n",
       "    <tr>\n",
       "      <th>0</th>\n",
       "      <td>1000</td>\n",
       "      <td>5</td>\n",
       "      <td>22.0</td>\n",
       "      <td>159.0</td>\n",
       "      <td>2253.49</td>\n",
       "      <td>22.0</td>\n",
       "    </tr>\n",
       "    <tr>\n",
       "      <th>1</th>\n",
       "      <td>1000</td>\n",
       "      <td>6</td>\n",
       "      <td>43.0</td>\n",
       "      <td>172.0</td>\n",
       "      <td>23233.77</td>\n",
       "      <td>60.0</td>\n",
       "    </tr>\n",
       "    <tr>\n",
       "      <th>2</th>\n",
       "      <td>1000</td>\n",
       "      <td>7</td>\n",
       "      <td>47.0</td>\n",
       "      <td>340.0</td>\n",
       "      <td>14003.64</td>\n",
       "      <td>75.0</td>\n",
       "    </tr>\n",
       "    <tr>\n",
       "      <th>3</th>\n",
       "      <td>1000</td>\n",
       "      <td>8</td>\n",
       "      <td>52.0</td>\n",
       "      <td>408.0</td>\n",
       "      <td>14055.93</td>\n",
       "      <td>81.0</td>\n",
       "    </tr>\n",
       "    <tr>\n",
       "      <th>4</th>\n",
       "      <td>1000</td>\n",
       "      <td>9</td>\n",
       "      <td>58.0</td>\n",
       "      <td>466.0</td>\n",
       "      <td>14568.91</td>\n",
       "      <td>57.0</td>\n",
       "    </tr>\n",
       "  </tbody>\n",
       "</table>\n",
       "</div>"
      ],
      "text/plain": [
       "   user_id  month  calls_total  mins_total  mb_total  sms_total\n",
       "0     1000      5         22.0       159.0   2253.49       22.0\n",
       "1     1000      6         43.0       172.0  23233.77       60.0\n",
       "2     1000      7         47.0       340.0  14003.64       75.0\n",
       "3     1000      8         52.0       408.0  14055.93       81.0\n",
       "4     1000      9         58.0       466.0  14568.91       57.0"
      ]
     },
     "execution_count": 217,
     "metadata": {},
     "output_type": "execute_result"
    }
   ],
   "source": [
    "users_details.head()"
   ]
  },
  {
   "cell_type": "code",
   "execution_count": 218,
   "metadata": {},
   "outputs": [],
   "source": [
    "# и добавим информацию о пользователях\n",
    "\n",
    "users_details = users_details.merge(users, on='user_id', how='outer')"
   ]
  },
  {
   "cell_type": "code",
   "execution_count": 219,
   "metadata": {
    "scrolled": false
   },
   "outputs": [
    {
     "data": {
      "text/html": [
       "<div>\n",
       "<style scoped>\n",
       "    .dataframe tbody tr th:only-of-type {\n",
       "        vertical-align: middle;\n",
       "    }\n",
       "\n",
       "    .dataframe tbody tr th {\n",
       "        vertical-align: top;\n",
       "    }\n",
       "\n",
       "    .dataframe thead th {\n",
       "        text-align: right;\n",
       "    }\n",
       "</style>\n",
       "<table border=\"1\" class=\"dataframe\">\n",
       "  <thead>\n",
       "    <tr style=\"text-align: right;\">\n",
       "      <th></th>\n",
       "      <th>user_id</th>\n",
       "      <th>month</th>\n",
       "      <th>calls_total</th>\n",
       "      <th>mins_total</th>\n",
       "      <th>mb_total</th>\n",
       "      <th>sms_total</th>\n",
       "      <th>age</th>\n",
       "      <th>churn_date</th>\n",
       "      <th>city</th>\n",
       "      <th>first_name</th>\n",
       "      <th>last_name</th>\n",
       "      <th>reg_date</th>\n",
       "      <th>tariff</th>\n",
       "    </tr>\n",
       "  </thead>\n",
       "  <tbody>\n",
       "    <tr>\n",
       "      <th>0</th>\n",
       "      <td>1000</td>\n",
       "      <td>5.0</td>\n",
       "      <td>22.0</td>\n",
       "      <td>159.0</td>\n",
       "      <td>2253.49</td>\n",
       "      <td>22.0</td>\n",
       "      <td>52</td>\n",
       "      <td>NaT</td>\n",
       "      <td>Краснодар</td>\n",
       "      <td>Рафаил</td>\n",
       "      <td>Верещагин</td>\n",
       "      <td>2018-05-25</td>\n",
       "      <td>ultra</td>\n",
       "    </tr>\n",
       "    <tr>\n",
       "      <th>1</th>\n",
       "      <td>1000</td>\n",
       "      <td>6.0</td>\n",
       "      <td>43.0</td>\n",
       "      <td>172.0</td>\n",
       "      <td>23233.77</td>\n",
       "      <td>60.0</td>\n",
       "      <td>52</td>\n",
       "      <td>NaT</td>\n",
       "      <td>Краснодар</td>\n",
       "      <td>Рафаил</td>\n",
       "      <td>Верещагин</td>\n",
       "      <td>2018-05-25</td>\n",
       "      <td>ultra</td>\n",
       "    </tr>\n",
       "    <tr>\n",
       "      <th>2</th>\n",
       "      <td>1000</td>\n",
       "      <td>7.0</td>\n",
       "      <td>47.0</td>\n",
       "      <td>340.0</td>\n",
       "      <td>14003.64</td>\n",
       "      <td>75.0</td>\n",
       "      <td>52</td>\n",
       "      <td>NaT</td>\n",
       "      <td>Краснодар</td>\n",
       "      <td>Рафаил</td>\n",
       "      <td>Верещагин</td>\n",
       "      <td>2018-05-25</td>\n",
       "      <td>ultra</td>\n",
       "    </tr>\n",
       "    <tr>\n",
       "      <th>3</th>\n",
       "      <td>1000</td>\n",
       "      <td>8.0</td>\n",
       "      <td>52.0</td>\n",
       "      <td>408.0</td>\n",
       "      <td>14055.93</td>\n",
       "      <td>81.0</td>\n",
       "      <td>52</td>\n",
       "      <td>NaT</td>\n",
       "      <td>Краснодар</td>\n",
       "      <td>Рафаил</td>\n",
       "      <td>Верещагин</td>\n",
       "      <td>2018-05-25</td>\n",
       "      <td>ultra</td>\n",
       "    </tr>\n",
       "    <tr>\n",
       "      <th>4</th>\n",
       "      <td>1000</td>\n",
       "      <td>9.0</td>\n",
       "      <td>58.0</td>\n",
       "      <td>466.0</td>\n",
       "      <td>14568.91</td>\n",
       "      <td>57.0</td>\n",
       "      <td>52</td>\n",
       "      <td>NaT</td>\n",
       "      <td>Краснодар</td>\n",
       "      <td>Рафаил</td>\n",
       "      <td>Верещагин</td>\n",
       "      <td>2018-05-25</td>\n",
       "      <td>ultra</td>\n",
       "    </tr>\n",
       "  </tbody>\n",
       "</table>\n",
       "</div>"
      ],
      "text/plain": [
       "   user_id  month  calls_total  mins_total  mb_total  sms_total  age  \\\n",
       "0     1000    5.0         22.0       159.0   2253.49       22.0   52   \n",
       "1     1000    6.0         43.0       172.0  23233.77       60.0   52   \n",
       "2     1000    7.0         47.0       340.0  14003.64       75.0   52   \n",
       "3     1000    8.0         52.0       408.0  14055.93       81.0   52   \n",
       "4     1000    9.0         58.0       466.0  14568.91       57.0   52   \n",
       "\n",
       "  churn_date       city first_name  last_name   reg_date tariff  \n",
       "0        NaT  Краснодар     Рафаил  Верещагин 2018-05-25  ultra  \n",
       "1        NaT  Краснодар     Рафаил  Верещагин 2018-05-25  ultra  \n",
       "2        NaT  Краснодар     Рафаил  Верещагин 2018-05-25  ultra  \n",
       "3        NaT  Краснодар     Рафаил  Верещагин 2018-05-25  ultra  \n",
       "4        NaT  Краснодар     Рафаил  Верещагин 2018-05-25  ultra  "
      ]
     },
     "execution_count": 219,
     "metadata": {},
     "output_type": "execute_result"
    }
   ],
   "source": [
    "users_details.head()"
   ]
  },
  {
   "cell_type": "code",
   "execution_count": 220,
   "metadata": {
    "scrolled": true
   },
   "outputs": [
    {
     "name": "stdout",
     "output_type": "stream",
     "text": [
      "<class 'pandas.core.frame.DataFrame'>\n",
      "Int64Index: 3216 entries, 0 to 3215\n",
      "Data columns (total 13 columns):\n",
      " #   Column       Non-Null Count  Dtype         \n",
      "---  ------       --------------  -----         \n",
      " 0   user_id      3216 non-null   int64         \n",
      " 1   month        3214 non-null   float64       \n",
      " 2   calls_total  3174 non-null   float64       \n",
      " 3   mins_total   3174 non-null   float64       \n",
      " 4   mb_total     3203 non-null   float64       \n",
      " 5   sms_total    2717 non-null   float64       \n",
      " 6   age          3216 non-null   int64         \n",
      " 7   churn_date   189 non-null    datetime64[ns]\n",
      " 8   city         3216 non-null   object        \n",
      " 9   first_name   3216 non-null   object        \n",
      " 10  last_name    3216 non-null   object        \n",
      " 11  reg_date     3216 non-null   datetime64[ns]\n",
      " 12  tariff       3216 non-null   object        \n",
      "dtypes: datetime64[ns](2), float64(5), int64(2), object(4)\n",
      "memory usage: 351.8+ KB\n"
     ]
    }
   ],
   "source": [
    "# общий взгляд\n",
    "\n",
    "users_details.info()"
   ]
  },
  {
   "cell_type": "code",
   "execution_count": 221,
   "metadata": {},
   "outputs": [
    {
     "data": {
      "text/plain": [
       "500"
      ]
     },
     "execution_count": 221,
     "metadata": {},
     "output_type": "execute_result"
    }
   ],
   "source": [
    "# у нас изначальные данные по 500 юзерам, проверим, все ли на месте\n",
    "\n",
    "users_details['user_id'].nunique()"
   ]
  },
  {
   "cell_type": "code",
   "execution_count": 222,
   "metadata": {
    "scrolled": false
   },
   "outputs": [
    {
     "data": {
      "text/plain": [
       "user_id           0\n",
       "month             2\n",
       "calls_total      42\n",
       "mins_total       42\n",
       "mb_total         13\n",
       "sms_total       499\n",
       "age               0\n",
       "churn_date     3027\n",
       "city              0\n",
       "first_name        0\n",
       "last_name         0\n",
       "reg_date          0\n",
       "tariff            0\n",
       "dtype: int64"
      ]
     },
     "execution_count": 222,
     "metadata": {},
     "output_type": "execute_result"
    }
   ],
   "source": [
    "# есть пропуски, посчитаем\n",
    "\n",
    "users_details.isna().sum()"
   ]
  },
  {
   "cell_type": "markdown",
   "metadata": {},
   "source": [
    "Пропуски нужно заполнить, в данном случае логично нулями (не совершал звонки, не писал смс, не пользовался интернетом - это ноль), чтобы потом можно было производить расчёты.  \n",
    "\n",
    "Видим, что есть довольно **странная вещь**, два пропуска в `month`, хотя их там быть не должно. Посмотрим на эти строки."
   ]
  },
  {
   "cell_type": "code",
   "execution_count": 223,
   "metadata": {},
   "outputs": [
    {
     "data": {
      "text/html": [
       "<div>\n",
       "<style scoped>\n",
       "    .dataframe tbody tr th:only-of-type {\n",
       "        vertical-align: middle;\n",
       "    }\n",
       "\n",
       "    .dataframe tbody tr th {\n",
       "        vertical-align: top;\n",
       "    }\n",
       "\n",
       "    .dataframe thead th {\n",
       "        text-align: right;\n",
       "    }\n",
       "</style>\n",
       "<table border=\"1\" class=\"dataframe\">\n",
       "  <thead>\n",
       "    <tr style=\"text-align: right;\">\n",
       "      <th></th>\n",
       "      <th>user_id</th>\n",
       "      <th>month</th>\n",
       "      <th>calls_total</th>\n",
       "      <th>mins_total</th>\n",
       "      <th>mb_total</th>\n",
       "      <th>sms_total</th>\n",
       "      <th>age</th>\n",
       "      <th>churn_date</th>\n",
       "      <th>city</th>\n",
       "      <th>first_name</th>\n",
       "      <th>last_name</th>\n",
       "      <th>reg_date</th>\n",
       "      <th>tariff</th>\n",
       "    </tr>\n",
       "  </thead>\n",
       "  <tbody>\n",
       "    <tr>\n",
       "      <th>3214</th>\n",
       "      <td>1128</td>\n",
       "      <td>NaN</td>\n",
       "      <td>NaN</td>\n",
       "      <td>NaN</td>\n",
       "      <td>NaN</td>\n",
       "      <td>NaN</td>\n",
       "      <td>51</td>\n",
       "      <td>2018-12-23</td>\n",
       "      <td>Волжский</td>\n",
       "      <td>Ксения</td>\n",
       "      <td>Агаева</td>\n",
       "      <td>2018-12-15</td>\n",
       "      <td>ultra</td>\n",
       "    </tr>\n",
       "    <tr>\n",
       "      <th>3215</th>\n",
       "      <td>1371</td>\n",
       "      <td>NaN</td>\n",
       "      <td>NaN</td>\n",
       "      <td>NaN</td>\n",
       "      <td>NaN</td>\n",
       "      <td>NaN</td>\n",
       "      <td>50</td>\n",
       "      <td>2018-12-30</td>\n",
       "      <td>Омск</td>\n",
       "      <td>Ириней</td>\n",
       "      <td>Трофимов</td>\n",
       "      <td>2018-12-25</td>\n",
       "      <td>smart</td>\n",
       "    </tr>\n",
       "  </tbody>\n",
       "</table>\n",
       "</div>"
      ],
      "text/plain": [
       "      user_id  month  calls_total  mins_total  mb_total  sms_total  age  \\\n",
       "3214     1128    NaN          NaN         NaN       NaN        NaN   51   \n",
       "3215     1371    NaN          NaN         NaN       NaN        NaN   50   \n",
       "\n",
       "     churn_date      city first_name last_name   reg_date tariff  \n",
       "3214 2018-12-23  Волжский     Ксения    Агаева 2018-12-15  ultra  \n",
       "3215 2018-12-30      Омск     Ириней  Трофимов 2018-12-25  smart  "
      ]
     },
     "execution_count": 223,
     "metadata": {},
     "output_type": "execute_result"
    }
   ],
   "source": [
    "users_details[users_details['month'].isna()]"
   ]
  },
  {
   "cell_type": "markdown",
   "metadata": {},
   "source": [
    "Два пользователя:  \n",
    "- 1128 подключился 15 декабря, отключился 23го,\n",
    "- 1371 подключился 25 декабря, отключился 30го.\n",
    "\n",
    "Возрасты почти идентичны, 50 и 51 год, возможно, это были какие-то подарки (конец декабря, всё-таки), оказавшиеся ненужными.  \n",
    "Заменим в этих случаях пропуски декабрём, т.к. будем считать, что с этих номеров списали абонентскую плату за декабрь."
   ]
  },
  {
   "cell_type": "code",
   "execution_count": 224,
   "metadata": {},
   "outputs": [],
   "source": [
    "users_details['month'] = users_details['month'].fillna(12)"
   ]
  },
  {
   "cell_type": "code",
   "execution_count": 225,
   "metadata": {},
   "outputs": [
    {
     "data": {
      "text/plain": [
       "user_id           0\n",
       "month             0\n",
       "calls_total      42\n",
       "mins_total       42\n",
       "mb_total         13\n",
       "sms_total       499\n",
       "age               0\n",
       "churn_date     3027\n",
       "city              0\n",
       "first_name        0\n",
       "last_name         0\n",
       "reg_date          0\n",
       "tariff            0\n",
       "dtype: int64"
      ]
     },
     "execution_count": 225,
     "metadata": {},
     "output_type": "execute_result"
    }
   ],
   "source": [
    "# проверка\n",
    "\n",
    "users_details.isna().sum()"
   ]
  },
  {
   "cell_type": "markdown",
   "metadata": {},
   "source": [
    "Пропуски в `month` заполнены, остальные заполняем нулями, как было описано выше.  \n",
    "А столбец `churn_date` нам для работы не нужен, удалим."
   ]
  },
  {
   "cell_type": "code",
   "execution_count": 226,
   "metadata": {},
   "outputs": [],
   "source": [
    "users_details = users_details.drop(['churn_date'], axis=1)"
   ]
  },
  {
   "cell_type": "code",
   "execution_count": 227,
   "metadata": {},
   "outputs": [],
   "source": [
    "users_details = users_details.fillna(0)"
   ]
  },
  {
   "cell_type": "code",
   "execution_count": 228,
   "metadata": {},
   "outputs": [
    {
     "name": "stdout",
     "output_type": "stream",
     "text": [
      "<class 'pandas.core.frame.DataFrame'>\n",
      "Int64Index: 3216 entries, 0 to 3215\n",
      "Data columns (total 12 columns):\n",
      " #   Column       Non-Null Count  Dtype         \n",
      "---  ------       --------------  -----         \n",
      " 0   user_id      3216 non-null   int64         \n",
      " 1   month        3216 non-null   float64       \n",
      " 2   calls_total  3216 non-null   float64       \n",
      " 3   mins_total   3216 non-null   float64       \n",
      " 4   mb_total     3216 non-null   float64       \n",
      " 5   sms_total    3216 non-null   float64       \n",
      " 6   age          3216 non-null   int64         \n",
      " 7   city         3216 non-null   object        \n",
      " 8   first_name   3216 non-null   object        \n",
      " 9   last_name    3216 non-null   object        \n",
      " 10  reg_date     3216 non-null   datetime64[ns]\n",
      " 11  tariff       3216 non-null   object        \n",
      "dtypes: datetime64[ns](1), float64(5), int64(2), object(4)\n",
      "memory usage: 326.6+ KB\n"
     ]
    }
   ],
   "source": [
    "# проверка\n",
    "\n",
    "users_details.info()"
   ]
  },
  {
   "cell_type": "code",
   "execution_count": 229,
   "metadata": {},
   "outputs": [
    {
     "data": {
      "text/html": [
       "<div>\n",
       "<style scoped>\n",
       "    .dataframe tbody tr th:only-of-type {\n",
       "        vertical-align: middle;\n",
       "    }\n",
       "\n",
       "    .dataframe tbody tr th {\n",
       "        vertical-align: top;\n",
       "    }\n",
       "\n",
       "    .dataframe thead th {\n",
       "        text-align: right;\n",
       "    }\n",
       "</style>\n",
       "<table border=\"1\" class=\"dataframe\">\n",
       "  <thead>\n",
       "    <tr style=\"text-align: right;\">\n",
       "      <th></th>\n",
       "      <th>user_id</th>\n",
       "      <th>month</th>\n",
       "      <th>calls_total</th>\n",
       "      <th>mins_total</th>\n",
       "      <th>mb_total</th>\n",
       "      <th>sms_total</th>\n",
       "      <th>age</th>\n",
       "      <th>city</th>\n",
       "      <th>first_name</th>\n",
       "      <th>last_name</th>\n",
       "      <th>reg_date</th>\n",
       "      <th>tariff</th>\n",
       "    </tr>\n",
       "  </thead>\n",
       "  <tbody>\n",
       "    <tr>\n",
       "      <th>0</th>\n",
       "      <td>1000</td>\n",
       "      <td>5.0</td>\n",
       "      <td>22.0</td>\n",
       "      <td>159.0</td>\n",
       "      <td>2253.49</td>\n",
       "      <td>22.0</td>\n",
       "      <td>52</td>\n",
       "      <td>Краснодар</td>\n",
       "      <td>Рафаил</td>\n",
       "      <td>Верещагин</td>\n",
       "      <td>2018-05-25</td>\n",
       "      <td>ultra</td>\n",
       "    </tr>\n",
       "    <tr>\n",
       "      <th>1</th>\n",
       "      <td>1000</td>\n",
       "      <td>6.0</td>\n",
       "      <td>43.0</td>\n",
       "      <td>172.0</td>\n",
       "      <td>23233.77</td>\n",
       "      <td>60.0</td>\n",
       "      <td>52</td>\n",
       "      <td>Краснодар</td>\n",
       "      <td>Рафаил</td>\n",
       "      <td>Верещагин</td>\n",
       "      <td>2018-05-25</td>\n",
       "      <td>ultra</td>\n",
       "    </tr>\n",
       "    <tr>\n",
       "      <th>2</th>\n",
       "      <td>1000</td>\n",
       "      <td>7.0</td>\n",
       "      <td>47.0</td>\n",
       "      <td>340.0</td>\n",
       "      <td>14003.64</td>\n",
       "      <td>75.0</td>\n",
       "      <td>52</td>\n",
       "      <td>Краснодар</td>\n",
       "      <td>Рафаил</td>\n",
       "      <td>Верещагин</td>\n",
       "      <td>2018-05-25</td>\n",
       "      <td>ultra</td>\n",
       "    </tr>\n",
       "    <tr>\n",
       "      <th>3</th>\n",
       "      <td>1000</td>\n",
       "      <td>8.0</td>\n",
       "      <td>52.0</td>\n",
       "      <td>408.0</td>\n",
       "      <td>14055.93</td>\n",
       "      <td>81.0</td>\n",
       "      <td>52</td>\n",
       "      <td>Краснодар</td>\n",
       "      <td>Рафаил</td>\n",
       "      <td>Верещагин</td>\n",
       "      <td>2018-05-25</td>\n",
       "      <td>ultra</td>\n",
       "    </tr>\n",
       "    <tr>\n",
       "      <th>4</th>\n",
       "      <td>1000</td>\n",
       "      <td>9.0</td>\n",
       "      <td>58.0</td>\n",
       "      <td>466.0</td>\n",
       "      <td>14568.91</td>\n",
       "      <td>57.0</td>\n",
       "      <td>52</td>\n",
       "      <td>Краснодар</td>\n",
       "      <td>Рафаил</td>\n",
       "      <td>Верещагин</td>\n",
       "      <td>2018-05-25</td>\n",
       "      <td>ultra</td>\n",
       "    </tr>\n",
       "  </tbody>\n",
       "</table>\n",
       "</div>"
      ],
      "text/plain": [
       "   user_id  month  calls_total  mins_total  mb_total  sms_total  age  \\\n",
       "0     1000    5.0         22.0       159.0   2253.49       22.0   52   \n",
       "1     1000    6.0         43.0       172.0  23233.77       60.0   52   \n",
       "2     1000    7.0         47.0       340.0  14003.64       75.0   52   \n",
       "3     1000    8.0         52.0       408.0  14055.93       81.0   52   \n",
       "4     1000    9.0         58.0       466.0  14568.91       57.0   52   \n",
       "\n",
       "        city first_name  last_name   reg_date tariff  \n",
       "0  Краснодар     Рафаил  Верещагин 2018-05-25  ultra  \n",
       "1  Краснодар     Рафаил  Верещагин 2018-05-25  ultra  \n",
       "2  Краснодар     Рафаил  Верещагин 2018-05-25  ultra  \n",
       "3  Краснодар     Рафаил  Верещагин 2018-05-25  ultra  \n",
       "4  Краснодар     Рафаил  Верещагин 2018-05-25  ultra  "
      ]
     },
     "execution_count": 229,
     "metadata": {},
     "output_type": "execute_result"
    }
   ],
   "source": [
    "users_details.head()"
   ]
  },
  {
   "cell_type": "code",
   "execution_count": 231,
   "metadata": {},
   "outputs": [],
   "source": [
    "users_details['gb_total'] = np.ceil(users_details['mb_total'] / 1024).astype('int')"
   ]
  },
  {
   "cell_type": "code",
   "execution_count": 232,
   "metadata": {},
   "outputs": [
    {
     "data": {
      "text/html": [
       "<div>\n",
       "<style scoped>\n",
       "    .dataframe tbody tr th:only-of-type {\n",
       "        vertical-align: middle;\n",
       "    }\n",
       "\n",
       "    .dataframe tbody tr th {\n",
       "        vertical-align: top;\n",
       "    }\n",
       "\n",
       "    .dataframe thead th {\n",
       "        text-align: right;\n",
       "    }\n",
       "</style>\n",
       "<table border=\"1\" class=\"dataframe\">\n",
       "  <thead>\n",
       "    <tr style=\"text-align: right;\">\n",
       "      <th></th>\n",
       "      <th>user_id</th>\n",
       "      <th>month</th>\n",
       "      <th>calls_total</th>\n",
       "      <th>mins_total</th>\n",
       "      <th>mb_total</th>\n",
       "      <th>sms_total</th>\n",
       "      <th>age</th>\n",
       "      <th>city</th>\n",
       "      <th>first_name</th>\n",
       "      <th>last_name</th>\n",
       "      <th>reg_date</th>\n",
       "      <th>tariff</th>\n",
       "      <th>gb_total</th>\n",
       "    </tr>\n",
       "  </thead>\n",
       "  <tbody>\n",
       "    <tr>\n",
       "      <th>0</th>\n",
       "      <td>1000</td>\n",
       "      <td>5.0</td>\n",
       "      <td>22.0</td>\n",
       "      <td>159.0</td>\n",
       "      <td>2253.49</td>\n",
       "      <td>22.0</td>\n",
       "      <td>52</td>\n",
       "      <td>Краснодар</td>\n",
       "      <td>Рафаил</td>\n",
       "      <td>Верещагин</td>\n",
       "      <td>2018-05-25</td>\n",
       "      <td>ultra</td>\n",
       "      <td>3</td>\n",
       "    </tr>\n",
       "    <tr>\n",
       "      <th>1</th>\n",
       "      <td>1000</td>\n",
       "      <td>6.0</td>\n",
       "      <td>43.0</td>\n",
       "      <td>172.0</td>\n",
       "      <td>23233.77</td>\n",
       "      <td>60.0</td>\n",
       "      <td>52</td>\n",
       "      <td>Краснодар</td>\n",
       "      <td>Рафаил</td>\n",
       "      <td>Верещагин</td>\n",
       "      <td>2018-05-25</td>\n",
       "      <td>ultra</td>\n",
       "      <td>23</td>\n",
       "    </tr>\n",
       "    <tr>\n",
       "      <th>2</th>\n",
       "      <td>1000</td>\n",
       "      <td>7.0</td>\n",
       "      <td>47.0</td>\n",
       "      <td>340.0</td>\n",
       "      <td>14003.64</td>\n",
       "      <td>75.0</td>\n",
       "      <td>52</td>\n",
       "      <td>Краснодар</td>\n",
       "      <td>Рафаил</td>\n",
       "      <td>Верещагин</td>\n",
       "      <td>2018-05-25</td>\n",
       "      <td>ultra</td>\n",
       "      <td>14</td>\n",
       "    </tr>\n",
       "    <tr>\n",
       "      <th>3</th>\n",
       "      <td>1000</td>\n",
       "      <td>8.0</td>\n",
       "      <td>52.0</td>\n",
       "      <td>408.0</td>\n",
       "      <td>14055.93</td>\n",
       "      <td>81.0</td>\n",
       "      <td>52</td>\n",
       "      <td>Краснодар</td>\n",
       "      <td>Рафаил</td>\n",
       "      <td>Верещагин</td>\n",
       "      <td>2018-05-25</td>\n",
       "      <td>ultra</td>\n",
       "      <td>14</td>\n",
       "    </tr>\n",
       "    <tr>\n",
       "      <th>4</th>\n",
       "      <td>1000</td>\n",
       "      <td>9.0</td>\n",
       "      <td>58.0</td>\n",
       "      <td>466.0</td>\n",
       "      <td>14568.91</td>\n",
       "      <td>57.0</td>\n",
       "      <td>52</td>\n",
       "      <td>Краснодар</td>\n",
       "      <td>Рафаил</td>\n",
       "      <td>Верещагин</td>\n",
       "      <td>2018-05-25</td>\n",
       "      <td>ultra</td>\n",
       "      <td>15</td>\n",
       "    </tr>\n",
       "  </tbody>\n",
       "</table>\n",
       "</div>"
      ],
      "text/plain": [
       "   user_id  month  calls_total  mins_total  mb_total  sms_total  age  \\\n",
       "0     1000    5.0         22.0       159.0   2253.49       22.0   52   \n",
       "1     1000    6.0         43.0       172.0  23233.77       60.0   52   \n",
       "2     1000    7.0         47.0       340.0  14003.64       75.0   52   \n",
       "3     1000    8.0         52.0       408.0  14055.93       81.0   52   \n",
       "4     1000    9.0         58.0       466.0  14568.91       57.0   52   \n",
       "\n",
       "        city first_name  last_name   reg_date tariff  gb_total  \n",
       "0  Краснодар     Рафаил  Верещагин 2018-05-25  ultra         3  \n",
       "1  Краснодар     Рафаил  Верещагин 2018-05-25  ultra        23  \n",
       "2  Краснодар     Рафаил  Верещагин 2018-05-25  ultra        14  \n",
       "3  Краснодар     Рафаил  Верещагин 2018-05-25  ultra        14  \n",
       "4  Краснодар     Рафаил  Верещагин 2018-05-25  ultra        15  "
      ]
     },
     "execution_count": 232,
     "metadata": {},
     "output_type": "execute_result"
    }
   ],
   "source": [
    "users_details.head()"
   ]
  },
  {
   "cell_type": "code",
   "execution_count": 233,
   "metadata": {},
   "outputs": [
    {
     "data": {
      "text/plain": [
       "user_id                 int64\n",
       "month                 float64\n",
       "calls_total           float64\n",
       "mins_total            float64\n",
       "mb_total              float64\n",
       "sms_total             float64\n",
       "age                     int64\n",
       "city                   object\n",
       "first_name             object\n",
       "last_name              object\n",
       "reg_date       datetime64[ns]\n",
       "tariff                 object\n",
       "gb_total                int32\n",
       "dtype: object"
      ]
     },
     "execution_count": 233,
     "metadata": {},
     "output_type": "execute_result"
    }
   ],
   "source": [
    "# перед расчётами проверим типы данных\n",
    "\n",
    "users_details.dtypes"
   ]
  },
  {
   "cell_type": "code",
   "execution_count": 234,
   "metadata": {},
   "outputs": [],
   "source": [
    "# изменим тип у четырёх столбцов\n",
    "\n",
    "users_details[['calls_total',\n",
    "              'mb_total',\n",
    "              'sms_total',\n",
    "              'mins_total']] = users_details[['calls_total',\n",
    "                                                 'mb_total',\n",
    "                                                 'sms_total',\n",
    "                                                 'mins_total']].astype('int')"
   ]
  },
  {
   "cell_type": "code",
   "execution_count": 235,
   "metadata": {},
   "outputs": [
    {
     "data": {
      "text/plain": [
       "user_id                 int64\n",
       "month                 float64\n",
       "calls_total             int32\n",
       "mins_total              int32\n",
       "mb_total                int32\n",
       "sms_total               int32\n",
       "age                     int64\n",
       "city                   object\n",
       "first_name             object\n",
       "last_name              object\n",
       "reg_date       datetime64[ns]\n",
       "tariff                 object\n",
       "gb_total                int32\n",
       "dtype: object"
      ]
     },
     "execution_count": 235,
     "metadata": {},
     "output_type": "execute_result"
    }
   ],
   "source": [
    "# проверка\n",
    "\n",
    "users_details.dtypes"
   ]
  },
  {
   "cell_type": "markdown",
   "metadata": {},
   "source": [
    "Теперь можно приступить к собственно расчёту выручки с каждого пользователя.  \n",
    "Напишем функцию, которая будет считать помесячную выручку по указанной схеме:\n",
    "- вычитает бесплатный лимит из суммарного количества звонков, сообщений и интернет-трафика;\n",
    "- остаток умножает на значение из тарифного плана;\n",
    "- прибавляет абонентскую плату, соответствующую тарифному плану.  \n",
    "\n",
    "Для наглядности выводим таблицу тарифов, функция берёт из неё значения по индексам.  \n",
    "\n",
    "Как я думаю, получилось неплохое решение, в случае изменения цен и лимитов в тарифах не придётся вносить изменения в саму функцию, достаточно будет внести правки в таблицу."
   ]
  },
  {
   "cell_type": "code",
   "execution_count": 236,
   "metadata": {
    "scrolled": true
   },
   "outputs": [
    {
     "data": {
      "text/html": [
       "<div>\n",
       "<style scoped>\n",
       "    .dataframe tbody tr th:only-of-type {\n",
       "        vertical-align: middle;\n",
       "    }\n",
       "\n",
       "    .dataframe tbody tr th {\n",
       "        vertical-align: top;\n",
       "    }\n",
       "\n",
       "    .dataframe thead th {\n",
       "        text-align: right;\n",
       "    }\n",
       "</style>\n",
       "<table border=\"1\" class=\"dataframe\">\n",
       "  <thead>\n",
       "    <tr style=\"text-align: right;\">\n",
       "      <th></th>\n",
       "      <th>messages_included</th>\n",
       "      <th>mb_per_month_included</th>\n",
       "      <th>minutes_included</th>\n",
       "      <th>rub_monthly_fee</th>\n",
       "      <th>rub_per_gb</th>\n",
       "      <th>rub_per_message</th>\n",
       "      <th>rub_per_minute</th>\n",
       "      <th>tariff_name</th>\n",
       "    </tr>\n",
       "  </thead>\n",
       "  <tbody>\n",
       "    <tr>\n",
       "      <th>0</th>\n",
       "      <td>50</td>\n",
       "      <td>15360</td>\n",
       "      <td>500</td>\n",
       "      <td>550</td>\n",
       "      <td>200</td>\n",
       "      <td>3</td>\n",
       "      <td>3</td>\n",
       "      <td>smart</td>\n",
       "    </tr>\n",
       "    <tr>\n",
       "      <th>1</th>\n",
       "      <td>1000</td>\n",
       "      <td>30720</td>\n",
       "      <td>3000</td>\n",
       "      <td>1950</td>\n",
       "      <td>150</td>\n",
       "      <td>1</td>\n",
       "      <td>1</td>\n",
       "      <td>ultra</td>\n",
       "    </tr>\n",
       "  </tbody>\n",
       "</table>\n",
       "</div>"
      ],
      "text/plain": [
       "   messages_included  mb_per_month_included  minutes_included  \\\n",
       "0                 50                  15360               500   \n",
       "1               1000                  30720              3000   \n",
       "\n",
       "   rub_monthly_fee  rub_per_gb  rub_per_message  rub_per_minute tariff_name  \n",
       "0              550         200                3               3       smart  \n",
       "1             1950         150                1               1       ultra  "
      ]
     },
     "execution_count": 236,
     "metadata": {},
     "output_type": "execute_result"
    }
   ],
   "source": [
    "# вешаем для удобства перед глазами\n",
    "\n",
    "tariffs"
   ]
  },
  {
   "cell_type": "code",
   "execution_count": 237,
   "metadata": {},
   "outputs": [],
   "source": [
    "def incomes(users_details):\n",
    "    \n",
    "    mins = users_details['mins_total']\n",
    "    mess = users_details['sms_total']\n",
    "    gb = users_details['gb_total']\n",
    "    tariff = users_details['tariff']\n",
    "    \n",
    "    if tariff == 'smart':\n",
    "        \n",
    "        if mins > tariffs['minutes_included'][0]:            \n",
    "            min_income = (mins - tariffs['minutes_included'][0]) * tariffs['rub_per_minute'][0]          \n",
    "        else:\n",
    "            min_income = 0\n",
    "            \n",
    "        if mess > tariffs['messages_included'][0]:\n",
    "            mess_income = (mess - tariffs['messages_included'][0]) * tariffs['rub_per_message'][0]\n",
    "        else:\n",
    "            mess_income = 0\n",
    "            \n",
    "        if gb > (tariffs['mb_per_month_included'][0] / 1024).astype('int'):\n",
    "            gb_income = (gb - (tariffs['mb_per_month_included'][0] / 1024).astype('int')) * tariffs['rub_per_gb'][0]   \n",
    "        else:\n",
    "            gb_income = 0\n",
    "            \n",
    "        return min_income + mess_income + gb_income + tariffs['rub_monthly_fee'][0]\n",
    "    \n",
    "    elif tariff == 'ultra':\n",
    "        \n",
    "        if mins > tariffs['minutes_included'][1]:\n",
    "            min_income = mins - tariffs['minutes_included'][1]\n",
    "        else:\n",
    "            min_income = 0\n",
    "            \n",
    "        if mess > tariffs['messages_included'][1]:\n",
    "            mess_income = mess - tariffs['messages_included'][1]\n",
    "        else:\n",
    "            mess_income = 0\n",
    "            \n",
    "        if gb > (tariffs['mb_per_month_included'][1] / 1024).astype('int'):\n",
    "            gb_income = (gb - (tariffs['mb_per_month_included'][1] / 1024).astype('int')) * tariffs['rub_per_gb'][1]\n",
    "        else:\n",
    "            gb_income = 0\n",
    "            \n",
    "        return min_income + mess_income + gb_income + tariffs['rub_monthly_fee'][1]           \n",
    "  \n",
    "   \n",
    "users_details['monthly_income'] =  users_details.apply(incomes, axis=1)"
   ]
  },
  {
   "cell_type": "code",
   "execution_count": 238,
   "metadata": {},
   "outputs": [],
   "source": [
    "# поменяем тип данных у нового столбца\n",
    "\n",
    "users_details['monthly_income'] = users_details['monthly_income'].astype('int')"
   ]
  },
  {
   "cell_type": "code",
   "execution_count": 239,
   "metadata": {
    "scrolled": true
   },
   "outputs": [
    {
     "data": {
      "text/html": [
       "<div>\n",
       "<style scoped>\n",
       "    .dataframe tbody tr th:only-of-type {\n",
       "        vertical-align: middle;\n",
       "    }\n",
       "\n",
       "    .dataframe tbody tr th {\n",
       "        vertical-align: top;\n",
       "    }\n",
       "\n",
       "    .dataframe thead th {\n",
       "        text-align: right;\n",
       "    }\n",
       "</style>\n",
       "<table border=\"1\" class=\"dataframe\">\n",
       "  <thead>\n",
       "    <tr style=\"text-align: right;\">\n",
       "      <th></th>\n",
       "      <th>user_id</th>\n",
       "      <th>month</th>\n",
       "      <th>calls_total</th>\n",
       "      <th>mins_total</th>\n",
       "      <th>mb_total</th>\n",
       "      <th>sms_total</th>\n",
       "      <th>age</th>\n",
       "      <th>city</th>\n",
       "      <th>first_name</th>\n",
       "      <th>last_name</th>\n",
       "      <th>reg_date</th>\n",
       "      <th>tariff</th>\n",
       "      <th>gb_total</th>\n",
       "      <th>monthly_income</th>\n",
       "    </tr>\n",
       "  </thead>\n",
       "  <tbody>\n",
       "    <tr>\n",
       "      <th>0</th>\n",
       "      <td>1000</td>\n",
       "      <td>5.0</td>\n",
       "      <td>22</td>\n",
       "      <td>159</td>\n",
       "      <td>2253</td>\n",
       "      <td>22</td>\n",
       "      <td>52</td>\n",
       "      <td>Краснодар</td>\n",
       "      <td>Рафаил</td>\n",
       "      <td>Верещагин</td>\n",
       "      <td>2018-05-25</td>\n",
       "      <td>ultra</td>\n",
       "      <td>3</td>\n",
       "      <td>1950</td>\n",
       "    </tr>\n",
       "    <tr>\n",
       "      <th>1</th>\n",
       "      <td>1000</td>\n",
       "      <td>6.0</td>\n",
       "      <td>43</td>\n",
       "      <td>172</td>\n",
       "      <td>23233</td>\n",
       "      <td>60</td>\n",
       "      <td>52</td>\n",
       "      <td>Краснодар</td>\n",
       "      <td>Рафаил</td>\n",
       "      <td>Верещагин</td>\n",
       "      <td>2018-05-25</td>\n",
       "      <td>ultra</td>\n",
       "      <td>23</td>\n",
       "      <td>1950</td>\n",
       "    </tr>\n",
       "    <tr>\n",
       "      <th>2</th>\n",
       "      <td>1000</td>\n",
       "      <td>7.0</td>\n",
       "      <td>47</td>\n",
       "      <td>340</td>\n",
       "      <td>14003</td>\n",
       "      <td>75</td>\n",
       "      <td>52</td>\n",
       "      <td>Краснодар</td>\n",
       "      <td>Рафаил</td>\n",
       "      <td>Верещагин</td>\n",
       "      <td>2018-05-25</td>\n",
       "      <td>ultra</td>\n",
       "      <td>14</td>\n",
       "      <td>1950</td>\n",
       "    </tr>\n",
       "    <tr>\n",
       "      <th>3</th>\n",
       "      <td>1000</td>\n",
       "      <td>8.0</td>\n",
       "      <td>52</td>\n",
       "      <td>408</td>\n",
       "      <td>14055</td>\n",
       "      <td>81</td>\n",
       "      <td>52</td>\n",
       "      <td>Краснодар</td>\n",
       "      <td>Рафаил</td>\n",
       "      <td>Верещагин</td>\n",
       "      <td>2018-05-25</td>\n",
       "      <td>ultra</td>\n",
       "      <td>14</td>\n",
       "      <td>1950</td>\n",
       "    </tr>\n",
       "    <tr>\n",
       "      <th>4</th>\n",
       "      <td>1000</td>\n",
       "      <td>9.0</td>\n",
       "      <td>58</td>\n",
       "      <td>466</td>\n",
       "      <td>14568</td>\n",
       "      <td>57</td>\n",
       "      <td>52</td>\n",
       "      <td>Краснодар</td>\n",
       "      <td>Рафаил</td>\n",
       "      <td>Верещагин</td>\n",
       "      <td>2018-05-25</td>\n",
       "      <td>ultra</td>\n",
       "      <td>15</td>\n",
       "      <td>1950</td>\n",
       "    </tr>\n",
       "    <tr>\n",
       "      <th>5</th>\n",
       "      <td>1000</td>\n",
       "      <td>10.0</td>\n",
       "      <td>57</td>\n",
       "      <td>350</td>\n",
       "      <td>14702</td>\n",
       "      <td>73</td>\n",
       "      <td>52</td>\n",
       "      <td>Краснодар</td>\n",
       "      <td>Рафаил</td>\n",
       "      <td>Верещагин</td>\n",
       "      <td>2018-05-25</td>\n",
       "      <td>ultra</td>\n",
       "      <td>15</td>\n",
       "      <td>1950</td>\n",
       "    </tr>\n",
       "    <tr>\n",
       "      <th>6</th>\n",
       "      <td>1000</td>\n",
       "      <td>11.0</td>\n",
       "      <td>43</td>\n",
       "      <td>338</td>\n",
       "      <td>14756</td>\n",
       "      <td>58</td>\n",
       "      <td>52</td>\n",
       "      <td>Краснодар</td>\n",
       "      <td>Рафаил</td>\n",
       "      <td>Верещагин</td>\n",
       "      <td>2018-05-25</td>\n",
       "      <td>ultra</td>\n",
       "      <td>15</td>\n",
       "      <td>1950</td>\n",
       "    </tr>\n",
       "    <tr>\n",
       "      <th>7</th>\n",
       "      <td>1000</td>\n",
       "      <td>12.0</td>\n",
       "      <td>46</td>\n",
       "      <td>333</td>\n",
       "      <td>9817</td>\n",
       "      <td>70</td>\n",
       "      <td>52</td>\n",
       "      <td>Краснодар</td>\n",
       "      <td>Рафаил</td>\n",
       "      <td>Верещагин</td>\n",
       "      <td>2018-05-25</td>\n",
       "      <td>ultra</td>\n",
       "      <td>10</td>\n",
       "      <td>1950</td>\n",
       "    </tr>\n",
       "    <tr>\n",
       "      <th>8</th>\n",
       "      <td>1001</td>\n",
       "      <td>11.0</td>\n",
       "      <td>59</td>\n",
       "      <td>430</td>\n",
       "      <td>18429</td>\n",
       "      <td>0</td>\n",
       "      <td>41</td>\n",
       "      <td>Москва</td>\n",
       "      <td>Иван</td>\n",
       "      <td>Ежов</td>\n",
       "      <td>2018-11-01</td>\n",
       "      <td>smart</td>\n",
       "      <td>18</td>\n",
       "      <td>1150</td>\n",
       "    </tr>\n",
       "    <tr>\n",
       "      <th>9</th>\n",
       "      <td>1001</td>\n",
       "      <td>12.0</td>\n",
       "      <td>63</td>\n",
       "      <td>414</td>\n",
       "      <td>14036</td>\n",
       "      <td>0</td>\n",
       "      <td>41</td>\n",
       "      <td>Москва</td>\n",
       "      <td>Иван</td>\n",
       "      <td>Ежов</td>\n",
       "      <td>2018-11-01</td>\n",
       "      <td>smart</td>\n",
       "      <td>14</td>\n",
       "      <td>550</td>\n",
       "    </tr>\n",
       "    <tr>\n",
       "      <th>10</th>\n",
       "      <td>1002</td>\n",
       "      <td>6.0</td>\n",
       "      <td>15</td>\n",
       "      <td>117</td>\n",
       "      <td>10856</td>\n",
       "      <td>4</td>\n",
       "      <td>59</td>\n",
       "      <td>Стерлитамак</td>\n",
       "      <td>Евгений</td>\n",
       "      <td>Абрамович</td>\n",
       "      <td>2018-06-17</td>\n",
       "      <td>smart</td>\n",
       "      <td>11</td>\n",
       "      <td>550</td>\n",
       "    </tr>\n",
       "    <tr>\n",
       "      <th>11</th>\n",
       "      <td>1002</td>\n",
       "      <td>7.0</td>\n",
       "      <td>26</td>\n",
       "      <td>214</td>\n",
       "      <td>17580</td>\n",
       "      <td>11</td>\n",
       "      <td>59</td>\n",
       "      <td>Стерлитамак</td>\n",
       "      <td>Евгений</td>\n",
       "      <td>Абрамович</td>\n",
       "      <td>2018-06-17</td>\n",
       "      <td>smart</td>\n",
       "      <td>18</td>\n",
       "      <td>1150</td>\n",
       "    </tr>\n",
       "    <tr>\n",
       "      <th>12</th>\n",
       "      <td>1002</td>\n",
       "      <td>8.0</td>\n",
       "      <td>42</td>\n",
       "      <td>289</td>\n",
       "      <td>20319</td>\n",
       "      <td>13</td>\n",
       "      <td>59</td>\n",
       "      <td>Стерлитамак</td>\n",
       "      <td>Евгений</td>\n",
       "      <td>Абрамович</td>\n",
       "      <td>2018-06-17</td>\n",
       "      <td>smart</td>\n",
       "      <td>20</td>\n",
       "      <td>1550</td>\n",
       "    </tr>\n",
       "    <tr>\n",
       "      <th>13</th>\n",
       "      <td>1002</td>\n",
       "      <td>9.0</td>\n",
       "      <td>36</td>\n",
       "      <td>206</td>\n",
       "      <td>16691</td>\n",
       "      <td>4</td>\n",
       "      <td>59</td>\n",
       "      <td>Стерлитамак</td>\n",
       "      <td>Евгений</td>\n",
       "      <td>Абрамович</td>\n",
       "      <td>2018-06-17</td>\n",
       "      <td>smart</td>\n",
       "      <td>17</td>\n",
       "      <td>950</td>\n",
       "    </tr>\n",
       "    <tr>\n",
       "      <th>14</th>\n",
       "      <td>1002</td>\n",
       "      <td>10.0</td>\n",
       "      <td>33</td>\n",
       "      <td>212</td>\n",
       "      <td>13888</td>\n",
       "      <td>10</td>\n",
       "      <td>59</td>\n",
       "      <td>Стерлитамак</td>\n",
       "      <td>Евгений</td>\n",
       "      <td>Абрамович</td>\n",
       "      <td>2018-06-17</td>\n",
       "      <td>smart</td>\n",
       "      <td>14</td>\n",
       "      <td>550</td>\n",
       "    </tr>\n",
       "    <tr>\n",
       "      <th>15</th>\n",
       "      <td>1002</td>\n",
       "      <td>11.0</td>\n",
       "      <td>32</td>\n",
       "      <td>243</td>\n",
       "      <td>18587</td>\n",
       "      <td>16</td>\n",
       "      <td>59</td>\n",
       "      <td>Стерлитамак</td>\n",
       "      <td>Евгений</td>\n",
       "      <td>Абрамович</td>\n",
       "      <td>2018-06-17</td>\n",
       "      <td>smart</td>\n",
       "      <td>19</td>\n",
       "      <td>1350</td>\n",
       "    </tr>\n",
       "    <tr>\n",
       "      <th>16</th>\n",
       "      <td>1002</td>\n",
       "      <td>12.0</td>\n",
       "      <td>33</td>\n",
       "      <td>236</td>\n",
       "      <td>18113</td>\n",
       "      <td>12</td>\n",
       "      <td>59</td>\n",
       "      <td>Стерлитамак</td>\n",
       "      <td>Евгений</td>\n",
       "      <td>Абрамович</td>\n",
       "      <td>2018-06-17</td>\n",
       "      <td>smart</td>\n",
       "      <td>18</td>\n",
       "      <td>1150</td>\n",
       "    </tr>\n",
       "    <tr>\n",
       "      <th>17</th>\n",
       "      <td>1003</td>\n",
       "      <td>8.0</td>\n",
       "      <td>55</td>\n",
       "      <td>380</td>\n",
       "      <td>8565</td>\n",
       "      <td>37</td>\n",
       "      <td>23</td>\n",
       "      <td>Москва</td>\n",
       "      <td>Белла</td>\n",
       "      <td>Белякова</td>\n",
       "      <td>2018-08-17</td>\n",
       "      <td>ultra</td>\n",
       "      <td>9</td>\n",
       "      <td>1950</td>\n",
       "    </tr>\n",
       "    <tr>\n",
       "      <th>18</th>\n",
       "      <td>1003</td>\n",
       "      <td>9.0</td>\n",
       "      <td>134</td>\n",
       "      <td>961</td>\n",
       "      <td>12468</td>\n",
       "      <td>91</td>\n",
       "      <td>23</td>\n",
       "      <td>Москва</td>\n",
       "      <td>Белла</td>\n",
       "      <td>Белякова</td>\n",
       "      <td>2018-08-17</td>\n",
       "      <td>ultra</td>\n",
       "      <td>13</td>\n",
       "      <td>1950</td>\n",
       "    </tr>\n",
       "    <tr>\n",
       "      <th>19</th>\n",
       "      <td>1003</td>\n",
       "      <td>10.0</td>\n",
       "      <td>108</td>\n",
       "      <td>855</td>\n",
       "      <td>14768</td>\n",
       "      <td>83</td>\n",
       "      <td>23</td>\n",
       "      <td>Москва</td>\n",
       "      <td>Белла</td>\n",
       "      <td>Белякова</td>\n",
       "      <td>2018-08-17</td>\n",
       "      <td>ultra</td>\n",
       "      <td>15</td>\n",
       "      <td>1950</td>\n",
       "    </tr>\n",
       "  </tbody>\n",
       "</table>\n",
       "</div>"
      ],
      "text/plain": [
       "    user_id  month  calls_total  mins_total  mb_total  sms_total  age  \\\n",
       "0      1000    5.0           22         159      2253         22   52   \n",
       "1      1000    6.0           43         172     23233         60   52   \n",
       "2      1000    7.0           47         340     14003         75   52   \n",
       "3      1000    8.0           52         408     14055         81   52   \n",
       "4      1000    9.0           58         466     14568         57   52   \n",
       "5      1000   10.0           57         350     14702         73   52   \n",
       "6      1000   11.0           43         338     14756         58   52   \n",
       "7      1000   12.0           46         333      9817         70   52   \n",
       "8      1001   11.0           59         430     18429          0   41   \n",
       "9      1001   12.0           63         414     14036          0   41   \n",
       "10     1002    6.0           15         117     10856          4   59   \n",
       "11     1002    7.0           26         214     17580         11   59   \n",
       "12     1002    8.0           42         289     20319         13   59   \n",
       "13     1002    9.0           36         206     16691          4   59   \n",
       "14     1002   10.0           33         212     13888         10   59   \n",
       "15     1002   11.0           32         243     18587         16   59   \n",
       "16     1002   12.0           33         236     18113         12   59   \n",
       "17     1003    8.0           55         380      8565         37   23   \n",
       "18     1003    9.0          134         961     12468         91   23   \n",
       "19     1003   10.0          108         855     14768         83   23   \n",
       "\n",
       "           city first_name  last_name   reg_date tariff  gb_total  \\\n",
       "0     Краснодар     Рафаил  Верещагин 2018-05-25  ultra         3   \n",
       "1     Краснодар     Рафаил  Верещагин 2018-05-25  ultra        23   \n",
       "2     Краснодар     Рафаил  Верещагин 2018-05-25  ultra        14   \n",
       "3     Краснодар     Рафаил  Верещагин 2018-05-25  ultra        14   \n",
       "4     Краснодар     Рафаил  Верещагин 2018-05-25  ultra        15   \n",
       "5     Краснодар     Рафаил  Верещагин 2018-05-25  ultra        15   \n",
       "6     Краснодар     Рафаил  Верещагин 2018-05-25  ultra        15   \n",
       "7     Краснодар     Рафаил  Верещагин 2018-05-25  ultra        10   \n",
       "8        Москва       Иван       Ежов 2018-11-01  smart        18   \n",
       "9        Москва       Иван       Ежов 2018-11-01  smart        14   \n",
       "10  Стерлитамак    Евгений  Абрамович 2018-06-17  smart        11   \n",
       "11  Стерлитамак    Евгений  Абрамович 2018-06-17  smart        18   \n",
       "12  Стерлитамак    Евгений  Абрамович 2018-06-17  smart        20   \n",
       "13  Стерлитамак    Евгений  Абрамович 2018-06-17  smart        17   \n",
       "14  Стерлитамак    Евгений  Абрамович 2018-06-17  smart        14   \n",
       "15  Стерлитамак    Евгений  Абрамович 2018-06-17  smart        19   \n",
       "16  Стерлитамак    Евгений  Абрамович 2018-06-17  smart        18   \n",
       "17       Москва      Белла   Белякова 2018-08-17  ultra         9   \n",
       "18       Москва      Белла   Белякова 2018-08-17  ultra        13   \n",
       "19       Москва      Белла   Белякова 2018-08-17  ultra        15   \n",
       "\n",
       "    monthly_income  \n",
       "0             1950  \n",
       "1             1950  \n",
       "2             1950  \n",
       "3             1950  \n",
       "4             1950  \n",
       "5             1950  \n",
       "6             1950  \n",
       "7             1950  \n",
       "8             1150  \n",
       "9              550  \n",
       "10             550  \n",
       "11            1150  \n",
       "12            1550  \n",
       "13             950  \n",
       "14             550  \n",
       "15            1350  \n",
       "16            1150  \n",
       "17            1950  \n",
       "18            1950  \n",
       "19            1950  "
      ]
     },
     "execution_count": 239,
     "metadata": {},
     "output_type": "execute_result"
    }
   ],
   "source": [
    "# проверка\n",
    "\n",
    "users_details.head(20)"
   ]
  },
  {
   "cell_type": "code",
   "execution_count": 240,
   "metadata": {
    "scrolled": true
   },
   "outputs": [
    {
     "name": "stdout",
     "output_type": "stream",
     "text": [
      "<class 'pandas.core.frame.DataFrame'>\n",
      "Int64Index: 3216 entries, 0 to 3215\n",
      "Data columns (total 14 columns):\n",
      " #   Column          Non-Null Count  Dtype         \n",
      "---  ------          --------------  -----         \n",
      " 0   user_id         3216 non-null   int64         \n",
      " 1   month           3216 non-null   float64       \n",
      " 2   calls_total     3216 non-null   int32         \n",
      " 3   mins_total      3216 non-null   int32         \n",
      " 4   mb_total        3216 non-null   int32         \n",
      " 5   sms_total       3216 non-null   int32         \n",
      " 6   age             3216 non-null   int64         \n",
      " 7   city            3216 non-null   object        \n",
      " 8   first_name      3216 non-null   object        \n",
      " 9   last_name       3216 non-null   object        \n",
      " 10  reg_date        3216 non-null   datetime64[ns]\n",
      " 11  tariff          3216 non-null   object        \n",
      " 12  gb_total        3216 non-null   int32         \n",
      " 13  monthly_income  3216 non-null   int32         \n",
      "dtypes: datetime64[ns](1), float64(1), int32(6), int64(2), object(4)\n",
      "memory usage: 301.5+ KB\n"
     ]
    }
   ],
   "source": [
    "users_details.info()"
   ]
  },
  {
   "cell_type": "markdown",
   "metadata": {},
   "source": [
    "**Итог:** второй этап работы выполнен, небольшие ошибки устранены, данные были приведены к нужным типам и произведеные все необходимые расчёты для дальнейшего анализа."
   ]
  },
  {
   "cell_type": "markdown",
   "metadata": {},
   "source": [
    "## Анализируем данные"
   ]
  },
  {
   "cell_type": "markdown",
   "metadata": {},
   "source": [
    "Опишем поведение клиентов оператора, исходя из выборки.  \n",
    "\n",
    "Ответим на вопрос, сколько минут разговора, сколько сообщений и какой объём интернет-трафика требуется пользователям каждого тарифа в месяц.\n",
    "\n",
    "Посчитаем среднее количество, дисперсию и стандартное отклонение, построим гистограммы, опишем распределения."
   ]
  },
  {
   "cell_type": "markdown",
   "metadata": {},
   "source": [
    "### Изучаем, сколько минут разговора, сколько сообщений и какой объём интернет-трафика требуется пользователям каждого тарифа в месяц."
   ]
  },
  {
   "cell_type": "code",
   "execution_count": 241,
   "metadata": {},
   "outputs": [
    {
     "data": {
      "text/html": [
       "<div>\n",
       "<style scoped>\n",
       "    .dataframe tbody tr th:only-of-type {\n",
       "        vertical-align: middle;\n",
       "    }\n",
       "\n",
       "    .dataframe tbody tr th {\n",
       "        vertical-align: top;\n",
       "    }\n",
       "\n",
       "    .dataframe thead th {\n",
       "        text-align: right;\n",
       "    }\n",
       "</style>\n",
       "<table border=\"1\" class=\"dataframe\">\n",
       "  <thead>\n",
       "    <tr style=\"text-align: right;\">\n",
       "      <th></th>\n",
       "      <th>tariff</th>\n",
       "      <th>month</th>\n",
       "      <th>mins_total</th>\n",
       "      <th>sms_total</th>\n",
       "      <th>gb_total</th>\n",
       "      <th>monthly_income</th>\n",
       "    </tr>\n",
       "  </thead>\n",
       "  <tbody>\n",
       "    <tr>\n",
       "      <th>0</th>\n",
       "      <td>smart</td>\n",
       "      <td>1.0</td>\n",
       "      <td>6931</td>\n",
       "      <td>620</td>\n",
       "      <td>297</td>\n",
       "      <td>24525</td>\n",
       "    </tr>\n",
       "    <tr>\n",
       "      <th>1</th>\n",
       "      <td>smart</td>\n",
       "      <td>2.0</td>\n",
       "      <td>17324</td>\n",
       "      <td>1397</td>\n",
       "      <td>687</td>\n",
       "      <td>48001</td>\n",
       "    </tr>\n",
       "    <tr>\n",
       "      <th>2</th>\n",
       "      <td>smart</td>\n",
       "      <td>3.0</td>\n",
       "      <td>30034</td>\n",
       "      <td>2453</td>\n",
       "      <td>1173</td>\n",
       "      <td>89676</td>\n",
       "    </tr>\n",
       "    <tr>\n",
       "      <th>3</th>\n",
       "      <td>smart</td>\n",
       "      <td>4.0</td>\n",
       "      <td>41119</td>\n",
       "      <td>3443</td>\n",
       "      <td>1526</td>\n",
       "      <td>107866</td>\n",
       "    </tr>\n",
       "    <tr>\n",
       "      <th>4</th>\n",
       "      <td>smart</td>\n",
       "      <td>5.0</td>\n",
       "      <td>54618</td>\n",
       "      <td>4762</td>\n",
       "      <td>2243</td>\n",
       "      <td>168849</td>\n",
       "    </tr>\n",
       "    <tr>\n",
       "      <th>5</th>\n",
       "      <td>smart</td>\n",
       "      <td>6.0</td>\n",
       "      <td>64885</td>\n",
       "      <td>5478</td>\n",
       "      <td>2616</td>\n",
       "      <td>197459</td>\n",
       "    </tr>\n",
       "    <tr>\n",
       "      <th>6</th>\n",
       "      <td>smart</td>\n",
       "      <td>7.0</td>\n",
       "      <td>82079</td>\n",
       "      <td>6784</td>\n",
       "      <td>3191</td>\n",
       "      <td>246014</td>\n",
       "    </tr>\n",
       "    <tr>\n",
       "      <th>7</th>\n",
       "      <td>smart</td>\n",
       "      <td>8.0</td>\n",
       "      <td>99045</td>\n",
       "      <td>7905</td>\n",
       "      <td>3933</td>\n",
       "      <td>310340</td>\n",
       "    </tr>\n",
       "    <tr>\n",
       "      <th>8</th>\n",
       "      <td>smart</td>\n",
       "      <td>9.0</td>\n",
       "      <td>111439</td>\n",
       "      <td>8746</td>\n",
       "      <td>4262</td>\n",
       "      <td>324986</td>\n",
       "    </tr>\n",
       "    <tr>\n",
       "      <th>9</th>\n",
       "      <td>smart</td>\n",
       "      <td>10.0</td>\n",
       "      <td>125284</td>\n",
       "      <td>9927</td>\n",
       "      <td>4963</td>\n",
       "      <td>401267</td>\n",
       "    </tr>\n",
       "  </tbody>\n",
       "</table>\n",
       "</div>"
      ],
      "text/plain": [
       "  tariff  month  mins_total  sms_total  gb_total  monthly_income\n",
       "0  smart    1.0        6931        620       297           24525\n",
       "1  smart    2.0       17324       1397       687           48001\n",
       "2  smart    3.0       30034       2453      1173           89676\n",
       "3  smart    4.0       41119       3443      1526          107866\n",
       "4  smart    5.0       54618       4762      2243          168849\n",
       "5  smart    6.0       64885       5478      2616          197459\n",
       "6  smart    7.0       82079       6784      3191          246014\n",
       "7  smart    8.0       99045       7905      3933          310340\n",
       "8  smart    9.0      111439       8746      4262          324986\n",
       "9  smart   10.0      125284       9927      4963          401267"
      ]
     },
     "execution_count": 241,
     "metadata": {},
     "output_type": "execute_result"
    }
   ],
   "source": [
    "# создадим таблицу, сгруппировав данные пользователей по тарифу и месяцу\n",
    "\n",
    "users_by_month = users_details.groupby(['tariff',\n",
    "                                        'month'])[['mins_total',\n",
    "                                                    'sms_total',\n",
    "                                                    'gb_total',\n",
    "                                                    'monthly_income']].sum().reset_index()\n",
    "\n",
    "users_by_month.head(10)"
   ]
  },
  {
   "cell_type": "code",
   "execution_count": 242,
   "metadata": {},
   "outputs": [],
   "source": [
    "# второго тарифа не видно совсем, разделим на две таблицы\n",
    "\n",
    "smart_users_by_month = users_by_month.query('tariff==\"smart\"')\n",
    "\n",
    "ultra_users_by_month = users_by_month.query('tariff==\"ultra\"').reset_index(drop=True)"
   ]
  },
  {
   "cell_type": "code",
   "execution_count": 243,
   "metadata": {},
   "outputs": [
    {
     "data": {
      "text/html": [
       "<div>\n",
       "<style scoped>\n",
       "    .dataframe tbody tr th:only-of-type {\n",
       "        vertical-align: middle;\n",
       "    }\n",
       "\n",
       "    .dataframe tbody tr th {\n",
       "        vertical-align: top;\n",
       "    }\n",
       "\n",
       "    .dataframe thead th {\n",
       "        text-align: right;\n",
       "    }\n",
       "</style>\n",
       "<table border=\"1\" class=\"dataframe\">\n",
       "  <thead>\n",
       "    <tr style=\"text-align: right;\">\n",
       "      <th></th>\n",
       "      <th>tariff</th>\n",
       "      <th>month</th>\n",
       "      <th>mins_total</th>\n",
       "      <th>sms_total</th>\n",
       "      <th>gb_total</th>\n",
       "      <th>monthly_income</th>\n",
       "    </tr>\n",
       "  </thead>\n",
       "  <tbody>\n",
       "    <tr>\n",
       "      <th>0</th>\n",
       "      <td>smart</td>\n",
       "      <td>1.0</td>\n",
       "      <td>6931</td>\n",
       "      <td>620</td>\n",
       "      <td>297</td>\n",
       "      <td>24525</td>\n",
       "    </tr>\n",
       "    <tr>\n",
       "      <th>1</th>\n",
       "      <td>smart</td>\n",
       "      <td>2.0</td>\n",
       "      <td>17324</td>\n",
       "      <td>1397</td>\n",
       "      <td>687</td>\n",
       "      <td>48001</td>\n",
       "    </tr>\n",
       "    <tr>\n",
       "      <th>2</th>\n",
       "      <td>smart</td>\n",
       "      <td>3.0</td>\n",
       "      <td>30034</td>\n",
       "      <td>2453</td>\n",
       "      <td>1173</td>\n",
       "      <td>89676</td>\n",
       "    </tr>\n",
       "    <tr>\n",
       "      <th>3</th>\n",
       "      <td>smart</td>\n",
       "      <td>4.0</td>\n",
       "      <td>41119</td>\n",
       "      <td>3443</td>\n",
       "      <td>1526</td>\n",
       "      <td>107866</td>\n",
       "    </tr>\n",
       "    <tr>\n",
       "      <th>4</th>\n",
       "      <td>smart</td>\n",
       "      <td>5.0</td>\n",
       "      <td>54618</td>\n",
       "      <td>4762</td>\n",
       "      <td>2243</td>\n",
       "      <td>168849</td>\n",
       "    </tr>\n",
       "    <tr>\n",
       "      <th>5</th>\n",
       "      <td>smart</td>\n",
       "      <td>6.0</td>\n",
       "      <td>64885</td>\n",
       "      <td>5478</td>\n",
       "      <td>2616</td>\n",
       "      <td>197459</td>\n",
       "    </tr>\n",
       "    <tr>\n",
       "      <th>6</th>\n",
       "      <td>smart</td>\n",
       "      <td>7.0</td>\n",
       "      <td>82079</td>\n",
       "      <td>6784</td>\n",
       "      <td>3191</td>\n",
       "      <td>246014</td>\n",
       "    </tr>\n",
       "    <tr>\n",
       "      <th>7</th>\n",
       "      <td>smart</td>\n",
       "      <td>8.0</td>\n",
       "      <td>99045</td>\n",
       "      <td>7905</td>\n",
       "      <td>3933</td>\n",
       "      <td>310340</td>\n",
       "    </tr>\n",
       "    <tr>\n",
       "      <th>8</th>\n",
       "      <td>smart</td>\n",
       "      <td>9.0</td>\n",
       "      <td>111439</td>\n",
       "      <td>8746</td>\n",
       "      <td>4262</td>\n",
       "      <td>324986</td>\n",
       "    </tr>\n",
       "    <tr>\n",
       "      <th>9</th>\n",
       "      <td>smart</td>\n",
       "      <td>10.0</td>\n",
       "      <td>125284</td>\n",
       "      <td>9927</td>\n",
       "      <td>4963</td>\n",
       "      <td>401267</td>\n",
       "    </tr>\n",
       "    <tr>\n",
       "      <th>10</th>\n",
       "      <td>smart</td>\n",
       "      <td>11.0</td>\n",
       "      <td>137544</td>\n",
       "      <td>10768</td>\n",
       "      <td>5372</td>\n",
       "      <td>424403</td>\n",
       "    </tr>\n",
       "    <tr>\n",
       "      <th>11</th>\n",
       "      <td>smart</td>\n",
       "      <td>12.0</td>\n",
       "      <td>161275</td>\n",
       "      <td>12130</td>\n",
       "      <td>6134</td>\n",
       "      <td>532515</td>\n",
       "    </tr>\n",
       "  </tbody>\n",
       "</table>\n",
       "</div>"
      ],
      "text/plain": [
       "   tariff  month  mins_total  sms_total  gb_total  monthly_income\n",
       "0   smart    1.0        6931        620       297           24525\n",
       "1   smart    2.0       17324       1397       687           48001\n",
       "2   smart    3.0       30034       2453      1173           89676\n",
       "3   smart    4.0       41119       3443      1526          107866\n",
       "4   smart    5.0       54618       4762      2243          168849\n",
       "5   smart    6.0       64885       5478      2616          197459\n",
       "6   smart    7.0       82079       6784      3191          246014\n",
       "7   smart    8.0       99045       7905      3933          310340\n",
       "8   smart    9.0      111439       8746      4262          324986\n",
       "9   smart   10.0      125284       9927      4963          401267\n",
       "10  smart   11.0      137544      10768      5372          424403\n",
       "11  smart   12.0      161275      12130      6134          532515"
      ]
     },
     "metadata": {},
     "output_type": "display_data"
    },
    {
     "data": {
      "text/html": [
       "<div>\n",
       "<style scoped>\n",
       "    .dataframe tbody tr th:only-of-type {\n",
       "        vertical-align: middle;\n",
       "    }\n",
       "\n",
       "    .dataframe tbody tr th {\n",
       "        vertical-align: top;\n",
       "    }\n",
       "\n",
       "    .dataframe thead th {\n",
       "        text-align: right;\n",
       "    }\n",
       "</style>\n",
       "<table border=\"1\" class=\"dataframe\">\n",
       "  <thead>\n",
       "    <tr style=\"text-align: right;\">\n",
       "      <th></th>\n",
       "      <th>tariff</th>\n",
       "      <th>month</th>\n",
       "      <th>mins_total</th>\n",
       "      <th>sms_total</th>\n",
       "      <th>gb_total</th>\n",
       "      <th>monthly_income</th>\n",
       "    </tr>\n",
       "  </thead>\n",
       "  <tbody>\n",
       "    <tr>\n",
       "      <th>0</th>\n",
       "      <td>ultra</td>\n",
       "      <td>1.0</td>\n",
       "      <td>3853</td>\n",
       "      <td>304</td>\n",
       "      <td>119</td>\n",
       "      <td>17550</td>\n",
       "    </tr>\n",
       "    <tr>\n",
       "      <th>1</th>\n",
       "      <td>ultra</td>\n",
       "      <td>2.0</td>\n",
       "      <td>7131</td>\n",
       "      <td>527</td>\n",
       "      <td>288</td>\n",
       "      <td>47400</td>\n",
       "    </tr>\n",
       "    <tr>\n",
       "      <th>2</th>\n",
       "      <td>ultra</td>\n",
       "      <td>3.0</td>\n",
       "      <td>18117</td>\n",
       "      <td>1195</td>\n",
       "      <td>653</td>\n",
       "      <td>74550</td>\n",
       "    </tr>\n",
       "    <tr>\n",
       "      <th>3</th>\n",
       "      <td>ultra</td>\n",
       "      <td>4.0</td>\n",
       "      <td>25191</td>\n",
       "      <td>1736</td>\n",
       "      <td>933</td>\n",
       "      <td>110100</td>\n",
       "    </tr>\n",
       "    <tr>\n",
       "      <th>4</th>\n",
       "      <td>ultra</td>\n",
       "      <td>5.0</td>\n",
       "      <td>34192</td>\n",
       "      <td>2536</td>\n",
       "      <td>1298</td>\n",
       "      <td>138000</td>\n",
       "    </tr>\n",
       "    <tr>\n",
       "      <th>5</th>\n",
       "      <td>ultra</td>\n",
       "      <td>6.0</td>\n",
       "      <td>40295</td>\n",
       "      <td>3505</td>\n",
       "      <td>1591</td>\n",
       "      <td>171300</td>\n",
       "    </tr>\n",
       "    <tr>\n",
       "      <th>6</th>\n",
       "      <td>ultra</td>\n",
       "      <td>7.0</td>\n",
       "      <td>49667</td>\n",
       "      <td>4536</td>\n",
       "      <td>1866</td>\n",
       "      <td>192750</td>\n",
       "    </tr>\n",
       "    <tr>\n",
       "      <th>7</th>\n",
       "      <td>ultra</td>\n",
       "      <td>8.0</td>\n",
       "      <td>54653</td>\n",
       "      <td>5183</td>\n",
       "      <td>2097</td>\n",
       "      <td>222900</td>\n",
       "    </tr>\n",
       "    <tr>\n",
       "      <th>8</th>\n",
       "      <td>ultra</td>\n",
       "      <td>9.0</td>\n",
       "      <td>62036</td>\n",
       "      <td>6013</td>\n",
       "      <td>2213</td>\n",
       "      <td>232800</td>\n",
       "    </tr>\n",
       "    <tr>\n",
       "      <th>9</th>\n",
       "      <td>ultra</td>\n",
       "      <td>10.0</td>\n",
       "      <td>68644</td>\n",
       "      <td>7187</td>\n",
       "      <td>2468</td>\n",
       "      <td>254100</td>\n",
       "    </tr>\n",
       "    <tr>\n",
       "      <th>10</th>\n",
       "      <td>ultra</td>\n",
       "      <td>11.0</td>\n",
       "      <td>72545</td>\n",
       "      <td>7476</td>\n",
       "      <td>2654</td>\n",
       "      <td>280350</td>\n",
       "    </tr>\n",
       "    <tr>\n",
       "      <th>11</th>\n",
       "      <td>ultra</td>\n",
       "      <td>12.0</td>\n",
       "      <td>82400</td>\n",
       "      <td>8425</td>\n",
       "      <td>3022</td>\n",
       "      <td>299250</td>\n",
       "    </tr>\n",
       "  </tbody>\n",
       "</table>\n",
       "</div>"
      ],
      "text/plain": [
       "   tariff  month  mins_total  sms_total  gb_total  monthly_income\n",
       "0   ultra    1.0        3853        304       119           17550\n",
       "1   ultra    2.0        7131        527       288           47400\n",
       "2   ultra    3.0       18117       1195       653           74550\n",
       "3   ultra    4.0       25191       1736       933          110100\n",
       "4   ultra    5.0       34192       2536      1298          138000\n",
       "5   ultra    6.0       40295       3505      1591          171300\n",
       "6   ultra    7.0       49667       4536      1866          192750\n",
       "7   ultra    8.0       54653       5183      2097          222900\n",
       "8   ultra    9.0       62036       6013      2213          232800\n",
       "9   ultra   10.0       68644       7187      2468          254100\n",
       "10  ultra   11.0       72545       7476      2654          280350\n",
       "11  ultra   12.0       82400       8425      3022          299250"
      ]
     },
     "execution_count": 243,
     "metadata": {},
     "output_type": "execute_result"
    }
   ],
   "source": [
    "# проверка\n",
    "\n",
    "display(smart_users_by_month)\n",
    "(ultra_users_by_month)"
   ]
  },
  {
   "cell_type": "code",
   "execution_count": 244,
   "metadata": {
    "scrolled": true
   },
   "outputs": [
    {
     "data": {
      "text/plain": [
       "<AxesSubplot:ylabel='tariff'>"
      ]
     },
     "execution_count": 244,
     "metadata": {},
     "output_type": "execute_result"
    },
    {
     "data": {
      "image/png": "[encoded data removed]",
      "text/plain": [
       "<Figure size 432x288 with 1 Axes>"
      ]
     },
     "metadata": {},
     "output_type": "display_data"
    }
   ],
   "source": [
    "# smart users гораздо больше, проверим\n",
    "\n",
    "users.tariff.value_counts().plot(kind='pie', autopct='%1.f')"
   ]
  },
  {
   "cell_type": "markdown",
   "metadata": {},
   "source": [
    "Построим графики, сравним эти показатели по обоим тарифам."
   ]
  },
  {
   "cell_type": "code",
   "execution_count": 245,
   "metadata": {},
   "outputs": [
    {
     "data": {
      "text/plain": [
       "Text(0, 0.5, 'Minutes')"
      ]
     },
     "execution_count": 245,
     "metadata": {},
     "output_type": "execute_result"
    },
    {
     "data": {
      "image/png": "[encoded data removed]",
      "text/plain": [
       "<Figure size 936x360 with 1 Axes>"
      ]
     },
     "metadata": {
      "needs_background": "light"
     },
     "output_type": "display_data"
    }
   ],
   "source": [
    "# сравнение минут\n",
    "\n",
    "month = smart_users_by_month['month']\n",
    "\n",
    "plt.figure(figsize=(13,5))\n",
    "\n",
    "smart_minutes = smart_users_by_month['mins_total']\n",
    "ultra_minutes = ultra_users_by_month['mins_total']\n",
    "\n",
    "x_index = month\n",
    "width = 0.5\n",
    "\n",
    "plt.bar(x_index-width, smart_minutes, width=width, label='Smart')\n",
    "plt.bar(x_index, ultra_minutes, width=width, label='Ultra')\n",
    "\n",
    "\n",
    "plt.legend()\n",
    "plt.grid()\n",
    "plt.title('Minutes Smart vs. Ultra')\n",
    "plt.xlabel('Month')\n",
    "plt.ylabel('Minutes')"
   ]
  },
  {
   "cell_type": "code",
   "execution_count": 246,
   "metadata": {},
   "outputs": [
    {
     "data": {
      "text/plain": [
       "Text(0, 0.5, 'Messages')"
      ]
     },
     "execution_count": 246,
     "metadata": {},
     "output_type": "execute_result"
    },
    {
     "data": {
      "image/png": "[encoded data removed]",
      "text/plain": [
       "<Figure size 936x360 with 1 Axes>"
      ]
     },
     "metadata": {
      "needs_background": "light"
     },
     "output_type": "display_data"
    }
   ],
   "source": [
    "# сравнение сообщений\n",
    "\n",
    "month = smart_users_by_month['month']\n",
    "\n",
    "plt.figure(figsize=(13,5))\n",
    "\n",
    "smart_messages = smart_users_by_month['sms_total']\n",
    "ultra_messages = ultra_users_by_month['sms_total']\n",
    "\n",
    "plt.bar(x_index-width, smart_messages, width=width, label='Smart')\n",
    "plt.bar(x_index, ultra_messages, width=width, label='Ultra')\n",
    "\n",
    "x_index = month\n",
    "width = 0.5\n",
    "\n",
    "plt.legend()\n",
    "plt.grid()\n",
    "plt.title('Messages Smart vs. Ultra')\n",
    "plt.xlabel('Month')\n",
    "plt.ylabel('Messages')"
   ]
  },
  {
   "cell_type": "code",
   "execution_count": 247,
   "metadata": {},
   "outputs": [
    {
     "data": {
      "text/plain": [
       "Text(0, 0.5, 'GB')"
      ]
     },
     "execution_count": 247,
     "metadata": {},
     "output_type": "execute_result"
    },
    {
     "data": {
      "image/png": "[encoded data removed]",
      "text/plain": [
       "<Figure size 936x360 with 1 Axes>"
      ]
     },
     "metadata": {
      "needs_background": "light"
     },
     "output_type": "display_data"
    }
   ],
   "source": [
    "# сравнение интернета\n",
    "\n",
    "month = smart_users_by_month['month']\n",
    "\n",
    "plt.figure(figsize=(13,5))\n",
    "\n",
    "smart_internet = smart_users_by_month['gb_total']\n",
    "ultra_internet = ultra_users_by_month['gb_total']\n",
    "\n",
    "plt.bar(x_index-width, smart_internet, width=width, label='Smart')\n",
    "plt.bar(x_index, ultra_internet, width=width, label='Ultra')\n",
    "\n",
    "x_index = month\n",
    "width = 0.5\n",
    "\n",
    "plt.legend()\n",
    "plt.grid()\n",
    "plt.title('Internet Smart vs. Ultra')\n",
    "plt.xlabel('Month')\n",
    "plt.ylabel('GB')"
   ]
  },
  {
   "cell_type": "code",
   "execution_count": 248,
   "metadata": {},
   "outputs": [
    {
     "data": {
      "text/plain": [
       "Text(0, 0.5, 'Money')"
      ]
     },
     "execution_count": 248,
     "metadata": {},
     "output_type": "execute_result"
    },
    {
     "data": {
      "image/png": "[encoded data removed]",
      "text/plain": [
       "<Figure size 936x360 with 1 Axes>"
      ]
     },
     "metadata": {
      "needs_background": "light"
     },
     "output_type": "display_data"
    }
   ],
   "source": [
    "# сравнение доходов\n",
    "\n",
    "month = smart_users_by_month['month']\n",
    "\n",
    "plt.figure(figsize=(13,5))\n",
    "\n",
    "smart_income = smart_users_by_month['monthly_income']\n",
    "ultra_income = ultra_users_by_month['monthly_income']\n",
    "\n",
    "plt.bar(x_index-width, smart_income, width=width, label='Smart')\n",
    "plt.bar(x_index, ultra_income, width=width, label='Ultra')\n",
    "\n",
    "x_index = month\n",
    "width = 0.5\n",
    "\n",
    "plt.legend()\n",
    "plt.grid()\n",
    "plt.title('Income Smart vs. Ultra')\n",
    "plt.xlabel('Month')\n",
    "plt.ylabel('Money')"
   ]
  },
  {
   "cell_type": "markdown",
   "metadata": {},
   "source": [
    "**Вывод:** Графики получились просто идеальные, плавный раст каждый месяц, никаких провалов. Чётко видно, что основные деньги зарабатываются во второй половине года, в первой же всё показатели различаются не сильно.  \n",
    "Тариф Smart является самым популярным, и к концу года показатели почти по всем категориям уже в два раза и даже больше опережают показатели Ultra. Что в целом логично, чем больше абонентов, там и выручка больше с этого тарифа.  \n",
    "На этих графиках никаких интересных инсайтов увидеть не удалось, возможно, средние показатели нам что-то откроют."
   ]
  },
  {
   "cell_type": "code",
   "execution_count": 249,
   "metadata": {},
   "outputs": [
    {
     "data": {
      "text/html": [
       "<div>\n",
       "<style scoped>\n",
       "    .dataframe tbody tr th:only-of-type {\n",
       "        vertical-align: middle;\n",
       "    }\n",
       "\n",
       "    .dataframe tbody tr th {\n",
       "        vertical-align: top;\n",
       "    }\n",
       "\n",
       "    .dataframe thead th {\n",
       "        text-align: right;\n",
       "    }\n",
       "</style>\n",
       "<table border=\"1\" class=\"dataframe\">\n",
       "  <thead>\n",
       "    <tr style=\"text-align: right;\">\n",
       "      <th></th>\n",
       "      <th>user_id</th>\n",
       "      <th>month</th>\n",
       "      <th>calls_total</th>\n",
       "      <th>mins_total</th>\n",
       "      <th>mb_total</th>\n",
       "      <th>sms_total</th>\n",
       "      <th>age</th>\n",
       "      <th>city</th>\n",
       "      <th>first_name</th>\n",
       "      <th>last_name</th>\n",
       "      <th>reg_date</th>\n",
       "      <th>tariff</th>\n",
       "      <th>gb_total</th>\n",
       "      <th>monthly_income</th>\n",
       "    </tr>\n",
       "  </thead>\n",
       "  <tbody>\n",
       "    <tr>\n",
       "      <th>0</th>\n",
       "      <td>1000</td>\n",
       "      <td>5.0</td>\n",
       "      <td>22</td>\n",
       "      <td>159</td>\n",
       "      <td>2253</td>\n",
       "      <td>22</td>\n",
       "      <td>52</td>\n",
       "      <td>Краснодар</td>\n",
       "      <td>Рафаил</td>\n",
       "      <td>Верещагин</td>\n",
       "      <td>2018-05-25</td>\n",
       "      <td>ultra</td>\n",
       "      <td>3</td>\n",
       "      <td>1950</td>\n",
       "    </tr>\n",
       "    <tr>\n",
       "      <th>1</th>\n",
       "      <td>1000</td>\n",
       "      <td>6.0</td>\n",
       "      <td>43</td>\n",
       "      <td>172</td>\n",
       "      <td>23233</td>\n",
       "      <td>60</td>\n",
       "      <td>52</td>\n",
       "      <td>Краснодар</td>\n",
       "      <td>Рафаил</td>\n",
       "      <td>Верещагин</td>\n",
       "      <td>2018-05-25</td>\n",
       "      <td>ultra</td>\n",
       "      <td>23</td>\n",
       "      <td>1950</td>\n",
       "    </tr>\n",
       "    <tr>\n",
       "      <th>2</th>\n",
       "      <td>1000</td>\n",
       "      <td>7.0</td>\n",
       "      <td>47</td>\n",
       "      <td>340</td>\n",
       "      <td>14003</td>\n",
       "      <td>75</td>\n",
       "      <td>52</td>\n",
       "      <td>Краснодар</td>\n",
       "      <td>Рафаил</td>\n",
       "      <td>Верещагин</td>\n",
       "      <td>2018-05-25</td>\n",
       "      <td>ultra</td>\n",
       "      <td>14</td>\n",
       "      <td>1950</td>\n",
       "    </tr>\n",
       "    <tr>\n",
       "      <th>3</th>\n",
       "      <td>1000</td>\n",
       "      <td>8.0</td>\n",
       "      <td>52</td>\n",
       "      <td>408</td>\n",
       "      <td>14055</td>\n",
       "      <td>81</td>\n",
       "      <td>52</td>\n",
       "      <td>Краснодар</td>\n",
       "      <td>Рафаил</td>\n",
       "      <td>Верещагин</td>\n",
       "      <td>2018-05-25</td>\n",
       "      <td>ultra</td>\n",
       "      <td>14</td>\n",
       "      <td>1950</td>\n",
       "    </tr>\n",
       "    <tr>\n",
       "      <th>4</th>\n",
       "      <td>1000</td>\n",
       "      <td>9.0</td>\n",
       "      <td>58</td>\n",
       "      <td>466</td>\n",
       "      <td>14568</td>\n",
       "      <td>57</td>\n",
       "      <td>52</td>\n",
       "      <td>Краснодар</td>\n",
       "      <td>Рафаил</td>\n",
       "      <td>Верещагин</td>\n",
       "      <td>2018-05-25</td>\n",
       "      <td>ultra</td>\n",
       "      <td>15</td>\n",
       "      <td>1950</td>\n",
       "    </tr>\n",
       "  </tbody>\n",
       "</table>\n",
       "</div>"
      ],
      "text/plain": [
       "   user_id  month  calls_total  mins_total  mb_total  sms_total  age  \\\n",
       "0     1000    5.0           22         159      2253         22   52   \n",
       "1     1000    6.0           43         172     23233         60   52   \n",
       "2     1000    7.0           47         340     14003         75   52   \n",
       "3     1000    8.0           52         408     14055         81   52   \n",
       "4     1000    9.0           58         466     14568         57   52   \n",
       "\n",
       "        city first_name  last_name   reg_date tariff  gb_total  monthly_income  \n",
       "0  Краснодар     Рафаил  Верещагин 2018-05-25  ultra         3            1950  \n",
       "1  Краснодар     Рафаил  Верещагин 2018-05-25  ultra        23            1950  \n",
       "2  Краснодар     Рафаил  Верещагин 2018-05-25  ultra        14            1950  \n",
       "3  Краснодар     Рафаил  Верещагин 2018-05-25  ultra        14            1950  \n",
       "4  Краснодар     Рафаил  Верещагин 2018-05-25  ultra        15            1950  "
      ]
     },
     "execution_count": 249,
     "metadata": {},
     "output_type": "execute_result"
    }
   ],
   "source": [
    "# повесим перед глазами\n",
    "\n",
    "users_details.head()"
   ]
  },
  {
   "cell_type": "code",
   "execution_count": 250,
   "metadata": {
    "scrolled": true
   },
   "outputs": [
    {
     "data": {
      "image/png": "[encoded data removed]",
      "text/plain": [
       "<Figure size 864x360 with 1 Axes>"
      ]
     },
     "metadata": {
      "needs_background": "light"
     },
     "output_type": "display_data"
    }
   ],
   "source": [
    "# построим гистограмму для минут\n",
    "\n",
    "users_details.loc[users_details.loc[:,'tariff'] == 'smart']['mins_total'].plot(kind = 'hist',\n",
    "                                                                               label = 'smart',\n",
    "                                                                               bins = 30,\n",
    "                                                                               figsize = (12,5)\n",
    "                                                                              )\n",
    "\n",
    "users_details.loc[users_details.loc[:,'tariff'] == \"ultra\"]['mins_total'].plot(kind = 'hist',\n",
    "                                                                               label = 'ultra',\n",
    "                                                                               bins = 30,\n",
    "                                                                               figsize = (12,5),\n",
    "                                                                               alpha = 0.5,\n",
    "                                                                               )\n",
    "plt.ylabel('Частота') \n",
    "plt.xlabel('Minutes')\n",
    "plt.title('Minutes')\n",
    "plt.legend()\n",
    "plt.show()"
   ]
  },
  {
   "cell_type": "code",
   "execution_count": 251,
   "metadata": {},
   "outputs": [
    {
     "data": {
      "image/png": "[encoded data removed]",
      "text/plain": [
       "<Figure size 864x360 with 1 Axes>"
      ]
     },
     "metadata": {
      "needs_background": "light"
     },
     "output_type": "display_data"
    }
   ],
   "source": [
    "# построим гистограмму для сообщений\n",
    "\n",
    "users_details.loc[users_details.loc[:,'tariff'] == 'smart']['sms_total'].plot(kind = 'hist',\n",
    "                                                                               label = 'smart',\n",
    "                                                                               bins = 30,\n",
    "                                                                               figsize = (12,5)\n",
    "                                                                              )\n",
    "\n",
    "users_details.loc[users_details.loc[:,'tariff'] == \"ultra\"]['sms_total'].plot(kind = 'hist',\n",
    "                                                                               label = 'ultra',\n",
    "                                                                               bins = 30,\n",
    "                                                                               figsize = (12,5),\n",
    "                                                                               alpha = 0.5,\n",
    "                                                                               )\n",
    "plt.ylabel('Частота') \n",
    "plt.xlabel('SMS')\n",
    "plt.title('Messages')\n",
    "plt.legend()\n",
    "plt.show()"
   ]
  },
  {
   "cell_type": "code",
   "execution_count": 252,
   "metadata": {},
   "outputs": [
    {
     "data": {
      "image/png": "[encoded data removed]",
      "text/plain": [
       "<Figure size 864x360 with 1 Axes>"
      ]
     },
     "metadata": {
      "needs_background": "light"
     },
     "output_type": "display_data"
    }
   ],
   "source": [
    "# построим гистограмму для интернет-трафика\n",
    "\n",
    "users_details.loc[users_details.loc[:,'tariff'] == 'smart']['gb_total'].plot(kind = 'hist',\n",
    "                                                                               label = 'smart',\n",
    "                                                                               bins = 30,\n",
    "                                                                               figsize = (12,5)\n",
    "                                                                              )\n",
    "\n",
    "users_details.loc[users_details.loc[:,'tariff'] == \"ultra\"]['gb_total'].plot(kind = 'hist',\n",
    "                                                                               label = 'ultra',\n",
    "                                                                               bins = 30,\n",
    "                                                                               figsize = (12,5),\n",
    "                                                                               alpha = 0.5,\n",
    "                                                                               )\n",
    "plt.ylabel('Частота') \n",
    "plt.xlabel('GB')\n",
    "plt.title('Internet')\n",
    "plt.legend()\n",
    "plt.show()"
   ]
  },
  {
   "cell_type": "code",
   "execution_count": 253,
   "metadata": {
    "scrolled": true
   },
   "outputs": [
    {
     "data": {
      "image/png": "[encoded data removed]",
      "text/plain": [
       "<Figure size 864x360 with 1 Axes>"
      ]
     },
     "metadata": {
      "needs_background": "light"
     },
     "output_type": "display_data"
    }
   ],
   "source": [
    "# построим гистограмму для выручки\n",
    "\n",
    "users_details.loc[users_details.loc[:,'tariff'] == 'smart']['monthly_income'].plot(kind = 'hist',\n",
    "                                                                               label = 'smart',\n",
    "                                                                               bins = 30,\n",
    "                                                                               figsize = (12,5)\n",
    "                                                                              )\n",
    "\n",
    "users_details.loc[users_details.loc[:,'tariff'] == \"ultra\"]['monthly_income'].plot(kind = 'hist',\n",
    "                                                                               label = 'ultra',\n",
    "                                                                               bins = 30,\n",
    "                                                                               figsize = (12,5),\n",
    "                                                                               alpha = 0.5,\n",
    "                                                                              )\n",
    "plt.ylabel('Частота') \n",
    "plt.xlabel('Money')\n",
    "plt.title('Income')\n",
    "plt.legend()\n",
    "plt.show()"
   ]
  },
  {
   "cell_type": "markdown",
   "metadata": {},
   "source": [
    "**Вывод:** Действительно, гистограммы дали другой вид на данные. Интересные особенности: двольно много абонентов обоих тарифов вообще не звонят или очень мало, видимо, это сим-карты для планшетов, только для интернета. Сообщения так вообще почти не востребованная услуга, что неудивительно, всё текстовое общение перешло в мессенджеры и соцсети. Самые востребованные услуги это конечно, интернет и звонки, компании-оператору стоит обратить на это внимание при формировании и корректировке тарифов.\n",
    "Абоненты Ультры платят свою высокую абонетскую плату и редко выходят за лимит, а вот юзеры Смарта хоть и часто это делают, но всё равно в более выгодном положении, как уже мы отмечали ранее."
   ]
  },
  {
   "cell_type": "markdown",
   "metadata": {},
   "source": [
    "### Посчитаем среднее количество"
   ]
  },
  {
   "cell_type": "code",
   "execution_count": 254,
   "metadata": {},
   "outputs": [],
   "source": [
    "# возьмём только те параметры, что нам нужны для анализа\n",
    "\n",
    "users_details_main = users_details[['mins_total', 'sms_total', 'gb_total', 'monthly_income']]\n",
    "\n",
    "users_details_main.columns = ['minutes', 'messages', 'gigabytes', 'money']"
   ]
  },
  {
   "cell_type": "code",
   "execution_count": 255,
   "metadata": {},
   "outputs": [
    {
     "data": {
      "text/html": [
       "<div>\n",
       "<style scoped>\n",
       "    .dataframe tbody tr th:only-of-type {\n",
       "        vertical-align: middle;\n",
       "    }\n",
       "\n",
       "    .dataframe tbody tr th {\n",
       "        vertical-align: top;\n",
       "    }\n",
       "\n",
       "    .dataframe thead th {\n",
       "        text-align: right;\n",
       "    }\n",
       "</style>\n",
       "<table border=\"1\" class=\"dataframe\">\n",
       "  <thead>\n",
       "    <tr style=\"text-align: right;\">\n",
       "      <th></th>\n",
       "      <th>minutes</th>\n",
       "      <th>messages</th>\n",
       "      <th>gigabytes</th>\n",
       "      <th>money</th>\n",
       "    </tr>\n",
       "  </thead>\n",
       "  <tbody>\n",
       "    <tr>\n",
       "      <th>0</th>\n",
       "      <td>159</td>\n",
       "      <td>22</td>\n",
       "      <td>3</td>\n",
       "      <td>1950</td>\n",
       "    </tr>\n",
       "    <tr>\n",
       "      <th>1</th>\n",
       "      <td>172</td>\n",
       "      <td>60</td>\n",
       "      <td>23</td>\n",
       "      <td>1950</td>\n",
       "    </tr>\n",
       "    <tr>\n",
       "      <th>2</th>\n",
       "      <td>340</td>\n",
       "      <td>75</td>\n",
       "      <td>14</td>\n",
       "      <td>1950</td>\n",
       "    </tr>\n",
       "    <tr>\n",
       "      <th>3</th>\n",
       "      <td>408</td>\n",
       "      <td>81</td>\n",
       "      <td>14</td>\n",
       "      <td>1950</td>\n",
       "    </tr>\n",
       "    <tr>\n",
       "      <th>4</th>\n",
       "      <td>466</td>\n",
       "      <td>57</td>\n",
       "      <td>15</td>\n",
       "      <td>1950</td>\n",
       "    </tr>\n",
       "  </tbody>\n",
       "</table>\n",
       "</div>"
      ],
      "text/plain": [
       "   minutes  messages  gigabytes  money\n",
       "0      159        22          3   1950\n",
       "1      172        60         23   1950\n",
       "2      340        75         14   1950\n",
       "3      408        81         14   1950\n",
       "4      466        57         15   1950"
      ]
     },
     "execution_count": 255,
     "metadata": {},
     "output_type": "execute_result"
    }
   ],
   "source": [
    "# проверка\n",
    "\n",
    "users_details_main.head()"
   ]
  },
  {
   "cell_type": "code",
   "execution_count": 256,
   "metadata": {},
   "outputs": [
    {
     "data": {
      "text/html": [
       "<div>\n",
       "<style scoped>\n",
       "    .dataframe tbody tr th:only-of-type {\n",
       "        vertical-align: middle;\n",
       "    }\n",
       "\n",
       "    .dataframe tbody tr th {\n",
       "        vertical-align: top;\n",
       "    }\n",
       "\n",
       "    .dataframe thead th {\n",
       "        text-align: right;\n",
       "    }\n",
       "</style>\n",
       "<table border=\"1\" class=\"dataframe\">\n",
       "  <thead>\n",
       "    <tr style=\"text-align: right;\">\n",
       "      <th></th>\n",
       "      <th>minutes</th>\n",
       "      <th>messages</th>\n",
       "      <th>gigabytes</th>\n",
       "      <th>money</th>\n",
       "    </tr>\n",
       "  </thead>\n",
       "  <tbody>\n",
       "    <tr>\n",
       "      <th>count</th>\n",
       "      <td>3216.000000</td>\n",
       "      <td>3216.000000</td>\n",
       "      <td>3216.000000</td>\n",
       "      <td>3216.000000</td>\n",
       "    </tr>\n",
       "    <tr>\n",
       "      <th>mean</th>\n",
       "      <td>450.964241</td>\n",
       "      <td>38.257463</td>\n",
       "      <td>17.288246</td>\n",
       "      <td>1528.902674</td>\n",
       "    </tr>\n",
       "    <tr>\n",
       "      <th>std</th>\n",
       "      <td>242.096312</td>\n",
       "      <td>36.149684</td>\n",
       "      <td>7.410845</td>\n",
       "      <td>798.224060</td>\n",
       "    </tr>\n",
       "    <tr>\n",
       "      <th>min</th>\n",
       "      <td>0.000000</td>\n",
       "      <td>0.000000</td>\n",
       "      <td>0.000000</td>\n",
       "      <td>550.000000</td>\n",
       "    </tr>\n",
       "    <tr>\n",
       "      <th>25%</th>\n",
       "      <td>282.000000</td>\n",
       "      <td>9.000000</td>\n",
       "      <td>13.000000</td>\n",
       "      <td>750.000000</td>\n",
       "    </tr>\n",
       "    <tr>\n",
       "      <th>50%</th>\n",
       "      <td>443.000000</td>\n",
       "      <td>30.000000</td>\n",
       "      <td>17.000000</td>\n",
       "      <td>1653.500000</td>\n",
       "    </tr>\n",
       "    <tr>\n",
       "      <th>75%</th>\n",
       "      <td>589.000000</td>\n",
       "      <td>57.000000</td>\n",
       "      <td>21.000000</td>\n",
       "      <td>1950.000000</td>\n",
       "    </tr>\n",
       "    <tr>\n",
       "      <th>max</th>\n",
       "      <td>1673.000000</td>\n",
       "      <td>224.000000</td>\n",
       "      <td>49.000000</td>\n",
       "      <td>6770.000000</td>\n",
       "    </tr>\n",
       "  </tbody>\n",
       "</table>\n",
       "</div>"
      ],
      "text/plain": [
       "           minutes     messages    gigabytes        money\n",
       "count  3216.000000  3216.000000  3216.000000  3216.000000\n",
       "mean    450.964241    38.257463    17.288246  1528.902674\n",
       "std     242.096312    36.149684     7.410845   798.224060\n",
       "min       0.000000     0.000000     0.000000   550.000000\n",
       "25%     282.000000     9.000000    13.000000   750.000000\n",
       "50%     443.000000    30.000000    17.000000  1653.500000\n",
       "75%     589.000000    57.000000    21.000000  1950.000000\n",
       "max    1673.000000   224.000000    49.000000  6770.000000"
      ]
     },
     "execution_count": 256,
     "metadata": {},
     "output_type": "execute_result"
    }
   ],
   "source": [
    "# смотрим статистику\n",
    "\n",
    "users_details_main.describe()"
   ]
  },
  {
   "cell_type": "code",
   "execution_count": 257,
   "metadata": {},
   "outputs": [
    {
     "data": {
      "text/html": [
       "<div>\n",
       "<style scoped>\n",
       "    .dataframe tbody tr th:only-of-type {\n",
       "        vertical-align: middle;\n",
       "    }\n",
       "\n",
       "    .dataframe tbody tr th {\n",
       "        vertical-align: top;\n",
       "    }\n",
       "\n",
       "    .dataframe thead th {\n",
       "        text-align: right;\n",
       "    }\n",
       "</style>\n",
       "<table border=\"1\" class=\"dataframe\">\n",
       "  <thead>\n",
       "    <tr style=\"text-align: right;\">\n",
       "      <th></th>\n",
       "      <th>tariff</th>\n",
       "      <th>month</th>\n",
       "      <th>minutes</th>\n",
       "      <th>messages</th>\n",
       "      <th>gigabytes</th>\n",
       "      <th>money</th>\n",
       "    </tr>\n",
       "  </thead>\n",
       "  <tbody>\n",
       "    <tr>\n",
       "      <th>8</th>\n",
       "      <td>smart</td>\n",
       "      <td>9.0</td>\n",
       "      <td>428.611538</td>\n",
       "      <td>33.638462</td>\n",
       "      <td>16.392308</td>\n",
       "      <td>1249.946154</td>\n",
       "    </tr>\n",
       "    <tr>\n",
       "      <th>15</th>\n",
       "      <td>ultra</td>\n",
       "      <td>4.0</td>\n",
       "      <td>458.018182</td>\n",
       "      <td>31.563636</td>\n",
       "      <td>16.963636</td>\n",
       "      <td>2001.818182</td>\n",
       "    </tr>\n",
       "    <tr>\n",
       "      <th>3</th>\n",
       "      <td>smart</td>\n",
       "      <td>4.0</td>\n",
       "      <td>367.133929</td>\n",
       "      <td>30.741071</td>\n",
       "      <td>13.625000</td>\n",
       "      <td>963.089286</td>\n",
       "    </tr>\n",
       "    <tr>\n",
       "      <th>11</th>\n",
       "      <td>smart</td>\n",
       "      <td>12.0</td>\n",
       "      <td>477.144970</td>\n",
       "      <td>35.887574</td>\n",
       "      <td>18.147929</td>\n",
       "      <td>1575.488166</td>\n",
       "    </tr>\n",
       "    <tr>\n",
       "      <th>16</th>\n",
       "      <td>ultra</td>\n",
       "      <td>5.0</td>\n",
       "      <td>510.328358</td>\n",
       "      <td>37.850746</td>\n",
       "      <td>19.373134</td>\n",
       "      <td>2059.701493</td>\n",
       "    </tr>\n",
       "    <tr>\n",
       "      <th>14</th>\n",
       "      <td>ultra</td>\n",
       "      <td>3.0</td>\n",
       "      <td>489.648649</td>\n",
       "      <td>32.297297</td>\n",
       "      <td>17.648649</td>\n",
       "      <td>2014.864865</td>\n",
       "    </tr>\n",
       "    <tr>\n",
       "      <th>6</th>\n",
       "      <td>smart</td>\n",
       "      <td>7.0</td>\n",
       "      <td>408.353234</td>\n",
       "      <td>33.751244</td>\n",
       "      <td>15.875622</td>\n",
       "      <td>1223.950249</td>\n",
       "    </tr>\n",
       "    <tr>\n",
       "      <th>0</th>\n",
       "      <td>smart</td>\n",
       "      <td>1.0</td>\n",
       "      <td>203.852941</td>\n",
       "      <td>18.235294</td>\n",
       "      <td>8.735294</td>\n",
       "      <td>721.323529</td>\n",
       "    </tr>\n",
       "    <tr>\n",
       "      <th>2</th>\n",
       "      <td>smart</td>\n",
       "      <td>3.0</td>\n",
       "      <td>390.051948</td>\n",
       "      <td>31.857143</td>\n",
       "      <td>15.233766</td>\n",
       "      <td>1164.623377</td>\n",
       "    </tr>\n",
       "    <tr>\n",
       "      <th>20</th>\n",
       "      <td>ultra</td>\n",
       "      <td>9.0</td>\n",
       "      <td>539.443478</td>\n",
       "      <td>52.286957</td>\n",
       "      <td>19.243478</td>\n",
       "      <td>2024.347826</td>\n",
       "    </tr>\n",
       "  </tbody>\n",
       "</table>\n",
       "</div>"
      ],
      "text/plain": [
       "   tariff  month     minutes   messages  gigabytes        money\n",
       "8   smart    9.0  428.611538  33.638462  16.392308  1249.946154\n",
       "15  ultra    4.0  458.018182  31.563636  16.963636  2001.818182\n",
       "3   smart    4.0  367.133929  30.741071  13.625000   963.089286\n",
       "11  smart   12.0  477.144970  35.887574  18.147929  1575.488166\n",
       "16  ultra    5.0  510.328358  37.850746  19.373134  2059.701493\n",
       "14  ultra    3.0  489.648649  32.297297  17.648649  2014.864865\n",
       "6   smart    7.0  408.353234  33.751244  15.875622  1223.950249\n",
       "0   smart    1.0  203.852941  18.235294   8.735294   721.323529\n",
       "2   smart    3.0  390.051948  31.857143  15.233766  1164.623377\n",
       "20  ultra    9.0  539.443478  52.286957  19.243478  2024.347826"
      ]
     },
     "execution_count": 257,
     "metadata": {},
     "output_type": "execute_result"
    }
   ],
   "source": [
    "# возьмём уже созданную таблицу и посчитаем среднее\n",
    "\n",
    "users_by_month_mean = users_details.groupby(['tariff', 'month'])[['mins_total',\n",
    "                                                                  'sms_total', \n",
    "                                                                  'gb_total',\n",
    "                                                                  'monthly_income']].mean().reset_index()\n",
    "\n",
    "users_by_month_mean.columns = ['tariff', 'month', 'minutes', 'messages', 'gigabytes', 'money']\n",
    "\n",
    "users_by_month_mean.sample(10)"
   ]
  },
  {
   "cell_type": "code",
   "execution_count": 258,
   "metadata": {},
   "outputs": [],
   "source": [
    "# и снова разделим на две таблицы по тарифу\n",
    "\n",
    "smart_users_by_month_mean = users_by_month_mean.query('tariff==\"smart\"')\n",
    "\n",
    "ultra_users_by_month_mean = users_by_month_mean.query('tariff==\"ultra\"').reset_index(drop=True)"
   ]
  },
  {
   "cell_type": "code",
   "execution_count": 259,
   "metadata": {
    "scrolled": false
   },
   "outputs": [
    {
     "data": {
      "text/html": [
       "<div>\n",
       "<style scoped>\n",
       "    .dataframe tbody tr th:only-of-type {\n",
       "        vertical-align: middle;\n",
       "    }\n",
       "\n",
       "    .dataframe tbody tr th {\n",
       "        vertical-align: top;\n",
       "    }\n",
       "\n",
       "    .dataframe thead th {\n",
       "        text-align: right;\n",
       "    }\n",
       "</style>\n",
       "<table border=\"1\" class=\"dataframe\">\n",
       "  <thead>\n",
       "    <tr style=\"text-align: right;\">\n",
       "      <th></th>\n",
       "      <th>tariff</th>\n",
       "      <th>month</th>\n",
       "      <th>minutes</th>\n",
       "      <th>messages</th>\n",
       "      <th>gigabytes</th>\n",
       "      <th>money</th>\n",
       "    </tr>\n",
       "  </thead>\n",
       "  <tbody>\n",
       "    <tr>\n",
       "      <th>0</th>\n",
       "      <td>smart</td>\n",
       "      <td>1.0</td>\n",
       "      <td>203.852941</td>\n",
       "      <td>18.235294</td>\n",
       "      <td>8.735294</td>\n",
       "      <td>721.323529</td>\n",
       "    </tr>\n",
       "    <tr>\n",
       "      <th>1</th>\n",
       "      <td>smart</td>\n",
       "      <td>2.0</td>\n",
       "      <td>298.689655</td>\n",
       "      <td>24.086207</td>\n",
       "      <td>11.844828</td>\n",
       "      <td>827.603448</td>\n",
       "    </tr>\n",
       "    <tr>\n",
       "      <th>2</th>\n",
       "      <td>smart</td>\n",
       "      <td>3.0</td>\n",
       "      <td>390.051948</td>\n",
       "      <td>31.857143</td>\n",
       "      <td>15.233766</td>\n",
       "      <td>1164.623377</td>\n",
       "    </tr>\n",
       "    <tr>\n",
       "      <th>3</th>\n",
       "      <td>smart</td>\n",
       "      <td>4.0</td>\n",
       "      <td>367.133929</td>\n",
       "      <td>30.741071</td>\n",
       "      <td>13.625000</td>\n",
       "      <td>963.089286</td>\n",
       "    </tr>\n",
       "    <tr>\n",
       "      <th>4</th>\n",
       "      <td>smart</td>\n",
       "      <td>5.0</td>\n",
       "      <td>387.361702</td>\n",
       "      <td>33.773050</td>\n",
       "      <td>15.907801</td>\n",
       "      <td>1197.510638</td>\n",
       "    </tr>\n",
       "  </tbody>\n",
       "</table>\n",
       "</div>"
      ],
      "text/plain": [
       "  tariff  month     minutes   messages  gigabytes        money\n",
       "0  smart    1.0  203.852941  18.235294   8.735294   721.323529\n",
       "1  smart    2.0  298.689655  24.086207  11.844828   827.603448\n",
       "2  smart    3.0  390.051948  31.857143  15.233766  1164.623377\n",
       "3  smart    4.0  367.133929  30.741071  13.625000   963.089286\n",
       "4  smart    5.0  387.361702  33.773050  15.907801  1197.510638"
      ]
     },
     "metadata": {},
     "output_type": "display_data"
    },
    {
     "data": {
      "text/html": [
       "<div>\n",
       "<style scoped>\n",
       "    .dataframe tbody tr th:only-of-type {\n",
       "        vertical-align: middle;\n",
       "    }\n",
       "\n",
       "    .dataframe tbody tr th {\n",
       "        vertical-align: top;\n",
       "    }\n",
       "\n",
       "    .dataframe thead th {\n",
       "        text-align: right;\n",
       "    }\n",
       "</style>\n",
       "<table border=\"1\" class=\"dataframe\">\n",
       "  <thead>\n",
       "    <tr style=\"text-align: right;\">\n",
       "      <th></th>\n",
       "      <th>tariff</th>\n",
       "      <th>month</th>\n",
       "      <th>minutes</th>\n",
       "      <th>messages</th>\n",
       "      <th>gigabytes</th>\n",
       "      <th>money</th>\n",
       "    </tr>\n",
       "  </thead>\n",
       "  <tbody>\n",
       "    <tr>\n",
       "      <th>0</th>\n",
       "      <td>ultra</td>\n",
       "      <td>1.0</td>\n",
       "      <td>428.111111</td>\n",
       "      <td>33.777778</td>\n",
       "      <td>13.222222</td>\n",
       "      <td>1950.000000</td>\n",
       "    </tr>\n",
       "    <tr>\n",
       "      <th>1</th>\n",
       "      <td>ultra</td>\n",
       "      <td>2.0</td>\n",
       "      <td>297.125000</td>\n",
       "      <td>21.958333</td>\n",
       "      <td>12.000000</td>\n",
       "      <td>1975.000000</td>\n",
       "    </tr>\n",
       "    <tr>\n",
       "      <th>2</th>\n",
       "      <td>ultra</td>\n",
       "      <td>3.0</td>\n",
       "      <td>489.648649</td>\n",
       "      <td>32.297297</td>\n",
       "      <td>17.648649</td>\n",
       "      <td>2014.864865</td>\n",
       "    </tr>\n",
       "    <tr>\n",
       "      <th>3</th>\n",
       "      <td>ultra</td>\n",
       "      <td>4.0</td>\n",
       "      <td>458.018182</td>\n",
       "      <td>31.563636</td>\n",
       "      <td>16.963636</td>\n",
       "      <td>2001.818182</td>\n",
       "    </tr>\n",
       "    <tr>\n",
       "      <th>4</th>\n",
       "      <td>ultra</td>\n",
       "      <td>5.0</td>\n",
       "      <td>510.328358</td>\n",
       "      <td>37.850746</td>\n",
       "      <td>19.373134</td>\n",
       "      <td>2059.701493</td>\n",
       "    </tr>\n",
       "  </tbody>\n",
       "</table>\n",
       "</div>"
      ],
      "text/plain": [
       "  tariff  month     minutes   messages  gigabytes        money\n",
       "0  ultra    1.0  428.111111  33.777778  13.222222  1950.000000\n",
       "1  ultra    2.0  297.125000  21.958333  12.000000  1975.000000\n",
       "2  ultra    3.0  489.648649  32.297297  17.648649  2014.864865\n",
       "3  ultra    4.0  458.018182  31.563636  16.963636  2001.818182\n",
       "4  ultra    5.0  510.328358  37.850746  19.373134  2059.701493"
      ]
     },
     "execution_count": 259,
     "metadata": {},
     "output_type": "execute_result"
    }
   ],
   "source": [
    "# проверка\n",
    "\n",
    "display(smart_users_by_month_mean.head())\n",
    "(ultra_users_by_month_mean.head())"
   ]
  },
  {
   "cell_type": "code",
   "execution_count": 260,
   "metadata": {},
   "outputs": [
    {
     "data": {
      "text/html": [
       "<div>\n",
       "<style scoped>\n",
       "    .dataframe tbody tr th:only-of-type {\n",
       "        vertical-align: middle;\n",
       "    }\n",
       "\n",
       "    .dataframe tbody tr th {\n",
       "        vertical-align: top;\n",
       "    }\n",
       "\n",
       "    .dataframe thead th {\n",
       "        text-align: right;\n",
       "    }\n",
       "</style>\n",
       "<table border=\"1\" class=\"dataframe\">\n",
       "  <thead>\n",
       "    <tr style=\"text-align: right;\">\n",
       "      <th></th>\n",
       "      <th>month</th>\n",
       "      <th>minutes</th>\n",
       "      <th>messages</th>\n",
       "      <th>gigabytes</th>\n",
       "      <th>money</th>\n",
       "    </tr>\n",
       "  </thead>\n",
       "  <tbody>\n",
       "    <tr>\n",
       "      <th>count</th>\n",
       "      <td>12.000000</td>\n",
       "      <td>12.000000</td>\n",
       "      <td>12.000000</td>\n",
       "      <td>12.000000</td>\n",
       "      <td>12.000000</td>\n",
       "    </tr>\n",
       "    <tr>\n",
       "      <th>mean</th>\n",
       "      <td>6.500000</td>\n",
       "      <td>386.642510</td>\n",
       "      <td>31.404336</td>\n",
       "      <td>15.194241</td>\n",
       "      <td>1179.670841</td>\n",
       "    </tr>\n",
       "    <tr>\n",
       "      <th>std</th>\n",
       "      <td>3.605551</td>\n",
       "      <td>72.099460</td>\n",
       "      <td>5.094809</td>\n",
       "      <td>2.621416</td>\n",
       "      <td>238.650345</td>\n",
       "    </tr>\n",
       "    <tr>\n",
       "      <th>min</th>\n",
       "      <td>1.000000</td>\n",
       "      <td>203.852941</td>\n",
       "      <td>18.235294</td>\n",
       "      <td>8.735294</td>\n",
       "      <td>721.323529</td>\n",
       "    </tr>\n",
       "    <tr>\n",
       "      <th>25%</th>\n",
       "      <td>3.750000</td>\n",
       "      <td>382.304759</td>\n",
       "      <td>31.578125</td>\n",
       "      <td>14.831575</td>\n",
       "      <td>1114.239854</td>\n",
       "    </tr>\n",
       "    <tr>\n",
       "      <th>50%</th>\n",
       "      <td>6.500000</td>\n",
       "      <td>401.996739</td>\n",
       "      <td>33.638380</td>\n",
       "      <td>15.929510</td>\n",
       "      <td>1213.984271</td>\n",
       "    </tr>\n",
       "    <tr>\n",
       "      <th>75%</th>\n",
       "      <td>9.250000</td>\n",
       "      <td>426.754925</td>\n",
       "      <td>33.767242</td>\n",
       "      <td>16.772366</td>\n",
       "      <td>1326.208676</td>\n",
       "    </tr>\n",
       "    <tr>\n",
       "      <th>max</th>\n",
       "      <td>12.000000</td>\n",
       "      <td>477.144970</td>\n",
       "      <td>35.887574</td>\n",
       "      <td>18.147929</td>\n",
       "      <td>1575.488166</td>\n",
       "    </tr>\n",
       "  </tbody>\n",
       "</table>\n",
       "</div>"
      ],
      "text/plain": [
       "           month     minutes   messages  gigabytes        money\n",
       "count  12.000000   12.000000  12.000000  12.000000    12.000000\n",
       "mean    6.500000  386.642510  31.404336  15.194241  1179.670841\n",
       "std     3.605551   72.099460   5.094809   2.621416   238.650345\n",
       "min     1.000000  203.852941  18.235294   8.735294   721.323529\n",
       "25%     3.750000  382.304759  31.578125  14.831575  1114.239854\n",
       "50%     6.500000  401.996739  33.638380  15.929510  1213.984271\n",
       "75%     9.250000  426.754925  33.767242  16.772366  1326.208676\n",
       "max    12.000000  477.144970  35.887574  18.147929  1575.488166"
      ]
     },
     "metadata": {},
     "output_type": "display_data"
    },
    {
     "data": {
      "text/html": [
       "<div>\n",
       "<style scoped>\n",
       "    .dataframe tbody tr th:only-of-type {\n",
       "        vertical-align: middle;\n",
       "    }\n",
       "\n",
       "    .dataframe tbody tr th {\n",
       "        vertical-align: top;\n",
       "    }\n",
       "\n",
       "    .dataframe thead th {\n",
       "        text-align: right;\n",
       "    }\n",
       "</style>\n",
       "<table border=\"1\" class=\"dataframe\">\n",
       "  <thead>\n",
       "    <tr style=\"text-align: right;\">\n",
       "      <th></th>\n",
       "      <th>month</th>\n",
       "      <th>minutes</th>\n",
       "      <th>messages</th>\n",
       "      <th>gigabytes</th>\n",
       "      <th>money</th>\n",
       "    </tr>\n",
       "  </thead>\n",
       "  <tbody>\n",
       "    <tr>\n",
       "      <th>count</th>\n",
       "      <td>12.000000</td>\n",
       "      <td>12.000000</td>\n",
       "      <td>12.000000</td>\n",
       "      <td>12.000000</td>\n",
       "      <td>12.000000</td>\n",
       "    </tr>\n",
       "    <tr>\n",
       "      <th>mean</th>\n",
       "      <td>6.500000</td>\n",
       "      <td>495.581450</td>\n",
       "      <td>43.678905</td>\n",
       "      <td>18.245996</td>\n",
       "      <td>2046.820446</td>\n",
       "    </tr>\n",
       "    <tr>\n",
       "      <th>std</th>\n",
       "      <td>3.605551</td>\n",
       "      <td>76.976806</td>\n",
       "      <td>12.267012</td>\n",
       "      <td>2.905004</td>\n",
       "      <td>56.692719</td>\n",
       "    </tr>\n",
       "    <tr>\n",
       "      <th>min</th>\n",
       "      <td>1.000000</td>\n",
       "      <td>297.125000</td>\n",
       "      <td>21.958333</td>\n",
       "      <td>12.000000</td>\n",
       "      <td>1950.000000</td>\n",
       "    </tr>\n",
       "    <tr>\n",
       "      <th>25%</th>\n",
       "      <td>3.750000</td>\n",
       "      <td>474.281331</td>\n",
       "      <td>33.407658</td>\n",
       "      <td>17.477396</td>\n",
       "      <td>2011.603194</td>\n",
       "    </tr>\n",
       "    <tr>\n",
       "      <th>50%</th>\n",
       "      <td>6.500000</td>\n",
       "      <td>510.552030</td>\n",
       "      <td>45.082721</td>\n",
       "      <td>19.308306</td>\n",
       "      <td>2049.493603</td>\n",
       "    </tr>\n",
       "    <tr>\n",
       "      <th>75%</th>\n",
       "      <td>9.250000</td>\n",
       "      <td>542.483250</td>\n",
       "      <td>53.162979</td>\n",
       "      <td>19.870738</td>\n",
       "      <td>2085.424222</td>\n",
       "    </tr>\n",
       "    <tr>\n",
       "      <th>max</th>\n",
       "      <td>12.000000</td>\n",
       "      <td>588.571429</td>\n",
       "      <td>60.178571</td>\n",
       "      <td>21.585714</td>\n",
       "      <td>2137.500000</td>\n",
       "    </tr>\n",
       "  </tbody>\n",
       "</table>\n",
       "</div>"
      ],
      "text/plain": [
       "           month     minutes   messages  gigabytes        money\n",
       "count  12.000000   12.000000  12.000000  12.000000    12.000000\n",
       "mean    6.500000  495.581450  43.678905  18.245996  2046.820446\n",
       "std     3.605551   76.976806  12.267012   2.905004    56.692719\n",
       "min     1.000000  297.125000  21.958333  12.000000  1950.000000\n",
       "25%     3.750000  474.281331  33.407658  17.477396  2011.603194\n",
       "50%     6.500000  510.552030  45.082721  19.308306  2049.493603\n",
       "75%     9.250000  542.483250  53.162979  19.870738  2085.424222\n",
       "max    12.000000  588.571429  60.178571  21.585714  2137.500000"
      ]
     },
     "execution_count": 260,
     "metadata": {},
     "output_type": "execute_result"
    }
   ],
   "source": [
    "display(smart_users_by_month_mean.describe())\n",
    "(ultra_users_by_month_mean.describe())"
   ]
  },
  {
   "cell_type": "code",
   "execution_count": 261,
   "metadata": {},
   "outputs": [
    {
     "data": {
      "text/html": [
       "<div>\n",
       "<style scoped>\n",
       "    .dataframe tbody tr th:only-of-type {\n",
       "        vertical-align: middle;\n",
       "    }\n",
       "\n",
       "    .dataframe tbody tr th {\n",
       "        vertical-align: top;\n",
       "    }\n",
       "\n",
       "    .dataframe thead th {\n",
       "        text-align: right;\n",
       "    }\n",
       "</style>\n",
       "<table border=\"1\" class=\"dataframe\">\n",
       "  <thead>\n",
       "    <tr style=\"text-align: right;\">\n",
       "      <th></th>\n",
       "      <th>messages_included</th>\n",
       "      <th>mb_per_month_included</th>\n",
       "      <th>minutes_included</th>\n",
       "      <th>rub_monthly_fee</th>\n",
       "      <th>rub_per_gb</th>\n",
       "      <th>rub_per_message</th>\n",
       "      <th>rub_per_minute</th>\n",
       "      <th>tariff_name</th>\n",
       "    </tr>\n",
       "  </thead>\n",
       "  <tbody>\n",
       "    <tr>\n",
       "      <th>0</th>\n",
       "      <td>50</td>\n",
       "      <td>15360</td>\n",
       "      <td>500</td>\n",
       "      <td>550</td>\n",
       "      <td>200</td>\n",
       "      <td>3</td>\n",
       "      <td>3</td>\n",
       "      <td>smart</td>\n",
       "    </tr>\n",
       "    <tr>\n",
       "      <th>1</th>\n",
       "      <td>1000</td>\n",
       "      <td>30720</td>\n",
       "      <td>3000</td>\n",
       "      <td>1950</td>\n",
       "      <td>150</td>\n",
       "      <td>1</td>\n",
       "      <td>1</td>\n",
       "      <td>ultra</td>\n",
       "    </tr>\n",
       "  </tbody>\n",
       "</table>\n",
       "</div>"
      ],
      "text/plain": [
       "   messages_included  mb_per_month_included  minutes_included  \\\n",
       "0                 50                  15360               500   \n",
       "1               1000                  30720              3000   \n",
       "\n",
       "   rub_monthly_fee  rub_per_gb  rub_per_message  rub_per_minute tariff_name  \n",
       "0              550         200                3               3       smart  \n",
       "1             1950         150                1               1       ultra  "
      ]
     },
     "execution_count": 261,
     "metadata": {},
     "output_type": "execute_result"
    }
   ],
   "source": [
    "# снова вешаем перед глазами тарифы\n",
    "\n",
    "tariffs"
   ]
  },
  {
   "cell_type": "code",
   "execution_count": 262,
   "metadata": {},
   "outputs": [
    {
     "data": {
      "text/plain": [
       "Text(0, 0.5, 'Minutes')"
      ]
     },
     "execution_count": 262,
     "metadata": {},
     "output_type": "execute_result"
    },
    {
     "data": {
      "image/png": "[encoded data removed]",
      "text/plain": [
       "<Figure size 936x360 with 1 Axes>"
      ]
     },
     "metadata": {
      "needs_background": "light"
     },
     "output_type": "display_data"
    }
   ],
   "source": [
    "# сравнение средних минут\n",
    "\n",
    "month = smart_users_by_month_mean['month']\n",
    "\n",
    "plt.figure(figsize=(13,5))\n",
    "\n",
    "smart_minutes = smart_users_by_month_mean['minutes']\n",
    "ultra_minutes = smart_users_by_month_mean['minutes']\n",
    "\n",
    "x_index = month\n",
    "width = 0.5\n",
    "slimit = 500\n",
    "ulimit = 3000\n",
    "\n",
    "plt.bar(x_index-width, smart_minutes, width=width, label='Smart')\n",
    "plt.bar(x_index, ultra_minutes, width=width, label='Ultra')\n",
    "\n",
    "plt.axhline(y=slimit, label='Limit для Smart', color='blue')\n",
    "plt.axhline(y=ulimit, label='Limit для Ultra', color='red')\n",
    "\n",
    "plt.legend()\n",
    "plt.grid()\n",
    "plt.title('Minutes Smart vs. Ultra')\n",
    "plt.xlabel('Month')\n",
    "plt.ylabel('Minutes')"
   ]
  },
  {
   "cell_type": "code",
   "execution_count": 263,
   "metadata": {},
   "outputs": [
    {
     "data": {
      "text/plain": [
       "Text(0, 0.5, 'Minutes')"
      ]
     },
     "execution_count": 263,
     "metadata": {},
     "output_type": "execute_result"
    },
    {
     "data": {
      "image/png": "[encoded data removed]",
      "text/plain": [
       "<Figure size 936x360 with 1 Axes>"
      ]
     },
     "metadata": {
      "needs_background": "light"
     },
     "output_type": "display_data"
    }
   ],
   "source": [
    "# сравнение средних сообщений\n",
    "\n",
    "month = smart_users_by_month_mean['month']\n",
    "\n",
    "plt.figure(figsize=(13,5))\n",
    "\n",
    "smart_messages = smart_users_by_month_mean['messages']\n",
    "ultra_messages = ultra_users_by_month_mean['messages']\n",
    "\n",
    "x_index = month\n",
    "width = 0.5\n",
    "slimit = 50\n",
    "ulimit = 1000\n",
    "\n",
    "plt.bar(x_index-width, smart_messages, width=width, label='Smart')\n",
    "plt.bar(x_index, ultra_messages, width=width, label='Ultra')\n",
    "\n",
    "plt.axhline(y=slimit, label='Limit для Smart', color='blue')\n",
    "plt.axhline(y=ulimit, label='Limit для Ultra', color='red')\n",
    "\n",
    "plt.legend()\n",
    "plt.grid()\n",
    "plt.title('Messages Smart vs. Ultra')\n",
    "plt.xlabel('Month')\n",
    "plt.ylabel('Minutes')"
   ]
  },
  {
   "cell_type": "code",
   "execution_count": 264,
   "metadata": {},
   "outputs": [
    {
     "data": {
      "text/plain": [
       "Text(0, 0.5, 'GB')"
      ]
     },
     "execution_count": 264,
     "metadata": {},
     "output_type": "execute_result"
    },
    {
     "data": {
      "image/png": "[encoded data removed]",
      "text/plain": [
       "<Figure size 936x360 with 1 Axes>"
      ]
     },
     "metadata": {
      "needs_background": "light"
     },
     "output_type": "display_data"
    }
   ],
   "source": [
    "# сравнение средних интернетов\n",
    "\n",
    "month = smart_users_by_month['month']\n",
    "\n",
    "plt.figure(figsize=(13,5))\n",
    "\n",
    "smart_internet = smart_users_by_month_mean['gigabytes']\n",
    "ultra_internet = ultra_users_by_month_mean['gigabytes']\n",
    "\n",
    "plt.bar(x_index-width, smart_internet, width=width, label='Smart')\n",
    "plt.bar(x_index, ultra_internet, width=width, label='Ultra')\n",
    "\n",
    "x_index = month\n",
    "width = 0.5\n",
    "slimit = 15\n",
    "ulimit = 30\n",
    "\n",
    "plt.axhline(y=slimit, label='Limit для Smart', color='blue')\n",
    "plt.axhline(y=ulimit, label='Limit для Ultra', color='red')\n",
    "\n",
    "plt.legend()\n",
    "plt.grid()\n",
    "plt.title('Internet Smart vs. Ultra')\n",
    "plt.xlabel('Month')\n",
    "plt.ylabel('GB')"
   ]
  },
  {
   "cell_type": "code",
   "execution_count": 265,
   "metadata": {
    "scrolled": true
   },
   "outputs": [
    {
     "data": {
      "text/plain": [
       "Text(0, 0.5, 'RUB')"
      ]
     },
     "execution_count": 265,
     "metadata": {},
     "output_type": "execute_result"
    },
    {
     "data": {
      "image/png": "[encoded data removed]",
      "text/plain": [
       "<Figure size 936x360 with 1 Axes>"
      ]
     },
     "metadata": {
      "needs_background": "light"
     },
     "output_type": "display_data"
    }
   ],
   "source": [
    "# сравнение средних доходов\n",
    "\n",
    "month = smart_users_by_month['month']\n",
    "\n",
    "plt.figure(figsize=(13,5))\n",
    "\n",
    "smart_money = smart_users_by_month_mean['money']\n",
    "ultra_money = ultra_users_by_month_mean['money']\n",
    "\n",
    "plt.bar(x_index-width, smart_money, width=width, label='Smart')\n",
    "plt.bar(x_index, ultra_money, width=width, label='Ultra')\n",
    "\n",
    "x_index = month\n",
    "width = 0.5\n",
    "slimit = 550\n",
    "ulimit = 1950\n",
    "\n",
    "plt.axhline(y=slimit, label='Limit для Smart', color='blue')\n",
    "plt.axhline(y=ulimit, label='Limit для Ultra', color='red')\n",
    "\n",
    "plt.legend()\n",
    "plt.grid()\n",
    "plt.title('Money Smart vs. Ultra')\n",
    "plt.xlabel('Month')\n",
    "plt.ylabel('RUB')"
   ]
  },
  {
   "cell_type": "markdown",
   "metadata": {},
   "source": [
    "**Вывод:** Если прошлые графики ничего интересного не показывали, то здесь уже есть интересные моменты.  \n",
    "Ещё на этапе знакомства с характеристиками тарифов мне показались странными и непропорциональными соотношения количества минут (Смарт - 500, Ультра - 3000), сообщений (Смарт - всего 50, Ультра - уже 1000), а вот интернет бльше всего в 2 раза (Смарт - 15 и Ультра 30). Графики показали, что такие параметры Ультры невостребованы, никто не осваивает такие объёмы.  А вот параметры Смарта тесные, их часто, даже систематически превышают. Но переходить на Ультру, видимо, не собираются, т.к. и абонентская плата в месяц тоже разительно отличается (Смарт - 550 руб, Ультра - 1950 руб.). Очевидно, что даже с переплатами быть на Смарте выгоднее."
   ]
  },
  {
   "cell_type": "markdown",
   "metadata": {},
   "source": [
    "### Посчитаем дисперсию и стандартное отклонение"
   ]
  },
  {
   "cell_type": "code",
   "execution_count": 266,
   "metadata": {
    "scrolled": true
   },
   "outputs": [
    {
     "data": {
      "text/html": [
       "<div>\n",
       "<style scoped>\n",
       "    .dataframe tbody tr th:only-of-type {\n",
       "        vertical-align: middle;\n",
       "    }\n",
       "\n",
       "    .dataframe tbody tr th {\n",
       "        vertical-align: top;\n",
       "    }\n",
       "\n",
       "    .dataframe thead tr th {\n",
       "        text-align: left;\n",
       "    }\n",
       "\n",
       "    .dataframe thead tr:last-of-type th {\n",
       "        text-align: right;\n",
       "    }\n",
       "</style>\n",
       "<table border=\"1\" class=\"dataframe\">\n",
       "  <thead>\n",
       "    <tr>\n",
       "      <th></th>\n",
       "      <th colspan=\"4\" halign=\"left\">var</th>\n",
       "      <th colspan=\"4\" halign=\"left\">std</th>\n",
       "    </tr>\n",
       "    <tr>\n",
       "      <th></th>\n",
       "      <th>gb_total</th>\n",
       "      <th>mins_total</th>\n",
       "      <th>monthly_income</th>\n",
       "      <th>sms_total</th>\n",
       "      <th>gb_total</th>\n",
       "      <th>mins_total</th>\n",
       "      <th>monthly_income</th>\n",
       "      <th>sms_total</th>\n",
       "    </tr>\n",
       "    <tr>\n",
       "      <th>tariff</th>\n",
       "      <th></th>\n",
       "      <th></th>\n",
       "      <th></th>\n",
       "      <th></th>\n",
       "      <th></th>\n",
       "      <th></th>\n",
       "      <th></th>\n",
       "      <th></th>\n",
       "    </tr>\n",
       "  </thead>\n",
       "  <tbody>\n",
       "    <tr>\n",
       "      <th>smart</th>\n",
       "      <td>33.133453</td>\n",
       "      <td>36281.393836</td>\n",
       "      <td>669730.763895</td>\n",
       "      <td>796.955256</td>\n",
       "      <td>5.756167</td>\n",
       "      <td>190.476754</td>\n",
       "      <td>818.370799</td>\n",
       "      <td>28.230396</td>\n",
       "    </tr>\n",
       "    <tr>\n",
       "      <th>ultra</th>\n",
       "      <td>97.378544</td>\n",
       "      <td>101052.493549</td>\n",
       "      <td>141387.714809</td>\n",
       "      <td>2285.417425</td>\n",
       "      <td>9.868057</td>\n",
       "      <td>317.887549</td>\n",
       "      <td>376.015578</td>\n",
       "      <td>47.806040</td>\n",
       "    </tr>\n",
       "  </tbody>\n",
       "</table>\n",
       "</div>"
      ],
      "text/plain": [
       "              var                                                  std  \\\n",
       "         gb_total     mins_total monthly_income    sms_total  gb_total   \n",
       "tariff                                                                   \n",
       "smart   33.133453   36281.393836  669730.763895   796.955256  5.756167   \n",
       "ultra   97.378544  101052.493549  141387.714809  2285.417425  9.868057   \n",
       "\n",
       "                                              \n",
       "        mins_total monthly_income  sms_total  \n",
       "tariff                                        \n",
       "smart   190.476754     818.370799  28.230396  \n",
       "ultra   317.887549     376.015578  47.806040  "
      ]
     },
     "execution_count": 266,
     "metadata": {},
     "output_type": "execute_result"
    }
   ],
   "source": [
    "# создадим для этого сводную таблицу\n",
    "\n",
    "users_details.pivot_table(index = 'tariff',\n",
    "                          values = ['mins_total',\n",
    "                                    'sms_total',\n",
    "                                    'gb_total',\n",
    "                                    'monthly_income'],\n",
    "                          aggfunc = ['var',\n",
    "                                     'std'])"
   ]
  },
  {
   "cell_type": "markdown",
   "metadata": {},
   "source": [
    "**Вывод:** Все необходимые расчёты сделаны, переходим к гипотезам."
   ]
  },
  {
   "cell_type": "markdown",
   "metadata": {},
   "source": [
    "## Проверьте гипотезы"
   ]
  },
  {
   "cell_type": "markdown",
   "metadata": {},
   "source": [
    "### Первая: Cредняя выручка пользователей тарифов «Ультра» и «Смарт» различается"
   ]
  },
  {
   "cell_type": "markdown",
   "metadata": {},
   "source": [
    "Сформулируем гипотезы. Нулевую всегда формулируем с использованием знака равенства, поэтому:  \n",
    "\n",
    "- H₀ - средняя выручка пользователей тарифов «Ультра» и «Смарт» **равна**,  \n",
    "- H₁ - средняя выручка пользователей тарифов «Ультра» и «Смарт» **различается**.    \n",
    "\n",
    "Теперь проверим."
   ]
  },
  {
   "cell_type": "code",
   "execution_count": 267,
   "metadata": {},
   "outputs": [
    {
     "name": "stdout",
     "output_type": "stream",
     "text": [
      "Smart 1179.6708411517345\n",
      "Ultra 2046.820446288285\n"
     ]
    }
   ],
   "source": [
    "# выделим нужные столбцы и посчитаем сразу\n",
    "\n",
    "smart_income_mean = smart_users_by_month_mean['money']\n",
    "\n",
    "ultra_income_mean = ultra_users_by_month_mean['money']\n",
    "\n",
    "print('Smart', smart_income_mean.mean())\n",
    "print('Ultra', ultra_income_mean.mean())"
   ]
  },
  {
   "cell_type": "code",
   "execution_count": 268,
   "metadata": {},
   "outputs": [
    {
     "name": "stdout",
     "output_type": "stream",
     "text": [
      "p-значение: 2.6889368442571526e-11\n",
      "Отвергаем нулевую гипотезу\n"
     ]
    }
   ],
   "source": [
    "# зададим параметр alpha, такой в данном случае вполне уместен, суперточность не требуется\n",
    "\n",
    "alpha = 0.05\n",
    "\n",
    "results = st.ttest_ind(\n",
    "                        smart_income_mean,\n",
    "                        ultra_income_mean\n",
    ") \n",
    "\n",
    "print('p-значение:', results.pvalue)\n",
    "\n",
    "if results.pvalue < alpha:\n",
    "    print('Отвергаем нулевую гипотезу')\n",
    "else:\n",
    "    print('Не получилось отвергнуть нулевую гипотезу')"
   ]
  },
  {
   "cell_type": "markdown",
   "metadata": {},
   "source": [
    "**Вывод**: Отвергли гипотезу о равенстве средних выручек, они не равны."
   ]
  },
  {
   "cell_type": "markdown",
   "metadata": {},
   "source": [
    "### Вторая: Средняя выручка пользователей из Москвы отличается от выручки пользователей из других регионов"
   ]
  },
  {
   "cell_type": "markdown",
   "metadata": {},
   "source": [
    "Снова сформулируем гипотезы. Нулевую всегда формулируем с использованием знака равенства, поэтому:  \n",
    "- H₀ - средняя выручка пользователей из Москвы **равна** выручке пользователей из других регионов,  \n",
    "- H₁ - Средняя выручка пользователей из Москвы **отличается** от выручки пользователей из других регионов.  \n",
    "\n",
    "Теперь проверим."
   ]
  },
  {
   "cell_type": "code",
   "execution_count": 269,
   "metadata": {},
   "outputs": [],
   "source": [
    "# создадим нужные выборки, по Москве\n",
    "\n",
    "income_mean_moscow = users_details.query('city == \"Москва\"')['monthly_income']"
   ]
  },
  {
   "cell_type": "code",
   "execution_count": 270,
   "metadata": {},
   "outputs": [
    {
     "data": {
      "text/plain": [
       "1546.7135842880523"
      ]
     },
     "execution_count": 270,
     "metadata": {},
     "output_type": "execute_result"
    }
   ],
   "source": [
    "# проверка и сразу среднее заодно\n",
    "\n",
    "income_mean_moscow.mean()"
   ]
  },
  {
   "cell_type": "code",
   "execution_count": 271,
   "metadata": {},
   "outputs": [],
   "source": [
    "# и всё остальное\n",
    "\n",
    "income_mean_not_moscow = users_details.query('city != \"Москва\"')['monthly_income']"
   ]
  },
  {
   "cell_type": "code",
   "execution_count": 272,
   "metadata": {},
   "outputs": [
    {
     "data": {
      "text/plain": [
       "1524.7251439539348"
      ]
     },
     "execution_count": 272,
     "metadata": {},
     "output_type": "execute_result"
    }
   ],
   "source": [
    "# проверка\n",
    "\n",
    "income_mean_not_moscow.mean()"
   ]
  },
  {
   "cell_type": "code",
   "execution_count": 273,
   "metadata": {},
   "outputs": [
    {
     "name": "stdout",
     "output_type": "stream",
     "text": [
      "p-значение: 0.5400751614511182\n",
      "Не получилось отвергнуть нулевую гипотезу\n"
     ]
    }
   ],
   "source": [
    "# снова зададим такой же параметр alpha, в данном случае он вполне уместен, суперточность не требуется\n",
    "\n",
    "alpha = 0.05\n",
    "\n",
    "results = st.ttest_ind(\n",
    "                        income_mean_moscow,\n",
    "                        income_mean_not_moscow\n",
    ") \n",
    "\n",
    "print('p-значение:', results.pvalue)\n",
    "\n",
    "if results.pvalue < alpha:\n",
    "    print('Отвергаем нулевую гипотезу')\n",
    "else:\n",
    "    print('Не получилось отвергнуть нулевую гипотезу')"
   ]
  },
  {
   "cell_type": "markdown",
   "metadata": {},
   "source": [
    "**Вывод:** Средняя выручка пользователей из Москвы отличается от выручки пользователей из других регионов. Но ненамного, выручка от пользователей не из Москвы чуть больше. Видимо, СпБ внёс свою долю."
   ]
  },
  {
   "cell_type": "markdown",
   "metadata": {},
   "source": [
    "## Общий вывод"
   ]
  },
  {
   "cell_type": "markdown",
   "metadata": {},
   "source": [
    "Исходные данные были \"чистыми\", предобработка понадбилась минимальная, изменили типы данных, удалили ненужный столбец.\n",
    "В первый раз работали не с 1 датафреймом, а сразу с 5, для удобства создавали новые таблицы с нужными данными.  \n",
    "\n",
    "В процессе анализа было обнаружено, что у тарифа Ultra очень большие пороговые значения минут и сообщений, к ним даже близко никто не подбирается. А вот интернетом пользуются активно и часто превышают лимит.  \n",
    "\n",
    "В целом тариф Ультра выглядит несбалансированным, высокая абонентская плата отпугивает пользователей, поэтому большинство выбирают Смарт. Поэтому можно посоветовать компании-оператору понизить лимиты звонков и смс, добавить гигабайты, скорректировать абонентскую плату. Тогда тариф сможет стать привлекательным и его можно будет продвигать.  \n",
    "\n",
    "Таким образом, перспективный тариф для компании тот, который больше соответствует предпочтениям клиентов: умеренная абонентская плата, достаточное количество минут, смс, гигабайт. Уже давно пользователи используют смартфоны больше для пользования интернетом, чем по классике звонить и писать смс. На данный момент таким является Смарт. \n",
    "\n",
    "Также проверили две гипотезы. Первую гипотезу о  равенстве средних выручек отвергли, вторую гипотезу о равенстве средних выручек москвичей и все остальных отвергнуть не удалось.\n",
    "\n",
    "В итоге, отвечая на главный вопрос исследования, рекомендуем продвигать тариф Смарт, т.к. он приносит больше денег компании. Но также посоветуем прислушаться к советам о корректировке тарифа Ультра. Поведение абонентов меняется со временем, и нужно это отслеживать, иначе их могут отобрать конкуренты с более привлекательными условиями тарифов.\n"
   ]
  }
 ],
 "metadata": {
  "ExecuteTimeLog": [
   {
    "duration": 4,
    "start_time": "2022-04-12T05:47:20.051Z"
   },
   {
    "duration": 1212,
    "start_time": "2022-04-12T05:49:58.177Z"
   },
   {
    "duration": 365,
    "start_time": "2022-04-12T05:51:43.741Z"
   },
   {
    "duration": 362,
    "start_time": "2022-04-12T05:51:53.302Z"
   },
   {
    "duration": 17,
    "start_time": "2022-04-12T05:52:00.685Z"
   },
   {
    "duration": 28,
    "start_time": "2022-04-12T05:52:46.021Z"
   },
   {
    "duration": 31,
    "start_time": "2022-04-12T06:28:40.741Z"
   },
   {
    "duration": 30,
    "start_time": "2022-04-12T06:29:08.147Z"
   },
   {
    "duration": 28,
    "start_time": "2022-04-12T06:29:50.612Z"
   },
   {
    "duration": 104,
    "start_time": "2022-04-12T06:30:21.741Z"
   },
   {
    "duration": 37,
    "start_time": "2022-04-12T06:30:52.687Z"
   },
   {
    "duration": 4,
    "start_time": "2022-04-12T06:31:01.904Z"
   },
   {
    "duration": 24,
    "start_time": "2022-04-12T06:31:06.883Z"
   },
   {
    "duration": 26,
    "start_time": "2022-04-12T06:31:48.836Z"
   },
   {
    "duration": 25,
    "start_time": "2022-04-12T06:32:27.365Z"
   },
   {
    "duration": 29,
    "start_time": "2022-04-12T06:32:58.746Z"
   },
   {
    "duration": 23,
    "start_time": "2022-04-12T06:35:19.165Z"
   },
   {
    "duration": 15,
    "start_time": "2022-04-12T06:35:56.485Z"
   },
   {
    "duration": 8,
    "start_time": "2022-04-12T06:36:42.220Z"
   },
   {
    "duration": 17,
    "start_time": "2022-04-12T06:36:55.671Z"
   },
   {
    "duration": 48,
    "start_time": "2022-04-12T07:08:13.754Z"
   },
   {
    "duration": 354,
    "start_time": "2022-04-12T07:40:12.028Z"
   },
   {
    "duration": 17,
    "start_time": "2022-04-12T07:41:07.434Z"
   },
   {
    "duration": 24,
    "start_time": "2022-04-12T07:42:01.783Z"
   },
   {
    "duration": 131,
    "start_time": "2022-04-12T08:03:56.873Z"
   },
   {
    "duration": 126,
    "start_time": "2022-04-12T08:04:03.722Z"
   },
   {
    "duration": 144,
    "start_time": "2022-04-12T08:04:10.359Z"
   },
   {
    "duration": 16,
    "start_time": "2022-04-12T08:04:25.030Z"
   },
   {
    "duration": 17,
    "start_time": "2022-04-12T12:20:02.176Z"
   },
   {
    "duration": 53,
    "start_time": "2022-04-12T12:20:05.724Z"
   },
   {
    "duration": 39,
    "start_time": "2022-04-12T12:20:33.598Z"
   },
   {
    "duration": 28,
    "start_time": "2022-04-12T12:20:54.251Z"
   },
   {
    "duration": 12,
    "start_time": "2022-04-12T12:42:34.512Z"
   },
   {
    "duration": 12,
    "start_time": "2022-04-12T12:42:56.019Z"
   },
   {
    "duration": 5,
    "start_time": "2022-04-12T12:43:08.064Z"
   },
   {
    "duration": 6,
    "start_time": "2022-04-12T12:43:32.582Z"
   },
   {
    "duration": 6,
    "start_time": "2022-04-12T12:44:42.353Z"
   },
   {
    "duration": 6,
    "start_time": "2022-04-12T12:45:29.535Z"
   },
   {
    "duration": 7,
    "start_time": "2022-04-12T12:45:42.446Z"
   },
   {
    "duration": 6,
    "start_time": "2022-04-12T12:47:52.019Z"
   },
   {
    "duration": 5,
    "start_time": "2022-04-12T12:48:01.195Z"
   },
   {
    "duration": 4,
    "start_time": "2022-04-12T12:48:43.282Z"
   },
   {
    "duration": 6,
    "start_time": "2022-04-12T12:49:01.675Z"
   },
   {
    "duration": 5,
    "start_time": "2022-04-12T12:49:11.903Z"
   },
   {
    "duration": 6,
    "start_time": "2022-04-12T12:49:38.575Z"
   },
   {
    "duration": 6,
    "start_time": "2022-04-12T12:49:54.977Z"
   },
   {
    "duration": 6,
    "start_time": "2022-04-12T13:18:01.574Z"
   },
   {
    "duration": 5,
    "start_time": "2022-04-12T13:18:19.168Z"
   },
   {
    "duration": 2869,
    "start_time": "2022-04-12T13:20:13.236Z"
   },
   {
    "duration": 65,
    "start_time": "2022-04-12T13:20:44.258Z"
   },
   {
    "duration": 5,
    "start_time": "2022-04-12T13:20:49.332Z"
   },
   {
    "duration": 5,
    "start_time": "2022-04-12T13:21:50.247Z"
   },
   {
    "duration": 6,
    "start_time": "2022-04-12T13:22:27.928Z"
   },
   {
    "duration": 24,
    "start_time": "2022-04-12T13:24:56.008Z"
   },
   {
    "duration": 5,
    "start_time": "2022-04-12T13:25:02.772Z"
   },
   {
    "duration": 7,
    "start_time": "2022-04-12T13:26:05.007Z"
   },
   {
    "duration": 37,
    "start_time": "2022-04-12T13:27:06.653Z"
   },
   {
    "duration": 6,
    "start_time": "2022-04-12T13:27:11.044Z"
   },
   {
    "duration": 9,
    "start_time": "2022-04-12T13:27:23.071Z"
   },
   {
    "duration": 23,
    "start_time": "2022-04-12T13:27:27.145Z"
   },
   {
    "duration": 6,
    "start_time": "2022-04-12T13:30:21.830Z"
   },
   {
    "duration": 6,
    "start_time": "2022-04-12T13:33:01.217Z"
   },
   {
    "duration": 11,
    "start_time": "2022-04-12T14:10:34.836Z"
   },
   {
    "duration": 22,
    "start_time": "2022-04-12T14:10:53.008Z"
   },
   {
    "duration": 49,
    "start_time": "2022-04-13T12:23:21.896Z"
   },
   {
    "duration": 1381,
    "start_time": "2022-04-13T12:23:30.209Z"
   },
   {
    "duration": 398,
    "start_time": "2022-04-13T12:23:31.593Z"
   },
   {
    "duration": 29,
    "start_time": "2022-04-13T12:23:31.992Z"
   },
   {
    "duration": 36,
    "start_time": "2022-04-13T12:23:32.023Z"
   },
   {
    "duration": 24,
    "start_time": "2022-04-13T12:23:32.061Z"
   },
   {
    "duration": 53,
    "start_time": "2022-04-13T12:23:32.087Z"
   },
   {
    "duration": 18,
    "start_time": "2022-04-13T12:23:32.141Z"
   },
   {
    "duration": 6,
    "start_time": "2022-04-13T12:23:32.160Z"
   },
   {
    "duration": 16,
    "start_time": "2022-04-13T12:23:32.168Z"
   },
   {
    "duration": 31,
    "start_time": "2022-04-13T12:23:32.187Z"
   },
   {
    "duration": 6,
    "start_time": "2022-04-13T12:23:32.220Z"
   },
   {
    "duration": 46,
    "start_time": "2022-04-13T12:23:32.227Z"
   },
   {
    "duration": 6,
    "start_time": "2022-04-13T12:23:32.274Z"
   },
   {
    "duration": 12,
    "start_time": "2022-04-13T12:23:32.282Z"
   },
   {
    "duration": 40,
    "start_time": "2022-04-13T12:23:32.296Z"
   },
   {
    "duration": 5,
    "start_time": "2022-04-13T12:23:32.338Z"
   },
   {
    "duration": 14,
    "start_time": "2022-04-13T12:23:32.345Z"
   },
   {
    "duration": 36,
    "start_time": "2022-04-13T12:23:32.361Z"
   },
   {
    "duration": 5,
    "start_time": "2022-04-13T12:23:32.398Z"
   },
   {
    "duration": 6,
    "start_time": "2022-04-13T12:23:32.417Z"
   },
   {
    "duration": 5,
    "start_time": "2022-04-13T12:24:24.847Z"
   },
   {
    "duration": 6,
    "start_time": "2022-04-13T12:24:42.090Z"
   },
   {
    "duration": 32,
    "start_time": "2022-04-13T12:24:54.489Z"
   },
   {
    "duration": 11,
    "start_time": "2022-04-13T12:25:14.597Z"
   },
   {
    "duration": 15,
    "start_time": "2022-04-13T12:25:24.874Z"
   },
   {
    "duration": 7,
    "start_time": "2022-04-13T12:28:47.892Z"
   },
   {
    "duration": 12,
    "start_time": "2022-04-13T12:29:05.101Z"
   },
   {
    "duration": 10,
    "start_time": "2022-04-13T12:29:17.573Z"
   },
   {
    "duration": 25,
    "start_time": "2022-04-13T12:29:25.484Z"
   },
   {
    "duration": 13,
    "start_time": "2022-04-13T12:40:55.132Z"
   },
   {
    "duration": 150,
    "start_time": "2022-04-13T13:51:30.442Z"
   },
   {
    "duration": 14,
    "start_time": "2022-04-13T13:58:24.483Z"
   },
   {
    "duration": 110,
    "start_time": "2022-04-13T14:01:04.891Z"
   },
   {
    "duration": 73,
    "start_time": "2022-04-13T14:01:51.638Z"
   },
   {
    "duration": 62,
    "start_time": "2022-04-13T14:02:23.687Z"
   },
   {
    "duration": 22,
    "start_time": "2022-04-13T14:02:47.505Z"
   },
   {
    "duration": 3,
    "start_time": "2022-04-13T14:16:45.619Z"
   },
   {
    "duration": 4,
    "start_time": "2022-04-13T14:16:49.794Z"
   },
   {
    "duration": 65,
    "start_time": "2022-04-13T14:17:38.761Z"
   },
   {
    "duration": 21,
    "start_time": "2022-04-13T14:17:52.715Z"
   },
   {
    "duration": 14,
    "start_time": "2022-04-13T14:17:55.651Z"
   },
   {
    "duration": 9,
    "start_time": "2022-04-13T14:18:16.858Z"
   },
   {
    "duration": 10,
    "start_time": "2022-04-13T14:18:27.744Z"
   },
   {
    "duration": 24,
    "start_time": "2022-04-13T14:18:57.050Z"
   },
   {
    "duration": 9,
    "start_time": "2022-04-13T14:19:03.778Z"
   },
   {
    "duration": 25,
    "start_time": "2022-04-13T14:22:11.556Z"
   },
   {
    "duration": 9,
    "start_time": "2022-04-13T14:22:28.982Z"
   },
   {
    "duration": 13,
    "start_time": "2022-04-13T14:23:26.889Z"
   },
   {
    "duration": 337,
    "start_time": "2022-04-13T14:25:44.600Z"
   },
   {
    "duration": 15,
    "start_time": "2022-04-13T14:25:48.678Z"
   },
   {
    "duration": 271,
    "start_time": "2022-04-13T14:26:04.136Z"
   },
   {
    "duration": 15,
    "start_time": "2022-04-13T14:26:11.181Z"
   },
   {
    "duration": 265,
    "start_time": "2022-04-13T14:26:56.566Z"
   },
   {
    "duration": 15,
    "start_time": "2022-04-13T14:26:59.021Z"
   },
   {
    "duration": 290,
    "start_time": "2022-04-13T14:27:10.659Z"
   },
   {
    "duration": 14,
    "start_time": "2022-04-13T14:27:12.518Z"
   },
   {
    "duration": 31,
    "start_time": "2022-04-13T14:27:37.213Z"
   },
   {
    "duration": 12,
    "start_time": "2022-04-13T14:27:40.050Z"
   },
   {
    "duration": 11,
    "start_time": "2022-04-13T14:28:58.253Z"
   },
   {
    "duration": 312,
    "start_time": "2022-04-13T14:29:29.379Z"
   },
   {
    "duration": 15,
    "start_time": "2022-04-13T14:29:31.463Z"
   },
   {
    "duration": 23,
    "start_time": "2022-04-13T14:29:43.893Z"
   },
   {
    "duration": 14,
    "start_time": "2022-04-13T14:29:46.380Z"
   },
   {
    "duration": 318,
    "start_time": "2022-04-13T14:30:05.352Z"
   },
   {
    "duration": 14,
    "start_time": "2022-04-13T14:30:07.398Z"
   },
   {
    "duration": 18,
    "start_time": "2022-04-13T14:32:42.135Z"
   },
   {
    "duration": 12,
    "start_time": "2022-04-13T14:32:44.481Z"
   },
   {
    "duration": 253,
    "start_time": "2022-04-13T14:33:18.537Z"
   },
   {
    "duration": 14,
    "start_time": "2022-04-13T14:33:21.347Z"
   },
   {
    "duration": 17,
    "start_time": "2022-04-13T14:33:41.499Z"
   },
   {
    "duration": 11,
    "start_time": "2022-04-13T14:43:02.156Z"
   },
   {
    "duration": 7,
    "start_time": "2022-04-13T14:43:11.965Z"
   },
   {
    "duration": 20,
    "start_time": "2022-04-13T14:44:18.204Z"
   },
   {
    "duration": 9,
    "start_time": "2022-04-13T14:44:48.811Z"
   },
   {
    "duration": 22,
    "start_time": "2022-04-13T14:47:36.689Z"
   },
   {
    "duration": 13,
    "start_time": "2022-04-13T14:47:41.450Z"
   },
   {
    "duration": 11,
    "start_time": "2022-04-13T14:48:04.533Z"
   },
   {
    "duration": 23,
    "start_time": "2022-04-13T14:48:56.186Z"
   },
   {
    "duration": 19,
    "start_time": "2022-04-13T14:52:01.788Z"
   },
   {
    "duration": 8,
    "start_time": "2022-04-13T14:52:04.221Z"
   },
   {
    "duration": 17,
    "start_time": "2022-04-13T14:52:49.200Z"
   },
   {
    "duration": 9,
    "start_time": "2022-04-13T14:52:53.630Z"
   },
   {
    "duration": 23,
    "start_time": "2022-04-13T14:55:31.222Z"
   },
   {
    "duration": 9,
    "start_time": "2022-04-13T14:55:33.092Z"
   },
   {
    "duration": 172,
    "start_time": "2022-04-13T15:02:38.445Z"
   },
   {
    "duration": 136,
    "start_time": "2022-04-13T15:02:55.583Z"
   },
   {
    "duration": 141,
    "start_time": "2022-04-13T15:03:10.906Z"
   },
   {
    "duration": 141,
    "start_time": "2022-04-13T15:04:45.780Z"
   },
   {
    "duration": 755,
    "start_time": "2022-04-13T15:05:26.489Z"
   },
   {
    "duration": 151,
    "start_time": "2022-04-13T15:06:15.408Z"
   },
   {
    "duration": 245,
    "start_time": "2022-04-13T15:06:25.881Z"
   },
   {
    "duration": 154,
    "start_time": "2022-04-13T15:06:38.599Z"
   },
   {
    "duration": 24,
    "start_time": "2022-04-13T15:08:03.649Z"
   },
   {
    "duration": 11,
    "start_time": "2022-04-13T15:08:06.592Z"
   },
   {
    "duration": 24,
    "start_time": "2022-04-13T15:08:43.778Z"
   },
   {
    "duration": 23,
    "start_time": "2022-04-13T15:08:46.459Z"
   },
   {
    "duration": 10,
    "start_time": "2022-04-13T15:08:51.965Z"
   },
   {
    "duration": 24,
    "start_time": "2022-04-13T15:09:09.072Z"
   },
   {
    "duration": 9,
    "start_time": "2022-04-13T15:09:11.686Z"
   },
   {
    "duration": 18,
    "start_time": "2022-04-13T15:09:39.146Z"
   },
   {
    "duration": 7,
    "start_time": "2022-04-13T15:09:41.647Z"
   },
   {
    "duration": 20,
    "start_time": "2022-04-13T15:10:37.064Z"
   },
   {
    "duration": 20,
    "start_time": "2022-04-13T15:10:53.778Z"
   },
   {
    "duration": 2169,
    "start_time": "2022-04-13T15:12:41.129Z"
   },
   {
    "duration": 2073,
    "start_time": "2022-04-13T15:12:55.673Z"
   },
   {
    "duration": 7,
    "start_time": "2022-04-13T15:13:11.548Z"
   },
   {
    "duration": 6,
    "start_time": "2022-04-13T15:13:29.264Z"
   },
   {
    "duration": 2226,
    "start_time": "2022-04-13T15:13:43.986Z"
   },
   {
    "duration": 10,
    "start_time": "2022-04-13T15:13:53.123Z"
   },
   {
    "duration": 2989,
    "start_time": "2022-04-13T15:14:10.667Z"
   },
   {
    "duration": 2263,
    "start_time": "2022-04-13T15:14:20.573Z"
   },
   {
    "duration": 6,
    "start_time": "2022-04-13T15:14:39.686Z"
   },
   {
    "duration": 33,
    "start_time": "2022-04-13T16:43:20.018Z"
   },
   {
    "duration": 29,
    "start_time": "2022-04-13T16:43:53.719Z"
   },
   {
    "duration": 31,
    "start_time": "2022-04-13T16:44:05.992Z"
   },
   {
    "duration": 8,
    "start_time": "2022-04-13T16:46:39.634Z"
   },
   {
    "duration": 19,
    "start_time": "2022-04-13T16:49:23.475Z"
   },
   {
    "duration": 15,
    "start_time": "2022-04-13T16:49:38.458Z"
   },
   {
    "duration": 152,
    "start_time": "2022-04-13T17:03:08.347Z"
   },
   {
    "duration": 138,
    "start_time": "2022-04-13T17:04:03.681Z"
   },
   {
    "duration": 137,
    "start_time": "2022-04-13T17:04:19.214Z"
   },
   {
    "duration": 138,
    "start_time": "2022-04-13T17:05:25.789Z"
   },
   {
    "duration": 135,
    "start_time": "2022-04-13T17:05:31.152Z"
   },
   {
    "duration": 135,
    "start_time": "2022-04-13T17:05:47.786Z"
   },
   {
    "duration": 135,
    "start_time": "2022-04-13T17:05:53.003Z"
   },
   {
    "duration": 32,
    "start_time": "2022-04-13T17:06:41.959Z"
   },
   {
    "duration": 29,
    "start_time": "2022-04-13T17:06:51.293Z"
   },
   {
    "duration": 31,
    "start_time": "2022-04-13T17:07:52.710Z"
   },
   {
    "duration": 32,
    "start_time": "2022-04-13T17:07:55.632Z"
   },
   {
    "duration": 24,
    "start_time": "2022-04-13T17:08:17.194Z"
   },
   {
    "duration": 32,
    "start_time": "2022-04-13T17:08:20.982Z"
   },
   {
    "duration": 32,
    "start_time": "2022-04-13T17:08:22.883Z"
   },
   {
    "duration": 41,
    "start_time": "2022-04-13T17:08:43.509Z"
   },
   {
    "duration": 18,
    "start_time": "2022-04-13T17:09:02.988Z"
   },
   {
    "duration": 17,
    "start_time": "2022-04-13T17:09:13.976Z"
   },
   {
    "duration": 30,
    "start_time": "2022-04-13T17:09:45.450Z"
   },
   {
    "duration": 18,
    "start_time": "2022-04-13T17:09:49.028Z"
   },
   {
    "duration": 16,
    "start_time": "2022-04-13T17:09:54.715Z"
   },
   {
    "duration": 3,
    "start_time": "2022-04-13T17:10:40.150Z"
   },
   {
    "duration": 18,
    "start_time": "2022-04-13T17:10:46.831Z"
   },
   {
    "duration": 21,
    "start_time": "2022-04-13T17:10:58.511Z"
   },
   {
    "duration": 24,
    "start_time": "2022-04-13T17:12:21.473Z"
   },
   {
    "duration": 20,
    "start_time": "2022-04-13T17:15:43.780Z"
   },
   {
    "duration": 12,
    "start_time": "2022-04-13T17:15:54.067Z"
   },
   {
    "duration": 21,
    "start_time": "2022-04-13T17:16:11.476Z"
   },
   {
    "duration": 18,
    "start_time": "2022-04-13T17:16:28.476Z"
   },
   {
    "duration": 30,
    "start_time": "2022-04-13T17:18:30.495Z"
   },
   {
    "duration": 4,
    "start_time": "2022-04-13T17:20:16.653Z"
   },
   {
    "duration": 19,
    "start_time": "2022-04-13T17:21:05.750Z"
   },
   {
    "duration": 23,
    "start_time": "2022-04-13T17:21:07.777Z"
   },
   {
    "duration": 14,
    "start_time": "2022-04-13T17:21:24.574Z"
   },
   {
    "duration": 30,
    "start_time": "2022-04-13T17:22:07.071Z"
   },
   {
    "duration": 16,
    "start_time": "2022-04-13T17:22:47.511Z"
   },
   {
    "duration": 15,
    "start_time": "2022-04-13T17:23:31.479Z"
   },
   {
    "duration": 13,
    "start_time": "2022-04-13T17:23:48.785Z"
   },
   {
    "duration": 3,
    "start_time": "2022-04-13T17:23:53.007Z"
   },
   {
    "duration": 439,
    "start_time": "2022-04-13T17:23:53.012Z"
   },
   {
    "duration": 22,
    "start_time": "2022-04-13T17:23:53.453Z"
   },
   {
    "duration": 64,
    "start_time": "2022-04-13T17:23:53.477Z"
   },
   {
    "duration": 28,
    "start_time": "2022-04-13T17:23:53.543Z"
   },
   {
    "duration": 53,
    "start_time": "2022-04-13T17:23:53.573Z"
   },
   {
    "duration": 17,
    "start_time": "2022-04-13T17:23:53.628Z"
   },
   {
    "duration": 11,
    "start_time": "2022-04-13T17:23:53.647Z"
   },
   {
    "duration": 12,
    "start_time": "2022-04-13T17:23:53.660Z"
   },
   {
    "duration": 17,
    "start_time": "2022-04-13T17:23:53.674Z"
   },
   {
    "duration": 25,
    "start_time": "2022-04-13T17:23:53.694Z"
   },
   {
    "duration": 52,
    "start_time": "2022-04-13T17:23:53.721Z"
   },
   {
    "duration": 6,
    "start_time": "2022-04-13T17:23:53.774Z"
   },
   {
    "duration": 14,
    "start_time": "2022-04-13T17:23:53.781Z"
   },
   {
    "duration": 26,
    "start_time": "2022-04-13T17:23:53.798Z"
   },
   {
    "duration": 6,
    "start_time": "2022-04-13T17:23:53.826Z"
   },
   {
    "duration": 10,
    "start_time": "2022-04-13T17:23:53.833Z"
   },
   {
    "duration": 31,
    "start_time": "2022-04-13T17:23:53.845Z"
   },
   {
    "duration": 6,
    "start_time": "2022-04-13T17:23:53.878Z"
   },
   {
    "duration": 11,
    "start_time": "2022-04-13T17:23:53.886Z"
   },
   {
    "duration": 32,
    "start_time": "2022-04-13T17:23:53.899Z"
   },
   {
    "duration": 14,
    "start_time": "2022-04-13T17:23:53.933Z"
   },
   {
    "duration": 30,
    "start_time": "2022-04-13T17:23:53.949Z"
   },
   {
    "duration": 66,
    "start_time": "2022-04-13T17:23:53.981Z"
   },
   {
    "duration": 20,
    "start_time": "2022-04-13T17:23:54.049Z"
   },
   {
    "duration": 23,
    "start_time": "2022-04-13T17:23:54.071Z"
   },
   {
    "duration": 10,
    "start_time": "2022-04-13T17:23:54.117Z"
   },
   {
    "duration": 24,
    "start_time": "2022-04-13T17:23:54.128Z"
   },
   {
    "duration": 7,
    "start_time": "2022-04-13T17:23:54.156Z"
   },
   {
    "duration": 25,
    "start_time": "2022-04-13T17:23:54.165Z"
   },
   {
    "duration": 28,
    "start_time": "2022-04-13T17:23:54.192Z"
   },
   {
    "duration": 36,
    "start_time": "2022-04-13T17:23:54.222Z"
   },
   {
    "duration": 4,
    "start_time": "2022-04-13T17:23:54.259Z"
   },
   {
    "duration": 23,
    "start_time": "2022-04-13T17:23:54.264Z"
   },
   {
    "duration": 35,
    "start_time": "2022-04-13T17:23:54.289Z"
   },
   {
    "duration": 14,
    "start_time": "2022-04-13T17:36:59.594Z"
   },
   {
    "duration": 40,
    "start_time": "2022-04-13T17:40:12.009Z"
   },
   {
    "duration": 13,
    "start_time": "2022-04-13T17:41:33.599Z"
   },
   {
    "duration": 13,
    "start_time": "2022-04-13T17:41:49.912Z"
   },
   {
    "duration": 35,
    "start_time": "2022-04-13T17:42:05.444Z"
   },
   {
    "duration": 29,
    "start_time": "2022-04-13T17:44:41.337Z"
   },
   {
    "duration": 32,
    "start_time": "2022-04-13T17:45:58.566Z"
   },
   {
    "duration": 23,
    "start_time": "2022-04-13T17:46:59.987Z"
   },
   {
    "duration": 16,
    "start_time": "2022-04-13T17:56:44.788Z"
   },
   {
    "duration": 63,
    "start_time": "2022-04-14T15:50:10.681Z"
   },
   {
    "duration": 1349,
    "start_time": "2022-04-14T15:50:15.209Z"
   },
   {
    "duration": 417,
    "start_time": "2022-04-14T15:50:16.560Z"
   },
   {
    "duration": 32,
    "start_time": "2022-04-14T15:50:16.979Z"
   },
   {
    "duration": 49,
    "start_time": "2022-04-14T15:50:17.014Z"
   },
   {
    "duration": 26,
    "start_time": "2022-04-14T15:50:17.064Z"
   },
   {
    "duration": 43,
    "start_time": "2022-04-14T15:50:17.111Z"
   },
   {
    "duration": 16,
    "start_time": "2022-04-14T15:50:17.156Z"
   },
   {
    "duration": 6,
    "start_time": "2022-04-14T15:50:17.173Z"
   },
   {
    "duration": 36,
    "start_time": "2022-04-14T15:50:17.180Z"
   },
   {
    "duration": 8,
    "start_time": "2022-04-14T15:50:17.219Z"
   },
   {
    "duration": 11,
    "start_time": "2022-04-14T15:50:17.229Z"
   },
   {
    "duration": 36,
    "start_time": "2022-04-14T15:50:17.242Z"
   },
   {
    "duration": 5,
    "start_time": "2022-04-14T15:50:17.280Z"
   },
   {
    "duration": 30,
    "start_time": "2022-04-14T15:50:17.287Z"
   },
   {
    "duration": 32,
    "start_time": "2022-04-14T15:50:17.319Z"
   },
   {
    "duration": 6,
    "start_time": "2022-04-14T15:50:17.353Z"
   },
   {
    "duration": 7,
    "start_time": "2022-04-14T15:50:17.361Z"
   },
   {
    "duration": 68,
    "start_time": "2022-04-14T15:50:17.370Z"
   },
   {
    "duration": 5,
    "start_time": "2022-04-14T15:50:17.441Z"
   },
   {
    "duration": 6,
    "start_time": "2022-04-14T15:50:17.448Z"
   },
   {
    "duration": 17,
    "start_time": "2022-04-14T15:50:17.456Z"
   },
   {
    "duration": 9,
    "start_time": "2022-04-14T15:50:17.475Z"
   },
   {
    "duration": 46,
    "start_time": "2022-04-14T15:50:17.486Z"
   },
   {
    "duration": 82,
    "start_time": "2022-04-14T15:50:17.537Z"
   },
   {
    "duration": 30,
    "start_time": "2022-04-14T15:50:17.622Z"
   },
   {
    "duration": 23,
    "start_time": "2022-04-14T15:50:17.654Z"
   },
   {
    "duration": 8,
    "start_time": "2022-04-14T15:50:17.679Z"
   },
   {
    "duration": 44,
    "start_time": "2022-04-14T15:50:17.697Z"
   },
   {
    "duration": 7,
    "start_time": "2022-04-14T15:50:17.744Z"
   },
   {
    "duration": 24,
    "start_time": "2022-04-14T15:50:17.753Z"
   },
   {
    "duration": 10,
    "start_time": "2022-04-14T15:50:17.779Z"
   },
   {
    "duration": 58,
    "start_time": "2022-04-14T15:50:17.791Z"
   },
   {
    "duration": 3,
    "start_time": "2022-04-14T15:50:17.850Z"
   },
   {
    "duration": 15,
    "start_time": "2022-04-14T15:50:17.855Z"
   },
   {
    "duration": 43,
    "start_time": "2022-04-14T15:50:17.872Z"
   },
   {
    "duration": 31,
    "start_time": "2022-04-14T15:50:17.918Z"
   },
   {
    "duration": 13,
    "start_time": "2022-04-14T15:50:17.951Z"
   },
   {
    "duration": 2,
    "start_time": "2022-04-14T15:52:50.490Z"
   },
   {
    "duration": 21,
    "start_time": "2022-04-14T15:52:57.530Z"
   },
   {
    "duration": 22,
    "start_time": "2022-04-14T15:55:24.424Z"
   },
   {
    "duration": 2,
    "start_time": "2022-04-14T15:55:32.271Z"
   },
   {
    "duration": 22,
    "start_time": "2022-04-14T15:59:10.177Z"
   },
   {
    "duration": 24,
    "start_time": "2022-04-14T16:01:05.177Z"
   },
   {
    "duration": 1306,
    "start_time": "2022-04-14T16:05:07.877Z"
   },
   {
    "duration": 13,
    "start_time": "2022-04-14T16:05:32.983Z"
   },
   {
    "duration": 29,
    "start_time": "2022-04-14T16:05:48.798Z"
   },
   {
    "duration": 6,
    "start_time": "2022-04-14T16:10:30.591Z"
   },
   {
    "duration": 15,
    "start_time": "2022-04-14T16:10:42.458Z"
   },
   {
    "duration": 560,
    "start_time": "2022-04-14T16:11:49.245Z"
   },
   {
    "duration": 14,
    "start_time": "2022-04-14T16:11:58.685Z"
   },
   {
    "duration": 25,
    "start_time": "2022-04-14T16:26:31.423Z"
   },
   {
    "duration": 22,
    "start_time": "2022-04-14T16:26:53.957Z"
   },
   {
    "duration": 6,
    "start_time": "2022-04-14T16:34:34.489Z"
   },
   {
    "duration": 11,
    "start_time": "2022-04-14T16:35:00.040Z"
   },
   {
    "duration": 13,
    "start_time": "2022-04-14T16:35:52.388Z"
   },
   {
    "duration": 22,
    "start_time": "2022-04-14T16:36:12.684Z"
   },
   {
    "duration": 25,
    "start_time": "2022-04-14T16:36:25.352Z"
   },
   {
    "duration": 23,
    "start_time": "2022-04-14T16:37:11.177Z"
   },
   {
    "duration": 6,
    "start_time": "2022-04-14T16:37:34.996Z"
   },
   {
    "duration": 6,
    "start_time": "2022-04-14T16:38:08.960Z"
   },
   {
    "duration": 23,
    "start_time": "2022-04-14T16:38:50.518Z"
   },
   {
    "duration": 21,
    "start_time": "2022-04-14T16:38:54.945Z"
   },
   {
    "duration": 22,
    "start_time": "2022-04-14T16:39:51.286Z"
   },
   {
    "duration": 55,
    "start_time": "2022-04-14T16:41:28.011Z"
   },
   {
    "duration": 1113,
    "start_time": "2022-04-14T16:41:32.548Z"
   },
   {
    "duration": 865,
    "start_time": "2022-04-14T16:41:33.663Z"
   },
   {
    "duration": 21,
    "start_time": "2022-04-14T16:41:34.529Z"
   },
   {
    "duration": 30,
    "start_time": "2022-04-14T16:41:34.552Z"
   },
   {
    "duration": 35,
    "start_time": "2022-04-14T16:41:34.584Z"
   },
   {
    "duration": 26,
    "start_time": "2022-04-14T16:41:34.621Z"
   },
   {
    "duration": 14,
    "start_time": "2022-04-14T16:41:34.649Z"
   },
   {
    "duration": 13,
    "start_time": "2022-04-14T16:41:34.665Z"
   },
   {
    "duration": 31,
    "start_time": "2022-04-14T16:41:34.680Z"
   },
   {
    "duration": 19,
    "start_time": "2022-04-14T16:41:34.713Z"
   },
   {
    "duration": 10,
    "start_time": "2022-04-14T16:41:34.734Z"
   },
   {
    "duration": 51,
    "start_time": "2022-04-14T16:41:34.746Z"
   },
   {
    "duration": 10,
    "start_time": "2022-04-14T16:41:34.799Z"
   },
   {
    "duration": 7,
    "start_time": "2022-04-14T16:41:34.813Z"
   },
   {
    "duration": 33,
    "start_time": "2022-04-14T16:41:34.821Z"
   },
   {
    "duration": 5,
    "start_time": "2022-04-14T16:41:34.856Z"
   },
   {
    "duration": 6,
    "start_time": "2022-04-14T16:41:34.863Z"
   },
   {
    "duration": 52,
    "start_time": "2022-04-14T16:41:34.870Z"
   },
   {
    "duration": 5,
    "start_time": "2022-04-14T16:41:34.924Z"
   },
   {
    "duration": 5,
    "start_time": "2022-04-14T16:41:34.931Z"
   },
   {
    "duration": 14,
    "start_time": "2022-04-14T16:41:34.938Z"
   },
   {
    "duration": 9,
    "start_time": "2022-04-14T16:41:34.954Z"
   },
   {
    "duration": 47,
    "start_time": "2022-04-14T16:41:34.964Z"
   },
   {
    "duration": 49,
    "start_time": "2022-04-14T16:41:35.013Z"
   },
   {
    "duration": 19,
    "start_time": "2022-04-14T16:41:35.064Z"
   },
   {
    "duration": 45,
    "start_time": "2022-04-14T16:41:35.084Z"
   },
   {
    "duration": 8,
    "start_time": "2022-04-14T16:41:35.131Z"
   },
   {
    "duration": 21,
    "start_time": "2022-04-14T16:41:35.141Z"
   },
   {
    "duration": 7,
    "start_time": "2022-04-14T16:41:35.164Z"
   },
   {
    "duration": 43,
    "start_time": "2022-04-14T16:41:35.172Z"
   },
   {
    "duration": 8,
    "start_time": "2022-04-14T16:41:35.216Z"
   },
   {
    "duration": 41,
    "start_time": "2022-04-14T16:41:35.225Z"
   },
   {
    "duration": 3,
    "start_time": "2022-04-14T16:41:35.268Z"
   },
   {
    "duration": 16,
    "start_time": "2022-04-14T16:41:35.272Z"
   },
   {
    "duration": 31,
    "start_time": "2022-04-14T16:41:35.290Z"
   },
   {
    "duration": 21,
    "start_time": "2022-04-14T16:41:35.323Z"
   },
   {
    "duration": 22,
    "start_time": "2022-04-14T16:41:35.345Z"
   },
   {
    "duration": 44,
    "start_time": "2022-04-14T16:41:35.368Z"
   },
   {
    "duration": 5,
    "start_time": "2022-04-14T16:41:35.414Z"
   },
   {
    "duration": 5,
    "start_time": "2022-04-14T16:41:56.603Z"
   },
   {
    "duration": 28,
    "start_time": "2022-04-14T16:44:00.691Z"
   },
   {
    "duration": 26,
    "start_time": "2022-04-14T16:44:07.858Z"
   },
   {
    "duration": 23,
    "start_time": "2022-04-14T16:45:06.953Z"
   },
   {
    "duration": 21,
    "start_time": "2022-04-14T16:45:26.117Z"
   },
   {
    "duration": 61,
    "start_time": "2022-04-14T16:46:24.594Z"
   },
   {
    "duration": 9,
    "start_time": "2022-04-14T16:46:32.495Z"
   },
   {
    "duration": 9,
    "start_time": "2022-04-14T16:46:40.229Z"
   },
   {
    "duration": 5,
    "start_time": "2022-04-14T16:47:03.202Z"
   },
   {
    "duration": 24,
    "start_time": "2022-04-14T16:50:46.512Z"
   },
   {
    "duration": 51,
    "start_time": "2022-04-14T16:50:52.328Z"
   },
   {
    "duration": 29,
    "start_time": "2022-04-14T16:51:33.007Z"
   },
   {
    "duration": 14,
    "start_time": "2022-04-14T16:52:22.773Z"
   },
   {
    "duration": 12,
    "start_time": "2022-04-14T16:52:34.099Z"
   },
   {
    "duration": 31,
    "start_time": "2022-04-14T16:56:11.478Z"
   },
   {
    "duration": 32,
    "start_time": "2022-04-14T16:56:27.282Z"
   },
   {
    "duration": 12,
    "start_time": "2022-04-14T16:56:33.595Z"
   },
   {
    "duration": 12,
    "start_time": "2022-04-14T16:56:45.076Z"
   },
   {
    "duration": 12,
    "start_time": "2022-04-14T16:56:53.182Z"
   },
   {
    "duration": 11,
    "start_time": "2022-04-14T16:57:49.000Z"
   },
   {
    "duration": 11,
    "start_time": "2022-04-14T17:08:21.778Z"
   },
   {
    "duration": 1126,
    "start_time": "2022-04-14T17:13:01.988Z"
   },
   {
    "duration": 1089,
    "start_time": "2022-04-14T17:14:07.790Z"
   },
   {
    "duration": 2,
    "start_time": "2022-04-14T17:14:25.834Z"
   },
   {
    "duration": 387,
    "start_time": "2022-04-14T17:14:25.840Z"
   },
   {
    "duration": 18,
    "start_time": "2022-04-14T17:14:26.229Z"
   },
   {
    "duration": 31,
    "start_time": "2022-04-14T17:14:26.249Z"
   },
   {
    "duration": 36,
    "start_time": "2022-04-14T17:14:26.283Z"
   },
   {
    "duration": 28,
    "start_time": "2022-04-14T17:14:26.321Z"
   },
   {
    "duration": 16,
    "start_time": "2022-04-14T17:14:26.351Z"
   },
   {
    "duration": 5,
    "start_time": "2022-04-14T17:14:26.368Z"
   },
   {
    "duration": 6,
    "start_time": "2022-04-14T17:14:26.408Z"
   },
   {
    "duration": 9,
    "start_time": "2022-04-14T17:14:26.416Z"
   },
   {
    "duration": 7,
    "start_time": "2022-04-14T17:14:26.427Z"
   },
   {
    "duration": 34,
    "start_time": "2022-04-14T17:14:26.435Z"
   },
   {
    "duration": 5,
    "start_time": "2022-04-14T17:14:26.471Z"
   },
   {
    "duration": 31,
    "start_time": "2022-04-14T17:14:26.477Z"
   },
   {
    "duration": 21,
    "start_time": "2022-04-14T17:14:26.510Z"
   },
   {
    "duration": 6,
    "start_time": "2022-04-14T17:14:26.532Z"
   },
   {
    "duration": 4,
    "start_time": "2022-04-14T17:14:26.540Z"
   },
   {
    "duration": 25,
    "start_time": "2022-04-14T17:14:26.546Z"
   },
   {
    "duration": 37,
    "start_time": "2022-04-14T17:14:26.572Z"
   },
   {
    "duration": 6,
    "start_time": "2022-04-14T17:14:26.610Z"
   },
   {
    "duration": 19,
    "start_time": "2022-04-14T17:14:26.618Z"
   },
   {
    "duration": 9,
    "start_time": "2022-04-14T17:14:26.639Z"
   },
   {
    "duration": 18,
    "start_time": "2022-04-14T17:14:26.650Z"
   },
   {
    "duration": 77,
    "start_time": "2022-04-14T17:14:26.669Z"
   },
   {
    "duration": 19,
    "start_time": "2022-04-14T17:14:26.747Z"
   },
   {
    "duration": 41,
    "start_time": "2022-04-14T17:14:26.767Z"
   },
   {
    "duration": 8,
    "start_time": "2022-04-14T17:14:26.810Z"
   },
   {
    "duration": 18,
    "start_time": "2022-04-14T17:14:26.820Z"
   },
   {
    "duration": 7,
    "start_time": "2022-04-14T17:14:26.841Z"
   },
   {
    "duration": 16,
    "start_time": "2022-04-14T17:14:26.850Z"
   },
   {
    "duration": 7,
    "start_time": "2022-04-14T17:14:26.868Z"
   },
   {
    "duration": 30,
    "start_time": "2022-04-14T17:14:26.907Z"
   },
   {
    "duration": 3,
    "start_time": "2022-04-14T17:14:26.939Z"
   },
   {
    "duration": 14,
    "start_time": "2022-04-14T17:14:26.944Z"
   },
   {
    "duration": 48,
    "start_time": "2022-04-14T17:14:26.960Z"
   },
   {
    "duration": 23,
    "start_time": "2022-04-14T17:14:27.010Z"
   },
   {
    "duration": 25,
    "start_time": "2022-04-14T17:14:27.034Z"
   },
   {
    "duration": 53,
    "start_time": "2022-04-14T17:14:27.060Z"
   },
   {
    "duration": 51,
    "start_time": "2022-04-14T17:14:27.115Z"
   },
   {
    "duration": 43,
    "start_time": "2022-04-14T17:14:27.168Z"
   },
   {
    "duration": 11,
    "start_time": "2022-04-14T17:14:27.213Z"
   },
   {
    "duration": 26,
    "start_time": "2022-04-14T17:14:49.528Z"
   },
   {
    "duration": 52,
    "start_time": "2022-04-14T17:15:00.877Z"
   },
   {
    "duration": 52,
    "start_time": "2022-04-14T17:15:03.462Z"
   },
   {
    "duration": 3,
    "start_time": "2022-04-14T18:10:51.170Z"
   },
   {
    "duration": 50,
    "start_time": "2022-04-19T18:17:43.779Z"
   },
   {
    "duration": 1209,
    "start_time": "2022-04-19T18:17:47.139Z"
   },
   {
    "duration": 358,
    "start_time": "2022-04-19T18:17:48.350Z"
   },
   {
    "duration": 23,
    "start_time": "2022-04-19T18:17:48.710Z"
   },
   {
    "duration": 32,
    "start_time": "2022-04-19T18:17:48.735Z"
   },
   {
    "duration": 45,
    "start_time": "2022-04-19T18:17:48.768Z"
   },
   {
    "duration": 29,
    "start_time": "2022-04-19T18:17:48.815Z"
   },
   {
    "duration": 18,
    "start_time": "2022-04-19T18:17:48.846Z"
   },
   {
    "duration": 6,
    "start_time": "2022-04-19T18:17:48.866Z"
   },
   {
    "duration": 38,
    "start_time": "2022-04-19T18:17:48.873Z"
   },
   {
    "duration": 8,
    "start_time": "2022-04-19T18:17:48.915Z"
   },
   {
    "duration": 6,
    "start_time": "2022-04-19T18:17:48.924Z"
   },
   {
    "duration": 32,
    "start_time": "2022-04-19T18:17:48.932Z"
   },
   {
    "duration": 6,
    "start_time": "2022-04-19T18:17:48.965Z"
   },
   {
    "duration": 37,
    "start_time": "2022-04-19T18:17:48.972Z"
   },
   {
    "duration": 34,
    "start_time": "2022-04-19T18:17:49.011Z"
   },
   {
    "duration": 5,
    "start_time": "2022-04-19T18:17:49.048Z"
   },
   {
    "duration": 8,
    "start_time": "2022-04-19T18:17:49.055Z"
   },
   {
    "duration": 54,
    "start_time": "2022-04-19T18:17:49.064Z"
   },
   {
    "duration": 5,
    "start_time": "2022-04-19T18:17:49.120Z"
   },
   {
    "duration": 6,
    "start_time": "2022-04-19T18:17:49.128Z"
   },
   {
    "duration": 15,
    "start_time": "2022-04-19T18:17:49.136Z"
   },
   {
    "duration": 10,
    "start_time": "2022-04-19T18:17:49.153Z"
   },
   {
    "duration": 54,
    "start_time": "2022-04-19T18:17:49.165Z"
   },
   {
    "duration": 53,
    "start_time": "2022-04-19T18:17:49.221Z"
   },
   {
    "duration": 33,
    "start_time": "2022-04-19T18:17:49.276Z"
   },
   {
    "duration": 22,
    "start_time": "2022-04-19T18:17:49.311Z"
   },
   {
    "duration": 8,
    "start_time": "2022-04-19T18:17:49.335Z"
   },
   {
    "duration": 18,
    "start_time": "2022-04-19T18:17:49.348Z"
   },
   {
    "duration": 7,
    "start_time": "2022-04-19T18:17:49.368Z"
   },
   {
    "duration": 16,
    "start_time": "2022-04-19T18:17:49.407Z"
   },
   {
    "duration": 8,
    "start_time": "2022-04-19T18:17:49.424Z"
   },
   {
    "duration": 29,
    "start_time": "2022-04-19T18:17:49.434Z"
   },
   {
    "duration": 3,
    "start_time": "2022-04-19T18:17:49.465Z"
   },
   {
    "duration": 47,
    "start_time": "2022-04-19T18:17:49.470Z"
   },
   {
    "duration": 22,
    "start_time": "2022-04-19T18:17:49.519Z"
   },
   {
    "duration": 23,
    "start_time": "2022-04-19T18:17:49.543Z"
   },
   {
    "duration": 48,
    "start_time": "2022-04-19T18:17:49.568Z"
   },
   {
    "duration": 26,
    "start_time": "2022-04-19T18:17:49.617Z"
   },
   {
    "duration": 72,
    "start_time": "2022-04-19T18:17:49.645Z"
   },
   {
    "duration": 32,
    "start_time": "2022-04-19T18:17:49.719Z"
   },
   {
    "duration": 2,
    "start_time": "2022-04-19T18:17:49.753Z"
   },
   {
    "duration": 48,
    "start_time": "2022-04-20T08:04:29.140Z"
   },
   {
    "duration": 1284,
    "start_time": "2022-04-20T08:04:33.623Z"
   },
   {
    "duration": 399,
    "start_time": "2022-04-20T08:04:34.909Z"
   },
   {
    "duration": 21,
    "start_time": "2022-04-20T08:04:35.310Z"
   },
   {
    "duration": 29,
    "start_time": "2022-04-20T08:04:35.333Z"
   },
   {
    "duration": 21,
    "start_time": "2022-04-20T08:04:35.364Z"
   },
   {
    "duration": 48,
    "start_time": "2022-04-20T08:04:35.386Z"
   },
   {
    "duration": 14,
    "start_time": "2022-04-20T08:04:35.436Z"
   },
   {
    "duration": 5,
    "start_time": "2022-04-20T08:04:35.451Z"
   },
   {
    "duration": 6,
    "start_time": "2022-04-20T08:04:35.458Z"
   },
   {
    "duration": 7,
    "start_time": "2022-04-20T08:04:35.466Z"
   },
   {
    "duration": 6,
    "start_time": "2022-04-20T08:04:35.474Z"
   },
   {
    "duration": 66,
    "start_time": "2022-04-20T08:04:35.481Z"
   },
   {
    "duration": 4,
    "start_time": "2022-04-20T08:04:35.549Z"
   },
   {
    "duration": 6,
    "start_time": "2022-04-20T08:04:35.555Z"
   },
   {
    "duration": 23,
    "start_time": "2022-04-20T08:04:35.562Z"
   },
   {
    "duration": 5,
    "start_time": "2022-04-20T08:04:35.586Z"
   },
   {
    "duration": 6,
    "start_time": "2022-04-20T08:04:35.592Z"
   },
   {
    "duration": 25,
    "start_time": "2022-04-20T08:04:35.623Z"
   },
   {
    "duration": 4,
    "start_time": "2022-04-20T08:04:35.650Z"
   },
   {
    "duration": 11,
    "start_time": "2022-04-20T08:04:35.655Z"
   },
   {
    "duration": 17,
    "start_time": "2022-04-20T08:04:35.668Z"
   },
   {
    "duration": 7,
    "start_time": "2022-04-20T08:04:35.687Z"
   },
   {
    "duration": 34,
    "start_time": "2022-04-20T08:04:35.695Z"
   },
   {
    "duration": 48,
    "start_time": "2022-04-20T08:04:35.730Z"
   },
   {
    "duration": 18,
    "start_time": "2022-04-20T08:04:35.779Z"
   },
   {
    "duration": 41,
    "start_time": "2022-04-20T08:04:35.798Z"
   },
   {
    "duration": 8,
    "start_time": "2022-04-20T08:04:35.840Z"
   },
   {
    "duration": 17,
    "start_time": "2022-04-20T08:04:35.851Z"
   },
   {
    "duration": 7,
    "start_time": "2022-04-20T08:04:35.869Z"
   },
   {
    "duration": 17,
    "start_time": "2022-04-20T08:04:35.877Z"
   },
   {
    "duration": 31,
    "start_time": "2022-04-20T08:04:35.896Z"
   },
   {
    "duration": 29,
    "start_time": "2022-04-20T08:04:35.928Z"
   },
   {
    "duration": 3,
    "start_time": "2022-04-20T08:04:35.958Z"
   },
   {
    "duration": 14,
    "start_time": "2022-04-20T08:04:35.962Z"
   },
   {
    "duration": 25,
    "start_time": "2022-04-20T08:04:35.977Z"
   },
   {
    "duration": 23,
    "start_time": "2022-04-20T08:04:36.022Z"
   },
   {
    "duration": 23,
    "start_time": "2022-04-20T08:04:36.046Z"
   },
   {
    "duration": 31,
    "start_time": "2022-04-20T08:04:36.071Z"
   },
   {
    "duration": 50,
    "start_time": "2022-04-20T08:04:36.122Z"
   },
   {
    "duration": 49,
    "start_time": "2022-04-20T08:04:36.174Z"
   },
   {
    "duration": 3,
    "start_time": "2022-04-20T08:04:36.225Z"
   },
   {
    "duration": 4,
    "start_time": "2022-04-20T08:08:00.982Z"
   },
   {
    "duration": 13,
    "start_time": "2022-04-20T08:09:18.999Z"
   },
   {
    "duration": 33,
    "start_time": "2022-04-20T08:25:18.912Z"
   },
   {
    "duration": 31,
    "start_time": "2022-04-20T08:27:10.280Z"
   },
   {
    "duration": 30,
    "start_time": "2022-04-20T08:27:51.291Z"
   },
   {
    "duration": 57,
    "start_time": "2022-04-20T08:29:55.353Z"
   },
   {
    "duration": 9,
    "start_time": "2022-04-20T08:30:36.651Z"
   },
   {
    "duration": 8,
    "start_time": "2022-04-20T08:32:49.920Z"
   },
   {
    "duration": 9,
    "start_time": "2022-04-20T08:33:16.346Z"
   },
   {
    "duration": 8,
    "start_time": "2022-04-20T08:33:41.107Z"
   },
   {
    "duration": 8,
    "start_time": "2022-04-20T08:34:36.775Z"
   },
   {
    "duration": 7,
    "start_time": "2022-04-20T08:34:46.525Z"
   },
   {
    "duration": 8,
    "start_time": "2022-04-20T08:35:20.559Z"
   },
   {
    "duration": 9,
    "start_time": "2022-04-20T08:35:30.222Z"
   },
   {
    "duration": 8,
    "start_time": "2022-04-20T08:35:53.097Z"
   },
   {
    "duration": 3,
    "start_time": "2022-04-20T08:36:27.768Z"
   },
   {
    "duration": 455,
    "start_time": "2022-04-20T08:36:27.774Z"
   },
   {
    "duration": 16,
    "start_time": "2022-04-20T08:36:28.231Z"
   },
   {
    "duration": 29,
    "start_time": "2022-04-20T08:36:28.249Z"
   },
   {
    "duration": 21,
    "start_time": "2022-04-20T08:36:28.280Z"
   },
   {
    "duration": 27,
    "start_time": "2022-04-20T08:36:28.323Z"
   },
   {
    "duration": 14,
    "start_time": "2022-04-20T08:36:28.352Z"
   },
   {
    "duration": 7,
    "start_time": "2022-04-20T08:36:28.368Z"
   },
   {
    "duration": 6,
    "start_time": "2022-04-20T08:36:28.377Z"
   },
   {
    "duration": 40,
    "start_time": "2022-04-20T08:36:28.384Z"
   },
   {
    "duration": 6,
    "start_time": "2022-04-20T08:36:28.426Z"
   },
   {
    "duration": 35,
    "start_time": "2022-04-20T08:36:28.434Z"
   },
   {
    "duration": 5,
    "start_time": "2022-04-20T08:36:28.471Z"
   },
   {
    "duration": 9,
    "start_time": "2022-04-20T08:36:28.477Z"
   },
   {
    "duration": 44,
    "start_time": "2022-04-20T08:36:28.487Z"
   },
   {
    "duration": 5,
    "start_time": "2022-04-20T08:36:28.532Z"
   },
   {
    "duration": 6,
    "start_time": "2022-04-20T08:36:28.539Z"
   },
   {
    "duration": 31,
    "start_time": "2022-04-20T08:36:28.547Z"
   },
   {
    "duration": 6,
    "start_time": "2022-04-20T08:36:28.581Z"
   },
   {
    "duration": 15,
    "start_time": "2022-04-20T08:36:28.589Z"
   },
   {
    "duration": 31,
    "start_time": "2022-04-20T08:36:28.606Z"
   },
   {
    "duration": 11,
    "start_time": "2022-04-20T08:36:28.640Z"
   },
   {
    "duration": 18,
    "start_time": "2022-04-20T08:36:28.653Z"
   },
   {
    "duration": 90,
    "start_time": "2022-04-20T08:36:28.673Z"
   },
   {
    "duration": 20,
    "start_time": "2022-04-20T08:36:28.765Z"
   },
   {
    "duration": 40,
    "start_time": "2022-04-20T08:36:28.787Z"
   },
   {
    "duration": 13,
    "start_time": "2022-04-20T08:36:28.829Z"
   },
   {
    "duration": 20,
    "start_time": "2022-04-20T08:36:28.844Z"
   },
   {
    "duration": 6,
    "start_time": "2022-04-20T08:36:28.867Z"
   },
   {
    "duration": 15,
    "start_time": "2022-04-20T08:36:28.874Z"
   },
   {
    "duration": 34,
    "start_time": "2022-04-20T08:36:28.891Z"
   },
   {
    "duration": 32,
    "start_time": "2022-04-20T08:36:28.927Z"
   },
   {
    "duration": 4,
    "start_time": "2022-04-20T08:36:28.961Z"
   },
   {
    "duration": 14,
    "start_time": "2022-04-20T08:36:28.966Z"
   },
   {
    "duration": 8,
    "start_time": "2022-04-20T08:36:28.982Z"
   },
   {
    "duration": 0,
    "start_time": "2022-04-20T08:36:28.992Z"
   },
   {
    "duration": 0,
    "start_time": "2022-04-20T08:36:28.992Z"
   },
   {
    "duration": 0,
    "start_time": "2022-04-20T08:36:29.022Z"
   },
   {
    "duration": 0,
    "start_time": "2022-04-20T08:36:29.023Z"
   },
   {
    "duration": 0,
    "start_time": "2022-04-20T08:36:29.024Z"
   },
   {
    "duration": 0,
    "start_time": "2022-04-20T08:36:29.026Z"
   },
   {
    "duration": 0,
    "start_time": "2022-04-20T08:36:29.026Z"
   },
   {
    "duration": 0,
    "start_time": "2022-04-20T08:36:29.027Z"
   },
   {
    "duration": 8,
    "start_time": "2022-04-20T08:36:36.299Z"
   },
   {
    "duration": 9,
    "start_time": "2022-04-20T08:36:59.977Z"
   },
   {
    "duration": 8,
    "start_time": "2022-04-20T08:37:12.585Z"
   },
   {
    "duration": 8,
    "start_time": "2022-04-20T08:37:21.351Z"
   },
   {
    "duration": 2,
    "start_time": "2022-04-20T08:39:14.232Z"
   },
   {
    "duration": 13,
    "start_time": "2022-04-20T08:39:16.223Z"
   },
   {
    "duration": 13,
    "start_time": "2022-04-20T08:39:18.830Z"
   },
   {
    "duration": 2,
    "start_time": "2022-04-20T08:39:21.299Z"
   },
   {
    "duration": 30,
    "start_time": "2022-04-20T08:39:26.827Z"
   },
   {
    "duration": 13,
    "start_time": "2022-04-20T08:39:30.337Z"
   },
   {
    "duration": 8,
    "start_time": "2022-04-20T08:39:48.678Z"
   },
   {
    "duration": 8,
    "start_time": "2022-04-20T08:39:59.563Z"
   },
   {
    "duration": 8,
    "start_time": "2022-04-20T08:40:32.553Z"
   },
   {
    "duration": 25,
    "start_time": "2022-04-20T08:41:03.567Z"
   },
   {
    "duration": 3344,
    "start_time": "2022-04-20T08:41:45.203Z"
   },
   {
    "duration": 27,
    "start_time": "2022-04-20T08:42:11.613Z"
   },
   {
    "duration": 24,
    "start_time": "2022-04-20T08:42:15.705Z"
   },
   {
    "duration": 32,
    "start_time": "2022-04-20T08:42:27.522Z"
   },
   {
    "duration": 33,
    "start_time": "2022-04-20T08:42:35.654Z"
   },
   {
    "duration": 45,
    "start_time": "2022-04-21T03:23:55.565Z"
   },
   {
    "duration": 1259,
    "start_time": "2022-04-21T03:24:00.368Z"
   },
   {
    "duration": 379,
    "start_time": "2022-04-21T03:24:01.629Z"
   },
   {
    "duration": 24,
    "start_time": "2022-04-21T03:24:02.010Z"
   },
   {
    "duration": 37,
    "start_time": "2022-04-21T03:24:02.037Z"
   },
   {
    "duration": 24,
    "start_time": "2022-04-21T03:24:02.076Z"
   },
   {
    "duration": 28,
    "start_time": "2022-04-21T03:24:02.102Z"
   },
   {
    "duration": 17,
    "start_time": "2022-04-21T03:24:02.155Z"
   },
   {
    "duration": 14,
    "start_time": "2022-04-21T03:24:02.173Z"
   },
   {
    "duration": 23,
    "start_time": "2022-04-21T03:24:02.189Z"
   },
   {
    "duration": 11,
    "start_time": "2022-04-21T03:24:02.215Z"
   },
   {
    "duration": 6,
    "start_time": "2022-04-21T03:24:02.227Z"
   },
   {
    "duration": 43,
    "start_time": "2022-04-21T03:24:02.234Z"
   },
   {
    "duration": 6,
    "start_time": "2022-04-21T03:24:02.279Z"
   },
   {
    "duration": 156,
    "start_time": "2022-04-21T03:24:02.286Z"
   },
   {
    "duration": 6,
    "start_time": "2022-04-21T03:24:02.444Z"
   },
   {
    "duration": 30,
    "start_time": "2022-04-21T03:24:02.455Z"
   },
   {
    "duration": 8,
    "start_time": "2022-04-21T03:24:02.487Z"
   },
   {
    "duration": 17,
    "start_time": "2022-04-21T03:24:02.496Z"
   },
   {
    "duration": 27,
    "start_time": "2022-04-21T03:24:02.515Z"
   },
   {
    "duration": 6,
    "start_time": "2022-04-21T03:24:02.543Z"
   },
   {
    "duration": 6,
    "start_time": "2022-04-21T03:24:02.554Z"
   },
   {
    "duration": 14,
    "start_time": "2022-04-21T03:24:02.561Z"
   },
   {
    "duration": 10,
    "start_time": "2022-04-21T03:24:02.577Z"
   },
   {
    "duration": 27,
    "start_time": "2022-04-21T03:24:02.588Z"
   },
   {
    "duration": 70,
    "start_time": "2022-04-21T03:24:02.617Z"
   },
   {
    "duration": 21,
    "start_time": "2022-04-21T03:24:02.688Z"
   },
   {
    "duration": 44,
    "start_time": "2022-04-21T03:24:02.710Z"
   },
   {
    "duration": 8,
    "start_time": "2022-04-21T03:24:02.758Z"
   },
   {
    "duration": 19,
    "start_time": "2022-04-21T03:24:02.768Z"
   },
   {
    "duration": 7,
    "start_time": "2022-04-21T03:24:02.789Z"
   },
   {
    "duration": 21,
    "start_time": "2022-04-21T03:24:02.798Z"
   },
   {
    "duration": 6,
    "start_time": "2022-04-21T03:24:02.820Z"
   },
   {
    "duration": 52,
    "start_time": "2022-04-21T03:24:02.828Z"
   },
   {
    "duration": 2,
    "start_time": "2022-04-21T03:24:02.882Z"
   },
   {
    "duration": 17,
    "start_time": "2022-04-21T03:24:02.885Z"
   },
   {
    "duration": 24,
    "start_time": "2022-04-21T03:24:02.904Z"
   },
   {
    "duration": 44,
    "start_time": "2022-04-21T03:24:02.929Z"
   },
   {
    "duration": 27,
    "start_time": "2022-04-21T03:24:02.975Z"
   },
   {
    "duration": 31,
    "start_time": "2022-04-21T03:24:03.004Z"
   },
   {
    "duration": 25,
    "start_time": "2022-04-21T03:24:03.037Z"
   },
   {
    "duration": 129,
    "start_time": "2022-04-21T03:24:03.063Z"
   },
   {
    "duration": 0,
    "start_time": "2022-04-21T03:24:03.194Z"
   },
   {
    "duration": 0,
    "start_time": "2022-04-21T03:24:03.195Z"
   },
   {
    "duration": 0,
    "start_time": "2022-04-21T03:24:03.196Z"
   },
   {
    "duration": 136,
    "start_time": "2022-04-21T03:24:34.073Z"
   },
   {
    "duration": 141,
    "start_time": "2022-04-21T03:24:44.635Z"
   },
   {
    "duration": 135,
    "start_time": "2022-04-21T03:24:56.135Z"
   },
   {
    "duration": 146,
    "start_time": "2022-04-21T03:25:49.619Z"
   },
   {
    "duration": 146,
    "start_time": "2022-04-21T03:25:59.510Z"
   },
   {
    "duration": 59,
    "start_time": "2022-04-21T03:56:17.051Z"
   },
   {
    "duration": 10,
    "start_time": "2022-04-21T03:56:27.235Z"
   },
   {
    "duration": 10,
    "start_time": "2022-04-21T03:57:11.463Z"
   },
   {
    "duration": 21,
    "start_time": "2022-04-21T03:57:39.032Z"
   },
   {
    "duration": 15,
    "start_time": "2022-04-21T03:57:48.286Z"
   },
   {
    "duration": 22,
    "start_time": "2022-04-21T03:58:04.669Z"
   },
   {
    "duration": 9,
    "start_time": "2022-04-21T03:58:07.997Z"
   },
   {
    "duration": 23,
    "start_time": "2022-04-21T03:58:11.134Z"
   },
   {
    "duration": 11,
    "start_time": "2022-04-21T03:58:14.008Z"
   },
   {
    "duration": 23,
    "start_time": "2022-04-21T03:59:45.564Z"
   },
   {
    "duration": 11,
    "start_time": "2022-04-21T03:59:47.972Z"
   },
   {
    "duration": 23,
    "start_time": "2022-04-21T03:59:58.780Z"
   },
   {
    "duration": 10,
    "start_time": "2022-04-21T04:00:00.666Z"
   },
   {
    "duration": 17,
    "start_time": "2022-04-21T04:02:46.617Z"
   },
   {
    "duration": 18,
    "start_time": "2022-04-21T04:02:55.469Z"
   },
   {
    "duration": 17,
    "start_time": "2022-04-21T04:02:58.818Z"
   },
   {
    "duration": 18,
    "start_time": "2022-04-21T04:03:02.703Z"
   },
   {
    "duration": 24,
    "start_time": "2022-04-21T04:03:41.161Z"
   },
   {
    "duration": 8,
    "start_time": "2022-04-21T04:03:43.520Z"
   },
   {
    "duration": 21,
    "start_time": "2022-04-21T04:03:53.152Z"
   },
   {
    "duration": 8,
    "start_time": "2022-04-21T04:03:56.140Z"
   },
   {
    "duration": 20,
    "start_time": "2022-04-21T04:04:05.917Z"
   },
   {
    "duration": 8,
    "start_time": "2022-04-21T04:04:08.428Z"
   },
   {
    "duration": 21,
    "start_time": "2022-04-21T04:18:42.333Z"
   },
   {
    "duration": 8,
    "start_time": "2022-04-21T04:18:46.156Z"
   },
   {
    "duration": 21,
    "start_time": "2022-04-21T04:28:01.280Z"
   },
   {
    "duration": 20,
    "start_time": "2022-04-21T04:28:04.856Z"
   },
   {
    "duration": 8,
    "start_time": "2022-04-21T04:28:06.553Z"
   },
   {
    "duration": 21,
    "start_time": "2022-04-21T04:28:21.024Z"
   },
   {
    "duration": 8,
    "start_time": "2022-04-21T04:28:23.531Z"
   },
   {
    "duration": 20,
    "start_time": "2022-04-21T04:28:43.903Z"
   },
   {
    "duration": 7,
    "start_time": "2022-04-21T04:28:46.780Z"
   },
   {
    "duration": 19,
    "start_time": "2022-04-21T04:29:33.858Z"
   },
   {
    "duration": 7,
    "start_time": "2022-04-21T04:29:36.304Z"
   },
   {
    "duration": 19,
    "start_time": "2022-04-21T04:29:47.575Z"
   },
   {
    "duration": 7,
    "start_time": "2022-04-21T04:29:50.077Z"
   },
   {
    "duration": 19,
    "start_time": "2022-04-21T04:30:28.421Z"
   },
   {
    "duration": 7,
    "start_time": "2022-04-21T04:30:30.819Z"
   },
   {
    "duration": 23,
    "start_time": "2022-04-21T04:34:32.022Z"
   },
   {
    "duration": 17,
    "start_time": "2022-04-21T04:36:28.931Z"
   },
   {
    "duration": 19,
    "start_time": "2022-04-21T04:36:31.713Z"
   },
   {
    "duration": 7,
    "start_time": "2022-04-21T04:36:34.183Z"
   },
   {
    "duration": 18,
    "start_time": "2022-04-21T04:36:39.325Z"
   },
   {
    "duration": 7,
    "start_time": "2022-04-21T04:36:42.862Z"
   },
   {
    "duration": 18,
    "start_time": "2022-04-21T04:36:53.959Z"
   },
   {
    "duration": 17,
    "start_time": "2022-04-21T04:36:56.665Z"
   },
   {
    "duration": 8,
    "start_time": "2022-04-21T04:36:59.001Z"
   },
   {
    "duration": 10,
    "start_time": "2022-04-21T04:37:22.291Z"
   },
   {
    "duration": 2,
    "start_time": "2022-04-21T04:37:31.616Z"
   },
   {
    "duration": 2,
    "start_time": "2022-04-21T04:37:34.340Z"
   },
   {
    "duration": 17,
    "start_time": "2022-04-21T04:37:43.621Z"
   },
   {
    "duration": 10,
    "start_time": "2022-04-21T04:37:46.320Z"
   },
   {
    "duration": 17,
    "start_time": "2022-04-21T04:37:58.011Z"
   },
   {
    "duration": 3,
    "start_time": "2022-04-21T04:38:00.234Z"
   },
   {
    "duration": 16,
    "start_time": "2022-04-21T04:38:07.784Z"
   },
   {
    "duration": 3,
    "start_time": "2022-04-21T04:38:10.095Z"
   },
   {
    "duration": 3,
    "start_time": "2022-04-21T04:38:15.004Z"
   },
   {
    "duration": 16,
    "start_time": "2022-04-21T04:38:43.982Z"
   },
   {
    "duration": 16,
    "start_time": "2022-04-21T04:38:46.309Z"
   },
   {
    "duration": 10,
    "start_time": "2022-04-21T04:38:48.162Z"
   },
   {
    "duration": 18,
    "start_time": "2022-04-21T04:39:01.390Z"
   },
   {
    "duration": 11,
    "start_time": "2022-04-21T04:39:08.315Z"
   },
   {
    "duration": 8,
    "start_time": "2022-04-21T05:12:20.663Z"
   },
   {
    "duration": 8,
    "start_time": "2022-04-21T05:12:28.898Z"
   },
   {
    "duration": 12,
    "start_time": "2022-04-21T05:12:34.736Z"
   },
   {
    "duration": 10,
    "start_time": "2022-04-21T05:12:48.733Z"
   },
   {
    "duration": 140,
    "start_time": "2022-04-21T05:13:09.224Z"
   },
   {
    "duration": 10,
    "start_time": "2022-04-21T05:13:14.177Z"
   },
   {
    "duration": 9,
    "start_time": "2022-04-21T05:15:22.008Z"
   },
   {
    "duration": 7,
    "start_time": "2022-04-21T05:16:24.463Z"
   },
   {
    "duration": 14,
    "start_time": "2022-04-21T05:16:29.504Z"
   },
   {
    "duration": 7,
    "start_time": "2022-04-21T05:28:43.064Z"
   },
   {
    "duration": 28,
    "start_time": "2022-04-21T05:29:58.277Z"
   },
   {
    "duration": 7,
    "start_time": "2022-04-21T05:30:16.777Z"
   },
   {
    "duration": 9,
    "start_time": "2022-04-21T05:30:29.982Z"
   },
   {
    "duration": 23,
    "start_time": "2022-04-21T05:30:38.968Z"
   },
   {
    "duration": 7,
    "start_time": "2022-04-21T05:30:43.487Z"
   },
   {
    "duration": 6,
    "start_time": "2022-04-21T05:33:25.134Z"
   },
   {
    "duration": 8,
    "start_time": "2022-04-21T05:34:35.766Z"
   },
   {
    "duration": 8,
    "start_time": "2022-04-21T05:35:07.421Z"
   },
   {
    "duration": 9,
    "start_time": "2022-04-21T05:35:16.880Z"
   },
   {
    "duration": 7,
    "start_time": "2022-04-21T05:35:56.449Z"
   },
   {
    "duration": 10,
    "start_time": "2022-04-21T05:36:06.907Z"
   },
   {
    "duration": 11,
    "start_time": "2022-04-21T05:36:24.086Z"
   },
   {
    "duration": 11,
    "start_time": "2022-04-21T05:36:55.452Z"
   },
   {
    "duration": 7,
    "start_time": "2022-04-21T05:37:26.562Z"
   },
   {
    "duration": 9,
    "start_time": "2022-04-21T05:38:50.355Z"
   },
   {
    "duration": 30,
    "start_time": "2022-04-21T05:38:52.616Z"
   },
   {
    "duration": 13,
    "start_time": "2022-04-21T05:39:22.436Z"
   },
   {
    "duration": 11,
    "start_time": "2022-04-21T05:39:34.568Z"
   },
   {
    "duration": 11,
    "start_time": "2022-04-21T05:39:51.940Z"
   },
   {
    "duration": 8,
    "start_time": "2022-04-21T05:39:59.302Z"
   },
   {
    "duration": 7,
    "start_time": "2022-04-21T05:41:17.076Z"
   },
   {
    "duration": 5,
    "start_time": "2022-04-21T05:42:56.101Z"
   },
   {
    "duration": 5,
    "start_time": "2022-04-21T05:43:56.488Z"
   },
   {
    "duration": 12,
    "start_time": "2022-04-21T05:44:11.949Z"
   },
   {
    "duration": 17,
    "start_time": "2022-04-21T05:44:32.256Z"
   },
   {
    "duration": 3,
    "start_time": "2022-04-21T05:45:38.707Z"
   },
   {
    "duration": 403,
    "start_time": "2022-04-21T05:45:38.713Z"
   },
   {
    "duration": 17,
    "start_time": "2022-04-21T05:45:39.118Z"
   },
   {
    "duration": 47,
    "start_time": "2022-04-21T05:45:39.137Z"
   },
   {
    "duration": 22,
    "start_time": "2022-04-21T05:45:39.187Z"
   },
   {
    "duration": 37,
    "start_time": "2022-04-21T05:45:39.211Z"
   },
   {
    "duration": 17,
    "start_time": "2022-04-21T05:45:39.249Z"
   },
   {
    "duration": 20,
    "start_time": "2022-04-21T05:45:39.267Z"
   },
   {
    "duration": 16,
    "start_time": "2022-04-21T05:45:39.289Z"
   },
   {
    "duration": 14,
    "start_time": "2022-04-21T05:45:39.307Z"
   },
   {
    "duration": 26,
    "start_time": "2022-04-21T05:45:39.324Z"
   },
   {
    "duration": 54,
    "start_time": "2022-04-21T05:45:39.351Z"
   },
   {
    "duration": 11,
    "start_time": "2022-04-21T05:45:39.406Z"
   },
   {
    "duration": 19,
    "start_time": "2022-04-21T05:45:39.419Z"
   },
   {
    "duration": 39,
    "start_time": "2022-04-21T05:45:39.439Z"
   },
   {
    "duration": 11,
    "start_time": "2022-04-21T05:45:39.480Z"
   },
   {
    "duration": 12,
    "start_time": "2022-04-21T05:45:39.492Z"
   },
   {
    "duration": 41,
    "start_time": "2022-04-21T05:45:39.506Z"
   },
   {
    "duration": 7,
    "start_time": "2022-04-21T05:45:39.549Z"
   },
   {
    "duration": 19,
    "start_time": "2022-04-21T05:45:39.558Z"
   },
   {
    "duration": 28,
    "start_time": "2022-04-21T05:45:39.578Z"
   },
   {
    "duration": 17,
    "start_time": "2022-04-21T05:45:39.607Z"
   },
   {
    "duration": 29,
    "start_time": "2022-04-21T05:45:39.626Z"
   },
   {
    "duration": 49,
    "start_time": "2022-04-21T05:45:39.656Z"
   },
   {
    "duration": 18,
    "start_time": "2022-04-21T05:45:39.707Z"
   },
   {
    "duration": 30,
    "start_time": "2022-04-21T05:45:39.727Z"
   },
   {
    "duration": 8,
    "start_time": "2022-04-21T05:45:39.759Z"
   },
   {
    "duration": 19,
    "start_time": "2022-04-21T05:45:39.768Z"
   },
   {
    "duration": 20,
    "start_time": "2022-04-21T05:45:39.790Z"
   },
   {
    "duration": 27,
    "start_time": "2022-04-21T05:45:39.812Z"
   },
   {
    "duration": 8,
    "start_time": "2022-04-21T05:45:39.841Z"
   },
   {
    "duration": 20,
    "start_time": "2022-04-21T05:45:39.850Z"
   },
   {
    "duration": 26,
    "start_time": "2022-04-21T05:45:39.871Z"
   },
   {
    "duration": 16,
    "start_time": "2022-04-21T05:45:39.898Z"
   },
   {
    "duration": 18,
    "start_time": "2022-04-21T05:45:39.915Z"
   },
   {
    "duration": 17,
    "start_time": "2022-04-21T05:45:39.934Z"
   },
   {
    "duration": 23,
    "start_time": "2022-04-21T05:45:39.953Z"
   },
   {
    "duration": 13,
    "start_time": "2022-04-21T05:45:39.977Z"
   },
   {
    "duration": 8,
    "start_time": "2022-04-21T05:45:39.991Z"
   },
   {
    "duration": 19,
    "start_time": "2022-04-21T05:45:40.000Z"
   },
   {
    "duration": 44,
    "start_time": "2022-04-21T10:14:12.622Z"
   },
   {
    "duration": 1245,
    "start_time": "2022-04-21T10:14:19.695Z"
   },
   {
    "duration": 415,
    "start_time": "2022-04-21T10:14:20.942Z"
   },
   {
    "duration": 21,
    "start_time": "2022-04-21T10:14:21.358Z"
   },
   {
    "duration": 28,
    "start_time": "2022-04-21T10:14:21.380Z"
   },
   {
    "duration": 20,
    "start_time": "2022-04-21T10:14:21.410Z"
   },
   {
    "duration": 23,
    "start_time": "2022-04-21T10:14:21.431Z"
   },
   {
    "duration": 14,
    "start_time": "2022-04-21T10:14:21.456Z"
   },
   {
    "duration": 30,
    "start_time": "2022-04-21T10:14:21.471Z"
   },
   {
    "duration": 5,
    "start_time": "2022-04-21T10:14:21.502Z"
   },
   {
    "duration": 5,
    "start_time": "2022-04-21T10:14:21.510Z"
   },
   {
    "duration": 6,
    "start_time": "2022-04-21T10:14:21.516Z"
   },
   {
    "duration": 32,
    "start_time": "2022-04-21T10:14:21.523Z"
   },
   {
    "duration": 4,
    "start_time": "2022-04-21T10:14:21.557Z"
   },
   {
    "duration": 9,
    "start_time": "2022-04-21T10:14:21.563Z"
   },
   {
    "duration": 44,
    "start_time": "2022-04-21T10:14:21.573Z"
   },
   {
    "duration": 4,
    "start_time": "2022-04-21T10:14:21.619Z"
   },
   {
    "duration": 10,
    "start_time": "2022-04-21T10:14:21.625Z"
   },
   {
    "duration": 26,
    "start_time": "2022-04-21T10:14:21.636Z"
   },
   {
    "duration": 4,
    "start_time": "2022-04-21T10:14:21.664Z"
   },
   {
    "duration": 7,
    "start_time": "2022-04-21T10:14:21.670Z"
   },
   {
    "duration": 12,
    "start_time": "2022-04-21T10:14:21.700Z"
   },
   {
    "duration": 8,
    "start_time": "2022-04-21T10:14:21.714Z"
   },
   {
    "duration": 22,
    "start_time": "2022-04-21T10:14:21.724Z"
   },
   {
    "duration": 57,
    "start_time": "2022-04-21T10:14:21.748Z"
   },
   {
    "duration": 18,
    "start_time": "2022-04-21T10:14:21.807Z"
   },
   {
    "duration": 23,
    "start_time": "2022-04-21T10:14:21.826Z"
   },
   {
    "duration": 7,
    "start_time": "2022-04-21T10:14:21.851Z"
   },
   {
    "duration": 43,
    "start_time": "2022-04-21T10:14:21.860Z"
   },
   {
    "duration": 6,
    "start_time": "2022-04-21T10:14:21.904Z"
   },
   {
    "duration": 17,
    "start_time": "2022-04-21T10:14:21.912Z"
   },
   {
    "duration": 7,
    "start_time": "2022-04-21T10:14:21.930Z"
   },
   {
    "duration": 18,
    "start_time": "2022-04-21T10:14:21.938Z"
   },
   {
    "duration": 8,
    "start_time": "2022-04-21T10:14:21.957Z"
   },
   {
    "duration": 8,
    "start_time": "2022-04-21T10:14:21.967Z"
   },
   {
    "duration": 29,
    "start_time": "2022-04-21T10:14:21.976Z"
   },
   {
    "duration": 9,
    "start_time": "2022-04-21T10:14:22.006Z"
   },
   {
    "duration": 13,
    "start_time": "2022-04-21T10:14:22.016Z"
   },
   {
    "duration": 15,
    "start_time": "2022-04-21T10:14:22.030Z"
   },
   {
    "duration": 6,
    "start_time": "2022-04-21T10:14:22.047Z"
   },
   {
    "duration": 4,
    "start_time": "2022-04-21T10:14:22.055Z"
   },
   {
    "duration": 80,
    "start_time": "2022-04-21T10:14:22.061Z"
   },
   {
    "duration": 6,
    "start_time": "2022-04-21T10:16:16.007Z"
   },
   {
    "duration": 5,
    "start_time": "2022-04-21T10:16:18.679Z"
   },
   {
    "duration": 4,
    "start_time": "2022-04-21T10:16:33.964Z"
   },
   {
    "duration": 7,
    "start_time": "2022-04-21T10:19:12.160Z"
   },
   {
    "duration": 21,
    "start_time": "2022-04-21T10:21:24.540Z"
   },
   {
    "duration": 3,
    "start_time": "2022-04-21T10:21:45.388Z"
   },
   {
    "duration": 20,
    "start_time": "2022-04-21T10:21:50.468Z"
   },
   {
    "duration": 11,
    "start_time": "2022-04-21T10:21:57.541Z"
   },
   {
    "duration": 11,
    "start_time": "2022-04-21T10:22:48.823Z"
   },
   {
    "duration": 7,
    "start_time": "2022-04-21T10:24:26.956Z"
   },
   {
    "duration": 7,
    "start_time": "2022-04-21T10:24:53.511Z"
   },
   {
    "duration": 224,
    "start_time": "2022-04-21T10:26:20.348Z"
   },
   {
    "duration": 5,
    "start_time": "2022-04-21T10:28:00.476Z"
   },
   {
    "duration": 12,
    "start_time": "2022-04-21T10:28:11.109Z"
   },
   {
    "duration": 12,
    "start_time": "2022-04-21T10:42:31.769Z"
   },
   {
    "duration": 3,
    "start_time": "2022-04-21T10:42:58.490Z"
   },
   {
    "duration": 2,
    "start_time": "2022-04-21T10:43:01.728Z"
   },
   {
    "duration": 9,
    "start_time": "2022-04-21T10:43:04.275Z"
   },
   {
    "duration": 3,
    "start_time": "2022-04-21T10:43:10.608Z"
   },
   {
    "duration": 392,
    "start_time": "2022-04-21T10:43:10.616Z"
   },
   {
    "duration": 17,
    "start_time": "2022-04-21T10:43:11.009Z"
   },
   {
    "duration": 29,
    "start_time": "2022-04-21T10:43:11.028Z"
   },
   {
    "duration": 21,
    "start_time": "2022-04-21T10:43:11.059Z"
   },
   {
    "duration": 40,
    "start_time": "2022-04-21T10:43:11.081Z"
   },
   {
    "duration": 13,
    "start_time": "2022-04-21T10:43:11.123Z"
   },
   {
    "duration": 4,
    "start_time": "2022-04-21T10:43:11.137Z"
   },
   {
    "duration": 6,
    "start_time": "2022-04-21T10:43:11.142Z"
   },
   {
    "duration": 6,
    "start_time": "2022-04-21T10:43:11.150Z"
   },
   {
    "duration": 44,
    "start_time": "2022-04-21T10:43:11.157Z"
   },
   {
    "duration": 30,
    "start_time": "2022-04-21T10:43:11.202Z"
   },
   {
    "duration": 4,
    "start_time": "2022-04-21T10:43:11.234Z"
   },
   {
    "duration": 6,
    "start_time": "2022-04-21T10:43:11.239Z"
   },
   {
    "duration": 19,
    "start_time": "2022-04-21T10:43:11.248Z"
   },
   {
    "duration": 32,
    "start_time": "2022-04-21T10:43:11.269Z"
   },
   {
    "duration": 9,
    "start_time": "2022-04-21T10:43:11.303Z"
   },
   {
    "duration": 26,
    "start_time": "2022-04-21T10:43:11.313Z"
   },
   {
    "duration": 5,
    "start_time": "2022-04-21T10:43:11.340Z"
   },
   {
    "duration": 9,
    "start_time": "2022-04-21T10:43:11.346Z"
   },
   {
    "duration": 16,
    "start_time": "2022-04-21T10:43:11.357Z"
   },
   {
    "duration": 31,
    "start_time": "2022-04-21T10:43:11.374Z"
   },
   {
    "duration": 17,
    "start_time": "2022-04-21T10:43:11.407Z"
   },
   {
    "duration": 44,
    "start_time": "2022-04-21T10:43:11.426Z"
   },
   {
    "duration": 39,
    "start_time": "2022-04-21T10:43:11.471Z"
   },
   {
    "duration": 19,
    "start_time": "2022-04-21T10:43:11.512Z"
   },
   {
    "duration": 7,
    "start_time": "2022-04-21T10:43:11.532Z"
   },
   {
    "duration": 19,
    "start_time": "2022-04-21T10:43:11.540Z"
   },
   {
    "duration": 6,
    "start_time": "2022-04-21T10:43:11.560Z"
   },
   {
    "duration": 46,
    "start_time": "2022-04-21T10:43:11.567Z"
   },
   {
    "duration": 6,
    "start_time": "2022-04-21T10:43:11.615Z"
   },
   {
    "duration": 9,
    "start_time": "2022-04-21T10:43:11.622Z"
   },
   {
    "duration": 7,
    "start_time": "2022-04-21T10:43:11.632Z"
   },
   {
    "duration": 9,
    "start_time": "2022-04-21T10:43:11.640Z"
   },
   {
    "duration": 8,
    "start_time": "2022-04-21T10:43:11.651Z"
   },
   {
    "duration": 10,
    "start_time": "2022-04-21T10:43:11.660Z"
   },
   {
    "duration": 40,
    "start_time": "2022-04-21T10:43:11.672Z"
   },
   {
    "duration": 13,
    "start_time": "2022-04-21T10:43:11.713Z"
   },
   {
    "duration": 4,
    "start_time": "2022-04-21T10:43:11.727Z"
   },
   {
    "duration": 9,
    "start_time": "2022-04-21T10:43:11.732Z"
   },
   {
    "duration": 13,
    "start_time": "2022-04-21T10:43:11.742Z"
   },
   {
    "duration": 2,
    "start_time": "2022-04-21T10:43:11.758Z"
   },
   {
    "duration": 44,
    "start_time": "2022-04-21T10:43:11.762Z"
   },
   {
    "duration": 9,
    "start_time": "2022-04-21T10:43:11.808Z"
   },
   {
    "duration": 18,
    "start_time": "2022-04-21T10:43:11.819Z"
   },
   {
    "duration": 9,
    "start_time": "2022-04-21T10:45:49.692Z"
   },
   {
    "duration": 5,
    "start_time": "2022-04-21T10:54:55.346Z"
   },
   {
    "duration": 7,
    "start_time": "2022-04-21T10:55:43.071Z"
   },
   {
    "duration": 3,
    "start_time": "2022-04-21T10:56:08.153Z"
   },
   {
    "duration": 6,
    "start_time": "2022-04-21T10:56:10.498Z"
   },
   {
    "duration": 2446,
    "start_time": "2022-04-21T10:56:23.122Z"
   },
   {
    "duration": 2293,
    "start_time": "2022-04-21T10:56:54.016Z"
   },
   {
    "duration": 4,
    "start_time": "2022-04-21T10:56:59.518Z"
   },
   {
    "duration": 3,
    "start_time": "2022-04-21T10:57:05.891Z"
   },
   {
    "duration": 432,
    "start_time": "2022-04-21T10:57:05.896Z"
   },
   {
    "duration": 15,
    "start_time": "2022-04-21T10:57:06.330Z"
   },
   {
    "duration": 34,
    "start_time": "2022-04-21T10:57:06.346Z"
   },
   {
    "duration": 36,
    "start_time": "2022-04-21T10:57:06.382Z"
   },
   {
    "duration": 44,
    "start_time": "2022-04-21T10:57:06.420Z"
   },
   {
    "duration": 14,
    "start_time": "2022-04-21T10:57:06.465Z"
   },
   {
    "duration": 5,
    "start_time": "2022-04-21T10:57:06.506Z"
   },
   {
    "duration": 11,
    "start_time": "2022-04-21T10:57:06.513Z"
   },
   {
    "duration": 7,
    "start_time": "2022-04-21T10:57:06.525Z"
   },
   {
    "duration": 5,
    "start_time": "2022-04-21T10:57:06.535Z"
   },
   {
    "duration": 33,
    "start_time": "2022-04-21T10:57:06.542Z"
   },
   {
    "duration": 4,
    "start_time": "2022-04-21T10:57:06.577Z"
   },
   {
    "duration": 24,
    "start_time": "2022-04-21T10:57:06.583Z"
   },
   {
    "duration": 26,
    "start_time": "2022-04-21T10:57:06.609Z"
   },
   {
    "duration": 5,
    "start_time": "2022-04-21T10:57:06.637Z"
   },
   {
    "duration": 6,
    "start_time": "2022-04-21T10:57:06.643Z"
   },
   {
    "duration": 25,
    "start_time": "2022-04-21T10:57:06.651Z"
   },
   {
    "duration": 4,
    "start_time": "2022-04-21T10:57:06.677Z"
   },
   {
    "duration": 28,
    "start_time": "2022-04-21T10:57:06.682Z"
   },
   {
    "duration": 25,
    "start_time": "2022-04-21T10:57:06.711Z"
   },
   {
    "duration": 8,
    "start_time": "2022-04-21T10:57:06.737Z"
   },
   {
    "duration": 16,
    "start_time": "2022-04-21T10:57:06.747Z"
   },
   {
    "duration": 66,
    "start_time": "2022-04-21T10:57:06.765Z"
   },
   {
    "duration": 19,
    "start_time": "2022-04-21T10:57:06.832Z"
   },
   {
    "duration": 19,
    "start_time": "2022-04-21T10:57:06.853Z"
   },
   {
    "duration": 31,
    "start_time": "2022-04-21T10:57:06.874Z"
   },
   {
    "duration": 26,
    "start_time": "2022-04-21T10:57:06.907Z"
   },
   {
    "duration": 8,
    "start_time": "2022-04-21T10:57:06.938Z"
   },
   {
    "duration": 15,
    "start_time": "2022-04-21T10:57:06.947Z"
   },
   {
    "duration": 6,
    "start_time": "2022-04-21T10:57:06.964Z"
   },
   {
    "duration": 33,
    "start_time": "2022-04-21T10:57:06.972Z"
   },
   {
    "duration": 11,
    "start_time": "2022-04-21T10:57:07.006Z"
   },
   {
    "duration": 14,
    "start_time": "2022-04-21T10:57:07.018Z"
   },
   {
    "duration": 13,
    "start_time": "2022-04-21T10:57:07.033Z"
   },
   {
    "duration": 13,
    "start_time": "2022-04-21T10:57:07.048Z"
   },
   {
    "duration": 22,
    "start_time": "2022-04-21T10:57:07.063Z"
   },
   {
    "duration": 17,
    "start_time": "2022-04-21T10:57:07.101Z"
   },
   {
    "duration": 10,
    "start_time": "2022-04-21T10:57:07.119Z"
   },
   {
    "duration": 8,
    "start_time": "2022-04-21T10:57:07.130Z"
   },
   {
    "duration": 2,
    "start_time": "2022-04-21T10:57:07.140Z"
   },
   {
    "duration": 15,
    "start_time": "2022-04-21T10:57:07.144Z"
   },
   {
    "duration": 3,
    "start_time": "2022-04-21T10:57:07.161Z"
   },
   {
    "duration": 42,
    "start_time": "2022-04-21T10:57:07.166Z"
   },
   {
    "duration": 4,
    "start_time": "2022-04-21T10:57:16.586Z"
   },
   {
    "duration": 2760,
    "start_time": "2022-04-21T10:57:23.261Z"
   },
   {
    "duration": 1101,
    "start_time": "2022-04-21T10:58:27.054Z"
   },
   {
    "duration": 410,
    "start_time": "2022-04-21T10:58:28.157Z"
   },
   {
    "duration": 20,
    "start_time": "2022-04-21T10:58:28.569Z"
   },
   {
    "duration": 32,
    "start_time": "2022-04-21T10:58:28.591Z"
   },
   {
    "duration": 34,
    "start_time": "2022-04-21T10:58:28.625Z"
   },
   {
    "duration": 45,
    "start_time": "2022-04-21T10:58:28.661Z"
   },
   {
    "duration": 16,
    "start_time": "2022-04-21T10:58:28.708Z"
   },
   {
    "duration": 6,
    "start_time": "2022-04-21T10:58:28.725Z"
   },
   {
    "duration": 11,
    "start_time": "2022-04-21T10:58:28.733Z"
   },
   {
    "duration": 11,
    "start_time": "2022-04-21T10:58:28.746Z"
   },
   {
    "duration": 7,
    "start_time": "2022-04-21T10:58:28.758Z"
   },
   {
    "duration": 54,
    "start_time": "2022-04-21T10:58:28.766Z"
   },
   {
    "duration": 5,
    "start_time": "2022-04-21T10:58:28.822Z"
   },
   {
    "duration": 7,
    "start_time": "2022-04-21T10:58:28.829Z"
   },
   {
    "duration": 25,
    "start_time": "2022-04-21T10:58:28.838Z"
   },
   {
    "duration": 4,
    "start_time": "2022-04-21T10:58:28.865Z"
   },
   {
    "duration": 8,
    "start_time": "2022-04-21T10:58:28.871Z"
   },
   {
    "duration": 52,
    "start_time": "2022-04-21T10:58:28.881Z"
   },
   {
    "duration": 4,
    "start_time": "2022-04-21T10:58:28.935Z"
   },
   {
    "duration": 12,
    "start_time": "2022-04-21T10:58:28.941Z"
   },
   {
    "duration": 14,
    "start_time": "2022-04-21T10:58:28.955Z"
   },
   {
    "duration": 14,
    "start_time": "2022-04-21T10:58:28.970Z"
   },
   {
    "duration": 32,
    "start_time": "2022-04-21T10:58:28.986Z"
   },
   {
    "duration": 58,
    "start_time": "2022-04-21T10:58:29.020Z"
   },
   {
    "duration": 38,
    "start_time": "2022-04-21T10:58:29.080Z"
   },
   {
    "duration": 31,
    "start_time": "2022-04-21T10:58:29.120Z"
   },
   {
    "duration": 10,
    "start_time": "2022-04-21T10:58:29.153Z"
   },
   {
    "duration": 41,
    "start_time": "2022-04-21T10:58:29.167Z"
   },
   {
    "duration": 7,
    "start_time": "2022-04-21T10:58:29.212Z"
   },
   {
    "duration": 19,
    "start_time": "2022-04-21T10:58:29.220Z"
   },
   {
    "duration": 6,
    "start_time": "2022-04-21T10:58:29.240Z"
   },
   {
    "duration": 10,
    "start_time": "2022-04-21T10:58:29.248Z"
   },
   {
    "duration": 7,
    "start_time": "2022-04-21T10:58:29.259Z"
   },
   {
    "duration": 6,
    "start_time": "2022-04-21T10:58:29.268Z"
   },
   {
    "duration": 31,
    "start_time": "2022-04-21T10:58:29.276Z"
   },
   {
    "duration": 13,
    "start_time": "2022-04-21T10:58:29.311Z"
   },
   {
    "duration": 11,
    "start_time": "2022-04-21T10:58:29.326Z"
   },
   {
    "duration": 12,
    "start_time": "2022-04-21T10:58:29.339Z"
   },
   {
    "duration": 3,
    "start_time": "2022-04-21T10:58:29.353Z"
   },
   {
    "duration": 7,
    "start_time": "2022-04-21T10:58:29.358Z"
   },
   {
    "duration": 4,
    "start_time": "2022-04-21T10:58:29.366Z"
   },
   {
    "duration": 45,
    "start_time": "2022-04-21T10:58:29.371Z"
   },
   {
    "duration": 2,
    "start_time": "2022-04-21T10:58:29.418Z"
   },
   {
    "duration": 7,
    "start_time": "2022-04-21T10:58:29.422Z"
   },
   {
    "duration": 2540,
    "start_time": "2022-04-21T10:58:36.057Z"
   },
   {
    "duration": 4,
    "start_time": "2022-04-21T10:58:38.622Z"
   },
   {
    "duration": 2499,
    "start_time": "2022-04-21T11:00:58.573Z"
   },
   {
    "duration": 2498,
    "start_time": "2022-04-21T11:01:01.219Z"
   },
   {
    "duration": 4,
    "start_time": "2022-04-21T11:01:28.467Z"
   },
   {
    "duration": 8,
    "start_time": "2022-04-21T11:03:15.728Z"
   },
   {
    "duration": 3,
    "start_time": "2022-04-21T11:03:21.625Z"
   },
   {
    "duration": 12,
    "start_time": "2022-04-21T11:05:19.309Z"
   },
   {
    "duration": 2775,
    "start_time": "2022-04-21T11:05:43.456Z"
   },
   {
    "duration": 12,
    "start_time": "2022-04-21T11:16:06.415Z"
   },
   {
    "duration": 1090,
    "start_time": "2022-04-21T11:16:43.752Z"
   },
   {
    "duration": 426,
    "start_time": "2022-04-21T11:16:44.844Z"
   },
   {
    "duration": 21,
    "start_time": "2022-04-21T11:16:45.272Z"
   },
   {
    "duration": 45,
    "start_time": "2022-04-21T11:16:45.295Z"
   },
   {
    "duration": 21,
    "start_time": "2022-04-21T11:16:45.342Z"
   },
   {
    "duration": 52,
    "start_time": "2022-04-21T11:16:45.364Z"
   },
   {
    "duration": 21,
    "start_time": "2022-04-21T11:16:45.417Z"
   },
   {
    "duration": 4,
    "start_time": "2022-04-21T11:16:45.439Z"
   },
   {
    "duration": 6,
    "start_time": "2022-04-21T11:16:45.444Z"
   },
   {
    "duration": 7,
    "start_time": "2022-04-21T11:16:45.452Z"
   },
   {
    "duration": 5,
    "start_time": "2022-04-21T11:16:45.460Z"
   },
   {
    "duration": 50,
    "start_time": "2022-04-21T11:16:45.466Z"
   },
   {
    "duration": 6,
    "start_time": "2022-04-21T11:16:45.519Z"
   },
   {
    "duration": 8,
    "start_time": "2022-04-21T11:16:45.527Z"
   },
   {
    "duration": 23,
    "start_time": "2022-04-21T11:16:45.537Z"
   },
   {
    "duration": 5,
    "start_time": "2022-04-21T11:16:45.562Z"
   },
   {
    "duration": 9,
    "start_time": "2022-04-21T11:16:45.569Z"
   },
   {
    "duration": 60,
    "start_time": "2022-04-21T11:16:45.579Z"
   },
   {
    "duration": 4,
    "start_time": "2022-04-21T11:16:45.640Z"
   },
   {
    "duration": 10,
    "start_time": "2022-04-21T11:16:45.646Z"
   },
   {
    "duration": 14,
    "start_time": "2022-04-21T11:16:45.657Z"
   },
   {
    "duration": 7,
    "start_time": "2022-04-21T11:16:45.673Z"
   },
   {
    "duration": 33,
    "start_time": "2022-04-21T11:16:45.681Z"
   },
   {
    "duration": 48,
    "start_time": "2022-04-21T11:16:45.716Z"
   },
   {
    "duration": 17,
    "start_time": "2022-04-21T11:16:45.765Z"
   },
   {
    "duration": 37,
    "start_time": "2022-04-21T11:16:45.783Z"
   },
   {
    "duration": 10,
    "start_time": "2022-04-21T11:16:45.822Z"
   },
   {
    "duration": 17,
    "start_time": "2022-04-21T11:16:45.835Z"
   },
   {
    "duration": 5,
    "start_time": "2022-04-21T11:16:45.854Z"
   },
   {
    "duration": 14,
    "start_time": "2022-04-21T11:16:45.861Z"
   },
   {
    "duration": 8,
    "start_time": "2022-04-21T11:16:45.902Z"
   },
   {
    "duration": 15,
    "start_time": "2022-04-21T11:16:45.912Z"
   },
   {
    "duration": 8,
    "start_time": "2022-04-21T11:16:45.928Z"
   },
   {
    "duration": 7,
    "start_time": "2022-04-21T11:16:45.937Z"
   },
   {
    "duration": 10,
    "start_time": "2022-04-21T11:16:45.945Z"
   },
   {
    "duration": 9,
    "start_time": "2022-04-21T11:16:45.956Z"
   },
   {
    "duration": 36,
    "start_time": "2022-04-21T11:16:45.967Z"
   },
   {
    "duration": 13,
    "start_time": "2022-04-21T11:16:46.006Z"
   },
   {
    "duration": 4,
    "start_time": "2022-04-21T11:16:46.021Z"
   },
   {
    "duration": 9,
    "start_time": "2022-04-21T11:16:46.027Z"
   },
   {
    "duration": 4,
    "start_time": "2022-04-21T11:16:46.037Z"
   },
   {
    "duration": 15,
    "start_time": "2022-04-21T11:16:46.042Z"
   },
   {
    "duration": 129,
    "start_time": "2022-04-21T11:16:46.059Z"
   },
   {
    "duration": 0,
    "start_time": "2022-04-21T11:16:46.190Z"
   },
   {
    "duration": 7,
    "start_time": "2022-04-21T11:17:18.498Z"
   },
   {
    "duration": 8,
    "start_time": "2022-04-21T11:17:33.544Z"
   },
   {
    "duration": 17,
    "start_time": "2022-04-21T11:17:36.794Z"
   },
   {
    "duration": 7,
    "start_time": "2022-04-21T11:17:49.373Z"
   },
   {
    "duration": 3,
    "start_time": "2022-04-21T11:17:57.916Z"
   },
   {
    "duration": 4,
    "start_time": "2022-04-21T11:18:00.406Z"
   },
   {
    "duration": 2502,
    "start_time": "2022-04-21T11:18:15.191Z"
   },
   {
    "duration": 5,
    "start_time": "2022-04-21T11:19:05.297Z"
   },
   {
    "duration": 2419,
    "start_time": "2022-04-21T11:29:44.193Z"
   },
   {
    "duration": 5953,
    "start_time": "2022-04-21T11:34:17.561Z"
   },
   {
    "duration": 0,
    "start_time": "2022-04-21T11:34:23.516Z"
   },
   {
    "duration": 2532,
    "start_time": "2022-04-21T11:34:51.990Z"
   },
   {
    "duration": 2,
    "start_time": "2022-04-21T11:35:04.025Z"
   },
   {
    "duration": 480,
    "start_time": "2022-04-21T11:35:04.030Z"
   },
   {
    "duration": 19,
    "start_time": "2022-04-21T11:35:04.513Z"
   },
   {
    "duration": 37,
    "start_time": "2022-04-21T11:35:04.534Z"
   },
   {
    "duration": 30,
    "start_time": "2022-04-21T11:35:04.573Z"
   },
   {
    "duration": 27,
    "start_time": "2022-04-21T11:35:04.604Z"
   },
   {
    "duration": 19,
    "start_time": "2022-04-21T11:35:04.632Z"
   },
   {
    "duration": 4,
    "start_time": "2022-04-21T11:35:04.653Z"
   },
   {
    "duration": 7,
    "start_time": "2022-04-21T11:35:04.659Z"
   },
   {
    "duration": 5,
    "start_time": "2022-04-21T11:35:04.700Z"
   },
   {
    "duration": 5,
    "start_time": "2022-04-21T11:35:04.708Z"
   },
   {
    "duration": 34,
    "start_time": "2022-04-21T11:35:04.715Z"
   },
   {
    "duration": 5,
    "start_time": "2022-04-21T11:35:04.750Z"
   },
   {
    "duration": 6,
    "start_time": "2022-04-21T11:35:04.757Z"
   },
   {
    "duration": 53,
    "start_time": "2022-04-21T11:35:04.764Z"
   },
   {
    "duration": 5,
    "start_time": "2022-04-21T11:35:04.818Z"
   },
   {
    "duration": 6,
    "start_time": "2022-04-21T11:35:04.825Z"
   },
   {
    "duration": 25,
    "start_time": "2022-04-21T11:35:04.833Z"
   },
   {
    "duration": 5,
    "start_time": "2022-04-21T11:35:04.860Z"
   },
   {
    "duration": 34,
    "start_time": "2022-04-21T11:35:04.868Z"
   },
   {
    "duration": 23,
    "start_time": "2022-04-21T11:35:04.903Z"
   },
   {
    "duration": 14,
    "start_time": "2022-04-21T11:35:04.927Z"
   },
   {
    "duration": 21,
    "start_time": "2022-04-21T11:35:04.942Z"
   },
   {
    "duration": 46,
    "start_time": "2022-04-21T11:35:04.965Z"
   },
   {
    "duration": 18,
    "start_time": "2022-04-21T11:35:05.013Z"
   },
   {
    "duration": 22,
    "start_time": "2022-04-21T11:35:05.032Z"
   },
   {
    "duration": 8,
    "start_time": "2022-04-21T11:35:05.055Z"
   },
   {
    "duration": 43,
    "start_time": "2022-04-21T11:35:05.064Z"
   },
   {
    "duration": 6,
    "start_time": "2022-04-21T11:35:05.110Z"
   },
   {
    "duration": 16,
    "start_time": "2022-04-21T11:35:05.118Z"
   },
   {
    "duration": 6,
    "start_time": "2022-04-21T11:35:05.136Z"
   },
   {
    "duration": 8,
    "start_time": "2022-04-21T11:35:05.143Z"
   },
   {
    "duration": 9,
    "start_time": "2022-04-21T11:35:05.153Z"
   },
   {
    "duration": 8,
    "start_time": "2022-04-21T11:35:05.163Z"
   },
   {
    "duration": 28,
    "start_time": "2022-04-21T11:35:05.173Z"
   },
   {
    "duration": 9,
    "start_time": "2022-04-21T11:35:05.203Z"
   },
   {
    "duration": 13,
    "start_time": "2022-04-21T11:35:05.214Z"
   },
   {
    "duration": 13,
    "start_time": "2022-04-21T11:35:05.229Z"
   },
   {
    "duration": 4,
    "start_time": "2022-04-21T11:35:05.243Z"
   },
   {
    "duration": 8,
    "start_time": "2022-04-21T11:35:05.248Z"
   },
   {
    "duration": 2,
    "start_time": "2022-04-21T11:35:05.258Z"
   },
   {
    "duration": 49,
    "start_time": "2022-04-21T11:35:05.261Z"
   },
   {
    "duration": 3,
    "start_time": "2022-04-21T11:35:05.311Z"
   },
   {
    "duration": 80,
    "start_time": "2022-04-21T11:35:05.316Z"
   },
   {
    "duration": 10,
    "start_time": "2022-04-21T11:36:15.881Z"
   },
   {
    "duration": 11,
    "start_time": "2022-04-21T11:37:12.929Z"
   },
   {
    "duration": 7,
    "start_time": "2022-04-21T11:37:33.902Z"
   },
   {
    "duration": 28,
    "start_time": "2022-04-21T11:52:28.437Z"
   },
   {
    "duration": 7,
    "start_time": "2022-04-21T11:52:35.145Z"
   },
   {
    "duration": 7,
    "start_time": "2022-04-21T11:52:54.250Z"
   },
   {
    "duration": 13,
    "start_time": "2022-04-21T11:53:18.773Z"
   },
   {
    "duration": 8,
    "start_time": "2022-04-21T11:54:36.331Z"
   },
   {
    "duration": 5,
    "start_time": "2022-04-21T11:54:39.736Z"
   },
   {
    "duration": 8,
    "start_time": "2022-04-21T11:54:43.236Z"
   },
   {
    "duration": 13,
    "start_time": "2022-04-21T11:54:46.241Z"
   },
   {
    "duration": 11,
    "start_time": "2022-04-21T13:42:03.798Z"
   },
   {
    "duration": 12,
    "start_time": "2022-04-21T13:42:37.901Z"
   },
   {
    "duration": 3122,
    "start_time": "2022-04-21T13:48:53.066Z"
   },
   {
    "duration": 4,
    "start_time": "2022-04-21T13:49:03.277Z"
   },
   {
    "duration": 15,
    "start_time": "2022-04-21T13:49:06.101Z"
   },
   {
    "duration": 4,
    "start_time": "2022-04-21T13:49:44.837Z"
   },
   {
    "duration": 15,
    "start_time": "2022-04-21T13:49:47.415Z"
   },
   {
    "duration": 5,
    "start_time": "2022-04-21T13:51:07.811Z"
   },
   {
    "duration": 444,
    "start_time": "2022-04-21T13:51:07.818Z"
   },
   {
    "duration": 16,
    "start_time": "2022-04-21T13:51:08.264Z"
   },
   {
    "duration": 27,
    "start_time": "2022-04-21T13:51:08.281Z"
   },
   {
    "duration": 27,
    "start_time": "2022-04-21T13:51:08.312Z"
   },
   {
    "duration": 24,
    "start_time": "2022-04-21T13:51:08.341Z"
   },
   {
    "duration": 44,
    "start_time": "2022-04-21T13:51:08.367Z"
   },
   {
    "duration": 7,
    "start_time": "2022-04-21T13:51:08.413Z"
   },
   {
    "duration": 14,
    "start_time": "2022-04-21T13:51:08.422Z"
   },
   {
    "duration": 9,
    "start_time": "2022-04-21T13:51:08.438Z"
   },
   {
    "duration": 8,
    "start_time": "2022-04-21T13:51:08.449Z"
   },
   {
    "duration": 55,
    "start_time": "2022-04-21T13:51:08.459Z"
   },
   {
    "duration": 6,
    "start_time": "2022-04-21T13:51:08.518Z"
   },
   {
    "duration": 12,
    "start_time": "2022-04-21T13:51:08.526Z"
   },
   {
    "duration": 23,
    "start_time": "2022-04-21T13:51:08.539Z"
   },
   {
    "duration": 5,
    "start_time": "2022-04-21T13:51:08.563Z"
   },
   {
    "duration": 6,
    "start_time": "2022-04-21T13:51:08.569Z"
   },
   {
    "duration": 48,
    "start_time": "2022-04-21T13:51:08.576Z"
   },
   {
    "duration": 5,
    "start_time": "2022-04-21T13:51:08.626Z"
   },
   {
    "duration": 13,
    "start_time": "2022-04-21T13:51:08.632Z"
   },
   {
    "duration": 16,
    "start_time": "2022-04-21T13:51:08.646Z"
   },
   {
    "duration": 8,
    "start_time": "2022-04-21T13:51:08.663Z"
   },
   {
    "duration": 34,
    "start_time": "2022-04-21T13:51:08.672Z"
   },
   {
    "duration": 49,
    "start_time": "2022-04-21T13:51:08.709Z"
   },
   {
    "duration": 18,
    "start_time": "2022-04-21T13:51:08.759Z"
   },
   {
    "duration": 44,
    "start_time": "2022-04-21T13:51:08.778Z"
   },
   {
    "duration": 8,
    "start_time": "2022-04-21T13:51:08.824Z"
   },
   {
    "duration": 23,
    "start_time": "2022-04-21T13:51:08.834Z"
   },
   {
    "duration": 7,
    "start_time": "2022-04-21T13:51:08.858Z"
   },
   {
    "duration": 42,
    "start_time": "2022-04-21T13:51:08.866Z"
   },
   {
    "duration": 9,
    "start_time": "2022-04-21T13:51:08.910Z"
   },
   {
    "duration": 23,
    "start_time": "2022-04-21T13:51:08.921Z"
   },
   {
    "duration": 12,
    "start_time": "2022-04-21T13:51:08.945Z"
   },
   {
    "duration": 7,
    "start_time": "2022-04-21T13:51:08.958Z"
   },
   {
    "duration": 11,
    "start_time": "2022-04-21T13:51:08.967Z"
   },
   {
    "duration": 28,
    "start_time": "2022-04-21T13:51:08.980Z"
   },
   {
    "duration": 14,
    "start_time": "2022-04-21T13:51:09.013Z"
   },
   {
    "duration": 11,
    "start_time": "2022-04-21T13:51:09.029Z"
   },
   {
    "duration": 8,
    "start_time": "2022-04-21T13:51:09.042Z"
   },
   {
    "duration": 13,
    "start_time": "2022-04-21T13:51:09.051Z"
   },
   {
    "duration": 13,
    "start_time": "2022-04-21T13:51:09.065Z"
   },
   {
    "duration": 21,
    "start_time": "2022-04-21T13:51:09.080Z"
   },
   {
    "duration": 12,
    "start_time": "2022-04-21T13:51:09.103Z"
   },
   {
    "duration": 14,
    "start_time": "2022-04-21T13:51:09.117Z"
   },
   {
    "duration": 7,
    "start_time": "2022-04-21T13:51:09.132Z"
   },
   {
    "duration": 13,
    "start_time": "2022-04-21T13:51:09.141Z"
   },
   {
    "duration": 12,
    "start_time": "2022-04-21T13:51:09.156Z"
   },
   {
    "duration": 5,
    "start_time": "2022-04-21T13:51:09.170Z"
   },
   {
    "duration": 31,
    "start_time": "2022-04-21T13:51:09.176Z"
   },
   {
    "duration": 5,
    "start_time": "2022-04-21T13:53:22.859Z"
   },
   {
    "duration": 5,
    "start_time": "2022-04-21T13:54:57.641Z"
   },
   {
    "duration": 3262,
    "start_time": "2022-04-21T13:59:16.028Z"
   },
   {
    "duration": 2993,
    "start_time": "2022-04-21T13:59:38.236Z"
   },
   {
    "duration": 186,
    "start_time": "2022-04-21T14:04:17.520Z"
   },
   {
    "duration": 3,
    "start_time": "2022-04-21T14:19:38.597Z"
   },
   {
    "duration": 7,
    "start_time": "2022-04-21T14:19:41.145Z"
   },
   {
    "duration": 9,
    "start_time": "2022-04-21T14:20:08.993Z"
   },
   {
    "duration": 9,
    "start_time": "2022-04-21T14:20:24.994Z"
   },
   {
    "duration": 9,
    "start_time": "2022-04-21T14:21:23.755Z"
   },
   {
    "duration": 7,
    "start_time": "2022-04-21T14:21:30.062Z"
   },
   {
    "duration": 3,
    "start_time": "2022-04-21T14:21:32.065Z"
   },
   {
    "duration": 8,
    "start_time": "2022-04-21T14:21:34.825Z"
   },
   {
    "duration": 12,
    "start_time": "2022-04-21T14:21:50.340Z"
   },
   {
    "duration": 7,
    "start_time": "2022-04-21T14:23:13.589Z"
   },
   {
    "duration": 2,
    "start_time": "2022-04-21T14:23:22.839Z"
   },
   {
    "duration": 436,
    "start_time": "2022-04-21T14:23:22.843Z"
   },
   {
    "duration": 15,
    "start_time": "2022-04-21T14:23:23.281Z"
   },
   {
    "duration": 48,
    "start_time": "2022-04-21T14:23:23.298Z"
   },
   {
    "duration": 20,
    "start_time": "2022-04-21T14:23:23.348Z"
   },
   {
    "duration": 46,
    "start_time": "2022-04-21T14:23:23.370Z"
   },
   {
    "duration": 15,
    "start_time": "2022-04-21T14:23:23.418Z"
   },
   {
    "duration": 7,
    "start_time": "2022-04-21T14:23:23.435Z"
   },
   {
    "duration": 9,
    "start_time": "2022-04-21T14:23:23.443Z"
   },
   {
    "duration": 6,
    "start_time": "2022-04-21T14:23:23.454Z"
   },
   {
    "duration": 5,
    "start_time": "2022-04-21T14:23:23.463Z"
   },
   {
    "duration": 67,
    "start_time": "2022-04-21T14:23:23.469Z"
   },
   {
    "duration": 5,
    "start_time": "2022-04-21T14:23:23.538Z"
   },
   {
    "duration": 14,
    "start_time": "2022-04-21T14:23:23.544Z"
   },
   {
    "duration": 25,
    "start_time": "2022-04-21T14:23:23.559Z"
   },
   {
    "duration": 4,
    "start_time": "2022-04-21T14:23:23.586Z"
   },
   {
    "duration": 12,
    "start_time": "2022-04-21T14:23:23.592Z"
   },
   {
    "duration": 37,
    "start_time": "2022-04-21T14:23:23.605Z"
   },
   {
    "duration": 5,
    "start_time": "2022-04-21T14:23:23.643Z"
   },
   {
    "duration": 6,
    "start_time": "2022-04-21T14:23:23.649Z"
   },
   {
    "duration": 15,
    "start_time": "2022-04-21T14:23:23.657Z"
   },
   {
    "duration": 26,
    "start_time": "2022-04-21T14:23:23.674Z"
   },
   {
    "duration": 34,
    "start_time": "2022-04-21T14:23:23.702Z"
   },
   {
    "duration": 44,
    "start_time": "2022-04-21T14:23:23.737Z"
   },
   {
    "duration": 33,
    "start_time": "2022-04-21T14:23:23.782Z"
   },
   {
    "duration": 22,
    "start_time": "2022-04-21T14:23:23.817Z"
   },
   {
    "duration": 7,
    "start_time": "2022-04-21T14:23:23.841Z"
   },
   {
    "duration": 20,
    "start_time": "2022-04-21T14:23:23.849Z"
   },
   {
    "duration": 6,
    "start_time": "2022-04-21T14:23:23.873Z"
   },
   {
    "duration": 28,
    "start_time": "2022-04-21T14:23:23.880Z"
   },
   {
    "duration": 7,
    "start_time": "2022-04-21T14:23:23.910Z"
   },
   {
    "duration": 10,
    "start_time": "2022-04-21T14:23:23.919Z"
   },
   {
    "duration": 8,
    "start_time": "2022-04-21T14:23:23.931Z"
   },
   {
    "duration": 6,
    "start_time": "2022-04-21T14:23:23.941Z"
   },
   {
    "duration": 9,
    "start_time": "2022-04-21T14:23:23.948Z"
   },
   {
    "duration": 46,
    "start_time": "2022-04-21T14:23:23.959Z"
   },
   {
    "duration": 13,
    "start_time": "2022-04-21T14:23:24.006Z"
   },
   {
    "duration": 21,
    "start_time": "2022-04-21T14:23:24.021Z"
   },
   {
    "duration": 4,
    "start_time": "2022-04-21T14:23:24.043Z"
   },
   {
    "duration": 7,
    "start_time": "2022-04-21T14:23:24.048Z"
   },
   {
    "duration": 17,
    "start_time": "2022-04-21T14:23:24.056Z"
   },
   {
    "duration": 3,
    "start_time": "2022-04-21T14:23:24.074Z"
   },
   {
    "duration": 28,
    "start_time": "2022-04-21T14:23:24.078Z"
   },
   {
    "duration": 8,
    "start_time": "2022-04-21T14:23:24.107Z"
   },
   {
    "duration": 6,
    "start_time": "2022-04-21T14:23:24.116Z"
   },
   {
    "duration": 11,
    "start_time": "2022-04-21T14:23:24.123Z"
   },
   {
    "duration": 13,
    "start_time": "2022-04-21T14:23:24.135Z"
   },
   {
    "duration": 5,
    "start_time": "2022-04-21T14:23:24.149Z"
   },
   {
    "duration": 13,
    "start_time": "2022-04-21T14:23:24.155Z"
   },
   {
    "duration": 5,
    "start_time": "2022-04-21T14:23:24.170Z"
   },
   {
    "duration": 187,
    "start_time": "2022-04-21T14:23:24.176Z"
   },
   {
    "duration": 0,
    "start_time": "2022-04-21T14:23:24.364Z"
   },
   {
    "duration": 0,
    "start_time": "2022-04-21T14:23:24.366Z"
   },
   {
    "duration": 0,
    "start_time": "2022-04-21T14:23:24.368Z"
   },
   {
    "duration": 0,
    "start_time": "2022-04-21T14:23:24.369Z"
   },
   {
    "duration": 5,
    "start_time": "2022-04-21T14:23:40.437Z"
   },
   {
    "duration": 8,
    "start_time": "2022-04-21T14:23:49.540Z"
   },
   {
    "duration": 3353,
    "start_time": "2022-04-21T14:28:58.200Z"
   },
   {
    "duration": 6,
    "start_time": "2022-04-21T14:30:08.585Z"
   },
   {
    "duration": 5,
    "start_time": "2022-04-21T14:30:17.688Z"
   },
   {
    "duration": 11,
    "start_time": "2022-04-21T14:31:00.851Z"
   },
   {
    "duration": 5,
    "start_time": "2022-04-21T14:31:55.653Z"
   },
   {
    "duration": 4,
    "start_time": "2022-04-21T14:32:09.318Z"
   },
   {
    "duration": 12,
    "start_time": "2022-04-21T15:07:23.171Z"
   },
   {
    "duration": 28,
    "start_time": "2022-04-21T15:07:31.795Z"
   },
   {
    "duration": 3,
    "start_time": "2022-04-21T15:09:34.615Z"
   },
   {
    "duration": 384,
    "start_time": "2022-04-21T15:09:34.620Z"
   },
   {
    "duration": 17,
    "start_time": "2022-04-21T15:09:35.006Z"
   },
   {
    "duration": 36,
    "start_time": "2022-04-21T15:09:35.024Z"
   },
   {
    "duration": 23,
    "start_time": "2022-04-21T15:09:35.062Z"
   },
   {
    "duration": 26,
    "start_time": "2022-04-21T15:09:35.099Z"
   },
   {
    "duration": 14,
    "start_time": "2022-04-21T15:09:35.127Z"
   },
   {
    "duration": 7,
    "start_time": "2022-04-21T15:09:35.142Z"
   },
   {
    "duration": 8,
    "start_time": "2022-04-21T15:09:35.150Z"
   },
   {
    "duration": 6,
    "start_time": "2022-04-21T15:09:35.160Z"
   },
   {
    "duration": 35,
    "start_time": "2022-04-21T15:09:35.168Z"
   },
   {
    "duration": 33,
    "start_time": "2022-04-21T15:09:35.205Z"
   },
   {
    "duration": 4,
    "start_time": "2022-04-21T15:09:35.240Z"
   },
   {
    "duration": 6,
    "start_time": "2022-04-21T15:09:35.246Z"
   },
   {
    "duration": 21,
    "start_time": "2022-04-21T15:09:35.254Z"
   },
   {
    "duration": 25,
    "start_time": "2022-04-21T15:09:35.276Z"
   },
   {
    "duration": 10,
    "start_time": "2022-04-21T15:09:35.303Z"
   },
   {
    "duration": 31,
    "start_time": "2022-04-21T15:09:35.314Z"
   },
   {
    "duration": 4,
    "start_time": "2022-04-21T15:09:35.346Z"
   },
   {
    "duration": 9,
    "start_time": "2022-04-21T15:09:35.352Z"
   },
   {
    "duration": 17,
    "start_time": "2022-04-21T15:09:35.363Z"
   },
   {
    "duration": 20,
    "start_time": "2022-04-21T15:09:35.381Z"
   },
   {
    "duration": 22,
    "start_time": "2022-04-21T15:09:35.403Z"
   },
   {
    "duration": 46,
    "start_time": "2022-04-21T15:09:35.427Z"
   },
   {
    "duration": 38,
    "start_time": "2022-04-21T15:09:35.474Z"
   },
   {
    "duration": 22,
    "start_time": "2022-04-21T15:09:35.513Z"
   },
   {
    "duration": 7,
    "start_time": "2022-04-21T15:09:35.536Z"
   },
   {
    "duration": 19,
    "start_time": "2022-04-21T15:09:35.545Z"
   },
   {
    "duration": 6,
    "start_time": "2022-04-21T15:09:35.568Z"
   },
   {
    "duration": 44,
    "start_time": "2022-04-21T15:09:35.575Z"
   },
   {
    "duration": 7,
    "start_time": "2022-04-21T15:09:35.620Z"
   },
   {
    "duration": 19,
    "start_time": "2022-04-21T15:09:35.629Z"
   },
   {
    "duration": 10,
    "start_time": "2022-04-21T15:09:35.649Z"
   },
   {
    "duration": 12,
    "start_time": "2022-04-21T15:09:35.661Z"
   },
   {
    "duration": 9,
    "start_time": "2022-04-21T15:09:35.675Z"
   },
   {
    "duration": 17,
    "start_time": "2022-04-21T15:09:35.686Z"
   },
   {
    "duration": 15,
    "start_time": "2022-04-21T15:09:35.705Z"
   },
   {
    "duration": 15,
    "start_time": "2022-04-21T15:09:35.722Z"
   },
   {
    "duration": 4,
    "start_time": "2022-04-21T15:09:35.739Z"
   },
   {
    "duration": 8,
    "start_time": "2022-04-21T15:09:35.745Z"
   },
   {
    "duration": 14,
    "start_time": "2022-04-21T15:09:35.754Z"
   },
   {
    "duration": 3,
    "start_time": "2022-04-21T15:09:35.769Z"
   },
   {
    "duration": 7,
    "start_time": "2022-04-21T15:09:35.801Z"
   },
   {
    "duration": 6,
    "start_time": "2022-04-21T15:09:35.810Z"
   },
   {
    "duration": 7,
    "start_time": "2022-04-21T15:09:35.817Z"
   },
   {
    "duration": 13,
    "start_time": "2022-04-21T15:09:35.825Z"
   },
   {
    "duration": 13,
    "start_time": "2022-04-21T15:09:35.840Z"
   },
   {
    "duration": 6,
    "start_time": "2022-04-21T15:09:35.854Z"
   },
   {
    "duration": 46,
    "start_time": "2022-04-21T15:09:35.861Z"
   },
   {
    "duration": 6,
    "start_time": "2022-04-21T15:09:35.908Z"
   },
   {
    "duration": 7,
    "start_time": "2022-04-21T15:09:35.916Z"
   },
   {
    "duration": 5,
    "start_time": "2022-04-21T15:09:35.924Z"
   },
   {
    "duration": 14,
    "start_time": "2022-04-21T15:09:35.930Z"
   },
   {
    "duration": 57,
    "start_time": "2022-04-21T15:09:35.945Z"
   },
   {
    "duration": 39,
    "start_time": "2022-04-22T03:11:36.465Z"
   },
   {
    "duration": 1155,
    "start_time": "2022-04-22T03:11:39.796Z"
   },
   {
    "duration": 337,
    "start_time": "2022-04-22T03:11:40.953Z"
   },
   {
    "duration": 20,
    "start_time": "2022-04-22T03:11:41.291Z"
   },
   {
    "duration": 27,
    "start_time": "2022-04-22T03:11:41.313Z"
   },
   {
    "duration": 17,
    "start_time": "2022-04-22T03:11:41.342Z"
   },
   {
    "duration": 23,
    "start_time": "2022-04-22T03:11:41.360Z"
   },
   {
    "duration": 14,
    "start_time": "2022-04-22T03:11:41.384Z"
   },
   {
    "duration": 26,
    "start_time": "2022-04-22T03:11:41.400Z"
   },
   {
    "duration": 7,
    "start_time": "2022-04-22T03:11:41.427Z"
   },
   {
    "duration": 6,
    "start_time": "2022-04-22T03:11:41.436Z"
   },
   {
    "duration": 5,
    "start_time": "2022-04-22T03:11:41.443Z"
   },
   {
    "duration": 30,
    "start_time": "2022-04-22T03:11:41.450Z"
   },
   {
    "duration": 5,
    "start_time": "2022-04-22T03:11:41.481Z"
   },
   {
    "duration": 7,
    "start_time": "2022-04-22T03:11:41.487Z"
   },
   {
    "duration": 18,
    "start_time": "2022-04-22T03:11:41.523Z"
   },
   {
    "duration": 4,
    "start_time": "2022-04-22T03:11:41.542Z"
   },
   {
    "duration": 6,
    "start_time": "2022-04-22T03:11:41.547Z"
   },
   {
    "duration": 23,
    "start_time": "2022-04-22T03:11:41.555Z"
   },
   {
    "duration": 4,
    "start_time": "2022-04-22T03:11:41.580Z"
   },
   {
    "duration": 8,
    "start_time": "2022-04-22T03:11:41.585Z"
   },
   {
    "duration": 35,
    "start_time": "2022-04-22T03:11:41.594Z"
   },
   {
    "duration": 8,
    "start_time": "2022-04-22T03:11:41.630Z"
   },
   {
    "duration": 18,
    "start_time": "2022-04-22T03:11:41.639Z"
   },
   {
    "duration": 43,
    "start_time": "2022-04-22T03:11:41.659Z"
   },
   {
    "duration": 35,
    "start_time": "2022-04-22T03:11:41.703Z"
   },
   {
    "duration": 20,
    "start_time": "2022-04-22T03:11:41.739Z"
   },
   {
    "duration": 7,
    "start_time": "2022-04-22T03:11:41.760Z"
   },
   {
    "duration": 15,
    "start_time": "2022-04-22T03:11:41.770Z"
   },
   {
    "duration": 5,
    "start_time": "2022-04-22T03:11:41.786Z"
   },
   {
    "duration": 39,
    "start_time": "2022-04-22T03:11:41.793Z"
   },
   {
    "duration": 6,
    "start_time": "2022-04-22T03:11:41.834Z"
   },
   {
    "duration": 9,
    "start_time": "2022-04-22T03:11:41.841Z"
   },
   {
    "duration": 7,
    "start_time": "2022-04-22T03:11:41.852Z"
   },
   {
    "duration": 8,
    "start_time": "2022-04-22T03:11:41.860Z"
   },
   {
    "duration": 7,
    "start_time": "2022-04-22T03:11:41.870Z"
   },
   {
    "duration": 9,
    "start_time": "2022-04-22T03:11:41.878Z"
   },
   {
    "duration": 36,
    "start_time": "2022-04-22T03:11:41.888Z"
   },
   {
    "duration": 11,
    "start_time": "2022-04-22T03:11:41.926Z"
   },
   {
    "duration": 6,
    "start_time": "2022-04-22T03:11:41.938Z"
   },
   {
    "duration": 10,
    "start_time": "2022-04-22T03:11:41.946Z"
   },
   {
    "duration": 12,
    "start_time": "2022-04-22T03:11:41.957Z"
   },
   {
    "duration": 2,
    "start_time": "2022-04-22T03:11:41.971Z"
   },
   {
    "duration": 9,
    "start_time": "2022-04-22T03:11:41.974Z"
   },
   {
    "duration": 4,
    "start_time": "2022-04-22T03:11:41.984Z"
   },
   {
    "duration": 34,
    "start_time": "2022-04-22T03:11:41.990Z"
   },
   {
    "duration": 10,
    "start_time": "2022-04-22T03:11:42.026Z"
   },
   {
    "duration": 14,
    "start_time": "2022-04-22T03:11:42.037Z"
   },
   {
    "duration": 5,
    "start_time": "2022-04-22T03:11:42.053Z"
   },
   {
    "duration": 17,
    "start_time": "2022-04-22T03:11:42.059Z"
   },
   {
    "duration": 7,
    "start_time": "2022-04-22T03:11:42.077Z"
   },
   {
    "duration": 7,
    "start_time": "2022-04-22T03:11:42.086Z"
   },
   {
    "duration": 4,
    "start_time": "2022-04-22T03:11:42.095Z"
   },
   {
    "duration": 32,
    "start_time": "2022-04-22T03:11:42.101Z"
   },
   {
    "duration": 70,
    "start_time": "2022-04-22T03:11:42.134Z"
   },
   {
    "duration": 7,
    "start_time": "2022-04-22T03:16:29.895Z"
   },
   {
    "duration": 4,
    "start_time": "2022-04-22T03:17:21.373Z"
   },
   {
    "duration": 2222,
    "start_time": "2022-04-22T03:17:28.707Z"
   },
   {
    "duration": 2144,
    "start_time": "2022-04-22T03:17:46.351Z"
   },
   {
    "duration": 2523,
    "start_time": "2022-04-22T03:18:06.173Z"
   },
   {
    "duration": 1061,
    "start_time": "2022-04-22T03:18:27.550Z"
   },
   {
    "duration": 4,
    "start_time": "2022-04-22T03:18:43.788Z"
   },
   {
    "duration": 4,
    "start_time": "2022-04-22T03:18:49.594Z"
   },
   {
    "duration": 4,
    "start_time": "2022-04-22T03:19:24.250Z"
   },
   {
    "duration": 3,
    "start_time": "2022-04-22T03:25:17.557Z"
   },
   {
    "duration": 4,
    "start_time": "2022-04-22T03:25:28.111Z"
   },
   {
    "duration": 4,
    "start_time": "2022-04-22T03:26:35.838Z"
   },
   {
    "duration": 7,
    "start_time": "2022-04-22T03:44:44.631Z"
   },
   {
    "duration": 14,
    "start_time": "2022-04-22T03:44:56.054Z"
   },
   {
    "duration": 9,
    "start_time": "2022-04-22T03:45:05.149Z"
   },
   {
    "duration": 5,
    "start_time": "2022-04-22T03:45:45.214Z"
   },
   {
    "duration": 8,
    "start_time": "2022-04-22T03:45:51.037Z"
   },
   {
    "duration": 5,
    "start_time": "2022-04-22T03:45:55.582Z"
   },
   {
    "duration": 13,
    "start_time": "2022-04-22T03:46:07.551Z"
   },
   {
    "duration": 7,
    "start_time": "2022-04-22T03:46:12.570Z"
   },
   {
    "duration": 4,
    "start_time": "2022-04-22T03:46:19.014Z"
   },
   {
    "duration": 4,
    "start_time": "2022-04-22T03:47:49.679Z"
   },
   {
    "duration": 8,
    "start_time": "2022-04-22T03:48:01.584Z"
   },
   {
    "duration": 8,
    "start_time": "2022-04-22T03:48:26.902Z"
   },
   {
    "duration": 5,
    "start_time": "2022-04-22T03:49:14.627Z"
   },
   {
    "duration": 4,
    "start_time": "2022-04-22T03:49:44.434Z"
   },
   {
    "duration": 10,
    "start_time": "2022-04-22T03:49:55.471Z"
   },
   {
    "duration": 10,
    "start_time": "2022-04-22T03:50:15.092Z"
   },
   {
    "duration": 17,
    "start_time": "2022-04-22T03:52:05.141Z"
   },
   {
    "duration": 7,
    "start_time": "2022-04-22T03:52:16.946Z"
   },
   {
    "duration": 17,
    "start_time": "2022-04-22T03:52:46.692Z"
   },
   {
    "duration": 6,
    "start_time": "2022-04-22T03:52:50.631Z"
   },
   {
    "duration": 11,
    "start_time": "2022-04-22T03:53:06.211Z"
   },
   {
    "duration": 8,
    "start_time": "2022-04-22T03:53:33.850Z"
   },
   {
    "duration": 8,
    "start_time": "2022-04-22T03:53:36.047Z"
   },
   {
    "duration": 7,
    "start_time": "2022-04-22T03:53:57.133Z"
   },
   {
    "duration": 9,
    "start_time": "2022-04-22T03:53:59.374Z"
   },
   {
    "duration": 8,
    "start_time": "2022-04-22T03:54:04.498Z"
   },
   {
    "duration": 12,
    "start_time": "2022-04-22T03:54:08.371Z"
   },
   {
    "duration": 10,
    "start_time": "2022-04-22T03:54:12.667Z"
   },
   {
    "duration": 7,
    "start_time": "2022-04-22T03:54:20.068Z"
   },
   {
    "duration": 7,
    "start_time": "2022-04-22T03:54:29.242Z"
   },
   {
    "duration": 11,
    "start_time": "2022-04-22T03:54:36.815Z"
   },
   {
    "duration": 13,
    "start_time": "2022-04-22T03:54:40.207Z"
   },
   {
    "duration": 14,
    "start_time": "2022-04-22T03:54:54.582Z"
   },
   {
    "duration": 13,
    "start_time": "2022-04-22T03:55:04.090Z"
   },
   {
    "duration": 4,
    "start_time": "2022-04-22T03:55:05.818Z"
   },
   {
    "duration": 14,
    "start_time": "2022-04-22T03:55:07.705Z"
   },
   {
    "duration": 5,
    "start_time": "2022-04-22T04:03:34.640Z"
   },
   {
    "duration": 4,
    "start_time": "2022-04-22T04:03:36.743Z"
   },
   {
    "duration": 12,
    "start_time": "2022-04-22T04:03:40.776Z"
   },
   {
    "duration": 13,
    "start_time": "2022-04-22T04:03:44.339Z"
   },
   {
    "duration": 6,
    "start_time": "2022-04-22T04:04:23.042Z"
   },
   {
    "duration": 5,
    "start_time": "2022-04-22T04:04:25.957Z"
   },
   {
    "duration": 12,
    "start_time": "2022-04-22T04:04:38.491Z"
   },
   {
    "duration": 4,
    "start_time": "2022-04-22T04:12:24.207Z"
   },
   {
    "duration": 3,
    "start_time": "2022-04-22T04:12:31.647Z"
   },
   {
    "duration": 4,
    "start_time": "2022-04-22T04:12:59.301Z"
   },
   {
    "duration": 4,
    "start_time": "2022-04-22T04:34:16.780Z"
   },
   {
    "duration": 4,
    "start_time": "2022-04-22T04:35:36.424Z"
   },
   {
    "duration": 3,
    "start_time": "2022-04-22T04:36:40.789Z"
   },
   {
    "duration": 161,
    "start_time": "2022-04-22T04:37:56.187Z"
   },
   {
    "duration": 20,
    "start_time": "2022-04-22T04:38:05.836Z"
   },
   {
    "duration": 12,
    "start_time": "2022-04-22T04:38:44.590Z"
   },
   {
    "duration": 19,
    "start_time": "2022-04-22T04:40:31.014Z"
   },
   {
    "duration": 5,
    "start_time": "2022-04-22T04:41:30.094Z"
   },
   {
    "duration": 3,
    "start_time": "2022-04-22T04:42:06.040Z"
   },
   {
    "duration": 11,
    "start_time": "2022-04-22T04:42:17.671Z"
   },
   {
    "duration": 4,
    "start_time": "2022-04-22T04:46:23.308Z"
   },
   {
    "duration": 6,
    "start_time": "2022-04-22T04:55:56.918Z"
   },
   {
    "duration": 5,
    "start_time": "2022-04-22T04:56:00.774Z"
   },
   {
    "duration": 12,
    "start_time": "2022-04-22T04:56:15.662Z"
   },
   {
    "duration": 7,
    "start_time": "2022-04-22T05:04:06.510Z"
   },
   {
    "duration": 3,
    "start_time": "2022-04-22T05:07:37.973Z"
   },
   {
    "duration": 12,
    "start_time": "2022-04-22T05:08:13.041Z"
   },
   {
    "duration": 10,
    "start_time": "2022-04-22T05:11:53.907Z"
   },
   {
    "duration": 11,
    "start_time": "2022-04-22T05:12:20.880Z"
   },
   {
    "duration": 19,
    "start_time": "2022-04-22T05:12:41.912Z"
   },
   {
    "duration": 11,
    "start_time": "2022-04-22T06:54:55.513Z"
   },
   {
    "duration": 14,
    "start_time": "2022-04-22T06:57:26.590Z"
   },
   {
    "duration": 8,
    "start_time": "2022-04-22T06:57:44.385Z"
   },
   {
    "duration": 14,
    "start_time": "2022-04-22T06:58:07.924Z"
   },
   {
    "duration": 9,
    "start_time": "2022-04-22T06:58:55.838Z"
   },
   {
    "duration": 14,
    "start_time": "2022-04-22T06:59:11.577Z"
   },
   {
    "duration": 7,
    "start_time": "2022-04-22T08:12:47.762Z"
   },
   {
    "duration": 8,
    "start_time": "2022-04-22T08:12:54.875Z"
   },
   {
    "duration": 12,
    "start_time": "2022-04-22T08:14:49.312Z"
   },
   {
    "duration": 13,
    "start_time": "2022-04-22T08:15:00.303Z"
   },
   {
    "duration": 7,
    "start_time": "2022-04-22T08:15:14.214Z"
   },
   {
    "duration": 15,
    "start_time": "2022-04-22T08:16:25.875Z"
   },
   {
    "duration": 13,
    "start_time": "2022-04-22T08:16:38.983Z"
   },
   {
    "duration": 7,
    "start_time": "2022-04-22T08:16:57.843Z"
   },
   {
    "duration": 7,
    "start_time": "2022-04-22T08:16:59.875Z"
   },
   {
    "duration": 10,
    "start_time": "2022-04-22T08:17:01.379Z"
   },
   {
    "duration": 11,
    "start_time": "2022-04-22T08:18:32.211Z"
   },
   {
    "duration": 11,
    "start_time": "2022-04-22T08:19:04.380Z"
   },
   {
    "duration": 12,
    "start_time": "2022-04-22T08:19:19.143Z"
   },
   {
    "duration": 19,
    "start_time": "2022-04-22T08:19:28.427Z"
   },
   {
    "duration": 9,
    "start_time": "2022-04-22T08:19:53.322Z"
   },
   {
    "duration": 20,
    "start_time": "2022-04-22T08:20:05.743Z"
   },
   {
    "duration": 15,
    "start_time": "2022-04-22T08:20:11.595Z"
   },
   {
    "duration": 11,
    "start_time": "2022-04-22T08:21:10.880Z"
   },
   {
    "duration": 12,
    "start_time": "2022-04-22T08:21:40.974Z"
   },
   {
    "duration": 13,
    "start_time": "2022-04-22T08:21:59.498Z"
   },
   {
    "duration": 15,
    "start_time": "2022-04-22T08:22:17.100Z"
   },
   {
    "duration": 14,
    "start_time": "2022-04-22T08:22:51.949Z"
   },
   {
    "duration": 15,
    "start_time": "2022-04-22T08:23:28.861Z"
   },
   {
    "duration": 16,
    "start_time": "2022-04-22T08:23:50.041Z"
   },
   {
    "duration": 14,
    "start_time": "2022-04-22T08:24:48.453Z"
   },
   {
    "duration": 14,
    "start_time": "2022-04-22T08:25:41.076Z"
   },
   {
    "duration": 10,
    "start_time": "2022-04-22T08:26:21.748Z"
   },
   {
    "duration": 19,
    "start_time": "2022-04-22T08:26:34.221Z"
   },
   {
    "duration": 19,
    "start_time": "2022-04-22T08:27:28.476Z"
   },
   {
    "duration": 17,
    "start_time": "2022-04-22T08:27:46.556Z"
   },
   {
    "duration": 20,
    "start_time": "2022-04-22T08:29:16.208Z"
   },
   {
    "duration": 16,
    "start_time": "2022-04-22T08:29:55.481Z"
   },
   {
    "duration": 16,
    "start_time": "2022-04-22T08:43:11.805Z"
   },
   {
    "duration": 10,
    "start_time": "2022-04-22T08:43:16.851Z"
   },
   {
    "duration": 15,
    "start_time": "2022-04-22T08:43:27.970Z"
   },
   {
    "duration": 6,
    "start_time": "2022-04-22T08:53:50.934Z"
   },
   {
    "duration": 5,
    "start_time": "2022-04-22T08:54:20.868Z"
   },
   {
    "duration": 17,
    "start_time": "2022-04-22T09:33:00.971Z"
   },
   {
    "duration": 16,
    "start_time": "2022-04-22T09:33:39.347Z"
   },
   {
    "duration": 8,
    "start_time": "2022-04-22T09:34:24.833Z"
   },
   {
    "duration": 5,
    "start_time": "2022-04-22T09:36:29.538Z"
   },
   {
    "duration": 8,
    "start_time": "2022-04-22T09:36:31.322Z"
   },
   {
    "duration": 11,
    "start_time": "2022-04-22T09:36:45.042Z"
   },
   {
    "duration": 10,
    "start_time": "2022-04-22T09:36:53.025Z"
   },
   {
    "duration": 7,
    "start_time": "2022-04-22T09:37:22.690Z"
   },
   {
    "duration": 8,
    "start_time": "2022-04-22T09:37:32.291Z"
   },
   {
    "duration": 7,
    "start_time": "2022-04-22T09:37:43.770Z"
   },
   {
    "duration": 8,
    "start_time": "2022-04-22T09:37:46.722Z"
   },
   {
    "duration": 12,
    "start_time": "2022-04-22T09:38:18.455Z"
   },
   {
    "duration": 13,
    "start_time": "2022-04-22T09:38:39.075Z"
   },
   {
    "duration": 3,
    "start_time": "2022-04-22T09:39:48.405Z"
   },
   {
    "duration": 11,
    "start_time": "2022-04-22T09:40:01.051Z"
   },
   {
    "duration": 14,
    "start_time": "2022-04-22T09:40:30.461Z"
   },
   {
    "duration": 5,
    "start_time": "2022-04-22T09:41:22.868Z"
   },
   {
    "duration": 5,
    "start_time": "2022-04-22T09:41:39.371Z"
   },
   {
    "duration": 4,
    "start_time": "2022-04-22T09:41:52.965Z"
   },
   {
    "duration": 5,
    "start_time": "2022-04-22T09:42:13.778Z"
   },
   {
    "duration": 5,
    "start_time": "2022-04-22T09:43:24.055Z"
   },
   {
    "duration": 43,
    "start_time": "2022-04-23T03:48:50.786Z"
   },
   {
    "duration": 1295,
    "start_time": "2022-04-23T03:48:56.046Z"
   },
   {
    "duration": 403,
    "start_time": "2022-04-23T03:48:57.343Z"
   },
   {
    "duration": 20,
    "start_time": "2022-04-23T03:48:57.748Z"
   },
   {
    "duration": 27,
    "start_time": "2022-04-23T03:48:57.769Z"
   },
   {
    "duration": 20,
    "start_time": "2022-04-23T03:48:57.798Z"
   },
   {
    "duration": 23,
    "start_time": "2022-04-23T03:48:57.820Z"
   },
   {
    "duration": 14,
    "start_time": "2022-04-23T03:48:57.845Z"
   },
   {
    "duration": 8,
    "start_time": "2022-04-23T03:48:57.860Z"
   },
   {
    "duration": 32,
    "start_time": "2022-04-23T03:48:57.869Z"
   },
   {
    "duration": 4,
    "start_time": "2022-04-23T03:48:57.903Z"
   },
   {
    "duration": 7,
    "start_time": "2022-04-23T03:48:57.908Z"
   },
   {
    "duration": 31,
    "start_time": "2022-04-23T03:48:57.916Z"
   },
   {
    "duration": 4,
    "start_time": "2022-04-23T03:48:57.949Z"
   },
   {
    "duration": 5,
    "start_time": "2022-04-23T03:48:57.955Z"
   },
   {
    "duration": 44,
    "start_time": "2022-04-23T03:48:57.962Z"
   },
   {
    "duration": 4,
    "start_time": "2022-04-23T03:48:58.008Z"
   },
   {
    "duration": 6,
    "start_time": "2022-04-23T03:48:58.013Z"
   },
   {
    "duration": 25,
    "start_time": "2022-04-23T03:48:58.020Z"
   },
   {
    "duration": 4,
    "start_time": "2022-04-23T03:48:58.047Z"
   },
   {
    "duration": 6,
    "start_time": "2022-04-23T03:48:58.053Z"
   },
   {
    "duration": 14,
    "start_time": "2022-04-23T03:48:58.060Z"
   },
   {
    "duration": 9,
    "start_time": "2022-04-23T03:48:58.100Z"
   },
   {
    "duration": 19,
    "start_time": "2022-04-23T03:48:58.110Z"
   },
   {
    "duration": 7,
    "start_time": "2022-04-23T03:48:58.130Z"
   },
   {
    "duration": 4,
    "start_time": "2022-04-23T03:48:58.138Z"
   },
   {
    "duration": 12,
    "start_time": "2022-04-23T03:48:58.143Z"
   },
   {
    "duration": 65,
    "start_time": "2022-04-23T03:48:58.157Z"
   },
   {
    "duration": 17,
    "start_time": "2022-04-23T03:48:58.226Z"
   },
   {
    "duration": 22,
    "start_time": "2022-04-23T03:48:58.244Z"
   },
   {
    "duration": 8,
    "start_time": "2022-04-23T03:48:58.267Z"
   },
   {
    "duration": 37,
    "start_time": "2022-04-23T03:48:58.276Z"
   },
   {
    "duration": 6,
    "start_time": "2022-04-23T03:48:58.315Z"
   },
   {
    "duration": 17,
    "start_time": "2022-04-23T03:48:58.322Z"
   },
   {
    "duration": 6,
    "start_time": "2022-04-23T03:48:58.340Z"
   },
   {
    "duration": 8,
    "start_time": "2022-04-23T03:48:58.348Z"
   },
   {
    "duration": 8,
    "start_time": "2022-04-23T03:48:58.357Z"
   },
   {
    "duration": 37,
    "start_time": "2022-04-23T03:48:58.366Z"
   },
   {
    "duration": 8,
    "start_time": "2022-04-23T03:48:58.405Z"
   },
   {
    "duration": 10,
    "start_time": "2022-04-23T03:48:58.414Z"
   },
   {
    "duration": 12,
    "start_time": "2022-04-23T03:48:58.426Z"
   },
   {
    "duration": 14,
    "start_time": "2022-04-23T03:48:58.439Z"
   },
   {
    "duration": 4,
    "start_time": "2022-04-23T03:48:58.454Z"
   },
   {
    "duration": 11,
    "start_time": "2022-04-23T03:48:58.459Z"
   },
   {
    "duration": 33,
    "start_time": "2022-04-23T03:48:58.472Z"
   },
   {
    "duration": 3,
    "start_time": "2022-04-23T03:48:58.506Z"
   },
   {
    "duration": 10,
    "start_time": "2022-04-23T03:48:58.510Z"
   },
   {
    "duration": 3,
    "start_time": "2022-04-23T03:48:58.521Z"
   },
   {
    "duration": 5,
    "start_time": "2022-04-23T03:48:58.526Z"
   },
   {
    "duration": 10,
    "start_time": "2022-04-23T03:48:58.532Z"
   },
   {
    "duration": 12,
    "start_time": "2022-04-23T03:48:58.543Z"
   },
   {
    "duration": 4,
    "start_time": "2022-04-23T03:48:58.557Z"
   },
   {
    "duration": 39,
    "start_time": "2022-04-23T03:48:58.563Z"
   },
   {
    "duration": 8,
    "start_time": "2022-04-23T03:48:58.603Z"
   },
   {
    "duration": 7,
    "start_time": "2022-04-23T03:48:58.612Z"
   },
   {
    "duration": 4,
    "start_time": "2022-04-23T03:48:58.620Z"
   },
   {
    "duration": 7,
    "start_time": "2022-04-23T03:48:58.626Z"
   },
   {
    "duration": 166,
    "start_time": "2022-04-23T03:48:58.634Z"
   },
   {
    "duration": 2,
    "start_time": "2022-04-23T03:48:58.802Z"
   },
   {
    "duration": 26,
    "start_time": "2022-04-23T03:48:58.806Z"
   },
   {
    "duration": 14,
    "start_time": "2022-04-23T03:48:58.834Z"
   },
   {
    "duration": 8,
    "start_time": "2022-04-23T03:48:58.849Z"
   },
   {
    "duration": 13,
    "start_time": "2022-04-23T03:48:58.859Z"
   },
   {
    "duration": 29,
    "start_time": "2022-04-23T03:48:58.873Z"
   },
   {
    "duration": 5,
    "start_time": "2022-04-23T03:48:58.904Z"
   },
   {
    "duration": 183,
    "start_time": "2022-04-23T03:49:23.764Z"
   },
   {
    "duration": 11,
    "start_time": "2022-04-23T03:49:28.028Z"
   },
   {
    "duration": 14,
    "start_time": "2022-04-23T03:49:42.495Z"
   },
   {
    "duration": 5,
    "start_time": "2022-04-23T03:50:59.460Z"
   },
   {
    "duration": 60,
    "start_time": "2022-04-23T03:56:34.948Z"
   },
   {
    "duration": 15,
    "start_time": "2022-04-23T03:56:51.967Z"
   },
   {
    "duration": 16,
    "start_time": "2022-04-23T03:58:32.590Z"
   },
   {
    "duration": 16,
    "start_time": "2022-04-23T03:59:31.005Z"
   },
   {
    "duration": 13,
    "start_time": "2022-04-23T04:01:04.313Z"
   },
   {
    "duration": 13,
    "start_time": "2022-04-23T04:01:33.468Z"
   },
   {
    "duration": 13,
    "start_time": "2022-04-23T04:01:40.929Z"
   },
   {
    "duration": 12,
    "start_time": "2022-04-23T04:02:31.985Z"
   },
   {
    "duration": 14,
    "start_time": "2022-04-23T04:03:12.769Z"
   },
   {
    "duration": 13,
    "start_time": "2022-04-23T04:03:31.223Z"
   },
   {
    "duration": 7,
    "start_time": "2022-04-23T04:19:31.225Z"
   },
   {
    "duration": 13,
    "start_time": "2022-04-23T04:19:33.446Z"
   },
   {
    "duration": 5,
    "start_time": "2022-04-23T04:19:41.464Z"
   },
   {
    "duration": 5,
    "start_time": "2022-04-23T04:19:47.340Z"
   },
   {
    "duration": 13,
    "start_time": "2022-04-23T04:20:45.244Z"
   },
   {
    "duration": 13,
    "start_time": "2022-04-23T04:22:48.451Z"
   },
   {
    "duration": 13,
    "start_time": "2022-04-23T04:23:15.082Z"
   },
   {
    "duration": 7,
    "start_time": "2022-04-23T04:23:17.299Z"
   },
   {
    "duration": 13,
    "start_time": "2022-04-23T04:23:19.967Z"
   },
   {
    "duration": 3675,
    "start_time": "2022-04-23T04:24:31.757Z"
   },
   {
    "duration": 679,
    "start_time": "2022-04-23T04:25:01.179Z"
   },
   {
    "duration": 84,
    "start_time": "2022-04-23T04:42:29.329Z"
   },
   {
    "duration": 124,
    "start_time": "2022-04-23T04:43:00.807Z"
   },
   {
    "duration": 9,
    "start_time": "2022-04-23T05:39:39.663Z"
   },
   {
    "duration": 20,
    "start_time": "2022-04-23T05:44:43.724Z"
   },
   {
    "duration": 117,
    "start_time": "2022-04-23T05:44:54.896Z"
   },
   {
    "duration": 136,
    "start_time": "2022-04-23T05:45:41.197Z"
   },
   {
    "duration": 151,
    "start_time": "2022-04-23T05:46:16.150Z"
   },
   {
    "duration": 164,
    "start_time": "2022-04-23T05:46:51.401Z"
   },
   {
    "duration": 156,
    "start_time": "2022-04-23T05:47:12.804Z"
   },
   {
    "duration": 200,
    "start_time": "2022-04-23T05:47:20.814Z"
   },
   {
    "duration": 217,
    "start_time": "2022-04-23T05:48:24.590Z"
   },
   {
    "duration": 94,
    "start_time": "2022-04-23T05:51:20.129Z"
   },
   {
    "duration": 184,
    "start_time": "2022-04-23T05:51:24.719Z"
   },
   {
    "duration": 144,
    "start_time": "2022-04-23T05:52:03.197Z"
   },
   {
    "duration": 150,
    "start_time": "2022-04-23T05:52:20.133Z"
   },
   {
    "duration": 132,
    "start_time": "2022-04-23T05:52:29.526Z"
   },
   {
    "duration": 298,
    "start_time": "2022-04-23T05:52:52.194Z"
   },
   {
    "duration": 177,
    "start_time": "2022-04-23T05:53:35.109Z"
   },
   {
    "duration": 193,
    "start_time": "2022-04-23T05:54:17.008Z"
   },
   {
    "duration": 184,
    "start_time": "2022-04-23T05:55:18.811Z"
   },
   {
    "duration": 276,
    "start_time": "2022-04-23T05:56:09.856Z"
   },
   {
    "duration": 196,
    "start_time": "2022-04-23T05:56:24.670Z"
   },
   {
    "duration": 202,
    "start_time": "2022-04-23T05:56:44.776Z"
   },
   {
    "duration": 196,
    "start_time": "2022-04-23T05:57:15.347Z"
   },
   {
    "duration": 401,
    "start_time": "2022-04-23T05:57:49.226Z"
   },
   {
    "duration": 333,
    "start_time": "2022-04-23T06:01:51.638Z"
   },
   {
    "duration": 207,
    "start_time": "2022-04-23T06:02:00.063Z"
   },
   {
    "duration": 277,
    "start_time": "2022-04-23T06:03:08.755Z"
   },
   {
    "duration": 181,
    "start_time": "2022-04-23T06:03:31.470Z"
   },
   {
    "duration": 179,
    "start_time": "2022-04-23T06:04:15.218Z"
   },
   {
    "duration": 177,
    "start_time": "2022-04-23T06:04:28.666Z"
   },
   {
    "duration": 176,
    "start_time": "2022-04-23T06:05:22.583Z"
   },
   {
    "duration": 178,
    "start_time": "2022-04-23T06:05:43.706Z"
   },
   {
    "duration": 174,
    "start_time": "2022-04-23T06:06:01.139Z"
   },
   {
    "duration": 160,
    "start_time": "2022-04-23T06:18:21.396Z"
   },
   {
    "duration": 152,
    "start_time": "2022-04-23T06:18:34.235Z"
   },
   {
    "duration": 155,
    "start_time": "2022-04-23T06:19:14.311Z"
   },
   {
    "duration": 156,
    "start_time": "2022-04-23T06:19:19.001Z"
   },
   {
    "duration": 281,
    "start_time": "2022-04-23T06:19:25.982Z"
   },
   {
    "duration": 163,
    "start_time": "2022-04-23T06:19:37.712Z"
   },
   {
    "duration": 160,
    "start_time": "2022-04-23T06:20:01.008Z"
   },
   {
    "duration": 161,
    "start_time": "2022-04-23T06:20:06.137Z"
   },
   {
    "duration": 180,
    "start_time": "2022-04-23T06:20:11.059Z"
   },
   {
    "duration": 176,
    "start_time": "2022-04-23T06:20:15.999Z"
   },
   {
    "duration": 94,
    "start_time": "2022-04-23T06:20:41.192Z"
   },
   {
    "duration": 160,
    "start_time": "2022-04-23T06:20:51.612Z"
   },
   {
    "duration": 269,
    "start_time": "2022-04-23T06:21:17.624Z"
   },
   {
    "duration": 182,
    "start_time": "2022-04-23T06:21:50.401Z"
   },
   {
    "duration": 172,
    "start_time": "2022-04-23T06:21:57.044Z"
   },
   {
    "duration": 172,
    "start_time": "2022-04-23T06:25:35.540Z"
   },
   {
    "duration": 178,
    "start_time": "2022-04-23T06:25:45.526Z"
   },
   {
    "duration": 183,
    "start_time": "2022-04-23T06:26:02.401Z"
   },
   {
    "duration": 178,
    "start_time": "2022-04-23T06:26:39.554Z"
   },
   {
    "duration": 326,
    "start_time": "2022-04-23T06:26:52.036Z"
   },
   {
    "duration": 180,
    "start_time": "2022-04-23T06:27:13.784Z"
   },
   {
    "duration": 3,
    "start_time": "2022-04-23T06:29:56.071Z"
   },
   {
    "duration": 172,
    "start_time": "2022-04-23T06:30:06.097Z"
   },
   {
    "duration": 183,
    "start_time": "2022-04-23T06:30:13.726Z"
   },
   {
    "duration": 174,
    "start_time": "2022-04-23T06:30:18.140Z"
   },
   {
    "duration": 178,
    "start_time": "2022-04-23T06:34:01.418Z"
   },
   {
    "duration": 163,
    "start_time": "2022-04-23T06:34:29.611Z"
   },
   {
    "duration": 148,
    "start_time": "2022-04-23T06:36:09.636Z"
   },
   {
    "duration": 169,
    "start_time": "2022-04-23T06:37:59.422Z"
   },
   {
    "duration": 155,
    "start_time": "2022-04-23T06:38:43.662Z"
   },
   {
    "duration": 163,
    "start_time": "2022-04-23T06:38:55.315Z"
   },
   {
    "duration": 160,
    "start_time": "2022-04-23T06:41:16.988Z"
   },
   {
    "duration": 52,
    "start_time": "2022-04-23T12:38:12.830Z"
   },
   {
    "duration": 1335,
    "start_time": "2022-04-23T12:38:17.319Z"
   },
   {
    "duration": 432,
    "start_time": "2022-04-23T12:38:18.656Z"
   },
   {
    "duration": 26,
    "start_time": "2022-04-23T12:38:19.090Z"
   },
   {
    "duration": 31,
    "start_time": "2022-04-23T12:38:19.118Z"
   },
   {
    "duration": 55,
    "start_time": "2022-04-23T12:38:19.151Z"
   },
   {
    "duration": 28,
    "start_time": "2022-04-23T12:38:19.207Z"
   },
   {
    "duration": 15,
    "start_time": "2022-04-23T12:38:19.237Z"
   },
   {
    "duration": 7,
    "start_time": "2022-04-23T12:38:19.274Z"
   },
   {
    "duration": 23,
    "start_time": "2022-04-23T12:38:19.283Z"
   },
   {
    "duration": 15,
    "start_time": "2022-04-23T12:38:19.308Z"
   },
   {
    "duration": 14,
    "start_time": "2022-04-23T12:38:19.324Z"
   },
   {
    "duration": 48,
    "start_time": "2022-04-23T12:38:19.340Z"
   },
   {
    "duration": 6,
    "start_time": "2022-04-23T12:38:19.389Z"
   },
   {
    "duration": 8,
    "start_time": "2022-04-23T12:38:19.396Z"
   },
   {
    "duration": 25,
    "start_time": "2022-04-23T12:38:19.406Z"
   },
   {
    "duration": 5,
    "start_time": "2022-04-23T12:38:19.433Z"
   },
   {
    "duration": 8,
    "start_time": "2022-04-23T12:38:19.439Z"
   },
   {
    "duration": 51,
    "start_time": "2022-04-23T12:38:19.448Z"
   },
   {
    "duration": 4,
    "start_time": "2022-04-23T12:38:19.501Z"
   },
   {
    "duration": 9,
    "start_time": "2022-04-23T12:38:19.507Z"
   },
   {
    "duration": 17,
    "start_time": "2022-04-23T12:38:19.517Z"
   },
   {
    "duration": 9,
    "start_time": "2022-04-23T12:38:19.536Z"
   },
   {
    "duration": 55,
    "start_time": "2022-04-23T12:38:19.546Z"
   },
   {
    "duration": 8,
    "start_time": "2022-04-23T12:38:19.604Z"
   },
   {
    "duration": 7,
    "start_time": "2022-04-23T12:38:19.614Z"
   },
   {
    "duration": 19,
    "start_time": "2022-04-23T12:38:19.624Z"
   },
   {
    "duration": 60,
    "start_time": "2022-04-23T12:38:19.674Z"
   },
   {
    "duration": 20,
    "start_time": "2022-04-23T12:38:19.738Z"
   },
   {
    "duration": 37,
    "start_time": "2022-04-23T12:38:19.780Z"
   },
   {
    "duration": 8,
    "start_time": "2022-04-23T12:38:19.819Z"
   },
   {
    "duration": 20,
    "start_time": "2022-04-23T12:38:19.828Z"
   },
   {
    "duration": 7,
    "start_time": "2022-04-23T12:38:19.850Z"
   },
   {
    "duration": 39,
    "start_time": "2022-04-23T12:38:19.859Z"
   },
   {
    "duration": 7,
    "start_time": "2022-04-23T12:38:19.900Z"
   },
   {
    "duration": 17,
    "start_time": "2022-04-23T12:38:19.909Z"
   },
   {
    "duration": 12,
    "start_time": "2022-04-23T12:38:19.928Z"
   },
   {
    "duration": 17,
    "start_time": "2022-04-23T12:38:19.942Z"
   },
   {
    "duration": 16,
    "start_time": "2022-04-23T12:38:19.973Z"
   },
   {
    "duration": 22,
    "start_time": "2022-04-23T12:38:19.991Z"
   },
   {
    "duration": 21,
    "start_time": "2022-04-23T12:38:20.015Z"
   },
   {
    "duration": 21,
    "start_time": "2022-04-23T12:38:20.038Z"
   },
   {
    "duration": 5,
    "start_time": "2022-04-23T12:38:20.061Z"
   },
   {
    "duration": 14,
    "start_time": "2022-04-23T12:38:20.076Z"
   },
   {
    "duration": 33,
    "start_time": "2022-04-23T12:38:20.092Z"
   },
   {
    "duration": 5,
    "start_time": "2022-04-23T12:38:20.127Z"
   },
   {
    "duration": 13,
    "start_time": "2022-04-23T12:38:20.134Z"
   },
   {
    "duration": 7,
    "start_time": "2022-04-23T12:38:20.149Z"
   },
   {
    "duration": 43,
    "start_time": "2022-04-23T12:38:20.157Z"
   },
   {
    "duration": 24,
    "start_time": "2022-04-23T12:38:20.202Z"
   },
   {
    "duration": 16,
    "start_time": "2022-04-23T12:38:20.228Z"
   },
   {
    "duration": 1943,
    "start_time": "2022-04-23T12:38:20.246Z"
   },
   {
    "duration": 0,
    "start_time": "2022-04-23T12:38:22.190Z"
   },
   {
    "duration": 0,
    "start_time": "2022-04-23T12:38:22.191Z"
   },
   {
    "duration": 0,
    "start_time": "2022-04-23T12:38:22.192Z"
   },
   {
    "duration": 0,
    "start_time": "2022-04-23T12:38:22.194Z"
   },
   {
    "duration": 0,
    "start_time": "2022-04-23T12:38:22.194Z"
   },
   {
    "duration": 0,
    "start_time": "2022-04-23T12:38:22.195Z"
   },
   {
    "duration": 0,
    "start_time": "2022-04-23T12:38:22.197Z"
   },
   {
    "duration": 0,
    "start_time": "2022-04-23T12:38:22.198Z"
   },
   {
    "duration": 0,
    "start_time": "2022-04-23T12:38:22.199Z"
   },
   {
    "duration": 0,
    "start_time": "2022-04-23T12:38:22.200Z"
   },
   {
    "duration": 0,
    "start_time": "2022-04-23T12:38:22.201Z"
   },
   {
    "duration": 0,
    "start_time": "2022-04-23T12:38:22.202Z"
   },
   {
    "duration": 0,
    "start_time": "2022-04-23T12:38:22.203Z"
   },
   {
    "duration": 0,
    "start_time": "2022-04-23T12:38:22.204Z"
   },
   {
    "duration": 0,
    "start_time": "2022-04-23T12:38:22.206Z"
   },
   {
    "duration": 0,
    "start_time": "2022-04-23T12:38:22.206Z"
   },
   {
    "duration": 0,
    "start_time": "2022-04-23T12:38:22.207Z"
   },
   {
    "duration": 2,
    "start_time": "2022-04-23T12:38:49.453Z"
   },
   {
    "duration": 439,
    "start_time": "2022-04-23T12:38:49.458Z"
   },
   {
    "duration": 17,
    "start_time": "2022-04-23T12:38:49.900Z"
   },
   {
    "duration": 32,
    "start_time": "2022-04-23T12:38:49.919Z"
   },
   {
    "duration": 47,
    "start_time": "2022-04-23T12:38:49.953Z"
   },
   {
    "duration": 29,
    "start_time": "2022-04-23T12:38:50.002Z"
   },
   {
    "duration": 52,
    "start_time": "2022-04-23T12:38:50.033Z"
   },
   {
    "duration": 11,
    "start_time": "2022-04-23T12:38:50.087Z"
   },
   {
    "duration": 8,
    "start_time": "2022-04-23T12:38:50.100Z"
   },
   {
    "duration": 8,
    "start_time": "2022-04-23T12:38:50.109Z"
   },
   {
    "duration": 7,
    "start_time": "2022-04-23T12:38:50.119Z"
   },
   {
    "duration": 71,
    "start_time": "2022-04-23T12:38:50.128Z"
   },
   {
    "duration": 5,
    "start_time": "2022-04-23T12:38:50.201Z"
   },
   {
    "duration": 11,
    "start_time": "2022-04-23T12:38:50.207Z"
   },
   {
    "duration": 23,
    "start_time": "2022-04-23T12:38:50.220Z"
   },
   {
    "duration": 5,
    "start_time": "2022-04-23T12:38:50.245Z"
   },
   {
    "duration": 39,
    "start_time": "2022-04-23T12:38:50.251Z"
   },
   {
    "duration": 31,
    "start_time": "2022-04-23T12:38:50.292Z"
   },
   {
    "duration": 5,
    "start_time": "2022-04-23T12:38:50.325Z"
   },
   {
    "duration": 6,
    "start_time": "2022-04-23T12:38:50.333Z"
   },
   {
    "duration": 14,
    "start_time": "2022-04-23T12:38:50.341Z"
   },
   {
    "duration": 23,
    "start_time": "2022-04-23T12:38:50.356Z"
   },
   {
    "duration": 23,
    "start_time": "2022-04-23T12:38:50.380Z"
   },
   {
    "duration": 5,
    "start_time": "2022-04-23T12:38:50.404Z"
   },
   {
    "duration": 6,
    "start_time": "2022-04-23T12:38:50.410Z"
   },
   {
    "duration": 12,
    "start_time": "2022-04-23T12:38:50.418Z"
   },
   {
    "duration": 89,
    "start_time": "2022-04-23T12:38:50.431Z"
   },
   {
    "duration": 20,
    "start_time": "2022-04-23T12:38:50.522Z"
   },
   {
    "duration": 43,
    "start_time": "2022-04-23T12:38:50.546Z"
   },
   {
    "duration": 8,
    "start_time": "2022-04-23T12:38:50.591Z"
   },
   {
    "duration": 17,
    "start_time": "2022-04-23T12:38:50.601Z"
   },
   {
    "duration": 7,
    "start_time": "2022-04-23T12:38:50.620Z"
   },
   {
    "duration": 21,
    "start_time": "2022-04-23T12:38:50.629Z"
   },
   {
    "duration": 9,
    "start_time": "2022-04-23T12:38:50.673Z"
   },
   {
    "duration": 18,
    "start_time": "2022-04-23T12:38:50.683Z"
   },
   {
    "duration": 9,
    "start_time": "2022-04-23T12:38:50.702Z"
   },
   {
    "duration": 8,
    "start_time": "2022-04-23T12:38:50.713Z"
   },
   {
    "duration": 10,
    "start_time": "2022-04-23T12:38:50.723Z"
   },
   {
    "duration": 10,
    "start_time": "2022-04-23T12:38:50.735Z"
   },
   {
    "duration": 40,
    "start_time": "2022-04-23T12:38:50.747Z"
   },
   {
    "duration": 18,
    "start_time": "2022-04-23T12:38:50.789Z"
   },
   {
    "duration": 5,
    "start_time": "2022-04-23T12:38:50.809Z"
   },
   {
    "duration": 10,
    "start_time": "2022-04-23T12:38:50.816Z"
   },
   {
    "duration": 15,
    "start_time": "2022-04-23T12:38:50.828Z"
   },
   {
    "duration": 36,
    "start_time": "2022-04-23T12:38:50.845Z"
   },
   {
    "duration": 12,
    "start_time": "2022-04-23T12:38:50.886Z"
   },
   {
    "duration": 5,
    "start_time": "2022-04-23T12:38:50.899Z"
   },
   {
    "duration": 6,
    "start_time": "2022-04-23T12:38:50.906Z"
   },
   {
    "duration": 16,
    "start_time": "2022-04-23T12:38:50.913Z"
   },
   {
    "duration": 15,
    "start_time": "2022-04-23T12:38:50.931Z"
   },
   {
    "duration": 2006,
    "start_time": "2022-04-23T12:38:50.947Z"
   },
   {
    "duration": 0,
    "start_time": "2022-04-23T12:38:52.954Z"
   },
   {
    "duration": 0,
    "start_time": "2022-04-23T12:38:52.956Z"
   },
   {
    "duration": 0,
    "start_time": "2022-04-23T12:38:52.957Z"
   },
   {
    "duration": 0,
    "start_time": "2022-04-23T12:38:52.957Z"
   },
   {
    "duration": 0,
    "start_time": "2022-04-23T12:38:52.958Z"
   },
   {
    "duration": 0,
    "start_time": "2022-04-23T12:38:52.959Z"
   },
   {
    "duration": 0,
    "start_time": "2022-04-23T12:38:52.960Z"
   },
   {
    "duration": 0,
    "start_time": "2022-04-23T12:38:52.961Z"
   },
   {
    "duration": 0,
    "start_time": "2022-04-23T12:38:52.963Z"
   },
   {
    "duration": 0,
    "start_time": "2022-04-23T12:38:52.963Z"
   },
   {
    "duration": 0,
    "start_time": "2022-04-23T12:38:52.965Z"
   },
   {
    "duration": 0,
    "start_time": "2022-04-23T12:38:52.966Z"
   },
   {
    "duration": 0,
    "start_time": "2022-04-23T12:38:52.966Z"
   },
   {
    "duration": 0,
    "start_time": "2022-04-23T12:38:52.967Z"
   },
   {
    "duration": 0,
    "start_time": "2022-04-23T12:38:52.969Z"
   },
   {
    "duration": 0,
    "start_time": "2022-04-23T12:38:52.970Z"
   },
   {
    "duration": 0,
    "start_time": "2022-04-23T12:38:52.971Z"
   },
   {
    "duration": 19,
    "start_time": "2022-04-23T12:41:01.890Z"
   },
   {
    "duration": 9,
    "start_time": "2022-04-23T12:41:05.926Z"
   },
   {
    "duration": 3,
    "start_time": "2022-04-23T12:41:43.539Z"
   },
   {
    "duration": 438,
    "start_time": "2022-04-23T12:41:43.544Z"
   },
   {
    "duration": 19,
    "start_time": "2022-04-23T12:41:43.985Z"
   },
   {
    "duration": 31,
    "start_time": "2022-04-23T12:41:44.006Z"
   },
   {
    "duration": 44,
    "start_time": "2022-04-23T12:41:44.039Z"
   },
   {
    "duration": 29,
    "start_time": "2022-04-23T12:41:44.084Z"
   },
   {
    "duration": 15,
    "start_time": "2022-04-23T12:41:44.115Z"
   },
   {
    "duration": 7,
    "start_time": "2022-04-23T12:41:44.132Z"
   },
   {
    "duration": 15,
    "start_time": "2022-04-23T12:41:44.173Z"
   },
   {
    "duration": 11,
    "start_time": "2022-04-23T12:41:44.190Z"
   },
   {
    "duration": 10,
    "start_time": "2022-04-23T12:41:44.204Z"
   },
   {
    "duration": 40,
    "start_time": "2022-04-23T12:41:44.215Z"
   },
   {
    "duration": 5,
    "start_time": "2022-04-23T12:41:44.257Z"
   },
   {
    "duration": 21,
    "start_time": "2022-04-23T12:41:44.263Z"
   },
   {
    "duration": 24,
    "start_time": "2022-04-23T12:41:44.287Z"
   },
   {
    "duration": 4,
    "start_time": "2022-04-23T12:41:44.313Z"
   },
   {
    "duration": 13,
    "start_time": "2022-04-23T12:41:44.319Z"
   },
   {
    "duration": 34,
    "start_time": "2022-04-23T12:41:44.334Z"
   },
   {
    "duration": 13,
    "start_time": "2022-04-23T12:41:44.370Z"
   },
   {
    "duration": 15,
    "start_time": "2022-04-23T12:41:44.385Z"
   },
   {
    "duration": 18,
    "start_time": "2022-04-23T12:41:44.401Z"
   },
   {
    "duration": 8,
    "start_time": "2022-04-23T12:41:44.421Z"
   },
   {
    "duration": 36,
    "start_time": "2022-04-23T12:41:44.431Z"
   },
   {
    "duration": 6,
    "start_time": "2022-04-23T12:41:44.476Z"
   },
   {
    "duration": 12,
    "start_time": "2022-04-23T12:41:44.484Z"
   },
   {
    "duration": 12,
    "start_time": "2022-04-23T12:41:44.498Z"
   },
   {
    "duration": 49,
    "start_time": "2022-04-23T12:41:44.511Z"
   },
   {
    "duration": 26,
    "start_time": "2022-04-23T12:41:44.576Z"
   },
   {
    "duration": 18,
    "start_time": "2022-04-23T12:41:44.605Z"
   },
   {
    "duration": 8,
    "start_time": "2022-04-23T12:41:44.625Z"
   },
   {
    "duration": 60,
    "start_time": "2022-04-23T12:41:44.634Z"
   },
   {
    "duration": 6,
    "start_time": "2022-04-23T12:41:44.696Z"
   },
   {
    "duration": 18,
    "start_time": "2022-04-23T12:41:44.704Z"
   },
   {
    "duration": 6,
    "start_time": "2022-04-23T12:41:44.724Z"
   },
   {
    "duration": 48,
    "start_time": "2022-04-23T12:41:44.732Z"
   },
   {
    "duration": 16,
    "start_time": "2022-04-23T12:41:44.783Z"
   },
   {
    "duration": 9,
    "start_time": "2022-04-23T12:41:44.801Z"
   },
   {
    "duration": 11,
    "start_time": "2022-04-23T12:41:44.811Z"
   },
   {
    "duration": 10,
    "start_time": "2022-04-23T12:41:44.824Z"
   },
   {
    "duration": 16,
    "start_time": "2022-04-23T12:41:44.836Z"
   },
   {
    "duration": 25,
    "start_time": "2022-04-23T12:41:44.875Z"
   },
   {
    "duration": 6,
    "start_time": "2022-04-23T12:41:44.903Z"
   },
   {
    "duration": 14,
    "start_time": "2022-04-23T12:41:44.912Z"
   },
   {
    "duration": 15,
    "start_time": "2022-04-23T12:41:44.928Z"
   },
   {
    "duration": 31,
    "start_time": "2022-04-23T12:41:44.944Z"
   },
   {
    "duration": 12,
    "start_time": "2022-04-23T12:41:44.981Z"
   },
   {
    "duration": 21,
    "start_time": "2022-04-23T12:41:44.994Z"
   },
   {
    "duration": 21,
    "start_time": "2022-04-23T12:41:45.017Z"
   },
   {
    "duration": 17,
    "start_time": "2022-04-23T12:41:45.039Z"
   },
   {
    "duration": 23,
    "start_time": "2022-04-23T12:41:45.058Z"
   },
   {
    "duration": 20,
    "start_time": "2022-04-23T12:41:45.083Z"
   },
   {
    "duration": 22,
    "start_time": "2022-04-23T12:41:45.106Z"
   },
   {
    "duration": 12,
    "start_time": "2022-04-23T12:41:45.130Z"
   },
   {
    "duration": 10,
    "start_time": "2022-04-23T12:41:45.144Z"
   },
   {
    "duration": 6,
    "start_time": "2022-04-23T12:41:45.156Z"
   },
   {
    "duration": 22,
    "start_time": "2022-04-23T12:41:45.163Z"
   },
   {
    "duration": 163,
    "start_time": "2022-04-23T12:41:45.187Z"
   },
   {
    "duration": 4,
    "start_time": "2022-04-23T12:41:45.352Z"
   },
   {
    "duration": 42,
    "start_time": "2022-04-23T12:41:45.357Z"
   },
   {
    "duration": 15,
    "start_time": "2022-04-23T12:41:45.400Z"
   },
   {
    "duration": 8,
    "start_time": "2022-04-23T12:41:45.417Z"
   },
   {
    "duration": 16,
    "start_time": "2022-04-23T12:41:45.426Z"
   },
   {
    "duration": 38,
    "start_time": "2022-04-23T12:41:45.444Z"
   },
   {
    "duration": 20,
    "start_time": "2022-04-23T12:41:45.484Z"
   },
   {
    "duration": 0,
    "start_time": "2022-04-23T12:41:45.506Z"
   },
   {
    "duration": 0,
    "start_time": "2022-04-23T12:41:45.507Z"
   },
   {
    "duration": 0,
    "start_time": "2022-04-23T12:41:45.508Z"
   },
   {
    "duration": 0,
    "start_time": "2022-04-23T12:41:45.509Z"
   },
   {
    "duration": 13,
    "start_time": "2022-04-23T12:44:23.668Z"
   },
   {
    "duration": 209,
    "start_time": "2022-04-23T12:44:35.421Z"
   },
   {
    "duration": 207,
    "start_time": "2022-04-23T12:45:01.303Z"
   },
   {
    "duration": 191,
    "start_time": "2022-04-23T12:45:06.904Z"
   },
   {
    "duration": 201,
    "start_time": "2022-04-23T12:45:13.355Z"
   },
   {
    "duration": 194,
    "start_time": "2022-04-23T12:45:19.786Z"
   },
   {
    "duration": 13,
    "start_time": "2022-04-23T12:57:54.858Z"
   },
   {
    "duration": 25,
    "start_time": "2022-04-23T13:04:31.069Z"
   },
   {
    "duration": 16,
    "start_time": "2022-04-23T13:04:35.414Z"
   },
   {
    "duration": 14,
    "start_time": "2022-04-23T13:05:50.109Z"
   },
   {
    "duration": 14,
    "start_time": "2022-04-23T13:05:56.398Z"
   },
   {
    "duration": 12,
    "start_time": "2022-04-23T13:15:56.942Z"
   },
   {
    "duration": 13,
    "start_time": "2022-04-23T13:16:19.224Z"
   },
   {
    "duration": 12,
    "start_time": "2022-04-23T13:16:25.760Z"
   },
   {
    "duration": 10,
    "start_time": "2022-04-23T13:16:46.157Z"
   },
   {
    "duration": 11,
    "start_time": "2022-04-23T13:16:52.229Z"
   },
   {
    "duration": 12,
    "start_time": "2022-04-23T13:17:18.830Z"
   },
   {
    "duration": 22,
    "start_time": "2022-04-23T13:18:42.272Z"
   },
   {
    "duration": 21,
    "start_time": "2022-04-23T13:24:50.349Z"
   },
   {
    "duration": 24,
    "start_time": "2022-04-23T13:25:57.569Z"
   },
   {
    "duration": 8,
    "start_time": "2022-04-23T13:49:54.922Z"
   },
   {
    "duration": 13,
    "start_time": "2022-04-23T13:49:58.864Z"
   },
   {
    "duration": 9,
    "start_time": "2022-04-23T13:51:45.546Z"
   },
   {
    "duration": 247,
    "start_time": "2022-04-23T13:52:15.073Z"
   },
   {
    "duration": 525,
    "start_time": "2022-04-23T13:53:42.601Z"
   },
   {
    "duration": 198,
    "start_time": "2022-04-23T13:53:50.466Z"
   },
   {
    "duration": 20,
    "start_time": "2022-04-23T13:56:23.742Z"
   },
   {
    "duration": 13,
    "start_time": "2022-04-23T13:57:45.633Z"
   },
   {
    "duration": 44,
    "start_time": "2022-04-23T13:57:54.646Z"
   },
   {
    "duration": 11,
    "start_time": "2022-04-23T14:01:00.588Z"
   },
   {
    "duration": 1089,
    "start_time": "2022-04-23T14:01:20.088Z"
   },
   {
    "duration": 65,
    "start_time": "2022-04-24T03:29:22.671Z"
   },
   {
    "duration": 1462,
    "start_time": "2022-04-24T03:29:29.250Z"
   },
   {
    "duration": 397,
    "start_time": "2022-04-24T03:29:30.714Z"
   },
   {
    "duration": 24,
    "start_time": "2022-04-24T03:29:31.113Z"
   },
   {
    "duration": 37,
    "start_time": "2022-04-24T03:29:31.140Z"
   },
   {
    "duration": 29,
    "start_time": "2022-04-24T03:29:31.178Z"
   },
   {
    "duration": 42,
    "start_time": "2022-04-24T03:29:31.209Z"
   },
   {
    "duration": 26,
    "start_time": "2022-04-24T03:29:31.254Z"
   },
   {
    "duration": 25,
    "start_time": "2022-04-24T03:29:31.282Z"
   },
   {
    "duration": 36,
    "start_time": "2022-04-24T03:29:31.309Z"
   },
   {
    "duration": 32,
    "start_time": "2022-04-24T03:29:31.349Z"
   },
   {
    "duration": 50,
    "start_time": "2022-04-24T03:29:31.383Z"
   },
   {
    "duration": 92,
    "start_time": "2022-04-24T03:29:31.435Z"
   },
   {
    "duration": 5,
    "start_time": "2022-04-24T03:29:31.530Z"
   },
   {
    "duration": 51,
    "start_time": "2022-04-24T03:29:31.537Z"
   },
   {
    "duration": 49,
    "start_time": "2022-04-24T03:29:31.590Z"
   },
   {
    "duration": 14,
    "start_time": "2022-04-24T03:29:31.642Z"
   },
   {
    "duration": 26,
    "start_time": "2022-04-24T03:29:31.659Z"
   },
   {
    "duration": 82,
    "start_time": "2022-04-24T03:29:31.687Z"
   },
   {
    "duration": 26,
    "start_time": "2022-04-24T03:29:31.771Z"
   },
   {
    "duration": 29,
    "start_time": "2022-04-24T03:29:31.799Z"
   },
   {
    "duration": 44,
    "start_time": "2022-04-24T03:29:31.830Z"
   },
   {
    "duration": 27,
    "start_time": "2022-04-24T03:29:31.876Z"
   },
   {
    "duration": 50,
    "start_time": "2022-04-24T03:29:31.906Z"
   },
   {
    "duration": 38,
    "start_time": "2022-04-24T03:29:31.958Z"
   },
   {
    "duration": 29,
    "start_time": "2022-04-24T03:29:31.998Z"
   },
   {
    "duration": 33,
    "start_time": "2022-04-24T03:29:32.029Z"
   },
   {
    "duration": 86,
    "start_time": "2022-04-24T03:29:32.064Z"
   },
   {
    "duration": 30,
    "start_time": "2022-04-24T03:29:32.156Z"
   },
   {
    "duration": 41,
    "start_time": "2022-04-24T03:29:32.189Z"
   },
   {
    "duration": 11,
    "start_time": "2022-04-24T03:29:32.233Z"
   },
   {
    "duration": 43,
    "start_time": "2022-04-24T03:29:32.246Z"
   },
   {
    "duration": 15,
    "start_time": "2022-04-24T03:29:32.291Z"
   },
   {
    "duration": 40,
    "start_time": "2022-04-24T03:29:32.308Z"
   },
   {
    "duration": 10,
    "start_time": "2022-04-24T03:29:32.350Z"
   },
   {
    "duration": 35,
    "start_time": "2022-04-24T03:29:32.362Z"
   },
   {
    "duration": 34,
    "start_time": "2022-04-24T03:29:32.399Z"
   },
   {
    "duration": 40,
    "start_time": "2022-04-24T03:29:32.435Z"
   },
   {
    "duration": 26,
    "start_time": "2022-04-24T03:29:32.478Z"
   },
   {
    "duration": 21,
    "start_time": "2022-04-24T03:29:32.507Z"
   },
   {
    "duration": 41,
    "start_time": "2022-04-24T03:29:32.530Z"
   },
   {
    "duration": 52,
    "start_time": "2022-04-24T03:29:32.573Z"
   },
   {
    "duration": 17,
    "start_time": "2022-04-24T03:29:32.628Z"
   },
   {
    "duration": 26,
    "start_time": "2022-04-24T03:29:32.646Z"
   },
   {
    "duration": 23,
    "start_time": "2022-04-24T03:29:32.674Z"
   },
   {
    "duration": 31,
    "start_time": "2022-04-24T03:29:32.699Z"
   },
   {
    "duration": 31,
    "start_time": "2022-04-24T03:29:32.731Z"
   },
   {
    "duration": 44,
    "start_time": "2022-04-24T03:29:32.764Z"
   },
   {
    "duration": 42,
    "start_time": "2022-04-24T03:29:32.810Z"
   },
   {
    "duration": 29,
    "start_time": "2022-04-24T03:29:32.854Z"
   },
   {
    "duration": 40,
    "start_time": "2022-04-24T03:29:32.885Z"
   },
   {
    "duration": 21,
    "start_time": "2022-04-24T03:29:32.927Z"
   },
   {
    "duration": 26,
    "start_time": "2022-04-24T03:29:32.950Z"
   },
   {
    "duration": 37,
    "start_time": "2022-04-24T03:29:32.978Z"
   },
   {
    "duration": 21,
    "start_time": "2022-04-24T03:29:33.017Z"
   },
   {
    "duration": 31,
    "start_time": "2022-04-24T03:29:33.039Z"
   },
   {
    "duration": 33,
    "start_time": "2022-04-24T03:29:33.072Z"
   },
   {
    "duration": 161,
    "start_time": "2022-04-24T03:29:33.107Z"
   },
   {
    "duration": 3,
    "start_time": "2022-04-24T03:29:33.270Z"
   },
   {
    "duration": 46,
    "start_time": "2022-04-24T03:29:33.274Z"
   },
   {
    "duration": 29,
    "start_time": "2022-04-24T03:29:33.321Z"
   },
   {
    "duration": 31,
    "start_time": "2022-04-24T03:29:33.352Z"
   },
   {
    "duration": 42,
    "start_time": "2022-04-24T03:29:33.385Z"
   },
   {
    "duration": 23,
    "start_time": "2022-04-24T03:29:33.429Z"
   },
   {
    "duration": 11,
    "start_time": "2022-04-24T03:29:33.453Z"
   },
   {
    "duration": 201,
    "start_time": "2022-04-24T03:29:33.465Z"
   },
   {
    "duration": 173,
    "start_time": "2022-04-24T03:29:33.668Z"
   },
   {
    "duration": 179,
    "start_time": "2022-04-24T03:29:33.842Z"
   },
   {
    "duration": 174,
    "start_time": "2022-04-24T03:29:34.023Z"
   },
   {
    "duration": 19,
    "start_time": "2022-04-24T03:29:34.198Z"
   },
   {
    "duration": 63,
    "start_time": "2022-04-24T03:29:34.218Z"
   },
   {
    "duration": 951,
    "start_time": "2022-04-24T03:29:34.283Z"
   },
   {
    "duration": 2290,
    "start_time": "2022-04-24T03:29:35.235Z"
   },
   {
    "duration": 142,
    "start_time": "2022-04-24T03:29:54.883Z"
   },
   {
    "duration": 281,
    "start_time": "2022-04-24T03:30:18.894Z"
   },
   {
    "duration": 367,
    "start_time": "2022-04-24T03:30:38.547Z"
   },
   {
    "duration": 29,
    "start_time": "2022-04-24T03:59:18.883Z"
   },
   {
    "duration": 51,
    "start_time": "2022-04-24T04:00:51.121Z"
   },
   {
    "duration": 47,
    "start_time": "2022-04-24T04:02:04.028Z"
   },
   {
    "duration": 4,
    "start_time": "2022-04-24T04:04:42.204Z"
   },
   {
    "duration": 10,
    "start_time": "2022-04-24T04:04:48.607Z"
   },
   {
    "duration": 8,
    "start_time": "2022-04-24T04:05:01.368Z"
   },
   {
    "duration": 4,
    "start_time": "2022-04-24T04:05:27.453Z"
   },
   {
    "duration": 4,
    "start_time": "2022-04-24T04:05:33.775Z"
   },
   {
    "duration": 18,
    "start_time": "2022-04-24T04:05:57.781Z"
   },
   {
    "duration": 5,
    "start_time": "2022-04-24T04:06:49.794Z"
   },
   {
    "duration": 7,
    "start_time": "2022-04-24T04:06:51.980Z"
   },
   {
    "duration": 10,
    "start_time": "2022-04-24T04:07:47.496Z"
   },
   {
    "duration": 5,
    "start_time": "2022-04-24T04:09:08.814Z"
   },
   {
    "duration": 8,
    "start_time": "2022-04-24T04:09:11.897Z"
   },
   {
    "duration": 18,
    "start_time": "2022-04-24T04:09:17.751Z"
   },
   {
    "duration": 131,
    "start_time": "2022-04-24T04:10:07.157Z"
   },
   {
    "duration": 109,
    "start_time": "2022-04-24T04:10:30.202Z"
   },
   {
    "duration": 116,
    "start_time": "2022-04-24T04:10:45.723Z"
   },
   {
    "duration": 221,
    "start_time": "2022-04-24T04:10:53.954Z"
   },
   {
    "duration": 7,
    "start_time": "2022-04-24T04:28:57.846Z"
   },
   {
    "duration": 7,
    "start_time": "2022-04-24T04:29:06.847Z"
   },
   {
    "duration": 20,
    "start_time": "2022-04-24T04:29:12.435Z"
   },
   {
    "duration": 18,
    "start_time": "2022-04-24T04:29:26.276Z"
   },
   {
    "duration": 12,
    "start_time": "2022-04-24T04:30:31.594Z"
   },
   {
    "duration": 214,
    "start_time": "2022-04-24T04:31:46.752Z"
   },
   {
    "duration": 139,
    "start_time": "2022-04-24T04:32:13.595Z"
   },
   {
    "duration": 133,
    "start_time": "2022-04-24T04:32:17.534Z"
   },
   {
    "duration": 109,
    "start_time": "2022-04-24T04:32:47.204Z"
   },
   {
    "duration": 96,
    "start_time": "2022-04-24T04:32:51.965Z"
   },
   {
    "duration": 115,
    "start_time": "2022-04-24T04:33:01.372Z"
   },
   {
    "duration": 105,
    "start_time": "2022-04-24T04:33:06.176Z"
   },
   {
    "duration": 97,
    "start_time": "2022-04-24T04:33:46.330Z"
   },
   {
    "duration": 160,
    "start_time": "2022-04-24T04:34:19.700Z"
   },
   {
    "duration": 222,
    "start_time": "2022-04-24T04:34:40.312Z"
   },
   {
    "duration": 117,
    "start_time": "2022-04-24T04:34:50.051Z"
   },
   {
    "duration": 127,
    "start_time": "2022-04-24T04:35:30.972Z"
   },
   {
    "duration": 133,
    "start_time": "2022-04-24T04:35:36.221Z"
   },
   {
    "duration": 144,
    "start_time": "2022-04-24T04:35:56.803Z"
   },
   {
    "duration": 150,
    "start_time": "2022-04-24T04:36:18.086Z"
   },
   {
    "duration": 255,
    "start_time": "2022-04-24T04:36:23.908Z"
   },
   {
    "duration": 110,
    "start_time": "2022-04-24T04:36:47.127Z"
   },
   {
    "duration": 122,
    "start_time": "2022-04-24T04:37:01.807Z"
   },
   {
    "duration": 167,
    "start_time": "2022-04-24T04:37:21.965Z"
   },
   {
    "duration": 10,
    "start_time": "2022-04-24T04:39:10.874Z"
   },
   {
    "duration": 318,
    "start_time": "2022-04-24T04:40:16.441Z"
   },
   {
    "duration": 16,
    "start_time": "2022-04-24T04:44:52.602Z"
   },
   {
    "duration": 4,
    "start_time": "2022-04-24T04:45:44.858Z"
   },
   {
    "duration": 604,
    "start_time": "2022-04-24T04:45:49.193Z"
   },
   {
    "duration": 16,
    "start_time": "2022-04-24T04:46:31.007Z"
   },
   {
    "duration": 16,
    "start_time": "2022-04-24T04:48:00.665Z"
   },
   {
    "duration": 7,
    "start_time": "2022-04-24T04:49:56.984Z"
   },
   {
    "duration": 16,
    "start_time": "2022-04-24T04:50:36.658Z"
   },
   {
    "duration": 7,
    "start_time": "2022-04-24T04:51:34.029Z"
   },
   {
    "duration": 2379,
    "start_time": "2022-04-24T05:03:54.421Z"
   },
   {
    "duration": 269,
    "start_time": "2022-04-24T05:04:24.942Z"
   },
   {
    "duration": 472,
    "start_time": "2022-04-24T05:06:30.921Z"
   },
   {
    "duration": 299,
    "start_time": "2022-04-24T05:09:11.574Z"
   },
   {
    "duration": 287,
    "start_time": "2022-04-24T05:11:15.592Z"
   },
   {
    "duration": 332,
    "start_time": "2022-04-24T05:11:36.627Z"
   },
   {
    "duration": 426,
    "start_time": "2022-04-24T05:14:11.767Z"
   },
   {
    "duration": 10,
    "start_time": "2022-04-24T05:17:52.689Z"
   },
   {
    "duration": 11,
    "start_time": "2022-04-24T05:17:59.070Z"
   },
   {
    "duration": 11,
    "start_time": "2022-04-24T05:18:16.136Z"
   },
   {
    "duration": 11,
    "start_time": "2022-04-24T05:20:50.637Z"
   },
   {
    "duration": 341,
    "start_time": "2022-04-24T05:21:13.121Z"
   },
   {
    "duration": 357,
    "start_time": "2022-04-24T05:21:21.024Z"
   },
   {
    "duration": 333,
    "start_time": "2022-04-24T05:21:52.039Z"
   },
   {
    "duration": 317,
    "start_time": "2022-04-24T05:21:58.759Z"
   },
   {
    "duration": 330,
    "start_time": "2022-04-24T05:22:05.945Z"
   },
   {
    "duration": 294,
    "start_time": "2022-04-24T05:24:32.984Z"
   },
   {
    "duration": 340,
    "start_time": "2022-04-24T05:25:16.740Z"
   },
   {
    "duration": 286,
    "start_time": "2022-04-24T05:25:32.593Z"
   },
   {
    "duration": 313,
    "start_time": "2022-04-24T05:25:54.752Z"
   },
   {
    "duration": 318,
    "start_time": "2022-04-24T05:25:59.212Z"
   },
   {
    "duration": 331,
    "start_time": "2022-04-24T05:26:20.444Z"
   },
   {
    "duration": 326,
    "start_time": "2022-04-24T05:26:29.338Z"
   },
   {
    "duration": 464,
    "start_time": "2022-04-24T05:27:01.116Z"
   },
   {
    "duration": 327,
    "start_time": "2022-04-24T05:27:10.930Z"
   },
   {
    "duration": 4,
    "start_time": "2022-04-24T05:27:40.067Z"
   },
   {
    "duration": 4,
    "start_time": "2022-04-24T05:27:47.844Z"
   },
   {
    "duration": 4,
    "start_time": "2022-04-24T05:28:15.626Z"
   },
   {
    "duration": 10,
    "start_time": "2022-04-24T05:28:23.838Z"
   },
   {
    "duration": 3,
    "start_time": "2022-04-24T05:28:37.180Z"
   },
   {
    "duration": 603,
    "start_time": "2022-04-24T05:28:37.186Z"
   },
   {
    "duration": 27,
    "start_time": "2022-04-24T05:28:37.792Z"
   },
   {
    "duration": 64,
    "start_time": "2022-04-24T05:28:37.822Z"
   },
   {
    "duration": 38,
    "start_time": "2022-04-24T05:28:37.889Z"
   },
   {
    "duration": 58,
    "start_time": "2022-04-24T05:28:37.929Z"
   },
   {
    "duration": 20,
    "start_time": "2022-04-24T05:28:37.990Z"
   },
   {
    "duration": 7,
    "start_time": "2022-04-24T05:28:38.012Z"
   },
   {
    "duration": 39,
    "start_time": "2022-04-24T05:28:38.021Z"
   },
   {
    "duration": 8,
    "start_time": "2022-04-24T05:28:38.062Z"
   },
   {
    "duration": 6,
    "start_time": "2022-04-24T05:28:38.074Z"
   },
   {
    "duration": 38,
    "start_time": "2022-04-24T05:28:38.082Z"
   },
   {
    "duration": 5,
    "start_time": "2022-04-24T05:28:38.122Z"
   },
   {
    "duration": 33,
    "start_time": "2022-04-24T05:28:38.129Z"
   },
   {
    "duration": 44,
    "start_time": "2022-04-24T05:28:38.164Z"
   },
   {
    "duration": 7,
    "start_time": "2022-04-24T05:28:38.210Z"
   },
   {
    "duration": 12,
    "start_time": "2022-04-24T05:28:38.220Z"
   },
   {
    "duration": 40,
    "start_time": "2022-04-24T05:28:38.234Z"
   },
   {
    "duration": 7,
    "start_time": "2022-04-24T05:28:38.276Z"
   },
   {
    "duration": 10,
    "start_time": "2022-04-24T05:28:38.286Z"
   },
   {
    "duration": 14,
    "start_time": "2022-04-24T05:28:38.298Z"
   },
   {
    "duration": 9,
    "start_time": "2022-04-24T05:28:38.314Z"
   },
   {
    "duration": 44,
    "start_time": "2022-04-24T05:28:38.325Z"
   },
   {
    "duration": 4,
    "start_time": "2022-04-24T05:28:38.371Z"
   },
   {
    "duration": 10,
    "start_time": "2022-04-24T05:28:38.377Z"
   },
   {
    "duration": 13,
    "start_time": "2022-04-24T05:28:38.388Z"
   },
   {
    "duration": 75,
    "start_time": "2022-04-24T05:28:38.402Z"
   },
   {
    "duration": 19,
    "start_time": "2022-04-24T05:28:38.479Z"
   },
   {
    "duration": 22,
    "start_time": "2022-04-24T05:28:38.503Z"
   },
   {
    "duration": 27,
    "start_time": "2022-04-24T05:28:38.529Z"
   },
   {
    "duration": 25,
    "start_time": "2022-04-24T05:28:38.558Z"
   },
   {
    "duration": 7,
    "start_time": "2022-04-24T05:28:38.585Z"
   },
   {
    "duration": 19,
    "start_time": "2022-04-24T05:28:38.594Z"
   },
   {
    "duration": 7,
    "start_time": "2022-04-24T05:28:38.615Z"
   },
   {
    "duration": 10,
    "start_time": "2022-04-24T05:28:38.624Z"
   },
   {
    "duration": 23,
    "start_time": "2022-04-24T05:28:38.636Z"
   },
   {
    "duration": 9,
    "start_time": "2022-04-24T05:28:38.660Z"
   },
   {
    "duration": 9,
    "start_time": "2022-04-24T05:28:38.671Z"
   },
   {
    "duration": 10,
    "start_time": "2022-04-24T05:28:38.682Z"
   },
   {
    "duration": 15,
    "start_time": "2022-04-24T05:28:38.694Z"
   },
   {
    "duration": 51,
    "start_time": "2022-04-24T05:28:38.710Z"
   },
   {
    "duration": 5,
    "start_time": "2022-04-24T05:28:38.762Z"
   },
   {
    "duration": 12,
    "start_time": "2022-04-24T05:28:38.768Z"
   },
   {
    "duration": 15,
    "start_time": "2022-04-24T05:28:38.782Z"
   },
   {
    "duration": 3,
    "start_time": "2022-04-24T05:28:38.799Z"
   },
   {
    "duration": 13,
    "start_time": "2022-04-24T05:28:38.804Z"
   },
   {
    "duration": 4,
    "start_time": "2022-04-24T05:28:38.818Z"
   },
   {
    "duration": 31,
    "start_time": "2022-04-24T05:28:38.824Z"
   },
   {
    "duration": 16,
    "start_time": "2022-04-24T05:28:38.856Z"
   },
   {
    "duration": 13,
    "start_time": "2022-04-24T05:28:38.874Z"
   },
   {
    "duration": 8,
    "start_time": "2022-04-24T05:28:38.889Z"
   },
   {
    "duration": 25,
    "start_time": "2022-04-24T05:28:38.898Z"
   },
   {
    "duration": 11,
    "start_time": "2022-04-24T05:28:38.926Z"
   },
   {
    "duration": 7,
    "start_time": "2022-04-24T05:28:38.955Z"
   },
   {
    "duration": 7,
    "start_time": "2022-04-24T05:28:38.964Z"
   },
   {
    "duration": 9,
    "start_time": "2022-04-24T05:28:38.973Z"
   },
   {
    "duration": 173,
    "start_time": "2022-04-24T05:28:38.983Z"
   },
   {
    "duration": 3,
    "start_time": "2022-04-24T05:28:39.158Z"
   },
   {
    "duration": 16,
    "start_time": "2022-04-24T05:28:39.163Z"
   },
   {
    "duration": 13,
    "start_time": "2022-04-24T05:28:39.181Z"
   },
   {
    "duration": 14,
    "start_time": "2022-04-24T05:28:39.196Z"
   },
   {
    "duration": 8,
    "start_time": "2022-04-24T05:28:39.211Z"
   },
   {
    "duration": 16,
    "start_time": "2022-04-24T05:28:39.254Z"
   },
   {
    "duration": 6,
    "start_time": "2022-04-24T05:28:39.271Z"
   },
   {
    "duration": 201,
    "start_time": "2022-04-24T05:28:39.279Z"
   },
   {
    "duration": 178,
    "start_time": "2022-04-24T05:28:39.482Z"
   },
   {
    "duration": 175,
    "start_time": "2022-04-24T05:28:39.661Z"
   },
   {
    "duration": 169,
    "start_time": "2022-04-24T05:28:39.838Z"
   },
   {
    "duration": 4,
    "start_time": "2022-04-24T05:28:40.009Z"
   },
   {
    "duration": 17,
    "start_time": "2022-04-24T05:28:40.015Z"
   },
   {
    "duration": 33,
    "start_time": "2022-04-24T05:28:40.034Z"
   },
   {
    "duration": 26,
    "start_time": "2022-04-24T05:28:40.068Z"
   },
   {
    "duration": 10,
    "start_time": "2022-04-24T05:28:40.096Z"
   },
   {
    "duration": 44,
    "start_time": "2022-04-24T05:28:40.108Z"
   },
   {
    "duration": 11,
    "start_time": "2022-04-24T05:28:40.154Z"
   },
   {
    "duration": 349,
    "start_time": "2022-04-24T05:28:40.167Z"
   },
   {
    "duration": 350,
    "start_time": "2022-04-24T05:28:40.518Z"
   },
   {
    "duration": 8,
    "start_time": "2022-04-24T05:29:08.337Z"
   },
   {
    "duration": 290,
    "start_time": "2022-04-24T05:29:30.079Z"
   },
   {
    "duration": 307,
    "start_time": "2022-04-24T05:41:46.618Z"
   },
   {
    "duration": 9,
    "start_time": "2022-04-24T05:42:13.199Z"
   },
   {
    "duration": 309,
    "start_time": "2022-04-24T05:42:30.525Z"
   },
   {
    "duration": 267,
    "start_time": "2022-04-24T05:42:50.498Z"
   },
   {
    "duration": 161,
    "start_time": "2022-04-24T05:43:50.960Z"
   },
   {
    "duration": 167,
    "start_time": "2022-04-24T05:44:10.880Z"
   },
   {
    "duration": 149,
    "start_time": "2022-04-24T05:46:06.952Z"
   },
   {
    "duration": 491,
    "start_time": "2022-04-24T05:46:23.353Z"
   },
   {
    "duration": 296,
    "start_time": "2022-04-24T05:46:36.450Z"
   },
   {
    "duration": 324,
    "start_time": "2022-04-24T05:52:28.333Z"
   },
   {
    "duration": 312,
    "start_time": "2022-04-24T05:58:08.758Z"
   },
   {
    "duration": 319,
    "start_time": "2022-04-24T05:58:24.939Z"
   },
   {
    "duration": 286,
    "start_time": "2022-04-24T05:58:42.790Z"
   },
   {
    "duration": 289,
    "start_time": "2022-04-24T05:58:50.588Z"
   },
   {
    "duration": 318,
    "start_time": "2022-04-24T05:58:59.005Z"
   },
   {
    "duration": 171,
    "start_time": "2022-04-24T05:59:09.559Z"
   },
   {
    "duration": 177,
    "start_time": "2022-04-24T05:59:19.299Z"
   },
   {
    "duration": 174,
    "start_time": "2022-04-24T05:59:28.475Z"
   },
   {
    "duration": 183,
    "start_time": "2022-04-24T05:59:35.398Z"
   },
   {
    "duration": 6,
    "start_time": "2022-04-24T06:01:50.298Z"
   },
   {
    "duration": 2228,
    "start_time": "2022-04-24T06:03:20.086Z"
   },
   {
    "duration": 8,
    "start_time": "2022-04-24T06:03:41.555Z"
   },
   {
    "duration": 8,
    "start_time": "2022-04-24T06:04:24.734Z"
   },
   {
    "duration": 7,
    "start_time": "2022-04-24T06:06:04.026Z"
   },
   {
    "duration": 14,
    "start_time": "2022-04-24T06:26:42.565Z"
   },
   {
    "duration": 6,
    "start_time": "2022-04-24T06:26:59.435Z"
   },
   {
    "duration": 4,
    "start_time": "2022-04-24T06:27:08.004Z"
   },
   {
    "duration": 6,
    "start_time": "2022-04-24T06:27:51.746Z"
   },
   {
    "duration": 6,
    "start_time": "2022-04-24T06:28:44.858Z"
   },
   {
    "duration": 3,
    "start_time": "2022-04-24T06:29:47.275Z"
   },
   {
    "duration": 6,
    "start_time": "2022-04-24T06:29:52.176Z"
   },
   {
    "duration": 6,
    "start_time": "2022-04-24T06:30:21.509Z"
   },
   {
    "duration": 6,
    "start_time": "2022-04-24T06:30:26.796Z"
   },
   {
    "duration": 131,
    "start_time": "2022-04-24T06:30:34.900Z"
   },
   {
    "duration": 150,
    "start_time": "2022-04-24T06:30:51.242Z"
   },
   {
    "duration": 143,
    "start_time": "2022-04-24T06:31:03.518Z"
   },
   {
    "duration": 175,
    "start_time": "2022-04-24T06:31:10.324Z"
   },
   {
    "duration": 1371,
    "start_time": "2022-04-24T06:31:15.814Z"
   },
   {
    "duration": 115,
    "start_time": "2022-04-24T06:31:34.109Z"
   },
   {
    "duration": 119,
    "start_time": "2022-04-24T06:31:44.978Z"
   },
   {
    "duration": 10,
    "start_time": "2022-04-24T06:32:20.963Z"
   },
   {
    "duration": 11,
    "start_time": "2022-04-24T06:32:30.361Z"
   },
   {
    "duration": 9,
    "start_time": "2022-04-24T06:32:50.592Z"
   },
   {
    "duration": 108,
    "start_time": "2022-04-24T06:32:57.702Z"
   },
   {
    "duration": 46,
    "start_time": "2022-04-28T04:43:09.746Z"
   },
   {
    "duration": 1297,
    "start_time": "2022-04-28T04:43:12.695Z"
   },
   {
    "duration": 365,
    "start_time": "2022-04-28T04:43:13.995Z"
   },
   {
    "duration": 23,
    "start_time": "2022-04-28T04:43:14.361Z"
   },
   {
    "duration": 30,
    "start_time": "2022-04-28T04:43:14.387Z"
   },
   {
    "duration": 44,
    "start_time": "2022-04-28T04:43:14.419Z"
   },
   {
    "duration": 27,
    "start_time": "2022-04-28T04:43:14.465Z"
   },
   {
    "duration": 15,
    "start_time": "2022-04-28T04:43:14.495Z"
   },
   {
    "duration": 38,
    "start_time": "2022-04-28T04:43:14.512Z"
   },
   {
    "duration": 7,
    "start_time": "2022-04-28T04:43:14.552Z"
   },
   {
    "duration": 7,
    "start_time": "2022-04-28T04:43:14.561Z"
   },
   {
    "duration": 7,
    "start_time": "2022-04-28T04:43:14.569Z"
   },
   {
    "duration": 33,
    "start_time": "2022-04-28T04:43:14.578Z"
   },
   {
    "duration": 5,
    "start_time": "2022-04-28T04:43:14.613Z"
   },
   {
    "duration": 33,
    "start_time": "2022-04-28T04:43:14.620Z"
   },
   {
    "duration": 27,
    "start_time": "2022-04-28T04:43:14.654Z"
   },
   {
    "duration": 6,
    "start_time": "2022-04-28T04:43:14.682Z"
   },
   {
    "duration": 7,
    "start_time": "2022-04-28T04:43:14.689Z"
   },
   {
    "duration": 57,
    "start_time": "2022-04-28T04:43:14.698Z"
   },
   {
    "duration": 5,
    "start_time": "2022-04-28T04:43:14.757Z"
   },
   {
    "duration": 8,
    "start_time": "2022-04-28T04:43:14.763Z"
   },
   {
    "duration": 16,
    "start_time": "2022-04-28T04:43:14.772Z"
   },
   {
    "duration": 10,
    "start_time": "2022-04-28T04:43:14.789Z"
   },
   {
    "duration": 19,
    "start_time": "2022-04-28T04:43:14.800Z"
   },
   {
    "duration": 6,
    "start_time": "2022-04-28T04:43:14.847Z"
   },
   {
    "duration": 5,
    "start_time": "2022-04-28T04:43:14.854Z"
   },
   {
    "duration": 12,
    "start_time": "2022-04-28T04:43:14.861Z"
   },
   {
    "duration": 47,
    "start_time": "2022-04-28T04:43:14.874Z"
   },
   {
    "duration": 18,
    "start_time": "2022-04-28T04:43:14.947Z"
   },
   {
    "duration": 21,
    "start_time": "2022-04-28T04:43:14.967Z"
   },
   {
    "duration": 7,
    "start_time": "2022-04-28T04:43:14.989Z"
   },
   {
    "duration": 47,
    "start_time": "2022-04-28T04:43:14.999Z"
   },
   {
    "duration": 7,
    "start_time": "2022-04-28T04:43:15.049Z"
   },
   {
    "duration": 17,
    "start_time": "2022-04-28T04:43:15.058Z"
   },
   {
    "duration": 7,
    "start_time": "2022-04-28T04:43:15.077Z"
   },
   {
    "duration": 10,
    "start_time": "2022-04-28T04:43:15.085Z"
   },
   {
    "duration": 9,
    "start_time": "2022-04-28T04:43:15.096Z"
   },
   {
    "duration": 8,
    "start_time": "2022-04-28T04:43:15.106Z"
   },
   {
    "duration": 40,
    "start_time": "2022-04-28T04:43:15.115Z"
   },
   {
    "duration": 10,
    "start_time": "2022-04-28T04:43:15.156Z"
   },
   {
    "duration": 14,
    "start_time": "2022-04-28T04:43:15.167Z"
   },
   {
    "duration": 13,
    "start_time": "2022-04-28T04:43:15.182Z"
   },
   {
    "duration": 3,
    "start_time": "2022-04-28T04:43:15.197Z"
   },
   {
    "duration": 8,
    "start_time": "2022-04-28T04:43:15.202Z"
   },
   {
    "duration": 47,
    "start_time": "2022-04-28T04:43:15.212Z"
   },
   {
    "duration": 3,
    "start_time": "2022-04-28T04:43:15.260Z"
   },
   {
    "duration": 7,
    "start_time": "2022-04-28T04:43:15.265Z"
   },
   {
    "duration": 5,
    "start_time": "2022-04-28T04:43:15.274Z"
   },
   {
    "duration": 18,
    "start_time": "2022-04-28T04:43:15.281Z"
   },
   {
    "duration": 11,
    "start_time": "2022-04-28T04:43:15.300Z"
   },
   {
    "duration": 12,
    "start_time": "2022-04-28T04:43:15.313Z"
   },
   {
    "duration": 4,
    "start_time": "2022-04-28T04:43:15.348Z"
   },
   {
    "duration": 15,
    "start_time": "2022-04-28T04:43:15.353Z"
   },
   {
    "duration": 6,
    "start_time": "2022-04-28T04:43:15.370Z"
   },
   {
    "duration": 7,
    "start_time": "2022-04-28T04:43:15.378Z"
   },
   {
    "duration": 7,
    "start_time": "2022-04-28T04:43:15.386Z"
   },
   {
    "duration": 11,
    "start_time": "2022-04-28T04:43:15.395Z"
   },
   {
    "duration": 264,
    "start_time": "2022-04-28T04:43:15.407Z"
   },
   {
    "duration": 4,
    "start_time": "2022-04-28T04:43:15.673Z"
   },
   {
    "duration": 17,
    "start_time": "2022-04-28T04:43:15.678Z"
   },
   {
    "duration": 14,
    "start_time": "2022-04-28T04:43:15.697Z"
   },
   {
    "duration": 13,
    "start_time": "2022-04-28T04:43:15.713Z"
   },
   {
    "duration": 23,
    "start_time": "2022-04-28T04:43:15.728Z"
   },
   {
    "duration": 16,
    "start_time": "2022-04-28T04:43:15.753Z"
   },
   {
    "duration": 5,
    "start_time": "2022-04-28T04:43:15.771Z"
   },
   {
    "duration": 216,
    "start_time": "2022-04-28T04:43:15.778Z"
   },
   {
    "duration": 191,
    "start_time": "2022-04-28T04:43:15.995Z"
   },
   {
    "duration": 203,
    "start_time": "2022-04-28T04:43:16.188Z"
   },
   {
    "duration": 185,
    "start_time": "2022-04-28T04:43:16.393Z"
   },
   {
    "duration": 4,
    "start_time": "2022-04-28T04:43:16.580Z"
   },
   {
    "duration": 12,
    "start_time": "2022-04-28T04:43:16.585Z"
   },
   {
    "duration": 20,
    "start_time": "2022-04-28T04:43:16.598Z"
   },
   {
    "duration": 31,
    "start_time": "2022-04-28T04:43:16.620Z"
   },
   {
    "duration": 6,
    "start_time": "2022-04-28T04:43:16.653Z"
   },
   {
    "duration": 25,
    "start_time": "2022-04-28T04:43:16.661Z"
   },
   {
    "duration": 8,
    "start_time": "2022-04-28T04:43:16.687Z"
   },
   {
    "duration": 410,
    "start_time": "2022-04-28T04:43:16.696Z"
   },
   {
    "duration": 353,
    "start_time": "2022-04-28T04:43:17.107Z"
   },
   {
    "duration": 315,
    "start_time": "2022-04-28T04:43:17.461Z"
   },
   {
    "duration": 404,
    "start_time": "2022-04-28T04:43:17.778Z"
   },
   {
    "duration": 8,
    "start_time": "2022-04-28T04:43:18.184Z"
   },
   {
    "duration": 8,
    "start_time": "2022-04-28T04:43:18.193Z"
   },
   {
    "duration": 4,
    "start_time": "2022-04-28T04:43:18.206Z"
   },
   {
    "duration": 5,
    "start_time": "2022-04-28T04:43:18.212Z"
   },
   {
    "duration": 5,
    "start_time": "2022-04-28T04:43:18.247Z"
   },
   {
    "duration": 7,
    "start_time": "2022-04-28T04:43:18.254Z"
   },
   {
    "duration": 58,
    "start_time": "2022-04-28T04:49:37.447Z"
   },
   {
    "duration": 8,
    "start_time": "2022-04-28T04:49:47.686Z"
   },
   {
    "duration": 9,
    "start_time": "2022-04-28T04:49:59.846Z"
   },
   {
    "duration": 158,
    "start_time": "2022-04-28T04:50:24.907Z"
   },
   {
    "duration": 115,
    "start_time": "2022-04-28T04:50:30.896Z"
   },
   {
    "duration": 108,
    "start_time": "2022-04-28T04:50:35.827Z"
   },
   {
    "duration": 8,
    "start_time": "2022-04-28T04:50:39.295Z"
   },
   {
    "duration": 11,
    "start_time": "2022-04-28T04:50:50.659Z"
   },
   {
    "duration": 12,
    "start_time": "2022-04-28T04:52:00.449Z"
   },
   {
    "duration": 299,
    "start_time": "2022-04-28T04:52:46.874Z"
   },
   {
    "duration": 201,
    "start_time": "2022-04-28T04:52:56.538Z"
   },
   {
    "duration": 10,
    "start_time": "2022-04-28T04:57:25.107Z"
   },
   {
    "duration": 8,
    "start_time": "2022-04-28T04:58:42.026Z"
   },
   {
    "duration": 9,
    "start_time": "2022-04-28T04:58:59.418Z"
   },
   {
    "duration": 10,
    "start_time": "2022-04-28T04:59:01.507Z"
   },
   {
    "duration": 11,
    "start_time": "2022-04-28T04:59:34.568Z"
   },
   {
    "duration": 12,
    "start_time": "2022-04-28T04:59:42.826Z"
   },
   {
    "duration": 431,
    "start_time": "2022-04-28T05:10:36.906Z"
   },
   {
    "duration": 383,
    "start_time": "2022-04-28T05:11:09.387Z"
   },
   {
    "duration": 14,
    "start_time": "2022-04-28T05:18:00.443Z"
   },
   {
    "duration": 15,
    "start_time": "2022-04-28T05:18:24.732Z"
   },
   {
    "duration": 16,
    "start_time": "2022-04-28T05:19:57.354Z"
   },
   {
    "duration": 20,
    "start_time": "2022-04-28T05:20:03.283Z"
   },
   {
    "duration": 37,
    "start_time": "2022-04-28T05:20:29.123Z"
   },
   {
    "duration": 72,
    "start_time": "2022-04-30T04:43:43.126Z"
   },
   {
    "duration": 1793,
    "start_time": "2022-04-30T04:43:46.157Z"
   },
   {
    "duration": 533,
    "start_time": "2022-04-30T04:43:47.953Z"
   },
   {
    "duration": 34,
    "start_time": "2022-04-30T04:43:48.488Z"
   },
   {
    "duration": 66,
    "start_time": "2022-04-30T04:43:48.524Z"
   },
   {
    "duration": 34,
    "start_time": "2022-04-30T04:43:48.593Z"
   },
   {
    "duration": 66,
    "start_time": "2022-04-30T04:43:48.629Z"
   },
   {
    "duration": 24,
    "start_time": "2022-04-30T04:43:48.697Z"
   },
   {
    "duration": 8,
    "start_time": "2022-04-30T04:43:48.723Z"
   },
   {
    "duration": 11,
    "start_time": "2022-04-30T04:43:48.734Z"
   },
   {
    "duration": 8,
    "start_time": "2022-04-30T04:43:48.781Z"
   },
   {
    "duration": 8,
    "start_time": "2022-04-30T04:43:48.792Z"
   },
   {
    "duration": 86,
    "start_time": "2022-04-30T04:43:48.803Z"
   },
   {
    "duration": 8,
    "start_time": "2022-04-30T04:43:48.892Z"
   },
   {
    "duration": 7,
    "start_time": "2022-04-30T04:43:48.908Z"
   },
   {
    "duration": 65,
    "start_time": "2022-04-30T04:43:48.917Z"
   },
   {
    "duration": 7,
    "start_time": "2022-04-30T04:43:48.985Z"
   },
   {
    "duration": 11,
    "start_time": "2022-04-30T04:43:48.994Z"
   },
   {
    "duration": 79,
    "start_time": "2022-04-30T04:43:49.008Z"
   },
   {
    "duration": 9,
    "start_time": "2022-04-30T04:43:49.090Z"
   },
   {
    "duration": 9,
    "start_time": "2022-04-30T04:43:49.101Z"
   },
   {
    "duration": 26,
    "start_time": "2022-04-30T04:43:49.113Z"
   },
   {
    "duration": 48,
    "start_time": "2022-04-30T04:43:49.142Z"
   },
   {
    "duration": 35,
    "start_time": "2022-04-30T04:43:49.193Z"
   },
   {
    "duration": 11,
    "start_time": "2022-04-30T04:43:49.231Z"
   },
   {
    "duration": 6,
    "start_time": "2022-04-30T04:43:49.245Z"
   },
   {
    "duration": 25,
    "start_time": "2022-04-30T04:43:49.282Z"
   },
   {
    "duration": 117,
    "start_time": "2022-04-30T04:43:49.310Z"
   },
   {
    "duration": 32,
    "start_time": "2022-04-30T04:43:49.430Z"
   },
   {
    "duration": 48,
    "start_time": "2022-04-30T04:43:49.464Z"
   },
   {
    "duration": 11,
    "start_time": "2022-04-30T04:43:49.514Z"
   },
   {
    "duration": 25,
    "start_time": "2022-04-30T04:43:49.528Z"
   },
   {
    "duration": 34,
    "start_time": "2022-04-30T04:43:49.555Z"
   },
   {
    "duration": 24,
    "start_time": "2022-04-30T04:43:49.592Z"
   },
   {
    "duration": 9,
    "start_time": "2022-04-30T04:43:49.618Z"
   },
   {
    "duration": 16,
    "start_time": "2022-04-30T04:43:49.630Z"
   },
   {
    "duration": 43,
    "start_time": "2022-04-30T04:43:49.648Z"
   },
   {
    "duration": 10,
    "start_time": "2022-04-30T04:43:49.693Z"
   },
   {
    "duration": 17,
    "start_time": "2022-04-30T04:43:49.705Z"
   },
   {
    "duration": 19,
    "start_time": "2022-04-30T04:43:49.725Z"
   },
   {
    "duration": 55,
    "start_time": "2022-04-30T04:43:49.747Z"
   },
   {
    "duration": 20,
    "start_time": "2022-04-30T04:43:49.810Z"
   },
   {
    "duration": 16,
    "start_time": "2022-04-30T04:43:49.833Z"
   },
   {
    "duration": 38,
    "start_time": "2022-04-30T04:43:49.852Z"
   },
   {
    "duration": 22,
    "start_time": "2022-04-30T04:43:49.892Z"
   },
   {
    "duration": 4,
    "start_time": "2022-04-30T04:43:49.916Z"
   },
   {
    "duration": 12,
    "start_time": "2022-04-30T04:43:49.922Z"
   },
   {
    "duration": 5,
    "start_time": "2022-04-30T04:43:49.937Z"
   },
   {
    "duration": 7,
    "start_time": "2022-04-30T04:43:49.981Z"
   },
   {
    "duration": 18,
    "start_time": "2022-04-30T04:43:49.990Z"
   },
   {
    "duration": 20,
    "start_time": "2022-04-30T04:43:50.010Z"
   },
   {
    "duration": 7,
    "start_time": "2022-04-30T04:43:50.032Z"
   },
   {
    "duration": 56,
    "start_time": "2022-04-30T04:43:50.041Z"
   },
   {
    "duration": 8,
    "start_time": "2022-04-30T04:43:50.099Z"
   },
   {
    "duration": 9,
    "start_time": "2022-04-30T04:43:50.109Z"
   },
   {
    "duration": 6,
    "start_time": "2022-04-30T04:43:50.121Z"
   },
   {
    "duration": 17,
    "start_time": "2022-04-30T04:43:50.130Z"
   },
   {
    "duration": 297,
    "start_time": "2022-04-30T04:43:50.181Z"
   },
   {
    "duration": 5,
    "start_time": "2022-04-30T04:43:50.482Z"
   },
   {
    "duration": 25,
    "start_time": "2022-04-30T04:43:50.489Z"
   },
   {
    "duration": 20,
    "start_time": "2022-04-30T04:43:50.516Z"
   },
   {
    "duration": 49,
    "start_time": "2022-04-30T04:43:50.538Z"
   },
   {
    "duration": 11,
    "start_time": "2022-04-30T04:43:50.590Z"
   },
   {
    "duration": 24,
    "start_time": "2022-04-30T04:43:50.603Z"
   },
   {
    "duration": 8,
    "start_time": "2022-04-30T04:43:50.629Z"
   },
   {
    "duration": 411,
    "start_time": "2022-04-30T04:43:50.639Z"
   },
   {
    "duration": 372,
    "start_time": "2022-04-30T04:43:51.053Z"
   },
   {
    "duration": 377,
    "start_time": "2022-04-30T04:43:51.428Z"
   },
   {
    "duration": 365,
    "start_time": "2022-04-30T04:43:51.808Z"
   },
   {
    "duration": 10,
    "start_time": "2022-04-30T04:43:52.175Z"
   },
   {
    "duration": 13,
    "start_time": "2022-04-30T04:43:52.188Z"
   },
   {
    "duration": 28,
    "start_time": "2022-04-30T04:43:52.203Z"
   },
   {
    "duration": 62,
    "start_time": "2022-04-30T04:43:52.233Z"
   },
   {
    "duration": 10,
    "start_time": "2022-04-30T04:43:52.297Z"
   },
   {
    "duration": 31,
    "start_time": "2022-04-30T04:43:52.309Z"
   },
   {
    "duration": 90,
    "start_time": "2022-04-30T04:43:52.343Z"
   },
   {
    "duration": 12,
    "start_time": "2022-04-30T04:43:52.435Z"
   },
   {
    "duration": 579,
    "start_time": "2022-04-30T04:43:52.449Z"
   },
   {
    "duration": 509,
    "start_time": "2022-04-30T04:43:53.031Z"
   },
   {
    "duration": 486,
    "start_time": "2022-04-30T04:43:53.543Z"
   },
   {
    "duration": 522,
    "start_time": "2022-04-30T04:43:54.032Z"
   },
   {
    "duration": 24,
    "start_time": "2022-04-30T04:43:54.557Z"
   },
   {
    "duration": 8,
    "start_time": "2022-04-30T04:43:54.583Z"
   },
   {
    "duration": 9,
    "start_time": "2022-04-30T04:43:54.593Z"
   },
   {
    "duration": 11,
    "start_time": "2022-04-30T04:43:54.604Z"
   },
   {
    "duration": 17,
    "start_time": "2022-04-30T04:43:54.617Z"
   },
   {
    "duration": 361,
    "start_time": "2022-04-30T04:43:54.636Z"
   },
   {
    "duration": 11,
    "start_time": "2022-04-30T04:43:54.999Z"
   },
   {
    "duration": 12,
    "start_time": "2022-04-30T04:43:55.011Z"
   },
   {
    "duration": 206,
    "start_time": "2022-04-30T04:54:59.727Z"
   },
   {
    "duration": 259,
    "start_time": "2022-04-30T04:55:09.237Z"
   },
   {
    "duration": 101,
    "start_time": "2022-04-30T04:55:15.587Z"
   },
   {
    "duration": 186,
    "start_time": "2022-04-30T04:56:01.928Z"
   },
   {
    "duration": 226,
    "start_time": "2022-04-30T04:56:14.328Z"
   },
   {
    "duration": 413,
    "start_time": "2022-04-30T04:56:31.348Z"
   },
   {
    "duration": 96,
    "start_time": "2022-04-30T04:57:05.186Z"
   },
   {
    "duration": 119,
    "start_time": "2022-04-30T04:57:08.866Z"
   },
   {
    "duration": 141,
    "start_time": "2022-04-30T04:57:42.917Z"
   },
   {
    "duration": 105,
    "start_time": "2022-04-30T04:57:51.537Z"
   },
   {
    "duration": 207,
    "start_time": "2022-04-30T04:59:22.077Z"
   },
   {
    "duration": 116,
    "start_time": "2022-04-30T04:59:39.344Z"
   },
   {
    "duration": 113,
    "start_time": "2022-04-30T04:59:48.040Z"
   },
   {
    "duration": 111,
    "start_time": "2022-04-30T05:00:05.398Z"
   },
   {
    "duration": 114,
    "start_time": "2022-04-30T05:00:49.527Z"
   },
   {
    "duration": 499,
    "start_time": "2022-04-30T06:28:54.528Z"
   },
   {
    "duration": 536,
    "start_time": "2022-04-30T06:29:16.820Z"
   },
   {
    "duration": 49,
    "start_time": "2022-05-03T05:00:11.561Z"
   },
   {
    "duration": 6,
    "start_time": "2022-05-03T05:01:29.342Z"
   },
   {
    "duration": 1290,
    "start_time": "2022-05-03T05:01:37.503Z"
   },
   {
    "duration": 400,
    "start_time": "2022-05-03T05:01:38.795Z"
   },
   {
    "duration": 24,
    "start_time": "2022-05-03T05:01:39.197Z"
   },
   {
    "duration": 31,
    "start_time": "2022-05-03T05:01:39.223Z"
   },
   {
    "duration": 24,
    "start_time": "2022-05-03T05:01:39.256Z"
   },
   {
    "duration": 27,
    "start_time": "2022-05-03T05:01:39.281Z"
   },
   {
    "duration": 15,
    "start_time": "2022-05-03T05:01:39.334Z"
   },
   {
    "duration": 9,
    "start_time": "2022-05-03T05:01:39.350Z"
   },
   {
    "duration": 7,
    "start_time": "2022-05-03T05:01:39.361Z"
   },
   {
    "duration": 7,
    "start_time": "2022-05-03T05:01:39.370Z"
   },
   {
    "duration": 8,
    "start_time": "2022-05-03T05:01:39.379Z"
   },
   {
    "duration": 57,
    "start_time": "2022-05-03T05:01:39.389Z"
   },
   {
    "duration": 5,
    "start_time": "2022-05-03T05:01:39.448Z"
   },
   {
    "duration": 8,
    "start_time": "2022-05-03T05:01:39.457Z"
   },
   {
    "duration": 27,
    "start_time": "2022-05-03T05:01:39.467Z"
   },
   {
    "duration": 4,
    "start_time": "2022-05-03T05:01:39.496Z"
   },
   {
    "duration": 6,
    "start_time": "2022-05-03T05:01:39.502Z"
   },
   {
    "duration": 46,
    "start_time": "2022-05-03T05:01:39.510Z"
   },
   {
    "duration": 5,
    "start_time": "2022-05-03T05:01:39.557Z"
   },
   {
    "duration": 6,
    "start_time": "2022-05-03T05:01:39.564Z"
   },
   {
    "duration": 16,
    "start_time": "2022-05-03T05:01:39.572Z"
   },
   {
    "duration": 8,
    "start_time": "2022-05-03T05:01:39.590Z"
   },
   {
    "duration": 41,
    "start_time": "2022-05-03T05:01:39.600Z"
   },
   {
    "duration": 5,
    "start_time": "2022-05-03T05:01:39.643Z"
   },
   {
    "duration": 5,
    "start_time": "2022-05-03T05:01:39.650Z"
   },
   {
    "duration": 22,
    "start_time": "2022-05-03T05:01:39.657Z"
   },
   {
    "duration": 66,
    "start_time": "2022-05-03T05:01:39.681Z"
   },
   {
    "duration": 19,
    "start_time": "2022-05-03T05:01:39.749Z"
   },
   {
    "duration": 22,
    "start_time": "2022-05-03T05:01:39.770Z"
   },
   {
    "duration": 8,
    "start_time": "2022-05-03T05:01:39.794Z"
   },
   {
    "duration": 43,
    "start_time": "2022-05-03T05:01:39.803Z"
   },
   {
    "duration": 7,
    "start_time": "2022-05-03T05:01:39.848Z"
   },
   {
    "duration": 20,
    "start_time": "2022-05-03T05:01:39.856Z"
   },
   {
    "duration": 7,
    "start_time": "2022-05-03T05:01:39.878Z"
   },
   {
    "duration": 12,
    "start_time": "2022-05-03T05:01:39.886Z"
   },
   {
    "duration": 36,
    "start_time": "2022-05-03T05:01:39.899Z"
   },
   {
    "duration": 9,
    "start_time": "2022-05-03T05:01:39.937Z"
   },
   {
    "duration": 9,
    "start_time": "2022-05-03T05:01:39.947Z"
   },
   {
    "duration": 12,
    "start_time": "2022-05-03T05:01:39.958Z"
   },
   {
    "duration": 15,
    "start_time": "2022-05-03T05:01:39.972Z"
   },
   {
    "duration": 14,
    "start_time": "2022-05-03T05:01:39.992Z"
   },
   {
    "duration": 29,
    "start_time": "2022-05-03T05:01:40.007Z"
   },
   {
    "duration": 18,
    "start_time": "2022-05-03T05:01:40.037Z"
   },
   {
    "duration": 15,
    "start_time": "2022-05-03T05:01:40.056Z"
   },
   {
    "duration": 3,
    "start_time": "2022-05-03T05:01:40.073Z"
   },
   {
    "duration": 10,
    "start_time": "2022-05-03T05:01:40.077Z"
   },
   {
    "duration": 4,
    "start_time": "2022-05-03T05:01:40.088Z"
   },
   {
    "duration": 8,
    "start_time": "2022-05-03T05:01:40.093Z"
   },
   {
    "duration": 38,
    "start_time": "2022-05-03T05:01:40.102Z"
   },
   {
    "duration": 13,
    "start_time": "2022-05-03T05:01:40.142Z"
   },
   {
    "duration": 7,
    "start_time": "2022-05-03T05:01:40.157Z"
   },
   {
    "duration": 18,
    "start_time": "2022-05-03T05:01:40.165Z"
   },
   {
    "duration": 7,
    "start_time": "2022-05-03T05:01:40.185Z"
   },
   {
    "duration": 7,
    "start_time": "2022-05-03T05:01:40.194Z"
   },
   {
    "duration": 31,
    "start_time": "2022-05-03T05:01:40.203Z"
   },
   {
    "duration": 9,
    "start_time": "2022-05-03T05:01:40.236Z"
   },
   {
    "duration": 167,
    "start_time": "2022-05-03T05:01:40.247Z"
   },
   {
    "duration": 3,
    "start_time": "2022-05-03T05:01:40.416Z"
   },
   {
    "duration": 13,
    "start_time": "2022-05-03T05:01:40.433Z"
   },
   {
    "duration": 14,
    "start_time": "2022-05-03T05:01:40.448Z"
   },
   {
    "duration": 12,
    "start_time": "2022-05-03T05:01:40.463Z"
   },
   {
    "duration": 8,
    "start_time": "2022-05-03T05:01:40.477Z"
   },
   {
    "duration": 18,
    "start_time": "2022-05-03T05:01:40.486Z"
   },
   {
    "duration": 107,
    "start_time": "2022-05-03T05:01:40.505Z"
   },
   {
    "duration": 230,
    "start_time": "2022-05-03T05:01:40.613Z"
   },
   {
    "duration": 212,
    "start_time": "2022-05-03T05:01:40.844Z"
   },
   {
    "duration": 219,
    "start_time": "2022-05-03T05:01:41.058Z"
   },
   {
    "duration": 206,
    "start_time": "2022-05-03T05:01:41.278Z"
   },
   {
    "duration": 4,
    "start_time": "2022-05-03T05:01:41.486Z"
   },
   {
    "duration": 17,
    "start_time": "2022-05-03T05:01:41.492Z"
   },
   {
    "duration": 26,
    "start_time": "2022-05-03T05:01:41.511Z"
   },
   {
    "duration": 16,
    "start_time": "2022-05-03T05:01:41.538Z"
   },
   {
    "duration": 7,
    "start_time": "2022-05-03T05:01:41.555Z"
   },
   {
    "duration": 32,
    "start_time": "2022-05-03T05:01:41.564Z"
   },
   {
    "duration": 55,
    "start_time": "2022-05-03T05:01:41.597Z"
   },
   {
    "duration": 8,
    "start_time": "2022-05-03T05:01:41.653Z"
   },
   {
    "duration": 420,
    "start_time": "2022-05-03T05:01:41.663Z"
   },
   {
    "duration": 329,
    "start_time": "2022-05-03T05:01:42.085Z"
   },
   {
    "duration": 342,
    "start_time": "2022-05-03T05:01:42.416Z"
   },
   {
    "duration": 329,
    "start_time": "2022-05-03T05:01:42.760Z"
   },
   {
    "duration": 8,
    "start_time": "2022-05-03T05:01:43.091Z"
   },
   {
    "duration": 14,
    "start_time": "2022-05-03T05:01:43.101Z"
   },
   {
    "duration": 74,
    "start_time": "2022-05-03T05:01:43.116Z"
   },
   {
    "duration": 0,
    "start_time": "2022-05-03T05:01:43.192Z"
   },
   {
    "duration": 9,
    "start_time": "2022-05-03T05:02:00.052Z"
   },
   {
    "duration": 49,
    "start_time": "2022-05-03T05:03:07.641Z"
   },
   {
    "duration": 1052,
    "start_time": "2022-05-03T05:05:35.867Z"
   },
   {
    "duration": 27,
    "start_time": "2022-05-03T05:10:41.753Z"
   },
   {
    "duration": 220,
    "start_time": "2022-05-03T05:11:27.612Z"
   },
   {
    "duration": 717,
    "start_time": "2022-05-03T05:11:40.545Z"
   },
   {
    "duration": 27,
    "start_time": "2022-05-03T05:11:48.395Z"
   },
   {
    "duration": 29,
    "start_time": "2022-05-03T05:12:21.834Z"
   },
   {
    "duration": 4,
    "start_time": "2022-05-03T05:15:51.472Z"
   },
   {
    "duration": 31,
    "start_time": "2022-05-03T05:16:08.255Z"
   },
   {
    "duration": 233,
    "start_time": "2022-05-03T05:20:22.133Z"
   },
   {
    "duration": 25,
    "start_time": "2022-05-03T05:20:33.523Z"
   },
   {
    "duration": 130,
    "start_time": "2022-05-03T05:21:22.992Z"
   },
   {
    "duration": 354,
    "start_time": "2022-05-03T05:21:38.491Z"
   },
   {
    "duration": 9,
    "start_time": "2022-05-03T05:53:20.876Z"
   },
   {
    "duration": 14,
    "start_time": "2022-05-03T05:54:16.083Z"
   },
   {
    "duration": 164,
    "start_time": "2022-05-03T05:54:24.556Z"
   },
   {
    "duration": 168,
    "start_time": "2022-05-03T05:54:34.882Z"
   },
   {
    "duration": 31,
    "start_time": "2022-05-03T05:54:46.685Z"
   },
   {
    "duration": 10,
    "start_time": "2022-05-03T05:56:49.825Z"
   },
   {
    "duration": 9,
    "start_time": "2022-05-03T06:09:25.613Z"
   },
   {
    "duration": 3,
    "start_time": "2022-05-03T06:09:32.035Z"
   },
   {
    "duration": 4,
    "start_time": "2022-05-03T06:09:40.241Z"
   },
   {
    "duration": 4,
    "start_time": "2022-05-03T06:09:46.305Z"
   },
   {
    "duration": 8,
    "start_time": "2022-05-03T06:10:00.663Z"
   },
   {
    "duration": 3,
    "start_time": "2022-05-03T06:10:13.433Z"
   },
   {
    "duration": 421,
    "start_time": "2022-05-03T06:10:13.438Z"
   },
   {
    "duration": 19,
    "start_time": "2022-05-03T06:10:13.860Z"
   },
   {
    "duration": 35,
    "start_time": "2022-05-03T06:10:13.880Z"
   },
   {
    "duration": 32,
    "start_time": "2022-05-03T06:10:13.918Z"
   },
   {
    "duration": 28,
    "start_time": "2022-05-03T06:10:13.952Z"
   },
   {
    "duration": 17,
    "start_time": "2022-05-03T06:10:13.981Z"
   },
   {
    "duration": 36,
    "start_time": "2022-05-03T06:10:13.999Z"
   },
   {
    "duration": 10,
    "start_time": "2022-05-03T06:10:14.037Z"
   },
   {
    "duration": 8,
    "start_time": "2022-05-03T06:10:14.049Z"
   },
   {
    "duration": 6,
    "start_time": "2022-05-03T06:10:14.058Z"
   },
   {
    "duration": 34,
    "start_time": "2022-05-03T06:10:14.066Z"
   },
   {
    "duration": 5,
    "start_time": "2022-05-03T06:10:14.102Z"
   },
   {
    "duration": 24,
    "start_time": "2022-05-03T06:10:14.110Z"
   },
   {
    "duration": 25,
    "start_time": "2022-05-03T06:10:14.136Z"
   },
   {
    "duration": 5,
    "start_time": "2022-05-03T06:10:14.163Z"
   },
   {
    "duration": 9,
    "start_time": "2022-05-03T06:10:14.169Z"
   },
   {
    "duration": 28,
    "start_time": "2022-05-03T06:10:14.180Z"
   },
   {
    "duration": 26,
    "start_time": "2022-05-03T06:10:14.210Z"
   },
   {
    "duration": 8,
    "start_time": "2022-05-03T06:10:14.238Z"
   },
   {
    "duration": 16,
    "start_time": "2022-05-03T06:10:14.248Z"
   },
   {
    "duration": 9,
    "start_time": "2022-05-03T06:10:14.266Z"
   },
   {
    "duration": 22,
    "start_time": "2022-05-03T06:10:14.277Z"
   },
   {
    "duration": 6,
    "start_time": "2022-05-03T06:10:14.301Z"
   },
   {
    "duration": 25,
    "start_time": "2022-05-03T06:10:14.309Z"
   },
   {
    "duration": 17,
    "start_time": "2022-05-03T06:10:14.335Z"
   },
   {
    "duration": 49,
    "start_time": "2022-05-03T06:10:14.353Z"
   },
   {
    "duration": 38,
    "start_time": "2022-05-03T06:10:14.404Z"
   },
   {
    "duration": 16,
    "start_time": "2022-05-03T06:10:14.444Z"
   },
   {
    "duration": 9,
    "start_time": "2022-05-03T06:10:14.462Z"
   },
   {
    "duration": 21,
    "start_time": "2022-05-03T06:10:14.472Z"
   },
   {
    "duration": 6,
    "start_time": "2022-05-03T06:10:14.495Z"
   },
   {
    "duration": 14,
    "start_time": "2022-05-03T06:10:14.534Z"
   },
   {
    "duration": 7,
    "start_time": "2022-05-03T06:10:14.549Z"
   },
   {
    "duration": 11,
    "start_time": "2022-05-03T06:10:14.557Z"
   },
   {
    "duration": 9,
    "start_time": "2022-05-03T06:10:14.570Z"
   },
   {
    "duration": 10,
    "start_time": "2022-05-03T06:10:14.580Z"
   },
   {
    "duration": 10,
    "start_time": "2022-05-03T06:10:14.592Z"
   },
   {
    "duration": 10,
    "start_time": "2022-05-03T06:10:14.633Z"
   },
   {
    "duration": 14,
    "start_time": "2022-05-03T06:10:14.645Z"
   },
   {
    "duration": 12,
    "start_time": "2022-05-03T06:10:14.665Z"
   },
   {
    "duration": 5,
    "start_time": "2022-05-03T06:10:14.679Z"
   },
   {
    "duration": 10,
    "start_time": "2022-05-03T06:10:14.685Z"
   },
   {
    "duration": 49,
    "start_time": "2022-05-03T06:10:14.697Z"
   },
   {
    "duration": 4,
    "start_time": "2022-05-03T06:10:14.747Z"
   },
   {
    "duration": 13,
    "start_time": "2022-05-03T06:10:14.752Z"
   },
   {
    "duration": 5,
    "start_time": "2022-05-03T06:10:14.767Z"
   },
   {
    "duration": 7,
    "start_time": "2022-05-03T06:10:14.774Z"
   },
   {
    "duration": 15,
    "start_time": "2022-05-03T06:10:14.782Z"
   },
   {
    "duration": 36,
    "start_time": "2022-05-03T06:10:14.799Z"
   },
   {
    "duration": 5,
    "start_time": "2022-05-03T06:10:14.837Z"
   },
   {
    "duration": 17,
    "start_time": "2022-05-03T06:10:14.844Z"
   },
   {
    "duration": 7,
    "start_time": "2022-05-03T06:10:14.863Z"
   },
   {
    "duration": 8,
    "start_time": "2022-05-03T06:10:14.872Z"
   },
   {
    "duration": 5,
    "start_time": "2022-05-03T06:10:14.882Z"
   },
   {
    "duration": 9,
    "start_time": "2022-05-03T06:10:14.888Z"
   },
   {
    "duration": 198,
    "start_time": "2022-05-03T06:10:14.898Z"
   },
   {
    "duration": 4,
    "start_time": "2022-05-03T06:10:15.097Z"
   },
   {
    "duration": 19,
    "start_time": "2022-05-03T06:10:15.102Z"
   },
   {
    "duration": 20,
    "start_time": "2022-05-03T06:10:15.123Z"
   },
   {
    "duration": 13,
    "start_time": "2022-05-03T06:10:15.145Z"
   },
   {
    "duration": 19,
    "start_time": "2022-05-03T06:10:15.160Z"
   },
   {
    "duration": 18,
    "start_time": "2022-05-03T06:10:15.181Z"
   },
   {
    "duration": 90,
    "start_time": "2022-05-03T06:10:15.201Z"
   },
   {
    "duration": 236,
    "start_time": "2022-05-03T06:10:15.293Z"
   },
   {
    "duration": 213,
    "start_time": "2022-05-03T06:10:15.530Z"
   },
   {
    "duration": 222,
    "start_time": "2022-05-03T06:10:15.745Z"
   },
   {
    "duration": 210,
    "start_time": "2022-05-03T06:10:15.969Z"
   },
   {
    "duration": 5,
    "start_time": "2022-05-03T06:10:16.180Z"
   },
   {
    "duration": 13,
    "start_time": "2022-05-03T06:10:16.186Z"
   },
   {
    "duration": 36,
    "start_time": "2022-05-03T06:10:16.200Z"
   },
   {
    "duration": 17,
    "start_time": "2022-05-03T06:10:16.237Z"
   },
   {
    "duration": 7,
    "start_time": "2022-05-03T06:10:16.255Z"
   },
   {
    "duration": 24,
    "start_time": "2022-05-03T06:10:16.264Z"
   },
   {
    "duration": 62,
    "start_time": "2022-05-03T06:10:16.290Z"
   },
   {
    "duration": 8,
    "start_time": "2022-05-03T06:10:16.353Z"
   },
   {
    "duration": 497,
    "start_time": "2022-05-03T06:10:16.362Z"
   },
   {
    "duration": 323,
    "start_time": "2022-05-03T06:10:16.860Z"
   },
   {
    "duration": 360,
    "start_time": "2022-05-03T06:10:17.184Z"
   },
   {
    "duration": 337,
    "start_time": "2022-05-03T06:10:17.545Z"
   },
   {
    "duration": 31,
    "start_time": "2022-05-03T06:10:17.883Z"
   },
   {
    "duration": 22,
    "start_time": "2022-05-03T06:10:17.915Z"
   },
   {
    "duration": 0,
    "start_time": "2022-05-03T06:10:17.938Z"
   },
   {
    "duration": 0,
    "start_time": "2022-05-03T06:10:17.939Z"
   },
   {
    "duration": 0,
    "start_time": "2022-05-03T06:10:17.941Z"
   },
   {
    "duration": 0,
    "start_time": "2022-05-03T06:10:17.942Z"
   },
   {
    "duration": 8,
    "start_time": "2022-05-03T06:10:29.733Z"
   },
   {
    "duration": 8,
    "start_time": "2022-05-03T06:10:49.162Z"
   },
   {
    "duration": 4,
    "start_time": "2022-05-03T06:10:51.403Z"
   },
   {
    "duration": 4,
    "start_time": "2022-05-03T06:10:53.582Z"
   },
   {
    "duration": 227,
    "start_time": "2022-05-03T06:12:20.733Z"
   },
   {
    "duration": 4,
    "start_time": "2022-05-03T06:12:32.141Z"
   },
   {
    "duration": 4,
    "start_time": "2022-05-03T06:12:37.762Z"
   },
   {
    "duration": 4,
    "start_time": "2022-05-03T06:12:40.343Z"
   },
   {
    "duration": 4,
    "start_time": "2022-05-03T06:12:50.093Z"
   },
   {
    "duration": 4,
    "start_time": "2022-05-03T06:12:52.351Z"
   },
   {
    "duration": 4,
    "start_time": "2022-05-03T06:13:04.662Z"
   },
   {
    "duration": 4,
    "start_time": "2022-05-03T06:13:06.533Z"
   },
   {
    "duration": 163,
    "start_time": "2022-05-03T06:13:26.382Z"
   },
   {
    "duration": 4,
    "start_time": "2022-05-03T06:13:33.292Z"
   },
   {
    "duration": 3,
    "start_time": "2022-05-03T06:13:35.342Z"
   },
   {
    "duration": 30,
    "start_time": "2022-05-03T06:17:17.032Z"
   },
   {
    "duration": 32,
    "start_time": "2022-05-03T06:18:22.811Z"
   },
   {
    "duration": 193,
    "start_time": "2022-05-03T06:22:16.049Z"
   },
   {
    "duration": 788,
    "start_time": "2022-05-03T06:22:21.450Z"
   },
   {
    "duration": 521,
    "start_time": "2022-05-03T06:23:20.351Z"
   },
   {
    "duration": 652,
    "start_time": "2022-05-03T06:23:50.439Z"
   },
   {
    "duration": 393,
    "start_time": "2022-05-03T06:24:20.251Z"
   },
   {
    "duration": 250,
    "start_time": "2022-05-03T06:25:07.021Z"
   },
   {
    "duration": 389,
    "start_time": "2022-05-03T06:25:25.734Z"
   },
   {
    "duration": 161,
    "start_time": "2022-05-03T06:26:39.921Z"
   },
   {
    "duration": 4,
    "start_time": "2022-05-03T06:26:55.268Z"
   },
   {
    "duration": 374,
    "start_time": "2022-05-03T06:26:59.401Z"
   },
   {
    "duration": 3,
    "start_time": "2022-05-03T06:40:33.119Z"
   },
   {
    "duration": 13,
    "start_time": "2022-05-03T06:40:54.609Z"
   },
   {
    "duration": 12,
    "start_time": "2022-05-03T06:41:48.019Z"
   },
   {
    "duration": 115,
    "start_time": "2022-05-03T15:47:03.173Z"
   },
   {
    "duration": 2356,
    "start_time": "2022-05-03T15:47:09.868Z"
   },
   {
    "duration": 718,
    "start_time": "2022-05-03T15:47:12.227Z"
   },
   {
    "duration": 33,
    "start_time": "2022-05-03T15:47:12.947Z"
   },
   {
    "duration": 43,
    "start_time": "2022-05-03T15:47:12.983Z"
   },
   {
    "duration": 56,
    "start_time": "2022-05-03T15:47:13.028Z"
   },
   {
    "duration": 72,
    "start_time": "2022-05-03T15:47:13.086Z"
   },
   {
    "duration": 25,
    "start_time": "2022-05-03T15:47:13.161Z"
   },
   {
    "duration": 6,
    "start_time": "2022-05-03T15:47:13.188Z"
   },
   {
    "duration": 11,
    "start_time": "2022-05-03T15:47:13.197Z"
   },
   {
    "duration": 43,
    "start_time": "2022-05-03T15:47:13.212Z"
   },
   {
    "duration": 9,
    "start_time": "2022-05-03T15:47:13.257Z"
   },
   {
    "duration": 49,
    "start_time": "2022-05-03T15:47:13.268Z"
   },
   {
    "duration": 7,
    "start_time": "2022-05-03T15:47:13.319Z"
   },
   {
    "duration": 6,
    "start_time": "2022-05-03T15:47:13.353Z"
   },
   {
    "duration": 34,
    "start_time": "2022-05-03T15:47:13.361Z"
   },
   {
    "duration": 7,
    "start_time": "2022-05-03T15:47:13.397Z"
   },
   {
    "duration": 44,
    "start_time": "2022-05-03T15:47:13.407Z"
   },
   {
    "duration": 56,
    "start_time": "2022-05-03T15:47:13.454Z"
   },
   {
    "duration": 9,
    "start_time": "2022-05-03T15:47:13.513Z"
   },
   {
    "duration": 30,
    "start_time": "2022-05-03T15:47:13.525Z"
   },
   {
    "duration": 22,
    "start_time": "2022-05-03T15:47:13.558Z"
   },
   {
    "duration": 13,
    "start_time": "2022-05-03T15:47:13.582Z"
   },
   {
    "duration": 29,
    "start_time": "2022-05-03T15:47:13.597Z"
   },
   {
    "duration": 31,
    "start_time": "2022-05-03T15:47:13.628Z"
   },
   {
    "duration": 5,
    "start_time": "2022-05-03T15:47:13.661Z"
   },
   {
    "duration": 15,
    "start_time": "2022-05-03T15:47:13.668Z"
   },
   {
    "duration": 103,
    "start_time": "2022-05-03T15:47:13.685Z"
   },
   {
    "duration": 27,
    "start_time": "2022-05-03T15:47:13.795Z"
   },
   {
    "duration": 45,
    "start_time": "2022-05-03T15:47:13.824Z"
   },
   {
    "duration": 11,
    "start_time": "2022-05-03T15:47:13.871Z"
   },
   {
    "duration": 27,
    "start_time": "2022-05-03T15:47:13.884Z"
   },
   {
    "duration": 10,
    "start_time": "2022-05-03T15:47:13.913Z"
   },
   {
    "duration": 31,
    "start_time": "2022-05-03T15:47:13.952Z"
   },
   {
    "duration": 12,
    "start_time": "2022-05-03T15:47:13.985Z"
   },
   {
    "duration": 14,
    "start_time": "2022-05-03T15:47:14.000Z"
   },
   {
    "duration": 48,
    "start_time": "2022-05-03T15:47:14.017Z"
   },
   {
    "duration": 16,
    "start_time": "2022-05-03T15:47:14.067Z"
   },
   {
    "duration": 18,
    "start_time": "2022-05-03T15:47:14.086Z"
   },
   {
    "duration": 19,
    "start_time": "2022-05-03T15:47:14.106Z"
   },
   {
    "duration": 30,
    "start_time": "2022-05-03T15:47:14.153Z"
   },
   {
    "duration": 25,
    "start_time": "2022-05-03T15:47:14.186Z"
   },
   {
    "duration": 6,
    "start_time": "2022-05-03T15:47:14.213Z"
   },
   {
    "duration": 44,
    "start_time": "2022-05-03T15:47:14.221Z"
   },
   {
    "duration": 39,
    "start_time": "2022-05-03T15:47:14.268Z"
   },
   {
    "duration": 6,
    "start_time": "2022-05-03T15:47:14.310Z"
   },
   {
    "duration": 35,
    "start_time": "2022-05-03T15:47:14.319Z"
   },
   {
    "duration": 8,
    "start_time": "2022-05-03T15:47:14.357Z"
   },
   {
    "duration": 9,
    "start_time": "2022-05-03T15:47:14.369Z"
   },
   {
    "duration": 28,
    "start_time": "2022-05-03T15:47:14.380Z"
   },
   {
    "duration": 54,
    "start_time": "2022-05-03T15:47:14.411Z"
   },
   {
    "duration": 6,
    "start_time": "2022-05-03T15:47:14.467Z"
   },
   {
    "duration": 30,
    "start_time": "2022-05-03T15:47:14.475Z"
   },
   {
    "duration": 45,
    "start_time": "2022-05-03T15:47:14.508Z"
   },
   {
    "duration": 39,
    "start_time": "2022-05-03T15:47:14.556Z"
   },
   {
    "duration": 34,
    "start_time": "2022-05-03T15:47:14.615Z"
   },
   {
    "duration": 12,
    "start_time": "2022-05-03T15:47:14.651Z"
   },
   {
    "duration": 480,
    "start_time": "2022-05-03T15:47:14.665Z"
   },
   {
    "duration": 5,
    "start_time": "2022-05-03T15:47:15.148Z"
   },
   {
    "duration": 34,
    "start_time": "2022-05-03T15:47:15.155Z"
   },
   {
    "duration": 27,
    "start_time": "2022-05-03T15:47:15.191Z"
   },
   {
    "duration": 52,
    "start_time": "2022-05-03T15:47:15.221Z"
   },
   {
    "duration": 12,
    "start_time": "2022-05-03T15:47:15.276Z"
   },
   {
    "duration": 26,
    "start_time": "2022-05-03T15:47:15.291Z"
   },
   {
    "duration": 173,
    "start_time": "2022-05-03T15:47:15.320Z"
   },
   {
    "duration": 362,
    "start_time": "2022-05-03T15:47:15.496Z"
   },
   {
    "duration": 344,
    "start_time": "2022-05-03T15:47:15.861Z"
   },
   {
    "duration": 373,
    "start_time": "2022-05-03T15:47:16.208Z"
   },
   {
    "duration": 350,
    "start_time": "2022-05-03T15:47:16.584Z"
   },
   {
    "duration": 15,
    "start_time": "2022-05-03T15:47:16.937Z"
   },
   {
    "duration": 25,
    "start_time": "2022-05-03T15:47:16.955Z"
   },
   {
    "duration": 40,
    "start_time": "2022-05-03T15:47:16.982Z"
   },
   {
    "duration": 37,
    "start_time": "2022-05-03T15:47:17.024Z"
   },
   {
    "duration": 10,
    "start_time": "2022-05-03T15:47:17.063Z"
   },
   {
    "duration": 35,
    "start_time": "2022-05-03T15:47:17.076Z"
   },
   {
    "duration": 82,
    "start_time": "2022-05-03T15:47:17.114Z"
   },
   {
    "duration": 12,
    "start_time": "2022-05-03T15:47:17.198Z"
   },
   {
    "duration": 565,
    "start_time": "2022-05-03T15:47:17.213Z"
   },
   {
    "duration": 500,
    "start_time": "2022-05-03T15:47:17.780Z"
   },
   {
    "duration": 623,
    "start_time": "2022-05-03T15:47:18.284Z"
   },
   {
    "duration": 660,
    "start_time": "2022-05-03T15:47:18.910Z"
   },
   {
    "duration": 62,
    "start_time": "2022-05-03T15:47:19.572Z"
   },
   {
    "duration": 30,
    "start_time": "2022-05-03T15:47:19.661Z"
   },
   {
    "duration": 18,
    "start_time": "2022-05-03T15:47:19.694Z"
   },
   {
    "duration": 179,
    "start_time": "2022-05-03T15:47:19.715Z"
   },
   {
    "duration": 2135,
    "start_time": "2022-05-03T15:48:10.417Z"
   },
   {
    "duration": 13,
    "start_time": "2022-05-03T15:48:26.400Z"
   },
   {
    "duration": 19,
    "start_time": "2022-05-03T15:49:21.117Z"
   },
   {
    "duration": 1465,
    "start_time": "2022-05-03T15:49:54.359Z"
   },
   {
    "duration": 14,
    "start_time": "2022-05-03T15:50:11.639Z"
   },
   {
    "duration": 12,
    "start_time": "2022-05-03T15:50:28.788Z"
   },
   {
    "duration": 10,
    "start_time": "2022-05-03T16:01:50.241Z"
   },
   {
    "duration": 1047,
    "start_time": "2022-05-03T16:02:44.157Z"
   },
   {
    "duration": 14,
    "start_time": "2022-05-03T16:02:57.401Z"
   },
   {
    "duration": 1746,
    "start_time": "2022-05-03T16:03:15.941Z"
   },
   {
    "duration": 4,
    "start_time": "2022-05-03T16:03:27.043Z"
   },
   {
    "duration": 8,
    "start_time": "2022-05-03T16:03:31.270Z"
   },
   {
    "duration": 8,
    "start_time": "2022-05-03T16:03:44.079Z"
   },
   {
    "duration": 7,
    "start_time": "2022-05-03T16:04:20.330Z"
   },
   {
    "duration": 5,
    "start_time": "2022-05-03T16:21:58.509Z"
   },
   {
    "duration": 8,
    "start_time": "2022-05-03T16:23:53.879Z"
   },
   {
    "duration": 9,
    "start_time": "2022-05-03T16:24:40.099Z"
   },
   {
    "duration": 8,
    "start_time": "2022-05-03T16:25:13.300Z"
   },
   {
    "duration": 8,
    "start_time": "2022-05-03T16:25:46.658Z"
   },
   {
    "duration": 9,
    "start_time": "2022-05-03T16:27:57.969Z"
   },
   {
    "duration": 7,
    "start_time": "2022-05-03T16:28:15.376Z"
   },
   {
    "duration": 7,
    "start_time": "2022-05-03T16:28:29.368Z"
   },
   {
    "duration": 8,
    "start_time": "2022-05-03T16:31:56.928Z"
   },
   {
    "duration": 56,
    "start_time": "2022-05-04T04:00:06.130Z"
   },
   {
    "duration": 1338,
    "start_time": "2022-05-04T04:00:11.566Z"
   },
   {
    "duration": 414,
    "start_time": "2022-05-04T04:00:12.906Z"
   },
   {
    "duration": 21,
    "start_time": "2022-05-04T04:00:13.322Z"
   },
   {
    "duration": 41,
    "start_time": "2022-05-04T04:00:13.349Z"
   },
   {
    "duration": 21,
    "start_time": "2022-05-04T04:00:13.392Z"
   },
   {
    "duration": 51,
    "start_time": "2022-05-04T04:00:13.415Z"
   },
   {
    "duration": 22,
    "start_time": "2022-05-04T04:00:13.467Z"
   },
   {
    "duration": 5,
    "start_time": "2022-05-04T04:00:13.491Z"
   },
   {
    "duration": 8,
    "start_time": "2022-05-04T04:00:13.497Z"
   },
   {
    "duration": 7,
    "start_time": "2022-05-04T04:00:13.507Z"
   },
   {
    "duration": 7,
    "start_time": "2022-05-04T04:00:13.515Z"
   },
   {
    "duration": 66,
    "start_time": "2022-05-04T04:00:13.524Z"
   },
   {
    "duration": 6,
    "start_time": "2022-05-04T04:00:13.591Z"
   },
   {
    "duration": 5,
    "start_time": "2022-05-04T04:00:13.601Z"
   },
   {
    "duration": 53,
    "start_time": "2022-05-04T04:00:13.607Z"
   },
   {
    "duration": 10,
    "start_time": "2022-05-04T04:00:13.662Z"
   },
   {
    "duration": 9,
    "start_time": "2022-05-04T04:00:13.674Z"
   },
   {
    "duration": 26,
    "start_time": "2022-05-04T04:00:13.684Z"
   },
   {
    "duration": 5,
    "start_time": "2022-05-04T04:00:13.711Z"
   },
   {
    "duration": 7,
    "start_time": "2022-05-04T04:00:13.717Z"
   },
   {
    "duration": 37,
    "start_time": "2022-05-04T04:00:13.725Z"
   },
   {
    "duration": 14,
    "start_time": "2022-05-04T04:00:13.764Z"
   },
   {
    "duration": 19,
    "start_time": "2022-05-04T04:00:13.779Z"
   },
   {
    "duration": 5,
    "start_time": "2022-05-04T04:00:13.800Z"
   },
   {
    "duration": 6,
    "start_time": "2022-05-04T04:00:13.807Z"
   },
   {
    "duration": 12,
    "start_time": "2022-05-04T04:00:13.814Z"
   },
   {
    "duration": 72,
    "start_time": "2022-05-04T04:00:13.828Z"
   },
   {
    "duration": 20,
    "start_time": "2022-05-04T04:00:13.902Z"
   },
   {
    "duration": 26,
    "start_time": "2022-05-04T04:00:13.954Z"
   },
   {
    "duration": 7,
    "start_time": "2022-05-04T04:00:13.982Z"
   },
   {
    "duration": 19,
    "start_time": "2022-05-04T04:00:13.991Z"
   },
   {
    "duration": 8,
    "start_time": "2022-05-04T04:00:14.011Z"
   },
   {
    "duration": 43,
    "start_time": "2022-05-04T04:00:14.020Z"
   },
   {
    "duration": 9,
    "start_time": "2022-05-04T04:00:14.064Z"
   },
   {
    "duration": 13,
    "start_time": "2022-05-04T04:00:14.074Z"
   },
   {
    "duration": 8,
    "start_time": "2022-05-04T04:00:14.089Z"
   },
   {
    "duration": 8,
    "start_time": "2022-05-04T04:00:14.098Z"
   },
   {
    "duration": 10,
    "start_time": "2022-05-04T04:00:14.108Z"
   },
   {
    "duration": 36,
    "start_time": "2022-05-04T04:00:14.120Z"
   },
   {
    "duration": 19,
    "start_time": "2022-05-04T04:00:14.157Z"
   },
   {
    "duration": 13,
    "start_time": "2022-05-04T04:00:14.182Z"
   },
   {
    "duration": 5,
    "start_time": "2022-05-04T04:00:14.197Z"
   },
   {
    "duration": 11,
    "start_time": "2022-05-04T04:00:14.203Z"
   },
   {
    "duration": 44,
    "start_time": "2022-05-04T04:00:14.216Z"
   },
   {
    "duration": 5,
    "start_time": "2022-05-04T04:00:14.261Z"
   },
   {
    "duration": 18,
    "start_time": "2022-05-04T04:00:14.268Z"
   },
   {
    "duration": 4,
    "start_time": "2022-05-04T04:00:14.287Z"
   },
   {
    "duration": 5,
    "start_time": "2022-05-04T04:00:14.293Z"
   },
   {
    "duration": 11,
    "start_time": "2022-05-04T04:00:14.300Z"
   },
   {
    "duration": 12,
    "start_time": "2022-05-04T04:00:14.312Z"
   },
   {
    "duration": 25,
    "start_time": "2022-05-04T04:00:14.326Z"
   },
   {
    "duration": 17,
    "start_time": "2022-05-04T04:00:14.354Z"
   },
   {
    "duration": 5,
    "start_time": "2022-05-04T04:00:14.373Z"
   },
   {
    "duration": 7,
    "start_time": "2022-05-04T04:00:14.379Z"
   },
   {
    "duration": 5,
    "start_time": "2022-05-04T04:00:14.388Z"
   },
   {
    "duration": 8,
    "start_time": "2022-05-04T04:00:14.394Z"
   },
   {
    "duration": 194,
    "start_time": "2022-05-04T04:00:14.403Z"
   },
   {
    "duration": 3,
    "start_time": "2022-05-04T04:00:14.599Z"
   },
   {
    "duration": 15,
    "start_time": "2022-05-04T04:00:14.603Z"
   },
   {
    "duration": 12,
    "start_time": "2022-05-04T04:00:14.620Z"
   },
   {
    "duration": 32,
    "start_time": "2022-05-04T04:00:14.634Z"
   },
   {
    "duration": 12,
    "start_time": "2022-05-04T04:00:14.669Z"
   },
   {
    "duration": 15,
    "start_time": "2022-05-04T04:00:14.682Z"
   },
   {
    "duration": 107,
    "start_time": "2022-05-04T04:00:14.699Z"
   },
   {
    "duration": 207,
    "start_time": "2022-05-04T04:00:14.808Z"
   },
   {
    "duration": 213,
    "start_time": "2022-05-04T04:00:15.017Z"
   },
   {
    "duration": 210,
    "start_time": "2022-05-04T04:00:15.232Z"
   },
   {
    "duration": 194,
    "start_time": "2022-05-04T04:00:15.448Z"
   },
   {
    "duration": 5,
    "start_time": "2022-05-04T04:00:15.648Z"
   },
   {
    "duration": 14,
    "start_time": "2022-05-04T04:00:15.654Z"
   },
   {
    "duration": 23,
    "start_time": "2022-05-04T04:00:15.672Z"
   },
   {
    "duration": 16,
    "start_time": "2022-05-04T04:00:15.697Z"
   },
   {
    "duration": 7,
    "start_time": "2022-05-04T04:00:15.715Z"
   },
   {
    "duration": 45,
    "start_time": "2022-05-04T04:00:15.724Z"
   },
   {
    "duration": 46,
    "start_time": "2022-05-04T04:00:15.770Z"
   },
   {
    "duration": 7,
    "start_time": "2022-05-04T04:00:15.817Z"
   },
   {
    "duration": 378,
    "start_time": "2022-05-04T04:00:15.825Z"
   },
   {
    "duration": 460,
    "start_time": "2022-05-04T04:00:16.205Z"
   },
   {
    "duration": 324,
    "start_time": "2022-05-04T04:00:16.667Z"
   },
   {
    "duration": 314,
    "start_time": "2022-05-04T04:00:16.992Z"
   },
   {
    "duration": 27,
    "start_time": "2022-05-04T04:00:17.308Z"
   },
   {
    "duration": 19,
    "start_time": "2022-05-04T04:00:17.337Z"
   },
   {
    "duration": 78,
    "start_time": "2022-05-04T04:00:17.358Z"
   },
   {
    "duration": 0,
    "start_time": "2022-05-04T04:00:17.438Z"
   },
   {
    "duration": 5,
    "start_time": "2022-05-04T04:00:55.385Z"
   },
   {
    "duration": 11,
    "start_time": "2022-05-04T04:01:13.572Z"
   },
   {
    "duration": 6,
    "start_time": "2022-05-04T04:05:51.920Z"
   },
   {
    "duration": 10,
    "start_time": "2022-05-04T04:06:17.209Z"
   },
   {
    "duration": 7,
    "start_time": "2022-05-04T04:06:42.329Z"
   },
   {
    "duration": 19,
    "start_time": "2022-05-04T04:07:10.692Z"
   },
   {
    "duration": 8,
    "start_time": "2022-05-04T04:08:40.243Z"
   },
   {
    "duration": 19,
    "start_time": "2022-05-04T04:08:45.282Z"
   },
   {
    "duration": 17,
    "start_time": "2022-05-04T04:08:50.099Z"
   },
   {
    "duration": 11,
    "start_time": "2022-05-04T04:09:21.969Z"
   },
   {
    "duration": 8,
    "start_time": "2022-05-04T04:09:25.262Z"
   },
   {
    "duration": 6,
    "start_time": "2022-05-04T04:09:46.362Z"
   },
   {
    "duration": 13,
    "start_time": "2022-05-04T04:09:48.345Z"
   },
   {
    "duration": 6,
    "start_time": "2022-05-04T04:10:48.809Z"
   },
   {
    "duration": 4,
    "start_time": "2022-05-04T04:10:55.201Z"
   },
   {
    "duration": 6,
    "start_time": "2022-05-04T04:11:03.105Z"
   },
   {
    "duration": 6,
    "start_time": "2022-05-04T04:11:05.289Z"
   },
   {
    "duration": 5,
    "start_time": "2022-05-04T04:11:13.539Z"
   },
   {
    "duration": 6,
    "start_time": "2022-05-04T04:11:21.985Z"
   },
   {
    "duration": 7,
    "start_time": "2022-05-04T04:11:30.050Z"
   },
   {
    "duration": 6,
    "start_time": "2022-05-04T04:12:38.497Z"
   },
   {
    "duration": 5,
    "start_time": "2022-05-04T04:12:52.037Z"
   },
   {
    "duration": 6,
    "start_time": "2022-05-04T04:13:17.717Z"
   },
   {
    "duration": 5,
    "start_time": "2022-05-04T04:13:30.597Z"
   },
   {
    "duration": 90,
    "start_time": "2022-05-04T04:15:09.179Z"
   },
   {
    "duration": 5,
    "start_time": "2022-05-04T04:15:14.171Z"
   },
   {
    "duration": 5,
    "start_time": "2022-05-04T04:15:22.787Z"
   },
   {
    "duration": 5,
    "start_time": "2022-05-04T04:15:26.996Z"
   },
   {
    "duration": 13,
    "start_time": "2022-05-04T04:17:08.868Z"
   },
   {
    "duration": 10,
    "start_time": "2022-05-04T04:25:53.972Z"
   },
   {
    "duration": 5,
    "start_time": "2022-05-04T04:26:07.234Z"
   },
   {
    "duration": 14,
    "start_time": "2022-05-04T04:38:01.885Z"
   },
   {
    "duration": 127,
    "start_time": "2022-05-04T04:40:05.485Z"
   },
   {
    "duration": 13,
    "start_time": "2022-05-04T04:40:15.203Z"
   },
   {
    "duration": 19,
    "start_time": "2022-05-04T04:40:55.774Z"
   },
   {
    "duration": 7,
    "start_time": "2022-05-04T04:41:01.178Z"
   },
   {
    "duration": 3,
    "start_time": "2022-05-04T04:41:12.285Z"
   },
   {
    "duration": 3,
    "start_time": "2022-05-04T04:41:25.013Z"
   },
   {
    "duration": 5,
    "start_time": "2022-05-04T04:42:14.991Z"
   },
   {
    "duration": 4,
    "start_time": "2022-05-04T04:42:31.222Z"
   },
   {
    "duration": 17,
    "start_time": "2022-05-04T04:42:40.753Z"
   },
   {
    "duration": 4,
    "start_time": "2022-05-04T05:23:32.616Z"
   },
   {
    "duration": 4,
    "start_time": "2022-05-04T05:24:09.625Z"
   },
   {
    "duration": 108,
    "start_time": "2022-05-04T05:24:17.715Z"
   },
   {
    "duration": 4,
    "start_time": "2022-05-04T05:24:41.475Z"
   },
   {
    "duration": 4,
    "start_time": "2022-05-04T05:24:46.798Z"
   },
   {
    "duration": 4,
    "start_time": "2022-05-04T05:24:56.463Z"
   },
   {
    "duration": 269,
    "start_time": "2022-05-04T05:25:02.365Z"
   },
   {
    "duration": 4,
    "start_time": "2022-05-04T05:25:05.186Z"
   },
   {
    "duration": 15,
    "start_time": "2022-05-04T05:25:16.186Z"
   },
   {
    "duration": 9,
    "start_time": "2022-05-04T05:25:47.556Z"
   },
   {
    "duration": 4,
    "start_time": "2022-05-04T05:26:07.865Z"
   },
   {
    "duration": 5,
    "start_time": "2022-05-04T05:26:57.750Z"
   },
   {
    "duration": 4,
    "start_time": "2022-05-04T05:27:16.385Z"
   },
   {
    "duration": 6,
    "start_time": "2022-05-04T05:29:47.118Z"
   },
   {
    "duration": 5,
    "start_time": "2022-05-04T05:30:14.428Z"
   },
   {
    "duration": 5,
    "start_time": "2022-05-04T05:30:40.679Z"
   },
   {
    "duration": 5,
    "start_time": "2022-05-04T05:30:53.010Z"
   },
   {
    "duration": 5,
    "start_time": "2022-05-04T05:31:27.220Z"
   },
   {
    "duration": 119,
    "start_time": "2022-05-04T05:31:34.602Z"
   },
   {
    "duration": 5,
    "start_time": "2022-05-04T05:31:45.560Z"
   },
   {
    "duration": 4,
    "start_time": "2022-05-04T05:31:53.070Z"
   },
   {
    "duration": 7,
    "start_time": "2022-05-04T05:32:34.061Z"
   },
   {
    "duration": 9,
    "start_time": "2022-05-04T05:32:54.311Z"
   },
   {
    "duration": 7,
    "start_time": "2022-05-04T05:33:22.339Z"
   },
   {
    "duration": 9,
    "start_time": "2022-05-04T05:33:54.421Z"
   },
   {
    "duration": 9,
    "start_time": "2022-05-04T05:34:01.390Z"
   },
   {
    "duration": 4,
    "start_time": "2022-05-04T05:46:57.832Z"
   },
   {
    "duration": 4,
    "start_time": "2022-05-04T05:47:04.220Z"
   },
   {
    "duration": 4,
    "start_time": "2022-05-04T05:48:06.740Z"
   },
   {
    "duration": 8,
    "start_time": "2022-05-04T06:00:31.973Z"
   },
   {
    "duration": 7,
    "start_time": "2022-05-04T06:00:45.278Z"
   },
   {
    "duration": 4,
    "start_time": "2022-05-04T06:02:46.238Z"
   },
   {
    "duration": 6,
    "start_time": "2022-05-04T06:02:56.879Z"
   },
   {
    "duration": 121,
    "start_time": "2022-05-04T06:03:28.781Z"
   },
   {
    "duration": 6,
    "start_time": "2022-05-04T06:03:33.741Z"
   },
   {
    "duration": 5,
    "start_time": "2022-05-04T06:03:41.982Z"
   },
   {
    "duration": 121,
    "start_time": "2022-05-04T06:04:05.039Z"
   },
   {
    "duration": 6,
    "start_time": "2022-05-04T06:04:09.661Z"
   },
   {
    "duration": 4,
    "start_time": "2022-05-04T06:04:29.022Z"
   },
   {
    "duration": 5,
    "start_time": "2022-05-04T06:04:38.877Z"
   },
   {
    "duration": 5,
    "start_time": "2022-05-04T06:04:50.009Z"
   },
   {
    "duration": 5,
    "start_time": "2022-05-04T06:05:13.022Z"
   },
   {
    "duration": 4,
    "start_time": "2022-05-04T06:06:40.222Z"
   },
   {
    "duration": 5,
    "start_time": "2022-05-04T06:06:48.952Z"
   },
   {
    "duration": 75,
    "start_time": "2022-05-29T12:56:03.248Z"
   },
   {
    "duration": 1852,
    "start_time": "2022-05-29T12:56:06.626Z"
   },
   {
    "duration": 2156,
    "start_time": "2022-05-29T12:56:08.481Z"
   },
   {
    "duration": 34,
    "start_time": "2022-05-29T12:56:10.639Z"
   },
   {
    "duration": 47,
    "start_time": "2022-05-29T12:56:10.676Z"
   },
   {
    "duration": 31,
    "start_time": "2022-05-29T12:56:10.725Z"
   },
   {
    "duration": 65,
    "start_time": "2022-05-29T12:56:10.757Z"
   },
   {
    "duration": 23,
    "start_time": "2022-05-29T12:56:10.824Z"
   },
   {
    "duration": 7,
    "start_time": "2022-05-29T12:56:10.849Z"
   },
   {
    "duration": 9,
    "start_time": "2022-05-29T12:56:10.858Z"
   },
   {
    "duration": 16,
    "start_time": "2022-05-29T12:56:10.871Z"
   },
   {
    "duration": 32,
    "start_time": "2022-05-29T12:56:10.889Z"
   },
   {
    "duration": 56,
    "start_time": "2022-05-29T12:56:10.924Z"
   },
   {
    "duration": 7,
    "start_time": "2022-05-29T12:56:10.982Z"
   },
   {
    "duration": 16,
    "start_time": "2022-05-29T12:56:10.991Z"
   },
   {
    "duration": 32,
    "start_time": "2022-05-29T12:56:11.013Z"
   },
   {
    "duration": 7,
    "start_time": "2022-05-29T12:56:11.048Z"
   },
   {
    "duration": 7,
    "start_time": "2022-05-29T12:56:11.057Z"
   },
   {
    "duration": 31,
    "start_time": "2022-05-29T12:56:11.066Z"
   },
   {
    "duration": 7,
    "start_time": "2022-05-29T12:56:11.099Z"
   },
   {
    "duration": 9,
    "start_time": "2022-05-29T12:56:11.109Z"
   },
   {
    "duration": 21,
    "start_time": "2022-05-29T12:56:11.120Z"
   },
   {
    "duration": 9,
    "start_time": "2022-05-29T12:56:11.143Z"
   },
   {
    "duration": 45,
    "start_time": "2022-05-29T12:56:11.153Z"
   },
   {
    "duration": 12,
    "start_time": "2022-05-29T12:56:11.200Z"
   },
   {
    "duration": 15,
    "start_time": "2022-05-29T12:56:11.215Z"
   },
   {
    "duration": 15,
    "start_time": "2022-05-29T12:56:11.231Z"
   },
   {
    "duration": 74,
    "start_time": "2022-05-29T12:56:11.249Z"
   },
   {
    "duration": 25,
    "start_time": "2022-05-29T12:56:11.328Z"
   },
   {
    "duration": 55,
    "start_time": "2022-05-29T12:56:11.355Z"
   },
   {
    "duration": 13,
    "start_time": "2022-05-29T12:56:11.413Z"
   },
   {
    "duration": 26,
    "start_time": "2022-05-29T12:56:11.429Z"
   },
   {
    "duration": 9,
    "start_time": "2022-05-29T12:56:11.457Z"
   },
   {
    "duration": 54,
    "start_time": "2022-05-29T12:56:11.468Z"
   },
   {
    "duration": 10,
    "start_time": "2022-05-29T12:56:11.525Z"
   },
   {
    "duration": 18,
    "start_time": "2022-05-29T12:56:11.537Z"
   },
   {
    "duration": 10,
    "start_time": "2022-05-29T12:56:11.557Z"
   },
   {
    "duration": 31,
    "start_time": "2022-05-29T12:56:11.569Z"
   },
   {
    "duration": 17,
    "start_time": "2022-05-29T12:56:11.602Z"
   },
   {
    "duration": 13,
    "start_time": "2022-05-29T12:56:11.622Z"
   },
   {
    "duration": 24,
    "start_time": "2022-05-29T12:56:11.637Z"
   },
   {
    "duration": 32,
    "start_time": "2022-05-29T12:56:11.663Z"
   },
   {
    "duration": 27,
    "start_time": "2022-05-29T12:56:11.698Z"
   },
   {
    "duration": 8,
    "start_time": "2022-05-29T12:56:11.727Z"
   },
   {
    "duration": 17,
    "start_time": "2022-05-29T12:56:11.737Z"
   },
   {
    "duration": 4,
    "start_time": "2022-05-29T12:56:11.756Z"
   },
   {
    "duration": 12,
    "start_time": "2022-05-29T12:56:11.762Z"
   },
   {
    "duration": 4,
    "start_time": "2022-05-29T12:56:11.776Z"
   },
   {
    "duration": 14,
    "start_time": "2022-05-29T12:56:11.797Z"
   },
   {
    "duration": 18,
    "start_time": "2022-05-29T12:56:11.815Z"
   },
   {
    "duration": 15,
    "start_time": "2022-05-29T12:56:11.835Z"
   },
   {
    "duration": 10,
    "start_time": "2022-05-29T12:56:11.851Z"
   },
   {
    "duration": 17,
    "start_time": "2022-05-29T12:56:11.863Z"
   },
   {
    "duration": 24,
    "start_time": "2022-05-29T12:56:11.882Z"
   },
   {
    "duration": 17,
    "start_time": "2022-05-29T12:56:11.908Z"
   },
   {
    "duration": 10,
    "start_time": "2022-05-29T12:56:11.927Z"
   },
   {
    "duration": 10,
    "start_time": "2022-05-29T12:56:11.939Z"
   },
   {
    "duration": 214,
    "start_time": "2022-05-29T12:56:11.951Z"
   },
   {
    "duration": 4,
    "start_time": "2022-05-29T12:56:12.167Z"
   },
   {
    "duration": 26,
    "start_time": "2022-05-29T12:56:12.173Z"
   },
   {
    "duration": 44,
    "start_time": "2022-05-29T12:56:12.201Z"
   },
   {
    "duration": 17,
    "start_time": "2022-05-29T12:56:12.247Z"
   },
   {
    "duration": 11,
    "start_time": "2022-05-29T12:56:12.266Z"
   },
   {
    "duration": 45,
    "start_time": "2022-05-29T12:56:12.280Z"
   },
   {
    "duration": 119,
    "start_time": "2022-05-29T12:56:12.327Z"
   },
   {
    "duration": 370,
    "start_time": "2022-05-29T12:56:12.449Z"
   },
   {
    "duration": 268,
    "start_time": "2022-05-29T12:56:12.821Z"
   },
   {
    "duration": 356,
    "start_time": "2022-05-29T12:56:13.090Z"
   },
   {
    "duration": 311,
    "start_time": "2022-05-29T12:56:13.448Z"
   },
   {
    "duration": 6,
    "start_time": "2022-05-29T12:56:13.761Z"
   },
   {
    "duration": 27,
    "start_time": "2022-05-29T12:56:13.769Z"
   },
   {
    "duration": 35,
    "start_time": "2022-05-29T12:56:13.798Z"
   },
   {
    "duration": 25,
    "start_time": "2022-05-29T12:56:13.834Z"
   },
   {
    "duration": 7,
    "start_time": "2022-05-29T12:56:13.861Z"
   },
   {
    "duration": 41,
    "start_time": "2022-05-29T12:56:13.870Z"
   },
   {
    "duration": 50,
    "start_time": "2022-05-29T12:56:13.918Z"
   },
   {
    "duration": 8,
    "start_time": "2022-05-29T12:56:13.970Z"
   },
   {
    "duration": 467,
    "start_time": "2022-05-29T12:56:13.999Z"
   },
   {
    "duration": 412,
    "start_time": "2022-05-29T12:56:14.468Z"
   },
   {
    "duration": 408,
    "start_time": "2022-05-29T12:56:14.882Z"
   },
   {
    "duration": 468,
    "start_time": "2022-05-29T12:56:15.292Z"
   },
   {
    "duration": 60,
    "start_time": "2022-05-29T12:56:15.762Z"
   },
   {
    "duration": 7,
    "start_time": "2022-05-29T12:56:15.830Z"
   },
   {
    "duration": 16,
    "start_time": "2022-05-29T12:56:15.839Z"
   },
   {
    "duration": 11,
    "start_time": "2022-05-29T12:56:15.857Z"
   },
   {
    "duration": 7,
    "start_time": "2022-05-29T12:56:15.870Z"
   },
   {
    "duration": 8,
    "start_time": "2022-05-29T12:56:15.899Z"
   },
   {
    "duration": 17,
    "start_time": "2022-05-29T12:56:15.910Z"
   },
   {
    "duration": 7,
    "start_time": "2022-05-29T12:56:15.929Z"
   },
   {
    "duration": 13,
    "start_time": "2022-05-29T12:56:15.938Z"
   },
   {
    "duration": 4,
    "start_time": "2022-05-29T12:56:15.953Z"
   },
   {
    "duration": 9,
    "start_time": "2022-05-29T12:56:15.959Z"
   },
   {
    "duration": 35,
    "start_time": "2022-05-29T12:56:15.970Z"
   },
   {
    "duration": 7,
    "start_time": "2022-05-29T12:57:24.584Z"
   },
   {
    "duration": 7,
    "start_time": "2022-05-29T12:57:36.842Z"
   },
   {
    "duration": 6,
    "start_time": "2022-05-29T12:57:53.186Z"
   },
   {
    "duration": 43,
    "start_time": "2022-05-29T13:00:08.369Z"
   },
   {
    "duration": 6,
    "start_time": "2022-05-29T13:00:35.315Z"
   },
   {
    "duration": 653,
    "start_time": "2022-05-29T13:00:35.324Z"
   },
   {
    "duration": 34,
    "start_time": "2022-05-29T13:00:35.979Z"
   },
   {
    "duration": 68,
    "start_time": "2022-05-29T13:00:36.015Z"
   },
   {
    "duration": 49,
    "start_time": "2022-05-29T13:00:36.085Z"
   },
   {
    "duration": 30,
    "start_time": "2022-05-29T13:00:36.136Z"
   },
   {
    "duration": 38,
    "start_time": "2022-05-29T13:00:36.168Z"
   },
   {
    "duration": 6,
    "start_time": "2022-05-29T13:00:36.209Z"
   },
   {
    "duration": 34,
    "start_time": "2022-05-29T13:00:36.218Z"
   },
   {
    "duration": 15,
    "start_time": "2022-05-29T13:00:36.254Z"
   },
   {
    "duration": 21,
    "start_time": "2022-05-29T13:00:36.272Z"
   },
   {
    "duration": 61,
    "start_time": "2022-05-29T13:00:36.296Z"
   },
   {
    "duration": 7,
    "start_time": "2022-05-29T13:00:36.359Z"
   },
   {
    "duration": 18,
    "start_time": "2022-05-29T13:00:36.368Z"
   },
   {
    "duration": 35,
    "start_time": "2022-05-29T13:00:36.388Z"
   },
   {
    "duration": 18,
    "start_time": "2022-05-29T13:00:36.425Z"
   },
   {
    "duration": 21,
    "start_time": "2022-05-29T13:00:36.445Z"
   },
   {
    "duration": 40,
    "start_time": "2022-05-29T13:00:36.468Z"
   },
   {
    "duration": 14,
    "start_time": "2022-05-29T13:00:36.509Z"
   },
   {
    "duration": 28,
    "start_time": "2022-05-29T13:00:36.526Z"
   },
   {
    "duration": 29,
    "start_time": "2022-05-29T13:00:36.556Z"
   },
   {
    "duration": 8,
    "start_time": "2022-05-29T13:00:36.588Z"
   },
   {
    "duration": 46,
    "start_time": "2022-05-29T13:00:36.598Z"
   },
   {
    "duration": 8,
    "start_time": "2022-05-29T13:00:36.646Z"
   },
   {
    "duration": 27,
    "start_time": "2022-05-29T13:00:36.656Z"
   },
   {
    "duration": 36,
    "start_time": "2022-05-29T13:00:36.685Z"
   },
   {
    "duration": 83,
    "start_time": "2022-05-29T13:00:36.724Z"
   },
   {
    "duration": 34,
    "start_time": "2022-05-29T13:00:36.809Z"
   },
   {
    "duration": 29,
    "start_time": "2022-05-29T13:00:36.849Z"
   },
   {
    "duration": 23,
    "start_time": "2022-05-29T13:00:36.881Z"
   },
   {
    "duration": 38,
    "start_time": "2022-05-29T13:00:36.906Z"
   },
   {
    "duration": 10,
    "start_time": "2022-05-29T13:00:36.947Z"
   },
   {
    "duration": 18,
    "start_time": "2022-05-29T13:00:36.959Z"
   },
   {
    "duration": 27,
    "start_time": "2022-05-29T13:00:36.979Z"
   },
   {
    "duration": 20,
    "start_time": "2022-05-29T13:00:37.012Z"
   },
   {
    "duration": 40,
    "start_time": "2022-05-29T13:00:37.035Z"
   },
   {
    "duration": 14,
    "start_time": "2022-05-29T13:00:37.076Z"
   },
   {
    "duration": 28,
    "start_time": "2022-05-29T13:00:37.093Z"
   },
   {
    "duration": 29,
    "start_time": "2022-05-29T13:00:37.123Z"
   },
   {
    "duration": 27,
    "start_time": "2022-05-29T13:00:37.154Z"
   },
   {
    "duration": 102,
    "start_time": "2022-05-29T13:00:37.184Z"
   },
   {
    "duration": 28,
    "start_time": "2022-05-29T13:00:37.289Z"
   },
   {
    "duration": 29,
    "start_time": "2022-05-29T13:00:37.319Z"
   },
   {
    "duration": 50,
    "start_time": "2022-05-29T13:00:37.350Z"
   },
   {
    "duration": 22,
    "start_time": "2022-05-29T13:00:37.403Z"
   },
   {
    "duration": 26,
    "start_time": "2022-05-29T13:00:37.428Z"
   },
   {
    "duration": 25,
    "start_time": "2022-05-29T13:00:37.456Z"
   },
   {
    "duration": 19,
    "start_time": "2022-05-29T13:00:37.484Z"
   },
   {
    "duration": 31,
    "start_time": "2022-05-29T13:00:37.506Z"
   },
   {
    "duration": 35,
    "start_time": "2022-05-29T13:00:37.539Z"
   },
   {
    "duration": 13,
    "start_time": "2022-05-29T13:00:37.577Z"
   },
   {
    "duration": 31,
    "start_time": "2022-05-29T13:00:37.593Z"
   },
   {
    "duration": 27,
    "start_time": "2022-05-29T13:00:37.626Z"
   },
   {
    "duration": 27,
    "start_time": "2022-05-29T13:00:37.655Z"
   },
   {
    "duration": 19,
    "start_time": "2022-05-29T13:00:37.684Z"
   },
   {
    "duration": 25,
    "start_time": "2022-05-29T13:00:37.706Z"
   },
   {
    "duration": 189,
    "start_time": "2022-05-29T13:00:37.733Z"
   },
   {
    "duration": 4,
    "start_time": "2022-05-29T13:00:37.924Z"
   },
   {
    "duration": 43,
    "start_time": "2022-05-29T13:00:37.930Z"
   },
   {
    "duration": 24,
    "start_time": "2022-05-29T13:00:37.976Z"
   },
   {
    "duration": 49,
    "start_time": "2022-05-29T13:00:38.003Z"
   },
   {
    "duration": 11,
    "start_time": "2022-05-29T13:00:38.054Z"
   },
   {
    "duration": 36,
    "start_time": "2022-05-29T13:00:38.067Z"
   },
   {
    "duration": 95,
    "start_time": "2022-05-29T13:00:38.105Z"
   },
   {
    "duration": 312,
    "start_time": "2022-05-29T13:00:38.203Z"
   },
   {
    "duration": 482,
    "start_time": "2022-05-29T13:00:38.518Z"
   },
   {
    "duration": 329,
    "start_time": "2022-05-29T13:00:39.003Z"
   },
   {
    "duration": 254,
    "start_time": "2022-05-29T13:00:39.334Z"
   },
   {
    "duration": 5,
    "start_time": "2022-05-29T13:00:39.589Z"
   },
   {
    "duration": 54,
    "start_time": "2022-05-29T13:00:39.596Z"
   },
   {
    "duration": 40,
    "start_time": "2022-05-29T13:00:39.653Z"
   },
   {
    "duration": 27,
    "start_time": "2022-05-29T13:00:39.709Z"
   },
   {
    "duration": 29,
    "start_time": "2022-05-29T13:00:39.739Z"
   },
   {
    "duration": 50,
    "start_time": "2022-05-29T13:00:39.771Z"
   },
   {
    "duration": 95,
    "start_time": "2022-05-29T13:00:39.824Z"
   },
   {
    "duration": 12,
    "start_time": "2022-05-29T13:00:39.921Z"
   },
   {
    "duration": 467,
    "start_time": "2022-05-29T13:00:39.935Z"
   },
   {
    "duration": 365,
    "start_time": "2022-05-29T13:00:40.416Z"
   },
   {
    "duration": 427,
    "start_time": "2022-05-29T13:00:40.783Z"
   },
   {
    "duration": 434,
    "start_time": "2022-05-29T13:00:41.217Z"
   },
   {
    "duration": 47,
    "start_time": "2022-05-29T13:00:41.653Z"
   },
   {
    "duration": 11,
    "start_time": "2022-05-29T13:00:41.707Z"
   },
   {
    "duration": 12,
    "start_time": "2022-05-29T13:00:41.728Z"
   },
   {
    "duration": 17,
    "start_time": "2022-05-29T13:00:41.743Z"
   },
   {
    "duration": 10,
    "start_time": "2022-05-29T13:00:41.763Z"
   },
   {
    "duration": 35,
    "start_time": "2022-05-29T13:00:41.775Z"
   },
   {
    "duration": 21,
    "start_time": "2022-05-29T13:00:41.812Z"
   },
   {
    "duration": 16,
    "start_time": "2022-05-29T13:00:41.835Z"
   },
   {
    "duration": 15,
    "start_time": "2022-05-29T13:00:41.854Z"
   },
   {
    "duration": 10,
    "start_time": "2022-05-29T13:00:41.871Z"
   },
   {
    "duration": 26,
    "start_time": "2022-05-29T13:00:41.883Z"
   },
   {
    "duration": 18,
    "start_time": "2022-05-29T13:00:41.912Z"
   },
   {
    "duration": 4,
    "start_time": "2022-05-29T13:11:12.927Z"
   },
   {
    "duration": 14,
    "start_time": "2022-05-29T13:11:15.895Z"
   },
   {
    "duration": 10,
    "start_time": "2022-05-29T13:12:54.167Z"
   },
   {
    "duration": 5,
    "start_time": "2022-05-29T13:40:33.161Z"
   },
   {
    "duration": 5,
    "start_time": "2022-05-29T13:42:58.628Z"
   },
   {
    "duration": 3,
    "start_time": "2022-05-29T13:45:38.980Z"
   },
   {
    "duration": 60,
    "start_time": "2022-05-29T13:45:52.330Z"
   },
   {
    "duration": 5,
    "start_time": "2022-05-29T13:56:02.529Z"
   },
   {
    "duration": 3,
    "start_time": "2022-05-29T13:56:05.059Z"
   },
   {
    "duration": 351,
    "start_time": "2022-05-29T13:56:07.314Z"
   },
   {
    "duration": 8,
    "start_time": "2022-05-29T14:16:23.757Z"
   },
   {
    "duration": 11,
    "start_time": "2022-05-29T14:16:46.454Z"
   },
   {
    "duration": 12,
    "start_time": "2022-05-29T14:16:55.454Z"
   },
   {
    "duration": 10,
    "start_time": "2022-05-29T14:17:40.445Z"
   },
   {
    "duration": 11,
    "start_time": "2022-05-29T14:18:04.214Z"
   },
   {
    "duration": 11,
    "start_time": "2022-05-29T14:18:28.918Z"
   },
   {
    "duration": 4,
    "start_time": "2022-05-29T14:18:44.282Z"
   },
   {
    "duration": 5,
    "start_time": "2022-05-29T14:21:07.952Z"
   },
   {
    "duration": 5,
    "start_time": "2022-05-29T14:21:25.871Z"
   },
   {
    "duration": 1096,
    "start_time": "2022-05-29T19:20:18.772Z"
   },
   {
    "duration": 1160,
    "start_time": "2022-05-29T19:20:19.869Z"
   },
   {
    "duration": 26,
    "start_time": "2022-05-29T19:20:21.030Z"
   },
   {
    "duration": 42,
    "start_time": "2022-05-29T19:20:21.057Z"
   },
   {
    "duration": 21,
    "start_time": "2022-05-29T19:20:21.101Z"
   },
   {
    "duration": 24,
    "start_time": "2022-05-29T19:20:21.123Z"
   },
   {
    "duration": 37,
    "start_time": "2022-05-29T19:20:21.149Z"
   },
   {
    "duration": 12,
    "start_time": "2022-05-29T19:20:21.187Z"
   },
   {
    "duration": 17,
    "start_time": "2022-05-29T19:20:21.201Z"
   },
   {
    "duration": 16,
    "start_time": "2022-05-29T19:20:21.219Z"
   },
   {
    "duration": 8,
    "start_time": "2022-05-29T19:20:21.237Z"
   },
   {
    "duration": 43,
    "start_time": "2022-05-29T19:20:21.247Z"
   },
   {
    "duration": 4,
    "start_time": "2022-05-29T19:20:21.291Z"
   },
   {
    "duration": 9,
    "start_time": "2022-05-29T19:20:21.298Z"
   },
   {
    "duration": 28,
    "start_time": "2022-05-29T19:20:21.308Z"
   },
   {
    "duration": 16,
    "start_time": "2022-05-29T19:20:21.337Z"
   },
   {
    "duration": 14,
    "start_time": "2022-05-29T19:20:21.355Z"
   },
   {
    "duration": 26,
    "start_time": "2022-05-29T19:20:21.370Z"
   },
   {
    "duration": 5,
    "start_time": "2022-05-29T19:20:21.398Z"
   },
   {
    "duration": 15,
    "start_time": "2022-05-29T19:20:21.404Z"
   },
   {
    "duration": 18,
    "start_time": "2022-05-29T19:20:21.420Z"
   },
   {
    "duration": 9,
    "start_time": "2022-05-29T19:20:21.440Z"
   },
   {
    "duration": 30,
    "start_time": "2022-05-29T19:20:21.451Z"
   },
   {
    "duration": 5,
    "start_time": "2022-05-29T19:20:21.482Z"
   },
   {
    "duration": 10,
    "start_time": "2022-05-29T19:20:21.488Z"
   },
   {
    "duration": 19,
    "start_time": "2022-05-29T19:20:21.499Z"
   },
   {
    "duration": 55,
    "start_time": "2022-05-29T19:20:21.520Z"
   },
   {
    "duration": 17,
    "start_time": "2022-05-29T19:20:21.576Z"
   },
   {
    "duration": 22,
    "start_time": "2022-05-29T19:20:21.595Z"
   },
   {
    "duration": 8,
    "start_time": "2022-05-29T19:20:21.618Z"
   },
   {
    "duration": 48,
    "start_time": "2022-05-29T19:20:21.627Z"
   },
   {
    "duration": 7,
    "start_time": "2022-05-29T19:20:21.676Z"
   },
   {
    "duration": 23,
    "start_time": "2022-05-29T19:20:21.685Z"
   },
   {
    "duration": 8,
    "start_time": "2022-05-29T19:20:21.710Z"
   },
   {
    "duration": 13,
    "start_time": "2022-05-29T19:20:21.720Z"
   },
   {
    "duration": 11,
    "start_time": "2022-05-29T19:20:21.735Z"
   },
   {
    "duration": 9,
    "start_time": "2022-05-29T19:20:21.774Z"
   },
   {
    "duration": 13,
    "start_time": "2022-05-29T19:20:21.785Z"
   },
   {
    "duration": 13,
    "start_time": "2022-05-29T19:20:21.800Z"
   },
   {
    "duration": 77,
    "start_time": "2022-05-29T19:20:21.815Z"
   },
   {
    "duration": 13,
    "start_time": "2022-05-29T19:20:21.897Z"
   },
   {
    "duration": 5,
    "start_time": "2022-05-29T19:20:21.912Z"
   },
   {
    "duration": 9,
    "start_time": "2022-05-29T19:20:21.976Z"
   },
   {
    "duration": 17,
    "start_time": "2022-05-29T19:20:21.987Z"
   },
   {
    "duration": 4,
    "start_time": "2022-05-29T19:20:22.005Z"
   },
   {
    "duration": 11,
    "start_time": "2022-05-29T19:20:22.074Z"
   },
   {
    "duration": 4,
    "start_time": "2022-05-29T19:20:22.086Z"
   },
   {
    "duration": 7,
    "start_time": "2022-05-29T19:20:22.091Z"
   },
   {
    "duration": 17,
    "start_time": "2022-05-29T19:20:22.099Z"
   },
   {
    "duration": 20,
    "start_time": "2022-05-29T19:20:22.176Z"
   },
   {
    "duration": 8,
    "start_time": "2022-05-29T19:20:22.198Z"
   },
   {
    "duration": 78,
    "start_time": "2022-05-29T19:20:22.208Z"
   },
   {
    "duration": 6,
    "start_time": "2022-05-29T19:20:22.288Z"
   },
   {
    "duration": 7,
    "start_time": "2022-05-29T19:20:22.296Z"
   },
   {
    "duration": 5,
    "start_time": "2022-05-29T19:20:22.305Z"
   },
   {
    "duration": 73,
    "start_time": "2022-05-29T19:20:22.311Z"
   },
   {
    "duration": 302,
    "start_time": "2022-05-29T19:20:22.385Z"
   },
   {
    "duration": 2,
    "start_time": "2022-05-29T19:20:22.689Z"
   },
   {
    "duration": 20,
    "start_time": "2022-05-29T19:20:22.693Z"
   },
   {
    "duration": 72,
    "start_time": "2022-05-29T19:20:22.714Z"
   },
   {
    "duration": 18,
    "start_time": "2022-05-29T19:20:22.788Z"
   },
   {
    "duration": 74,
    "start_time": "2022-05-29T19:20:22.807Z"
   },
   {
    "duration": 26,
    "start_time": "2022-05-29T19:20:22.883Z"
   },
   {
    "duration": 198,
    "start_time": "2022-05-29T19:20:22.910Z"
   },
   {
    "duration": 370,
    "start_time": "2022-05-29T19:20:23.110Z"
   },
   {
    "duration": 203,
    "start_time": "2022-05-29T19:20:23.482Z"
   },
   {
    "duration": 211,
    "start_time": "2022-05-29T19:20:23.687Z"
   },
   {
    "duration": 200,
    "start_time": "2022-05-29T19:20:23.899Z"
   },
   {
    "duration": 4,
    "start_time": "2022-05-29T19:20:24.101Z"
   },
   {
    "duration": 9,
    "start_time": "2022-05-29T19:20:24.106Z"
   },
   {
    "duration": 25,
    "start_time": "2022-05-29T19:20:24.117Z"
   },
   {
    "duration": 34,
    "start_time": "2022-05-29T19:20:24.143Z"
   },
   {
    "duration": 10,
    "start_time": "2022-05-29T19:20:24.179Z"
   },
   {
    "duration": 20,
    "start_time": "2022-05-29T19:20:24.190Z"
   },
   {
    "duration": 65,
    "start_time": "2022-05-29T19:20:24.212Z"
   },
   {
    "duration": 7,
    "start_time": "2022-05-29T19:20:24.279Z"
   },
   {
    "duration": 323,
    "start_time": "2022-05-29T19:20:24.287Z"
   },
   {
    "duration": 298,
    "start_time": "2022-05-29T19:20:24.612Z"
   },
   {
    "duration": 303,
    "start_time": "2022-05-29T19:20:24.912Z"
   },
   {
    "duration": 315,
    "start_time": "2022-05-29T19:20:25.217Z"
   },
   {
    "duration": 31,
    "start_time": "2022-05-29T19:20:25.534Z"
   },
   {
    "duration": 4,
    "start_time": "2022-05-29T19:20:25.575Z"
   },
   {
    "duration": 5,
    "start_time": "2022-05-29T19:20:25.581Z"
   },
   {
    "duration": 11,
    "start_time": "2022-05-29T19:20:25.588Z"
   },
   {
    "duration": 5,
    "start_time": "2022-05-29T19:20:25.601Z"
   },
   {
    "duration": 7,
    "start_time": "2022-05-29T19:20:25.608Z"
   },
   {
    "duration": 8,
    "start_time": "2022-05-29T19:20:25.616Z"
   },
   {
    "duration": 7,
    "start_time": "2022-05-29T19:20:25.625Z"
   }
  ],
  "celltoolbar": "Raw Cell Format",
  "kernelspec": {
   "display_name": "Python 3 (ipykernel)",
   "language": "python",
   "name": "python3"
  },
  "language_info": {
   "codemirror_mode": {
    "name": "ipython",
    "version": 3
   },
   "file_extension": ".py",
   "mimetype": "text/x-python",
   "name": "python",
   "nbconvert_exporter": "python",
   "pygments_lexer": "ipython3",
   "version": "3.9.7"
  },
  "toc": {
   "base_numbering": 1,
   "nav_menu": {},
   "number_sections": true,
   "sideBar": true,
   "skip_h1_title": true,
   "title_cell": "Оглавление",
   "title_sidebar": "Contents",
   "toc_cell": true,
   "toc_position": {
    "height": "calc(100% - 180px)",
    "left": "10px",
    "top": "150px",
    "width": "301.533px"
   },
   "toc_section_display": true,
   "toc_window_display": false
  }
 },
 "nbformat": 4,
 "nbformat_minor": 2
}
